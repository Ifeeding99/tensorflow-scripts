{
  "nbformat": 4,
  "nbformat_minor": 0,
  "metadata": {
    "colab": {
      "provenance": [],
      "authorship_tag": "ABX9TyOwNWV1dAc+mUN+EPcMOugl",
      "include_colab_link": true
    },
    "kernelspec": {
      "name": "python3",
      "display_name": "Python 3"
    },
    "language_info": {
      "name": "python"
    },
    "accelerator": "GPU",
    "gpuClass": "standard"
  },
  "cells": [
    {
      "cell_type": "markdown",
      "metadata": {
        "id": "view-in-github",
        "colab_type": "text"
      },
      "source": [
        "<a href=\"https://colab.research.google.com/github/Ifeeding99/tensorflow-scripts/blob/main/Vision_transformer_with_keras.ipynb\" target=\"_parent\"><img src=\"https://colab.research.google.com/assets/colab-badge.svg\" alt=\"Open In Colab\"/></a>"
      ]
    },
    {
      "cell_type": "code",
      "execution_count": null,
      "metadata": {
        "colab": {
          "base_uri": "https://localhost:8080/"
        },
        "id": "Y0bKYRwDAzgG",
        "outputId": "8aade3a9-5f6f-48e1-99b0-6709e5502859"
      },
      "outputs": [
        {
          "output_type": "stream",
          "name": "stdout",
          "text": [
            "Looking in indexes: https://pypi.org/simple, https://us-python.pkg.dev/colab-wheels/public/simple/\n",
            "Collecting tensorflow-addons\n",
            "  Downloading tensorflow_addons-0.19.0-cp38-cp38-manylinux_2_17_x86_64.manylinux2014_x86_64.whl (1.1 MB)\n",
            "\u001b[2K     \u001b[90m━━━━━━━━━━━━━━━━━━━━━━━━━━━━━━━━━━━━━━━━\u001b[0m \u001b[32m1.1/1.1 MB\u001b[0m \u001b[31m10.0 MB/s\u001b[0m eta \u001b[36m0:00:00\u001b[0m\n",
            "\u001b[?25hRequirement already satisfied: packaging in /usr/local/lib/python3.8/dist-packages (from tensorflow-addons) (21.3)\n",
            "Requirement already satisfied: typeguard>=2.7 in /usr/local/lib/python3.8/dist-packages (from tensorflow-addons) (2.7.1)\n",
            "Requirement already satisfied: pyparsing!=3.0.5,>=2.0.2 in /usr/local/lib/python3.8/dist-packages (from packaging->tensorflow-addons) (3.0.9)\n",
            "Installing collected packages: tensorflow-addons\n",
            "Successfully installed tensorflow-addons-0.19.0\n"
          ]
        }
      ],
      "source": [
        "!pip install -U tensorflow-addons"
      ]
    },
    {
      "cell_type": "code",
      "source": [
        "!pip install --upgrade tensorflow"
      ],
      "metadata": {
        "colab": {
          "base_uri": "https://localhost:8080/"
        },
        "id": "BL5z-G0ABRVL",
        "outputId": "3d289d01-e532-4de3-fc84-bd9df25ee0d4"
      },
      "execution_count": null,
      "outputs": [
        {
          "output_type": "stream",
          "name": "stdout",
          "text": [
            "Looking in indexes: https://pypi.org/simple, https://us-python.pkg.dev/colab-wheels/public/simple/\n",
            "Requirement already satisfied: tensorflow in /usr/local/lib/python3.8/dist-packages (2.9.2)\n",
            "Collecting tensorflow\n",
            "  Downloading tensorflow-2.11.0-cp38-cp38-manylinux_2_17_x86_64.manylinux2014_x86_64.whl (588.3 MB)\n",
            "\u001b[2K     \u001b[90m━━━━━━━━━━━━━━━━━━━━━━━━━━━━━━━━━━━━━━━\u001b[0m \u001b[32m588.3/588.3 MB\u001b[0m \u001b[31m2.6 MB/s\u001b[0m eta \u001b[36m0:00:00\u001b[0m\n",
            "\u001b[?25hRequirement already satisfied: google-pasta>=0.1.1 in /usr/local/lib/python3.8/dist-packages (from tensorflow) (0.2.0)\n",
            "Requirement already satisfied: absl-py>=1.0.0 in /usr/local/lib/python3.8/dist-packages (from tensorflow) (1.3.0)\n",
            "Requirement already satisfied: six>=1.12.0 in /usr/local/lib/python3.8/dist-packages (from tensorflow) (1.15.0)\n",
            "Requirement already satisfied: grpcio<2.0,>=1.24.3 in /usr/local/lib/python3.8/dist-packages (from tensorflow) (1.51.1)\n",
            "Requirement already satisfied: setuptools in /usr/local/lib/python3.8/dist-packages (from tensorflow) (57.4.0)\n",
            "Requirement already satisfied: gast<=0.4.0,>=0.2.1 in /usr/local/lib/python3.8/dist-packages (from tensorflow) (0.4.0)\n",
            "Requirement already satisfied: astunparse>=1.6.0 in /usr/local/lib/python3.8/dist-packages (from tensorflow) (1.6.3)\n",
            "Requirement already satisfied: opt-einsum>=2.3.2 in /usr/local/lib/python3.8/dist-packages (from tensorflow) (3.3.0)\n",
            "Requirement already satisfied: protobuf<3.20,>=3.9.2 in /usr/local/lib/python3.8/dist-packages (from tensorflow) (3.19.6)\n",
            "Requirement already satisfied: libclang>=13.0.0 in /usr/local/lib/python3.8/dist-packages (from tensorflow) (15.0.6.1)\n",
            "Requirement already satisfied: termcolor>=1.1.0 in /usr/local/lib/python3.8/dist-packages (from tensorflow) (2.2.0)\n",
            "Requirement already satisfied: h5py>=2.9.0 in /usr/local/lib/python3.8/dist-packages (from tensorflow) (3.1.0)\n",
            "Collecting tensorflow-estimator<2.12,>=2.11.0\n",
            "  Downloading tensorflow_estimator-2.11.0-py2.py3-none-any.whl (439 kB)\n",
            "\u001b[2K     \u001b[90m━━━━━━━━━━━━━━━━━━━━━━━━━━━━━━━━━━━━━━\u001b[0m \u001b[32m439.2/439.2 KB\u001b[0m \u001b[31m40.9 MB/s\u001b[0m eta \u001b[36m0:00:00\u001b[0m\n",
            "\u001b[?25hRequirement already satisfied: typing-extensions>=3.6.6 in /usr/local/lib/python3.8/dist-packages (from tensorflow) (4.4.0)\n",
            "Requirement already satisfied: wrapt>=1.11.0 in /usr/local/lib/python3.8/dist-packages (from tensorflow) (1.14.1)\n",
            "Requirement already satisfied: packaging in /usr/local/lib/python3.8/dist-packages (from tensorflow) (21.3)\n",
            "Requirement already satisfied: tensorflow-io-gcs-filesystem>=0.23.1 in /usr/local/lib/python3.8/dist-packages (from tensorflow) (0.29.0)\n",
            "Collecting keras<2.12,>=2.11.0\n",
            "  Downloading keras-2.11.0-py2.py3-none-any.whl (1.7 MB)\n",
            "\u001b[2K     \u001b[90m━━━━━━━━━━━━━━━━━━━━━━━━━━━━━━━━━━━━━━━━\u001b[0m \u001b[32m1.7/1.7 MB\u001b[0m \u001b[31m78.2 MB/s\u001b[0m eta \u001b[36m0:00:00\u001b[0m\n",
            "\u001b[?25hRequirement already satisfied: numpy>=1.20 in /usr/local/lib/python3.8/dist-packages (from tensorflow) (1.21.6)\n",
            "Collecting flatbuffers>=2.0\n",
            "  Downloading flatbuffers-23.1.21-py2.py3-none-any.whl (26 kB)\n",
            "Collecting tensorboard<2.12,>=2.11\n",
            "  Downloading tensorboard-2.11.2-py3-none-any.whl (6.0 MB)\n",
            "\u001b[2K     \u001b[90m━━━━━━━━━━━━━━━━━━━━━━━━━━━━━━━━━━━━━━━━\u001b[0m \u001b[32m6.0/6.0 MB\u001b[0m \u001b[31m93.4 MB/s\u001b[0m eta \u001b[36m0:00:00\u001b[0m\n",
            "\u001b[?25hRequirement already satisfied: wheel<1.0,>=0.23.0 in /usr/local/lib/python3.8/dist-packages (from astunparse>=1.6.0->tensorflow) (0.38.4)\n",
            "Requirement already satisfied: markdown>=2.6.8 in /usr/local/lib/python3.8/dist-packages (from tensorboard<2.12,>=2.11->tensorflow) (3.4.1)\n",
            "Requirement already satisfied: werkzeug>=1.0.1 in /usr/local/lib/python3.8/dist-packages (from tensorboard<2.12,>=2.11->tensorflow) (1.0.1)\n",
            "Requirement already satisfied: tensorboard-data-server<0.7.0,>=0.6.0 in /usr/local/lib/python3.8/dist-packages (from tensorboard<2.12,>=2.11->tensorflow) (0.6.1)\n",
            "Requirement already satisfied: tensorboard-plugin-wit>=1.6.0 in /usr/local/lib/python3.8/dist-packages (from tensorboard<2.12,>=2.11->tensorflow) (1.8.1)\n",
            "Requirement already satisfied: google-auth<3,>=1.6.3 in /usr/local/lib/python3.8/dist-packages (from tensorboard<2.12,>=2.11->tensorflow) (2.16.0)\n",
            "Requirement already satisfied: google-auth-oauthlib<0.5,>=0.4.1 in /usr/local/lib/python3.8/dist-packages (from tensorboard<2.12,>=2.11->tensorflow) (0.4.6)\n",
            "Requirement already satisfied: requests<3,>=2.21.0 in /usr/local/lib/python3.8/dist-packages (from tensorboard<2.12,>=2.11->tensorflow) (2.25.1)\n",
            "Requirement already satisfied: pyparsing!=3.0.5,>=2.0.2 in /usr/local/lib/python3.8/dist-packages (from packaging->tensorflow) (3.0.9)\n",
            "Requirement already satisfied: pyasn1-modules>=0.2.1 in /usr/local/lib/python3.8/dist-packages (from google-auth<3,>=1.6.3->tensorboard<2.12,>=2.11->tensorflow) (0.2.8)\n",
            "Requirement already satisfied: cachetools<6.0,>=2.0.0 in /usr/local/lib/python3.8/dist-packages (from google-auth<3,>=1.6.3->tensorboard<2.12,>=2.11->tensorflow) (5.2.1)\n",
            "Requirement already satisfied: rsa<5,>=3.1.4 in /usr/local/lib/python3.8/dist-packages (from google-auth<3,>=1.6.3->tensorboard<2.12,>=2.11->tensorflow) (4.9)\n",
            "Requirement already satisfied: requests-oauthlib>=0.7.0 in /usr/local/lib/python3.8/dist-packages (from google-auth-oauthlib<0.5,>=0.4.1->tensorboard<2.12,>=2.11->tensorflow) (1.3.1)\n",
            "Requirement already satisfied: importlib-metadata>=4.4 in /usr/local/lib/python3.8/dist-packages (from markdown>=2.6.8->tensorboard<2.12,>=2.11->tensorflow) (6.0.0)\n",
            "Requirement already satisfied: urllib3<1.27,>=1.21.1 in /usr/local/lib/python3.8/dist-packages (from requests<3,>=2.21.0->tensorboard<2.12,>=2.11->tensorflow) (1.24.3)\n",
            "Requirement already satisfied: chardet<5,>=3.0.2 in /usr/local/lib/python3.8/dist-packages (from requests<3,>=2.21.0->tensorboard<2.12,>=2.11->tensorflow) (4.0.0)\n",
            "Requirement already satisfied: certifi>=2017.4.17 in /usr/local/lib/python3.8/dist-packages (from requests<3,>=2.21.0->tensorboard<2.12,>=2.11->tensorflow) (2022.12.7)\n",
            "Requirement already satisfied: idna<3,>=2.5 in /usr/local/lib/python3.8/dist-packages (from requests<3,>=2.21.0->tensorboard<2.12,>=2.11->tensorflow) (2.10)\n",
            "Requirement already satisfied: zipp>=0.5 in /usr/local/lib/python3.8/dist-packages (from importlib-metadata>=4.4->markdown>=2.6.8->tensorboard<2.12,>=2.11->tensorflow) (3.11.0)\n",
            "Requirement already satisfied: pyasn1<0.5.0,>=0.4.6 in /usr/local/lib/python3.8/dist-packages (from pyasn1-modules>=0.2.1->google-auth<3,>=1.6.3->tensorboard<2.12,>=2.11->tensorflow) (0.4.8)\n",
            "Requirement already satisfied: oauthlib>=3.0.0 in /usr/local/lib/python3.8/dist-packages (from requests-oauthlib>=0.7.0->google-auth-oauthlib<0.5,>=0.4.1->tensorboard<2.12,>=2.11->tensorflow) (3.2.2)\n",
            "Installing collected packages: flatbuffers, tensorflow-estimator, keras, tensorboard, tensorflow\n",
            "  Attempting uninstall: flatbuffers\n",
            "    Found existing installation: flatbuffers 1.12\n",
            "    Uninstalling flatbuffers-1.12:\n",
            "      Successfully uninstalled flatbuffers-1.12\n",
            "  Attempting uninstall: tensorflow-estimator\n",
            "    Found existing installation: tensorflow-estimator 2.9.0\n",
            "    Uninstalling tensorflow-estimator-2.9.0:\n",
            "      Successfully uninstalled tensorflow-estimator-2.9.0\n",
            "  Attempting uninstall: keras\n",
            "    Found existing installation: keras 2.9.0\n",
            "    Uninstalling keras-2.9.0:\n",
            "      Successfully uninstalled keras-2.9.0\n",
            "  Attempting uninstall: tensorboard\n",
            "    Found existing installation: tensorboard 2.9.1\n",
            "    Uninstalling tensorboard-2.9.1:\n",
            "      Successfully uninstalled tensorboard-2.9.1\n",
            "  Attempting uninstall: tensorflow\n",
            "    Found existing installation: tensorflow 2.9.2\n",
            "    Uninstalling tensorflow-2.9.2:\n",
            "      Successfully uninstalled tensorflow-2.9.2\n",
            "Successfully installed flatbuffers-23.1.21 keras-2.11.0 tensorboard-2.11.2 tensorflow-2.11.0 tensorflow-estimator-2.11.0\n"
          ]
        }
      ]
    },
    {
      "cell_type": "code",
      "source": [
        "import numpy as np\n",
        "import tensorflow as tf\n",
        "import tensorflow_addons as tfa\n",
        "import matplotlib.pyplot as plt"
      ],
      "metadata": {
        "id": "1vSyEysUBYbH"
      },
      "execution_count": null,
      "outputs": []
    },
    {
      "cell_type": "code",
      "source": [
        "(X_train, y_train), (X_val, y_val) = tf.keras.datasets.cifar100.load_data()"
      ],
      "metadata": {
        "colab": {
          "base_uri": "https://localhost:8080/"
        },
        "id": "81ggfaulBnop",
        "outputId": "52edad42-309a-4c6c-88f3-4167474921a1"
      },
      "execution_count": null,
      "outputs": [
        {
          "output_type": "stream",
          "name": "stdout",
          "text": [
            "Downloading data from https://www.cs.toronto.edu/~kriz/cifar-100-python.tar.gz\n",
            "169001437/169001437 [==============================] - 2s 0us/step\n"
          ]
        }
      ]
    },
    {
      "cell_type": "code",
      "source": [
        "learning_rate = 1e-3\n",
        "lr_decay = 1e-4\n",
        "batch_size = 64\n",
        "epochs = 20\n",
        "img_size = 72\n",
        "num_heads_= 4\n",
        "patch_size = 10\n",
        "num_patches = (img_size // patch_size)**2\n",
        "projection_dim = 64\n",
        "transformers_layers = 8\n",
        "mlp_head_units = [2048, 1024]\n",
        "transformer_units = [\n",
        "    projection_dim *2,\n",
        "    projection_dim\n",
        "]"
      ],
      "metadata": {
        "id": "kNh_QIvKB1rZ"
      },
      "execution_count": null,
      "outputs": []
    },
    {
      "cell_type": "code",
      "source": [
        "def mlp(x, hidden_units, dropout_rate):\n",
        "  for units in hidden_units:\n",
        "    x = tf.keras.layers.Dense(units, activation = tf.nn.gelu)(x)\n",
        "    x = tf.keras.layers.Dropout(dropout_rate)(x)\n",
        "  return x"
      ],
      "metadata": {
        "id": "wbgdUl3bC-Zu"
      },
      "execution_count": null,
      "outputs": []
    },
    {
      "cell_type": "code",
      "source": [
        "data_augmentation = tf.keras.Sequential([\n",
        "    tf.keras.layers.Normalization(),\n",
        "    tf.keras.layers.Resizing(img_size, img_size),\n",
        "    tf.keras.layers.RandomFlip(),\n",
        "    tf.keras.layers.RandomRotation(factor=0.02),\n",
        "    tf.keras.layers.RandomZoom(0.2)\n",
        "],\n",
        "name = 'data_augmentation')\n",
        "data_augmentation.layers[0].adapt(X_train)"
      ],
      "metadata": {
        "id": "8iTAYEWyDY17"
      },
      "execution_count": null,
      "outputs": []
    },
    {
      "cell_type": "code",
      "source": [
        "class Patches(tf.keras.layers.Layer):\n",
        "  def __init__(self, patch_size):\n",
        "    super().__init__()\n",
        "    self.patch_size = patch_size\n",
        "\n",
        "  def call(self, images):\n",
        "    batch_size = tf.shape(images)[0]\n",
        "    patches = tf.image.extract_patches(\n",
        "        images = images,\n",
        "        sizes = [1, self.patch_size, self.patch_size, 1],\n",
        "        strides = [1, self.patch_size, self.patch_size, 1],\n",
        "        rates = [1,1,1,1],\n",
        "        padding = 'VALID'\n",
        "    )\n",
        "    patch_dims = patches.shape[-1]\n",
        "    patches = tf.reshape(patches, [batch_size, -1, patch_dims])\n",
        "    return patches"
      ],
      "metadata": {
        "id": "Mpkd_8hVDYwR"
      },
      "execution_count": null,
      "outputs": []
    },
    {
      "cell_type": "code",
      "source": [
        "class PatchEncoder(tf.keras.layers.Layer):\n",
        "  def __init__(self, num_patches, projection_dim):\n",
        "    super().__init__()\n",
        "    self.num_patches = num_patches\n",
        "    self.projection_dim = tf.keras.layers.Dense(projection_dim)\n",
        "    self.positional_embedding = tf.keras.layers.Embedding(input_dim = num_patches, output_dim = projection_dim)\n",
        "\n",
        "  def call(self, patch):\n",
        "    positions = tf.range(start=0, limit = self.num_patches, delta=1)\n",
        "    encoded = self.projection_dim(patch) + self.positional_embedding(positions)\n",
        "    return encoded"
      ],
      "metadata": {
        "id": "EXVbF8ZhF5Jd"
      },
      "execution_count": null,
      "outputs": []
    },
    {
      "cell_type": "code",
      "source": [
        "def create_ViT_classifier():\n",
        "  input_shape = (32,32,3)\n",
        "  num_classes = 100\n",
        "  inputs = tf.keras.Input(shape = input_shape)\n",
        "  augmented = data_augmentation(inputs)\n",
        "  patches = Patches(patch_size)(augmented)\n",
        "  encoded_patches = PatchEncoder(num_patches, projection_dim)(patches)\n",
        "\n",
        "  for _ in range (transformers_layers):\n",
        "    x1 = tf.keras.layers.LayerNormalization()(encoded_patches)\n",
        "    attention_output = tf.keras.layers.MultiHeadAttention(num_heads = num_heads_, key_dim = projection_dim, dropout = 0.1)(x1,x1)\n",
        "    x2 = tf.keras.layers.Add()([attention_output, encoded_patches])\n",
        "    x3 = tf.keras.layers.LayerNormalization()(x2)\n",
        "    x3 = mlp(x3, hidden_units = transformer_units, dropout_rate = 0.1)\n",
        "    encoded_patches = tf.keras.layers.Add()([x3,x2])\n",
        "\n",
        "  representation = tf.keras.layers.LayerNormalization()(encoded_patches)\n",
        "  representation = tf.keras.layers.Flatten()(representation)\n",
        "  features = mlp(representation, hidden_units = mlp_head_units, dropout_rate = 0.5)\n",
        "  logits = tf.keras.layers.Dense(num_classes)(features)\n",
        "  model = tf.keras.Model(inputs = inputs, outputs = logits)\n",
        "  return model"
      ],
      "metadata": {
        "id": "qtY0W-cSHOn_"
      },
      "execution_count": null,
      "outputs": []
    },
    {
      "cell_type": "code",
      "source": [
        "def run_experiment(model):\n",
        "  optimizer = tfa.optimizers.AdamW(learning_rate=learning_rate, weight_decay=lr_decay)\n",
        "  model.compile(optimizer = optimizer,\n",
        "                loss = tf.keras.losses.SparseCategoricalCrossentropy(from_logits=True),\n",
        "                metrics = [\n",
        "                    tf.keras.metrics.SparseCategoricalAccuracy(name = 'accuracy'),\n",
        "                    tf.keras.metrics.SparseTopKCategoricalAccuracy(5, name = 'top-5-accuracy'),\n",
        "                ])\n",
        "\n",
        "  history = model.fit(X_train, y_train,\n",
        "                      validation_data = (X_val, y_val),\n",
        "                      batch_size = batch_size,\n",
        "                      epochs = 20)"
      ],
      "metadata": {
        "id": "3d-c6s-YK2aL"
      },
      "execution_count": null,
      "outputs": []
    },
    {
      "cell_type": "code",
      "source": [
        "model = create_ViT_classifier()\n",
        "run_experiment(model)"
      ],
      "metadata": {
        "colab": {
          "base_uri": "https://localhost:8080/"
        },
        "id": "vO_59NqZL8Xr",
        "outputId": "0e540122-6994-4d9c-d5ac-03ac62129cd5"
      },
      "execution_count": null,
      "outputs": [
        {
          "output_type": "stream",
          "name": "stdout",
          "text": [
            "Epoch 1/20\n",
            "782/782 [==============================] - 84s 92ms/step - loss: 4.2832 - accuracy: 0.0598 - top-5-accuracy: 0.2008 - val_loss: 3.7133 - val_accuracy: 0.1306 - val_top-5-accuracy: 0.3692\n",
            "Epoch 2/20\n",
            "782/782 [==============================] - 69s 88ms/step - loss: 3.7586 - accuracy: 0.1184 - top-5-accuracy: 0.3499 - val_loss: 3.4068 - val_accuracy: 0.1856 - val_top-5-accuracy: 0.4534\n",
            "Epoch 3/20\n",
            "782/782 [==============================] - 69s 88ms/step - loss: 3.5023 - accuracy: 0.1599 - top-5-accuracy: 0.4224 - val_loss: 3.1726 - val_accuracy: 0.2227 - val_top-5-accuracy: 0.5076\n",
            "Epoch 4/20\n",
            "782/782 [==============================] - 68s 88ms/step - loss: 3.3363 - accuracy: 0.1890 - top-5-accuracy: 0.4691 - val_loss: 3.0696 - val_accuracy: 0.2512 - val_top-5-accuracy: 0.5402\n",
            "Epoch 5/20\n",
            "782/782 [==============================] - 68s 87ms/step - loss: 3.1985 - accuracy: 0.2181 - top-5-accuracy: 0.5046 - val_loss: 2.9439 - val_accuracy: 0.2688 - val_top-5-accuracy: 0.5736\n",
            "Epoch 6/20\n",
            "782/782 [==============================] - 68s 87ms/step - loss: 3.0785 - accuracy: 0.2389 - top-5-accuracy: 0.5385 - val_loss: 2.8415 - val_accuracy: 0.2892 - val_top-5-accuracy: 0.5955\n",
            "Epoch 7/20\n",
            "782/782 [==============================] - 68s 88ms/step - loss: 2.9662 - accuracy: 0.2622 - top-5-accuracy: 0.5652 - val_loss: 2.6897 - val_accuracy: 0.3213 - val_top-5-accuracy: 0.6287\n",
            "Epoch 8/20\n",
            "782/782 [==============================] - 69s 88ms/step - loss: 2.8590 - accuracy: 0.2821 - top-5-accuracy: 0.5914 - val_loss: 2.6290 - val_accuracy: 0.3320 - val_top-5-accuracy: 0.6427\n",
            "Epoch 9/20\n",
            "782/782 [==============================] - 69s 88ms/step - loss: 2.7912 - accuracy: 0.2935 - top-5-accuracy: 0.6056 - val_loss: 2.5639 - val_accuracy: 0.3515 - val_top-5-accuracy: 0.6530\n",
            "Epoch 10/20\n",
            "782/782 [==============================] - 69s 89ms/step - loss: 2.7149 - accuracy: 0.3121 - top-5-accuracy: 0.6237 - val_loss: 2.5289 - val_accuracy: 0.3520 - val_top-5-accuracy: 0.6657\n",
            "Epoch 11/20\n",
            "782/782 [==============================] - 69s 88ms/step - loss: 2.6511 - accuracy: 0.3234 - top-5-accuracy: 0.6363 - val_loss: 2.4536 - val_accuracy: 0.3758 - val_top-5-accuracy: 0.6809\n",
            "Epoch 12/20\n",
            "782/782 [==============================] - 68s 87ms/step - loss: 2.6115 - accuracy: 0.3309 - top-5-accuracy: 0.6462 - val_loss: 2.4264 - val_accuracy: 0.3789 - val_top-5-accuracy: 0.6841\n",
            "Epoch 13/20\n",
            "782/782 [==============================] - 68s 87ms/step - loss: 2.5596 - accuracy: 0.3413 - top-5-accuracy: 0.6586 - val_loss: 2.3737 - val_accuracy: 0.3897 - val_top-5-accuracy: 0.6963\n",
            "Epoch 14/20\n",
            "782/782 [==============================] - 69s 88ms/step - loss: 2.5199 - accuracy: 0.3516 - top-5-accuracy: 0.6678 - val_loss: 2.3501 - val_accuracy: 0.3905 - val_top-5-accuracy: 0.7020\n",
            "Epoch 15/20\n",
            "782/782 [==============================] - 69s 88ms/step - loss: 2.4824 - accuracy: 0.3577 - top-5-accuracy: 0.6758 - val_loss: 2.3221 - val_accuracy: 0.4007 - val_top-5-accuracy: 0.7017\n",
            "Epoch 16/20\n",
            "782/782 [==============================] - 70s 89ms/step - loss: 2.4533 - accuracy: 0.3631 - top-5-accuracy: 0.6805 - val_loss: 2.3036 - val_accuracy: 0.3990 - val_top-5-accuracy: 0.7131\n",
            "Epoch 17/20\n",
            "782/782 [==============================] - 69s 89ms/step - loss: 2.4066 - accuracy: 0.3745 - top-5-accuracy: 0.6919 - val_loss: 2.2766 - val_accuracy: 0.4023 - val_top-5-accuracy: 0.7149\n",
            "Epoch 18/20\n",
            "782/782 [==============================] - 70s 89ms/step - loss: 2.3817 - accuracy: 0.3796 - top-5-accuracy: 0.6972 - val_loss: 2.2639 - val_accuracy: 0.4032 - val_top-5-accuracy: 0.7140\n",
            "Epoch 19/20\n",
            "782/782 [==============================] - 69s 89ms/step - loss: 2.3579 - accuracy: 0.3817 - top-5-accuracy: 0.7032 - val_loss: 2.2851 - val_accuracy: 0.4066 - val_top-5-accuracy: 0.7115\n",
            "Epoch 20/20\n",
            "782/782 [==============================] - 69s 88ms/step - loss: 2.3269 - accuracy: 0.3873 - top-5-accuracy: 0.7084 - val_loss: 2.2353 - val_accuracy: 0.4145 - val_top-5-accuracy: 0.7196\n"
          ]
        }
      ]
    },
    {
      "cell_type": "code",
      "source": [],
      "metadata": {
        "id": "4KP4SxEDMC4n"
      },
      "execution_count": null,
      "outputs": []
    }
  ]
}