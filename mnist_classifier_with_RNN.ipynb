{
  "nbformat": 4,
  "nbformat_minor": 0,
  "metadata": {
    "colab": {
      "provenance": [],
      "authorship_tag": "ABX9TyPU4VqBtR5ey0FFNhBbHhof",
      "include_colab_link": true
    },
    "kernelspec": {
      "name": "python3",
      "display_name": "Python 3"
    },
    "language_info": {
      "name": "python"
    }
  },
  "cells": [
    {
      "cell_type": "markdown",
      "metadata": {
        "id": "view-in-github",
        "colab_type": "text"
      },
      "source": [
        "<a href=\"https://colab.research.google.com/github/Ifeeding99/tensorflow-scripts/blob/main/mnist_classifier_with_RNN.ipynb\" target=\"_parent\"><img src=\"https://colab.research.google.com/assets/colab-badge.svg\" alt=\"Open In Colab\"/></a>"
      ]
    },
    {
      "cell_type": "code",
      "execution_count": null,
      "metadata": {
        "colab": {
          "base_uri": "https://localhost:8080/",
          "height": 282
        },
        "id": "QFG_t9lMT6qw",
        "outputId": "3087078a-572e-46c2-90ce-0a042a839544"
      },
      "outputs": [
        {
          "output_type": "stream",
          "name": "stdout",
          "text": [
            "7\n"
          ]
        },
        {
          "output_type": "display_data",
          "data": {
            "text/plain": [
              "<Figure size 432x288 with 1 Axes>"
            ],
            "image/png": "[encoded data removed]"
          },
          "metadata": {
            "needs_background": "light"
          }
        }
      ],
      "source": [
        "import tensorflow as tf\n",
        "import matplotlib.pyplot as plt\n",
        "import numpy as np\n",
        "from tensorflow.keras.datasets.mnist import load_data\n",
        "\n",
        "(X_train, y_train), (X_test, y_test) = load_data()\n",
        "plt.imshow(X_train[42], cmap ='gray')\n",
        "print(y_train[42])\n",
        "plt.show()"
      ]
    },
    {
      "cell_type": "code",
      "source": [
        "from tensorflow.keras import Sequential\n",
        "from tensorflow.keras.layers import SimpleRNN, LSTM, GRU, Rescaling, Dense\n",
        "\n",
        "model = Sequential([\n",
        "                    Rescaling(1/255),\n",
        "                    SimpleRNN(units = 32, return_sequences = True, activation = 'tanh'), # to stack multiple layers of RNN it's useful to return the sequences\n",
        "                    # the first layers has produced and feed them to the second layer,\n",
        "                    # this is done by setting the return_sequences argument to True\n",
        "                    SimpleRNN(units = 16, activation = 'tanh'),\n",
        "                    Dense(units = 10, activation = 'softmax')\n",
        "])\n",
        "\n",
        "model.compile(\n",
        "    optimizer = 'adam',\n",
        "    loss = 'sparse_categorical_crossentropy',\n",
        "    metrics = ['accuracy']\n",
        ")\n",
        "\n",
        "training = model.fit(\n",
        "    X_train,\n",
        "    y_train,\n",
        "    validation_split = 0.2,\n",
        "    epochs = 20,\n",
        "    batch_size = 32\n",
        ")"
      ],
      "metadata": {
        "colab": {
          "base_uri": "https://localhost:8080/"
        },
        "id": "KgkLdNPcUmhd",
        "outputId": "12dff805-f047-4c12-fa6f-b3695a3e9995"
      },
      "execution_count": null,
      "outputs": [
        {
          "output_type": "stream",
          "name": "stdout",
          "text": [
            "Epoch 1/20\n",
            "1500/1500 [==============================] - 21s 12ms/step - loss: 0.9403 - accuracy: 0.6868 - val_loss: 0.5753 - val_accuracy: 0.8206\n",
            "Epoch 2/20\n",
            "1500/1500 [==============================] - 18s 12ms/step - loss: 0.4976 - accuracy: 0.8470 - val_loss: 0.3983 - val_accuracy: 0.8793\n",
            "Epoch 3/20\n",
            "1500/1500 [==============================] - 18s 12ms/step - loss: 0.3930 - accuracy: 0.8837 - val_loss: 0.3242 - val_accuracy: 0.9059\n",
            "Epoch 4/20\n",
            "1500/1500 [==============================] - 18s 12ms/step - loss: 0.3410 - accuracy: 0.9005 - val_loss: 0.3093 - val_accuracy: 0.9092\n",
            "Epoch 5/20\n",
            "1500/1500 [==============================] - 18s 12ms/step - loss: 0.3077 - accuracy: 0.9114 - val_loss: 0.2581 - val_accuracy: 0.9239\n",
            "Epoch 6/20\n",
            "1500/1500 [==============================] - 18s 12ms/step - loss: 0.2814 - accuracy: 0.9200 - val_loss: 0.2825 - val_accuracy: 0.9194\n",
            "Epoch 7/20\n",
            "1500/1500 [==============================] - 18s 12ms/step - loss: 0.2644 - accuracy: 0.9248 - val_loss: 0.2523 - val_accuracy: 0.9272\n",
            "Epoch 8/20\n",
            "1500/1500 [==============================] - 18s 12ms/step - loss: 0.2483 - accuracy: 0.9287 - val_loss: 0.2284 - val_accuracy: 0.9358\n",
            "Epoch 9/20\n",
            "1500/1500 [==============================] - 18s 12ms/step - loss: 0.2356 - accuracy: 0.9331 - val_loss: 0.2102 - val_accuracy: 0.9393\n",
            "Epoch 10/20\n",
            "1500/1500 [==============================] - 18s 12ms/step - loss: 0.2284 - accuracy: 0.9349 - val_loss: 0.2010 - val_accuracy: 0.9426\n",
            "Epoch 11/20\n",
            "1500/1500 [==============================] - 18s 12ms/step - loss: 0.2188 - accuracy: 0.9382 - val_loss: 0.2097 - val_accuracy: 0.9382\n",
            "Epoch 12/20\n",
            "1500/1500 [==============================] - 18s 12ms/step - loss: 0.2081 - accuracy: 0.9402 - val_loss: 0.1947 - val_accuracy: 0.9447\n",
            "Epoch 13/20\n",
            "1500/1500 [==============================] - 18s 12ms/step - loss: 0.2078 - accuracy: 0.9402 - val_loss: 0.1896 - val_accuracy: 0.9458\n",
            "Epoch 14/20\n",
            "1500/1500 [==============================] - 18s 12ms/step - loss: 0.1960 - accuracy: 0.9453 - val_loss: 0.1993 - val_accuracy: 0.9436\n",
            "Epoch 15/20\n",
            "1500/1500 [==============================] - 18s 12ms/step - loss: 0.1952 - accuracy: 0.9441 - val_loss: 0.1719 - val_accuracy: 0.9511\n",
            "Epoch 16/20\n",
            "1500/1500 [==============================] - 18s 12ms/step - loss: 0.1888 - accuracy: 0.9462 - val_loss: 0.1725 - val_accuracy: 0.9507\n",
            "Epoch 17/20\n",
            "1500/1500 [==============================] - 18s 12ms/step - loss: 0.1821 - accuracy: 0.9480 - val_loss: 0.1763 - val_accuracy: 0.9513\n",
            "Epoch 18/20\n",
            "1500/1500 [==============================] - 18s 12ms/step - loss: 0.1812 - accuracy: 0.9486 - val_loss: 0.1745 - val_accuracy: 0.9513\n",
            "Epoch 19/20\n",
            "1500/1500 [==============================] - 18s 12ms/step - loss: 0.1749 - accuracy: 0.9505 - val_loss: 0.1701 - val_accuracy: 0.9530\n",
            "Epoch 20/20\n",
            "1500/1500 [==============================] - 18s 12ms/step - loss: 0.1741 - accuracy: 0.9501 - val_loss: 0.1696 - val_accuracy: 0.9531\n"
          ]
        }
      ]
    },
    {
      "cell_type": "code",
      "source": [
        "import pandas as pd\n",
        "\n",
        "history = pd.DataFrame(training.history)\n",
        "history.plot()"
      ],
      "metadata": {
        "colab": {
          "base_uri": "https://localhost:8080/",
          "height": 282
        },
        "id": "r87CPicgc7Z8",
        "outputId": "442dc3bd-f673-4bd8-e03d-a3faeb8b3cb3"
      },
      "execution_count": null,
      "outputs": [
        {
          "output_type": "execute_result",
          "data": {
            "text/plain": [
              "<matplotlib.axes._subplots.AxesSubplot at 0x7fe54a20b450>"
            ]
          },
          "metadata": {},
          "execution_count": 14
        },
        {
          "output_type": "display_data",
          "data": {
            "text/plain": [
              "<Figure size 432x288 with 1 Axes>"
            ],
            "image/png": "[encoded data removed]"
          },
          "metadata": {
            "needs_background": "light"
          }
        }
      ]
    },
    {
      "cell_type": "code",
      "source": [
        "model.evaluate(X_test, y_test)"
      ],
      "metadata": {
        "colab": {
          "base_uri": "https://localhost:8080/"
        },
        "id": "IYRCQOV4dIYK",
        "outputId": "bd1520d4-a993-4116-841c-db914f17f663"
      },
      "execution_count": null,
      "outputs": [
        {
          "output_type": "stream",
          "name": "stdout",
          "text": [
            "313/313 [==============================] - 2s 5ms/step - loss: 0.1966 - accuracy: 0.9432\n"
          ]
        },
        {
          "output_type": "execute_result",
          "data": {
            "text/plain": [
              "[0.19655685126781464, 0.9431999921798706]"
            ]
          },
          "metadata": {},
          "execution_count": 15
        }
      ]
    }
  ]
}