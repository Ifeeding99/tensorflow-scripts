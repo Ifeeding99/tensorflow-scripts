{
  "nbformat": 4,
  "nbformat_minor": 0,
  "metadata": {
    "colab": {
      "provenance": [],
      "authorship_tag": "ABX9TyPpilgWxX9rqCpnfFGK+GBt",
      "include_colab_link": true
    },
    "kernelspec": {
      "name": "python3",
      "display_name": "Python 3"
    },
    "language_info": {
      "name": "python"
    },
    "accelerator": "GPU",
    "gpuClass": "standard",
    "widgets": {
      "application/vnd.jupyter.widget-state+json": {
        "42af2addba144df6ac960986b8f821d6": {
          "model_module": "@jupyter-widgets/controls",
          "model_name": "HBoxModel",
          "model_module_version": "1.5.0",
          "state": {
            "_dom_classes": [],
            "_model_module": "@jupyter-widgets/controls",
            "_model_module_version": "1.5.0",
            "_model_name": "HBoxModel",
            "_view_count": null,
            "_view_module": "@jupyter-widgets/controls",
            "_view_module_version": "1.5.0",
            "_view_name": "HBoxView",
            "box_style": "",
            "children": [
              "IPY_MODEL_063d5e43fd50441bb098054d7f8ba09d",
              "IPY_MODEL_7d156730f59b4195a96560851396d398",
              "IPY_MODEL_54040dbf74d148c8a75595574176ba0b"
            ],
            "layout": "IPY_MODEL_3c14e389ef584a6d9591ce1b18084ed8"
          }
        },
        "063d5e43fd50441bb098054d7f8ba09d": {
          "model_module": "@jupyter-widgets/controls",
          "model_name": "HTMLModel",
          "model_module_version": "1.5.0",
          "state": {
            "_dom_classes": [],
            "_model_module": "@jupyter-widgets/controls",
            "_model_module_version": "1.5.0",
            "_model_name": "HTMLModel",
            "_view_count": null,
            "_view_module": "@jupyter-widgets/controls",
            "_view_module_version": "1.5.0",
            "_view_name": "HTMLView",
            "description": "",
            "description_tooltip": null,
            "layout": "IPY_MODEL_cc6b16ecfb4d4a42b82344e6cf8aa194",
            "placeholder": "​",
            "style": "IPY_MODEL_eaba521d421a4f928d746899af04270c",
            "value": "Downloading: 100%"
          }
        },
        "7d156730f59b4195a96560851396d398": {
          "model_module": "@jupyter-widgets/controls",
          "model_name": "FloatProgressModel",
          "model_module_version": "1.5.0",
          "state": {
            "_dom_classes": [],
            "_model_module": "@jupyter-widgets/controls",
            "_model_module_version": "1.5.0",
            "_model_name": "FloatProgressModel",
            "_view_count": null,
            "_view_module": "@jupyter-widgets/controls",
            "_view_module_version": "1.5.0",
            "_view_name": "ProgressView",
            "bar_style": "success",
            "description": "",
            "description_tooltip": null,
            "layout": "IPY_MODEL_d258f8a3327a4558918c81028de0d4a2",
            "max": 89999,
            "min": 0,
            "orientation": "horizontal",
            "style": "IPY_MODEL_e400b8f8100d42c5b26076f8a21dd103",
            "value": 89999
          }
        },
        "54040dbf74d148c8a75595574176ba0b": {
          "model_module": "@jupyter-widgets/controls",
          "model_name": "HTMLModel",
          "model_module_version": "1.5.0",
          "state": {
            "_dom_classes": [],
            "_model_module": "@jupyter-widgets/controls",
            "_model_module_version": "1.5.0",
            "_model_name": "HTMLModel",
            "_view_count": null,
            "_view_module": "@jupyter-widgets/controls",
            "_view_module_version": "1.5.0",
            "_view_name": "HTMLView",
            "description": "",
            "description_tooltip": null,
            "layout": "IPY_MODEL_ce9f5346e16642cbb59c926c911efc27",
            "placeholder": "​",
            "style": "IPY_MODEL_801ce93655b54e91936d5760bc8f2e27",
            "value": " 90.0k/90.0k [00:00&lt;00:00, 92.4kB/s]"
          }
        },
        "3c14e389ef584a6d9591ce1b18084ed8": {
          "model_module": "@jupyter-widgets/base",
          "model_name": "LayoutModel",
          "model_module_version": "1.2.0",
          "state": {
            "_model_module": "@jupyter-widgets/base",
            "_model_module_version": "1.2.0",
            "_model_name": "LayoutModel",
            "_view_count": null,
            "_view_module": "@jupyter-widgets/base",
            "_view_module_version": "1.2.0",
            "_view_name": "LayoutView",
            "align_content": null,
            "align_items": null,
            "align_self": null,
            "border": null,
            "bottom": null,
            "display": null,
            "flex": null,
            "flex_flow": null,
            "grid_area": null,
            "grid_auto_columns": null,
            "grid_auto_flow": null,
            "grid_auto_rows": null,
            "grid_column": null,
            "grid_gap": null,
            "grid_row": null,
            "grid_template_areas": null,
            "grid_template_columns": null,
            "grid_template_rows": null,
            "height": null,
            "justify_content": null,
            "justify_items": null,
            "left": null,
            "margin": null,
            "max_height": null,
            "max_width": null,
            "min_height": null,
            "min_width": null,
            "object_fit": null,
            "object_position": null,
            "order": null,
            "overflow": null,
            "overflow_x": null,
            "overflow_y": null,
            "padding": null,
            "right": null,
            "top": null,
            "visibility": null,
            "width": null
          }
        },
        "cc6b16ecfb4d4a42b82344e6cf8aa194": {
          "model_module": "@jupyter-widgets/base",
          "model_name": "LayoutModel",
          "model_module_version": "1.2.0",
          "state": {
            "_model_module": "@jupyter-widgets/base",
            "_model_module_version": "1.2.0",
            "_model_name": "LayoutModel",
            "_view_count": null,
            "_view_module": "@jupyter-widgets/base",
            "_view_module_version": "1.2.0",
            "_view_name": "LayoutView",
            "align_content": null,
            "align_items": null,
            "align_self": null,
            "border": null,
            "bottom": null,
            "display": null,
            "flex": null,
            "flex_flow": null,
            "grid_area": null,
            "grid_auto_columns": null,
            "grid_auto_flow": null,
            "grid_auto_rows": null,
            "grid_column": null,
            "grid_gap": null,
            "grid_row": null,
            "grid_template_areas": null,
            "grid_template_columns": null,
            "grid_template_rows": null,
            "height": null,
            "justify_content": null,
            "justify_items": null,
            "left": null,
            "margin": null,
            "max_height": null,
            "max_width": null,
            "min_height": null,
            "min_width": null,
            "object_fit": null,
            "object_position": null,
            "order": null,
            "overflow": null,
            "overflow_x": null,
            "overflow_y": null,
            "padding": null,
            "right": null,
            "top": null,
            "visibility": null,
            "width": null
          }
        },
        "eaba521d421a4f928d746899af04270c": {
          "model_module": "@jupyter-widgets/controls",
          "model_name": "DescriptionStyleModel",
          "model_module_version": "1.5.0",
          "state": {
            "_model_module": "@jupyter-widgets/controls",
            "_model_module_version": "1.5.0",
            "_model_name": "DescriptionStyleModel",
            "_view_count": null,
            "_view_module": "@jupyter-widgets/base",
            "_view_module_version": "1.2.0",
            "_view_name": "StyleView",
            "description_width": ""
          }
        },
        "d258f8a3327a4558918c81028de0d4a2": {
          "model_module": "@jupyter-widgets/base",
          "model_name": "LayoutModel",
          "model_module_version": "1.2.0",
          "state": {
            "_model_module": "@jupyter-widgets/base",
            "_model_module_version": "1.2.0",
            "_model_name": "LayoutModel",
            "_view_count": null,
            "_view_module": "@jupyter-widgets/base",
            "_view_module_version": "1.2.0",
            "_view_name": "LayoutView",
            "align_content": null,
            "align_items": null,
            "align_self": null,
            "border": null,
            "bottom": null,
            "display": null,
            "flex": null,
            "flex_flow": null,
            "grid_area": null,
            "grid_auto_columns": null,
            "grid_auto_flow": null,
            "grid_auto_rows": null,
            "grid_column": null,
            "grid_gap": null,
            "grid_row": null,
            "grid_template_areas": null,
            "grid_template_columns": null,
            "grid_template_rows": null,
            "height": null,
            "justify_content": null,
            "justify_items": null,
            "left": null,
            "margin": null,
            "max_height": null,
            "max_width": null,
            "min_height": null,
            "min_width": null,
            "object_fit": null,
            "object_position": null,
            "order": null,
            "overflow": null,
            "overflow_x": null,
            "overflow_y": null,
            "padding": null,
            "right": null,
            "top": null,
            "visibility": null,
            "width": null
          }
        },
        "e400b8f8100d42c5b26076f8a21dd103": {
          "model_module": "@jupyter-widgets/controls",
          "model_name": "ProgressStyleModel",
          "model_module_version": "1.5.0",
          "state": {
            "_model_module": "@jupyter-widgets/controls",
            "_model_module_version": "1.5.0",
            "_model_name": "ProgressStyleModel",
            "_view_count": null,
            "_view_module": "@jupyter-widgets/base",
            "_view_module_version": "1.2.0",
            "_view_name": "StyleView",
            "bar_color": null,
            "description_width": ""
          }
        },
        "ce9f5346e16642cbb59c926c911efc27": {
          "model_module": "@jupyter-widgets/base",
          "model_name": "LayoutModel",
          "model_module_version": "1.2.0",
          "state": {
            "_model_module": "@jupyter-widgets/base",
            "_model_module_version": "1.2.0",
            "_model_name": "LayoutModel",
            "_view_count": null,
            "_view_module": "@jupyter-widgets/base",
            "_view_module_version": "1.2.0",
            "_view_name": "LayoutView",
            "align_content": null,
            "align_items": null,
            "align_self": null,
            "border": null,
            "bottom": null,
            "display": null,
            "flex": null,
            "flex_flow": null,
            "grid_area": null,
            "grid_auto_columns": null,
            "grid_auto_flow": null,
            "grid_auto_rows": null,
            "grid_column": null,
            "grid_gap": null,
            "grid_row": null,
            "grid_template_areas": null,
            "grid_template_columns": null,
            "grid_template_rows": null,
            "height": null,
            "justify_content": null,
            "justify_items": null,
            "left": null,
            "margin": null,
            "max_height": null,
            "max_width": null,
            "min_height": null,
            "min_width": null,
            "object_fit": null,
            "object_position": null,
            "order": null,
            "overflow": null,
            "overflow_x": null,
            "overflow_y": null,
            "padding": null,
            "right": null,
            "top": null,
            "visibility": null,
            "width": null
          }
        },
        "801ce93655b54e91936d5760bc8f2e27": {
          "model_module": "@jupyter-widgets/controls",
          "model_name": "DescriptionStyleModel",
          "model_module_version": "1.5.0",
          "state": {
            "_model_module": "@jupyter-widgets/controls",
            "_model_module_version": "1.5.0",
            "_model_name": "DescriptionStyleModel",
            "_view_count": null,
            "_view_module": "@jupyter-widgets/base",
            "_view_module_version": "1.2.0",
            "_view_name": "StyleView",
            "description_width": ""
          }
        },
        "e78175ce7ef448ffb58bc8c0fda31d1e": {
          "model_module": "@jupyter-widgets/controls",
          "model_name": "HBoxModel",
          "model_module_version": "1.5.0",
          "state": {
            "_dom_classes": [],
            "_model_module": "@jupyter-widgets/controls",
            "_model_module_version": "1.5.0",
            "_model_name": "HBoxModel",
            "_view_count": null,
            "_view_module": "@jupyter-widgets/controls",
            "_view_module_version": "1.5.0",
            "_view_name": "HBoxView",
            "box_style": "",
            "children": [
              "IPY_MODEL_e5526abc8cef4e05b56ec2f2993eb507",
              "IPY_MODEL_7bc174ef46a344059e8c0478d83a6f3c",
              "IPY_MODEL_4da386abf7214f89a0a069bf2eb36af1"
            ],
            "layout": "IPY_MODEL_b1edf3f4e7d44b7d8a36af390f2e7517"
          }
        },
        "e5526abc8cef4e05b56ec2f2993eb507": {
          "model_module": "@jupyter-widgets/controls",
          "model_name": "HTMLModel",
          "model_module_version": "1.5.0",
          "state": {
            "_dom_classes": [],
            "_model_module": "@jupyter-widgets/controls",
            "_model_module_version": "1.5.0",
            "_model_name": "HTMLModel",
            "_view_count": null,
            "_view_module": "@jupyter-widgets/controls",
            "_view_module_version": "1.5.0",
            "_view_name": "HTMLView",
            "description": "",
            "description_tooltip": null,
            "layout": "IPY_MODEL_9fe6dff6f992493390c63555dbbbf981",
            "placeholder": "​",
            "style": "IPY_MODEL_7b94ae68939649c1ae65d6146eaa8c4a",
            "value": "Downloading: 100%"
          }
        },
        "7bc174ef46a344059e8c0478d83a6f3c": {
          "model_module": "@jupyter-widgets/controls",
          "model_name": "FloatProgressModel",
          "model_module_version": "1.5.0",
          "state": {
            "_dom_classes": [],
            "_model_module": "@jupyter-widgets/controls",
            "_model_module_version": "1.5.0",
            "_model_name": "FloatProgressModel",
            "_view_count": null,
            "_view_module": "@jupyter-widgets/controls",
            "_view_module_version": "1.5.0",
            "_view_name": "ProgressView",
            "bar_style": "success",
            "description": "",
            "description_tooltip": null,
            "layout": "IPY_MODEL_c634ae50ce604a19b124d1267e3490eb",
            "max": 1118,
            "min": 0,
            "orientation": "horizontal",
            "style": "IPY_MODEL_93c1c1831b2144488ede936896ca6cc3",
            "value": 1118
          }
        },
        "4da386abf7214f89a0a069bf2eb36af1": {
          "model_module": "@jupyter-widgets/controls",
          "model_name": "HTMLModel",
          "model_module_version": "1.5.0",
          "state": {
            "_dom_classes": [],
            "_model_module": "@jupyter-widgets/controls",
            "_model_module_version": "1.5.0",
            "_model_name": "HTMLModel",
            "_view_count": null,
            "_view_module": "@jupyter-widgets/controls",
            "_view_module_version": "1.5.0",
            "_view_name": "HTMLView",
            "description": "",
            "description_tooltip": null,
            "layout": "IPY_MODEL_6ddb3e5715bc4bdb80bbf85bcdf2fc47",
            "placeholder": "​",
            "style": "IPY_MODEL_e2f22e8049ef4952bc72ac0543a38174",
            "value": " 1.12k/1.12k [00:00&lt;00:00, 43.7kB/s]"
          }
        },
        "b1edf3f4e7d44b7d8a36af390f2e7517": {
          "model_module": "@jupyter-widgets/base",
          "model_name": "LayoutModel",
          "model_module_version": "1.2.0",
          "state": {
            "_model_module": "@jupyter-widgets/base",
            "_model_module_version": "1.2.0",
            "_model_name": "LayoutModel",
            "_view_count": null,
            "_view_module": "@jupyter-widgets/base",
            "_view_module_version": "1.2.0",
            "_view_name": "LayoutView",
            "align_content": null,
            "align_items": null,
            "align_self": null,
            "border": null,
            "bottom": null,
            "display": null,
            "flex": null,
            "flex_flow": null,
            "grid_area": null,
            "grid_auto_columns": null,
            "grid_auto_flow": null,
            "grid_auto_rows": null,
            "grid_column": null,
            "grid_gap": null,
            "grid_row": null,
            "grid_template_areas": null,
            "grid_template_columns": null,
            "grid_template_rows": null,
            "height": null,
            "justify_content": null,
            "justify_items": null,
            "left": null,
            "margin": null,
            "max_height": null,
            "max_width": null,
            "min_height": null,
            "min_width": null,
            "object_fit": null,
            "object_position": null,
            "order": null,
            "overflow": null,
            "overflow_x": null,
            "overflow_y": null,
            "padding": null,
            "right": null,
            "top": null,
            "visibility": null,
            "width": null
          }
        },
        "9fe6dff6f992493390c63555dbbbf981": {
          "model_module": "@jupyter-widgets/base",
          "model_name": "LayoutModel",
          "model_module_version": "1.2.0",
          "state": {
            "_model_module": "@jupyter-widgets/base",
            "_model_module_version": "1.2.0",
            "_model_name": "LayoutModel",
            "_view_count": null,
            "_view_module": "@jupyter-widgets/base",
            "_view_module_version": "1.2.0",
            "_view_name": "LayoutView",
            "align_content": null,
            "align_items": null,
            "align_self": null,
            "border": null,
            "bottom": null,
            "display": null,
            "flex": null,
            "flex_flow": null,
            "grid_area": null,
            "grid_auto_columns": null,
            "grid_auto_flow": null,
            "grid_auto_rows": null,
            "grid_column": null,
            "grid_gap": null,
            "grid_row": null,
            "grid_template_areas": null,
            "grid_template_columns": null,
            "grid_template_rows": null,
            "height": null,
            "justify_content": null,
            "justify_items": null,
            "left": null,
            "margin": null,
            "max_height": null,
            "max_width": null,
            "min_height": null,
            "min_width": null,
            "object_fit": null,
            "object_position": null,
            "order": null,
            "overflow": null,
            "overflow_x": null,
            "overflow_y": null,
            "padding": null,
            "right": null,
            "top": null,
            "visibility": null,
            "width": null
          }
        },
        "7b94ae68939649c1ae65d6146eaa8c4a": {
          "model_module": "@jupyter-widgets/controls",
          "model_name": "DescriptionStyleModel",
          "model_module_version": "1.5.0",
          "state": {
            "_model_module": "@jupyter-widgets/controls",
            "_model_module_version": "1.5.0",
            "_model_name": "DescriptionStyleModel",
            "_view_count": null,
            "_view_module": "@jupyter-widgets/base",
            "_view_module_version": "1.2.0",
            "_view_name": "StyleView",
            "description_width": ""
          }
        },
        "c634ae50ce604a19b124d1267e3490eb": {
          "model_module": "@jupyter-widgets/base",
          "model_name": "LayoutModel",
          "model_module_version": "1.2.0",
          "state": {
            "_model_module": "@jupyter-widgets/base",
            "_model_module_version": "1.2.0",
            "_model_name": "LayoutModel",
            "_view_count": null,
            "_view_module": "@jupyter-widgets/base",
            "_view_module_version": "1.2.0",
            "_view_name": "LayoutView",
            "align_content": null,
            "align_items": null,
            "align_self": null,
            "border": null,
            "bottom": null,
            "display": null,
            "flex": null,
            "flex_flow": null,
            "grid_area": null,
            "grid_auto_columns": null,
            "grid_auto_flow": null,
            "grid_auto_rows": null,
            "grid_column": null,
            "grid_gap": null,
            "grid_row": null,
            "grid_template_areas": null,
            "grid_template_columns": null,
            "grid_template_rows": null,
            "height": null,
            "justify_content": null,
            "justify_items": null,
            "left": null,
            "margin": null,
            "max_height": null,
            "max_width": null,
            "min_height": null,
            "min_width": null,
            "object_fit": null,
            "object_position": null,
            "order": null,
            "overflow": null,
            "overflow_x": null,
            "overflow_y": null,
            "padding": null,
            "right": null,
            "top": null,
            "visibility": null,
            "width": null
          }
        },
        "93c1c1831b2144488ede936896ca6cc3": {
          "model_module": "@jupyter-widgets/controls",
          "model_name": "ProgressStyleModel",
          "model_module_version": "1.5.0",
          "state": {
            "_model_module": "@jupyter-widgets/controls",
            "_model_module_version": "1.5.0",
            "_model_name": "ProgressStyleModel",
            "_view_count": null,
            "_view_module": "@jupyter-widgets/base",
            "_view_module_version": "1.2.0",
            "_view_name": "StyleView",
            "bar_color": null,
            "description_width": ""
          }
        },
        "6ddb3e5715bc4bdb80bbf85bcdf2fc47": {
          "model_module": "@jupyter-widgets/base",
          "model_name": "LayoutModel",
          "model_module_version": "1.2.0",
          "state": {
            "_model_module": "@jupyter-widgets/base",
            "_model_module_version": "1.2.0",
            "_model_name": "LayoutModel",
            "_view_count": null,
            "_view_module": "@jupyter-widgets/base",
            "_view_module_version": "1.2.0",
            "_view_name": "LayoutView",
            "align_content": null,
            "align_items": null,
            "align_self": null,
            "border": null,
            "bottom": null,
            "display": null,
            "flex": null,
            "flex_flow": null,
            "grid_area": null,
            "grid_auto_columns": null,
            "grid_auto_flow": null,
            "grid_auto_rows": null,
            "grid_column": null,
            "grid_gap": null,
            "grid_row": null,
            "grid_template_areas": null,
            "grid_template_columns": null,
            "grid_template_rows": null,
            "height": null,
            "justify_content": null,
            "justify_items": null,
            "left": null,
            "margin": null,
            "max_height": null,
            "max_width": null,
            "min_height": null,
            "min_width": null,
            "object_fit": null,
            "object_position": null,
            "order": null,
            "overflow": null,
            "overflow_x": null,
            "overflow_y": null,
            "padding": null,
            "right": null,
            "top": null,
            "visibility": null,
            "width": null
          }
        },
        "e2f22e8049ef4952bc72ac0543a38174": {
          "model_module": "@jupyter-widgets/controls",
          "model_name": "DescriptionStyleModel",
          "model_module_version": "1.5.0",
          "state": {
            "_model_module": "@jupyter-widgets/controls",
            "_model_module_version": "1.5.0",
            "_model_name": "DescriptionStyleModel",
            "_view_count": null,
            "_view_module": "@jupyter-widgets/base",
            "_view_module_version": "1.2.0",
            "_view_name": "StyleView",
            "description_width": ""
          }
        },
        "285228fbf60d4f1a8e6bdfebcc0a4003": {
          "model_module": "@jupyter-widgets/controls",
          "model_name": "HBoxModel",
          "model_module_version": "1.5.0",
          "state": {
            "_dom_classes": [],
            "_model_module": "@jupyter-widgets/controls",
            "_model_module_version": "1.5.0",
            "_model_name": "HBoxModel",
            "_view_count": null,
            "_view_module": "@jupyter-widgets/controls",
            "_view_module_version": "1.5.0",
            "_view_name": "HBoxView",
            "box_style": "",
            "children": [
              "IPY_MODEL_807f27d47bce4c649651cd37e2059311",
              "IPY_MODEL_542ce03f523a4bd9886b988763d4b6ec",
              "IPY_MODEL_f033180a1977423c820a8f24574aa4c0"
            ],
            "layout": "IPY_MODEL_959551e943ff49e78f84db936ea36f95"
          }
        },
        "807f27d47bce4c649651cd37e2059311": {
          "model_module": "@jupyter-widgets/controls",
          "model_name": "HTMLModel",
          "model_module_version": "1.5.0",
          "state": {
            "_dom_classes": [],
            "_model_module": "@jupyter-widgets/controls",
            "_model_module_version": "1.5.0",
            "_model_name": "HTMLModel",
            "_view_count": null,
            "_view_module": "@jupyter-widgets/controls",
            "_view_module_version": "1.5.0",
            "_view_name": "HTMLView",
            "description": "",
            "description_tooltip": null,
            "layout": "IPY_MODEL_7b1fc7670e8b43a692787d7da23538ef",
            "placeholder": "​",
            "style": "IPY_MODEL_fc58eb89c89a45a497eb84ca0dc80dee",
            "value": "Downloading: 100%"
          }
        },
        "542ce03f523a4bd9886b988763d4b6ec": {
          "model_module": "@jupyter-widgets/controls",
          "model_name": "FloatProgressModel",
          "model_module_version": "1.5.0",
          "state": {
            "_dom_classes": [],
            "_model_module": "@jupyter-widgets/controls",
            "_model_module_version": "1.5.0",
            "_model_name": "FloatProgressModel",
            "_view_count": null,
            "_view_module": "@jupyter-widgets/controls",
            "_view_module_version": "1.5.0",
            "_view_name": "ProgressView",
            "bar_style": "success",
            "description": "",
            "description_tooltip": null,
            "layout": "IPY_MODEL_1782388c834148a7a231f95332c01ea2",
            "max": 133829,
            "min": 0,
            "orientation": "horizontal",
            "style": "IPY_MODEL_ace3eae10968468390e8da8157434c99",
            "value": 133829
          }
        },
        "f033180a1977423c820a8f24574aa4c0": {
          "model_module": "@jupyter-widgets/controls",
          "model_name": "HTMLModel",
          "model_module_version": "1.5.0",
          "state": {
            "_dom_classes": [],
            "_model_module": "@jupyter-widgets/controls",
            "_model_module_version": "1.5.0",
            "_model_name": "HTMLModel",
            "_view_count": null,
            "_view_module": "@jupyter-widgets/controls",
            "_view_module_version": "1.5.0",
            "_view_name": "HTMLView",
            "description": "",
            "description_tooltip": null,
            "layout": "IPY_MODEL_e7112c1fcff64566bc19612983844a42",
            "placeholder": "​",
            "style": "IPY_MODEL_9ee54e4b1c4e42698641e456d8e340c1",
            "value": " 134k/134k [00:00&lt;00:00, 152kB/s]"
          }
        },
        "959551e943ff49e78f84db936ea36f95": {
          "model_module": "@jupyter-widgets/base",
          "model_name": "LayoutModel",
          "model_module_version": "1.2.0",
          "state": {
            "_model_module": "@jupyter-widgets/base",
            "_model_module_version": "1.2.0",
            "_model_name": "LayoutModel",
            "_view_count": null,
            "_view_module": "@jupyter-widgets/base",
            "_view_module_version": "1.2.0",
            "_view_name": "LayoutView",
            "align_content": null,
            "align_items": null,
            "align_self": null,
            "border": null,
            "bottom": null,
            "display": null,
            "flex": null,
            "flex_flow": null,
            "grid_area": null,
            "grid_auto_columns": null,
            "grid_auto_flow": null,
            "grid_auto_rows": null,
            "grid_column": null,
            "grid_gap": null,
            "grid_row": null,
            "grid_template_areas": null,
            "grid_template_columns": null,
            "grid_template_rows": null,
            "height": null,
            "justify_content": null,
            "justify_items": null,
            "left": null,
            "margin": null,
            "max_height": null,
            "max_width": null,
            "min_height": null,
            "min_width": null,
            "object_fit": null,
            "object_position": null,
            "order": null,
            "overflow": null,
            "overflow_x": null,
            "overflow_y": null,
            "padding": null,
            "right": null,
            "top": null,
            "visibility": null,
            "width": null
          }
        },
        "7b1fc7670e8b43a692787d7da23538ef": {
          "model_module": "@jupyter-widgets/base",
          "model_name": "LayoutModel",
          "model_module_version": "1.2.0",
          "state": {
            "_model_module": "@jupyter-widgets/base",
            "_model_module_version": "1.2.0",
            "_model_name": "LayoutModel",
            "_view_count": null,
            "_view_module": "@jupyter-widgets/base",
            "_view_module_version": "1.2.0",
            "_view_name": "LayoutView",
            "align_content": null,
            "align_items": null,
            "align_self": null,
            "border": null,
            "bottom": null,
            "display": null,
            "flex": null,
            "flex_flow": null,
            "grid_area": null,
            "grid_auto_columns": null,
            "grid_auto_flow": null,
            "grid_auto_rows": null,
            "grid_column": null,
            "grid_gap": null,
            "grid_row": null,
            "grid_template_areas": null,
            "grid_template_columns": null,
            "grid_template_rows": null,
            "height": null,
            "justify_content": null,
            "justify_items": null,
            "left": null,
            "margin": null,
            "max_height": null,
            "max_width": null,
            "min_height": null,
            "min_width": null,
            "object_fit": null,
            "object_position": null,
            "order": null,
            "overflow": null,
            "overflow_x": null,
            "overflow_y": null,
            "padding": null,
            "right": null,
            "top": null,
            "visibility": null,
            "width": null
          }
        },
        "fc58eb89c89a45a497eb84ca0dc80dee": {
          "model_module": "@jupyter-widgets/controls",
          "model_name": "DescriptionStyleModel",
          "model_module_version": "1.5.0",
          "state": {
            "_model_module": "@jupyter-widgets/controls",
            "_model_module_version": "1.5.0",
            "_model_name": "DescriptionStyleModel",
            "_view_count": null,
            "_view_module": "@jupyter-widgets/base",
            "_view_module_version": "1.2.0",
            "_view_name": "StyleView",
            "description_width": ""
          }
        },
        "1782388c834148a7a231f95332c01ea2": {
          "model_module": "@jupyter-widgets/base",
          "model_name": "LayoutModel",
          "model_module_version": "1.2.0",
          "state": {
            "_model_module": "@jupyter-widgets/base",
            "_model_module_version": "1.2.0",
            "_model_name": "LayoutModel",
            "_view_count": null,
            "_view_module": "@jupyter-widgets/base",
            "_view_module_version": "1.2.0",
            "_view_name": "LayoutView",
            "align_content": null,
            "align_items": null,
            "align_self": null,
            "border": null,
            "bottom": null,
            "display": null,
            "flex": null,
            "flex_flow": null,
            "grid_area": null,
            "grid_auto_columns": null,
            "grid_auto_flow": null,
            "grid_auto_rows": null,
            "grid_column": null,
            "grid_gap": null,
            "grid_row": null,
            "grid_template_areas": null,
            "grid_template_columns": null,
            "grid_template_rows": null,
            "height": null,
            "justify_content": null,
            "justify_items": null,
            "left": null,
            "margin": null,
            "max_height": null,
            "max_width": null,
            "min_height": null,
            "min_width": null,
            "object_fit": null,
            "object_position": null,
            "order": null,
            "overflow": null,
            "overflow_x": null,
            "overflow_y": null,
            "padding": null,
            "right": null,
            "top": null,
            "visibility": null,
            "width": null
          }
        },
        "ace3eae10968468390e8da8157434c99": {
          "model_module": "@jupyter-widgets/controls",
          "model_name": "ProgressStyleModel",
          "model_module_version": "1.5.0",
          "state": {
            "_model_module": "@jupyter-widgets/controls",
            "_model_module_version": "1.5.0",
            "_model_name": "ProgressStyleModel",
            "_view_count": null,
            "_view_module": "@jupyter-widgets/base",
            "_view_module_version": "1.2.0",
            "_view_name": "StyleView",
            "bar_color": null,
            "description_width": ""
          }
        },
        "e7112c1fcff64566bc19612983844a42": {
          "model_module": "@jupyter-widgets/base",
          "model_name": "LayoutModel",
          "model_module_version": "1.2.0",
          "state": {
            "_model_module": "@jupyter-widgets/base",
            "_model_module_version": "1.2.0",
            "_model_name": "LayoutModel",
            "_view_count": null,
            "_view_module": "@jupyter-widgets/base",
            "_view_module_version": "1.2.0",
            "_view_name": "LayoutView",
            "align_content": null,
            "align_items": null,
            "align_self": null,
            "border": null,
            "bottom": null,
            "display": null,
            "flex": null,
            "flex_flow": null,
            "grid_area": null,
            "grid_auto_columns": null,
            "grid_auto_flow": null,
            "grid_auto_rows": null,
            "grid_column": null,
            "grid_gap": null,
            "grid_row": null,
            "grid_template_areas": null,
            "grid_template_columns": null,
            "grid_template_rows": null,
            "height": null,
            "justify_content": null,
            "justify_items": null,
            "left": null,
            "margin": null,
            "max_height": null,
            "max_width": null,
            "min_height": null,
            "min_width": null,
            "object_fit": null,
            "object_position": null,
            "order": null,
            "overflow": null,
            "overflow_x": null,
            "overflow_y": null,
            "padding": null,
            "right": null,
            "top": null,
            "visibility": null,
            "width": null
          }
        },
        "9ee54e4b1c4e42698641e456d8e340c1": {
          "model_module": "@jupyter-widgets/controls",
          "model_name": "DescriptionStyleModel",
          "model_module_version": "1.5.0",
          "state": {
            "_model_module": "@jupyter-widgets/controls",
            "_model_module_version": "1.5.0",
            "_model_name": "DescriptionStyleModel",
            "_view_count": null,
            "_view_module": "@jupyter-widgets/base",
            "_view_module_version": "1.2.0",
            "_view_name": "StyleView",
            "description_width": ""
          }
        }
      }
    }
  },
  "cells": [
    {
      "cell_type": "markdown",
      "metadata": {
        "id": "view-in-github",
        "colab_type": "text"
      },
      "source": [
        "<a href=\"https://colab.research.google.com/github/Ifeeding99/tensorflow-scripts/blob/main/mes_predictor_gpu.ipynb\" target=\"_parent\"><img src=\"https://colab.research.google.com/assets/colab-badge.svg\" alt=\"Open In Colab\"/></a>"
      ]
    },
    {
      "cell_type": "code",
      "execution_count": null,
      "metadata": {
        "colab": {
          "base_uri": "https://localhost:8080/",
          "height": 1000
        },
        "id": "9_8MRwcPWDvJ",
        "outputId": "995e95c4-3595-43f0-cb41-8c9d463fe425"
      },
      "outputs": [
        {
          "output_type": "display_data",
          "data": {
            "text/plain": [
              "<IPython.core.display.HTML object>"
            ],
            "text/html": [
              "\n",
              "     <input type=\"file\" id=\"files-dbd18f67-183b-4046-aafe-914067df3fdb\" name=\"files[]\" multiple disabled\n",
              "        style=\"border:none\" />\n",
              "     <output id=\"result-dbd18f67-183b-4046-aafe-914067df3fdb\">\n",
              "      Upload widget is only available when the cell has been executed in the\n",
              "      current browser session. Please rerun this cell to enable.\n",
              "      </output>\n",
              "      <script>// Copyright 2017 Google LLC\n",
              "//\n",
              "// Licensed under the Apache License, Version 2.0 (the \"License\");\n",
              "// you may not use this file except in compliance with the License.\n",
              "// You may obtain a copy of the License at\n",
              "//\n",
              "//      http://www.apache.org/licenses/LICENSE-2.0\n",
              "//\n",
              "// Unless required by applicable law or agreed to in writing, software\n",
              "// distributed under the License is distributed on an \"AS IS\" BASIS,\n",
              "// WITHOUT WARRANTIES OR CONDITIONS OF ANY KIND, either express or implied.\n",
              "// See the License for the specific language governing permissions and\n",
              "// limitations under the License.\n",
              "\n",
              "/**\n",
              " * @fileoverview Helpers for google.colab Python module.\n",
              " */\n",
              "(function(scope) {\n",
              "function span(text, styleAttributes = {}) {\n",
              "  const element = document.createElement('span');\n",
              "  element.textContent = text;\n",
              "  for (const key of Object.keys(styleAttributes)) {\n",
              "    element.style[key] = styleAttributes[key];\n",
              "  }\n",
              "  return element;\n",
              "}\n",
              "\n",
              "// Max number of bytes which will be uploaded at a time.\n",
              "const MAX_PAYLOAD_SIZE = 100 * 1024;\n",
              "\n",
              "function _uploadFiles(inputId, outputId) {\n",
              "  const steps = uploadFilesStep(inputId, outputId);\n",
              "  const outputElement = document.getElementById(outputId);\n",
              "  // Cache steps on the outputElement to make it available for the next call\n",
              "  // to uploadFilesContinue from Python.\n",
              "  outputElement.steps = steps;\n",
              "\n",
              "  return _uploadFilesContinue(outputId);\n",
              "}\n",
              "\n",
              "// This is roughly an async generator (not supported in the browser yet),\n",
              "// where there are multiple asynchronous steps and the Python side is going\n",
              "// to poll for completion of each step.\n",
              "// This uses a Promise to block the python side on completion of each step,\n",
              "// then passes the result of the previous step as the input to the next step.\n",
              "function _uploadFilesContinue(outputId) {\n",
              "  const outputElement = document.getElementById(outputId);\n",
              "  const steps = outputElement.steps;\n",
              "\n",
              "  const next = steps.next(outputElement.lastPromiseValue);\n",
              "  return Promise.resolve(next.value.promise).then((value) => {\n",
              "    // Cache the last promise value to make it available to the next\n",
              "    // step of the generator.\n",
              "    outputElement.lastPromiseValue = value;\n",
              "    return next.value.response;\n",
              "  });\n",
              "}\n",
              "\n",
              "/**\n",
              " * Generator function which is called between each async step of the upload\n",
              " * process.\n",
              " * @param {string} inputId Element ID of the input file picker element.\n",
              " * @param {string} outputId Element ID of the output display.\n",
              " * @return {!Iterable<!Object>} Iterable of next steps.\n",
              " */\n",
              "function* uploadFilesStep(inputId, outputId) {\n",
              "  const inputElement = document.getElementById(inputId);\n",
              "  inputElement.disabled = false;\n",
              "\n",
              "  const outputElement = document.getElementById(outputId);\n",
              "  outputElement.innerHTML = '';\n",
              "\n",
              "  const pickedPromise = new Promise((resolve) => {\n",
              "    inputElement.addEventListener('change', (e) => {\n",
              "      resolve(e.target.files);\n",
              "    });\n",
              "  });\n",
              "\n",
              "  const cancel = document.createElement('button');\n",
              "  inputElement.parentElement.appendChild(cancel);\n",
              "  cancel.textContent = 'Cancel upload';\n",
              "  const cancelPromise = new Promise((resolve) => {\n",
              "    cancel.onclick = () => {\n",
              "      resolve(null);\n",
              "    };\n",
              "  });\n",
              "\n",
              "  // Wait for the user to pick the files.\n",
              "  const files = yield {\n",
              "    promise: Promise.race([pickedPromise, cancelPromise]),\n",
              "    response: {\n",
              "      action: 'starting',\n",
              "    }\n",
              "  };\n",
              "\n",
              "  cancel.remove();\n",
              "\n",
              "  // Disable the input element since further picks are not allowed.\n",
              "  inputElement.disabled = true;\n",
              "\n",
              "  if (!files) {\n",
              "    return {\n",
              "      response: {\n",
              "        action: 'complete',\n",
              "      }\n",
              "    };\n",
              "  }\n",
              "\n",
              "  for (const file of files) {\n",
              "    const li = document.createElement('li');\n",
              "    li.append(span(file.name, {fontWeight: 'bold'}));\n",
              "    li.append(span(\n",
              "        `(${file.type || 'n/a'}) - ${file.size} bytes, ` +\n",
              "        `last modified: ${\n",
              "            file.lastModifiedDate ? file.lastModifiedDate.toLocaleDateString() :\n",
              "                                    'n/a'} - `));\n",
              "    const percent = span('0% done');\n",
              "    li.appendChild(percent);\n",
              "\n",
              "    outputElement.appendChild(li);\n",
              "\n",
              "    const fileDataPromise = new Promise((resolve) => {\n",
              "      const reader = new FileReader();\n",
              "      reader.onload = (e) => {\n",
              "        resolve(e.target.result);\n",
              "      };\n",
              "      reader.readAsArrayBuffer(file);\n",
              "    });\n",
              "    // Wait for the data to be ready.\n",
              "    let fileData = yield {\n",
              "      promise: fileDataPromise,\n",
              "      response: {\n",
              "        action: 'continue',\n",
              "      }\n",
              "    };\n",
              "\n",
              "    // Use a chunked sending to avoid message size limits. See b/62115660.\n",
              "    let position = 0;\n",
              "    do {\n",
              "      const length = Math.min(fileData.byteLength - position, MAX_PAYLOAD_SIZE);\n",
              "      const chunk = new Uint8Array(fileData, position, length);\n",
              "      position += length;\n",
              "\n",
              "      const base64 = btoa(String.fromCharCode.apply(null, chunk));\n",
              "      yield {\n",
              "        response: {\n",
              "          action: 'append',\n",
              "          file: file.name,\n",
              "          data: base64,\n",
              "        },\n",
              "      };\n",
              "\n",
              "      let percentDone = fileData.byteLength === 0 ?\n",
              "          100 :\n",
              "          Math.round((position / fileData.byteLength) * 100);\n",
              "      percent.textContent = `${percentDone}% done`;\n",
              "\n",
              "    } while (position < fileData.byteLength);\n",
              "  }\n",
              "\n",
              "  // All done.\n",
              "  yield {\n",
              "    response: {\n",
              "      action: 'complete',\n",
              "    }\n",
              "  };\n",
              "}\n",
              "\n",
              "scope.google = scope.google || {};\n",
              "scope.google.colab = scope.google.colab || {};\n",
              "scope.google.colab._files = {\n",
              "  _uploadFiles,\n",
              "  _uploadFilesContinue,\n",
              "};\n",
              "})(self);\n",
              "</script> "
            ]
          },
          "metadata": {}
        },
        {
          "output_type": "stream",
          "name": "stdout",
          "text": [
            "Saving Prezzi orari mes.xlsx to Prezzi orari mes.xlsx\n"
          ]
        },
        {
          "output_type": "execute_result",
          "data": {
            "text/plain": [
              "{'Prezzi orari mes.xlsx': b'PK\\x03\\x04\\x14\\x00\\x06\\x00\\x08\\x00\\x00\\x00!\\x00b\\xee\\x9dha\\x01\\x00\\x00\\x90\\x04\\x00\\x00\\x13\\x00\\x08\\x02[Content_Types].xml \\xa2\\x04\\x02(\\xa0\\x00\\x02\\x00\\x00\\x00\\x00\\x00\\x00\\x00\\x00\\x00\\x00\\x00\\x00\\x00\\x00\\x00\\x00\\x00\\x00\\x00\\x00\\x00\\x00\\x00\\x00\\x00\\x00\\x00\\x00\\x00\\x00\\x00\\x00\\x00\\x00\\x00\\x00\\x00\\x00\\x00\\x00\\x00\\x00\\x00\\x00\\x00\\x00\\x00\\x00\\x00\\x00\\x00\\x00\\x00\\x00\\x00\\x00\\x00\\x00\\x00\\x00\\x00\\x00\\x00\\x00\\x00\\x00\\x00\\x00\\x00\\x00\\x00\\x00\\x00\\x00\\x00\\x00\\x00\\x00\\x00\\x00\\x00\\x00\\x00\\x00\\x00\\x00\\x00\\x00\\x00\\x00\\x00\\x00\\x00\\x00\\x00\\x00\\x00\\x00\\x00\\x00\\x00\\x00\\x00\\x00\\x00\\x00\\x00\\x00\\x00\\x00\\x00\\x00\\x00\\x00\\x00\\x00\\x00\\x00\\x00\\x00\\x00\\x00\\x00\\x00\\x00\\x00\\x00\\x00\\x00\\x00\\x00\\x00\\x00\\x00\\x00\\x00\\x00\\x00\\x00\\x00\\x00\\x00\\x00\\x00\\x00\\x00\\x00\\x00\\x00\\x00\\x00\\x00\\x00\\x00\\x00\\x00\\x00\\x00\\x00\\x00\\x00\\x00\\x00\\x00\\x00\\x00\\x00\\x00\\x00\\x00\\x00\\x00\\x00\\x00\\x00\\x00\\x00\\x00\\x00\\x00\\x00\\x00\\x00\\x00\\x00\\x00\\x00\\x00\\x00\\x00\\x00\\x00\\x00\\x00\\x00\\x00\\x00\\x00\\x00\\x00\\x00\\x00\\x00\\x00\\x00\\x00\\x00\\x00\\x00\\x00\\x00\\x00\\x00\\x00\\x00\\x00\\x00\\x00\\x00\\x00\\x00\\x00\\x00\\x00\\x00\\x00\\x00\\x00\\x00\\x00\\x00\\x00\\x00\\x00\\x00\\x00\\x00\\x00\\x00\\x00\\x00\\x00\\x00\\x00\\x00\\x00\\x00\\x00\\x00\\x00\\x00\\x00\\x00\\x00\\x00\\x00\\x00\\x00\\x00\\x00\\x00\\x00\\x00\\x00\\x00\\x00\\x00\\x00\\x00\\x00\\x00\\x00\\x00\\x00\\x00\\x00\\x00\\x00\\x00\\x00\\x00\\x00\\x00\\x00\\x00\\x00\\x00\\x00\\x00\\x00\\x00\\x00\\x00\\x00\\x00\\x00\\x00\\x00\\x00\\x00\\x00\\x00\\x00\\x00\\x00\\x00\\x00\\x00\\x00\\x00\\x00\\x00\\x00\\x00\\x00\\x00\\x00\\x00\\x00\\x00\\x00\\x00\\x00\\x00\\x00\\x00\\x00\\x00\\x00\\x00\\x00\\x00\\x00\\x00\\x00\\x00\\x00\\x00\\x00\\x00\\x00\\x00\\x00\\x00\\x00\\x00\\x00\\x00\\x00\\x00\\x00\\x00\\x00\\x00\\x00\\x00\\x00\\x00\\x00\\x00\\x00\\x00\\x00\\x00\\x00\\x00\\x00\\x00\\x00\\x00\\x00\\x00\\x00\\x00\\x00\\x00\\x00\\x00\\x00\\x00\\x00\\x00\\x00\\x00\\x00\\x00\\x00\\x00\\x00\\x00\\x00\\x00\\x00\\x00\\x00\\x00\\x00\\x00\\x00\\x00\\x00\\x00\\x00\\x00\\x00\\x00\\x00\\x00\\x00\\x00\\x00\\x00\\x00\\x00\\x00\\x00\\x00\\x00\\x00\\x00\\x00\\x00\\x00\\x00\\x00\\x00\\x00\\x00\\x00\\x00\\x00\\x00\\x00\\x00\\x00\\x00\\x00\\x00\\x00\\x00\\x00\\x00\\x00\\x00\\x00\\x00\\x00\\x00\\x00\\x00\\x00\\x00\\x00\\x00\\x00\\x00\\x00\\x00\\x00\\x00\\x00\\x00\\x00\\x00\\x00\\x00\\x00\\x00\\x00\\x00\\x00\\x00\\x00\\x00\\x00\\x00\\x00\\x00\\x00\\x00\\x00\\x00\\x00\\x00\\x00\\x00\\x00\\x00\\x00\\x00\\x00\\x00\\x00\\x00\\x00\\x00\\x00\\x00\\x00\\x00\\x00\\x00\\x00\\x00\\x00\\x00\\x00\\x00\\x00\\x00\\x00\\x00\\xac\\x94MO\\xc30\\x0c\\x86\\xefH\\xfc\\x87*W\\xd4f\\xe3\\x80\\x10Z\\xb7\\x03\\x1fG\\x98\\xc4\\xf8\\x01\\xa1q\\xd7hi\\x12\\xc5\\xde\\xd8\\xfe=n\\xf6!\\x84\\xca\\xa6\\x89]\\x1a\\xb5\\xb1\\xdf\\xf7\\x89kg4Y\\xb76[AD\\xe3])\\x86\\xc5@d\\xe0*\\xaf\\x8d\\x9b\\x97\\xe2c\\xf6\\x92\\xdf\\x8b\\x0cI9\\xad\\xacwP\\x8a\\r\\xa0\\x98\\x8c\\xaf\\xafF\\xb3M\\x00\\xcc8\\xdba)\\x1a\\xa2\\xf0 %V\\r\\xb4\\n\\x0b\\x1f\\xc0\\xf1N\\xedc\\xab\\x88_\\xe3\\\\\\x06U-\\xd4\\x1c\\xe4\\xed`p\\'+\\xef\\x08\\x1c\\xe5\\xd4i\\x88\\xf1\\xe8\\tj\\xb5\\xb4\\x94=\\xaf\\xf9\\xf3\\x96$\\x82E\\x91=n\\x03;\\xafR\\xa8\\x10\\xac\\xa9\\x141\\xa9\\\\9\\xfd\\xcb%\\xdf9\\x14\\x9c\\x99b\\xb01\\x01o\\x18C\\xc8^\\x87n\\xe7o\\x83]\\xde\\x1b\\x97&\\x1a\\r\\xd9TEzU-c\\xc8\\xb5\\x95_>.>\\xbd_\\x14\\xc7Ez(}]\\x9b\\n\\xb4\\xaf\\x96-W\\xa0\\xc0\\x10Ail\\x00\\xa8\\xb5EZ\\x8bV\\x19\\xb7\\xe7>\\xe2\\x9f\\x82Q\\xa6exa\\x90\\xee|I\\xf8\\x04\\x07\\xf1\\xff\\x06\\x99\\x9e\\xffGH2\\'\\x0c\\x916\\x16\\xf0\\xc2\\xa7\\xdd\\x8a\\x9ernT\\x04\\xfdN\\x91\\'\\xe3\\xe2\\x00?\\xb5\\x8fqp\\xdfL\\xa3\\x0f\\xc8\\x13\\x14\\xe1\\xfc*\\xecG\\xa4\\xcb\\xce\\x03\\x0bA$\\x03\\x87!\\xe9k\\xb6\\x83#O\\xdf\\xf9\\x86\\xbf\\xba\\x1d\\xba\\xf9\\xd6\\xa0{\\xbce\\xbaO\\xc6\\xdf\\x00\\x00\\x00\\xff\\xff\\x03\\x00PK\\x03\\x04\\x14\\x00\\x06\\x00\\x08\\x00\\x00\\x00!\\x00\\xb5U0#\\xf5\\x00\\x00\\x00L\\x02\\x00\\x00\\x0b\\x00\\x08\\x02_rels/.rels \\xa2\\x04\\x02(\\xa0\\x00\\x02\\x00\\x00\\x00\\x00\\x00\\x00\\x00\\x00\\x00\\x00\\x00\\x00\\x00\\x00\\x00\\x00\\x00\\x00\\x00\\x00\\x00\\x00\\x00\\x00\\x00\\x00\\x00\\x00\\x00\\x00\\x00\\x00\\x00\\x00\\x00\\x00\\x00\\x00\\x00\\x00\\x00\\x00\\x00\\x00\\x00\\x00\\x00\\x00\\x00\\x00\\x00\\x00\\x00\\x00\\x00\\x00\\x00\\x00\\x00\\x00\\x00\\x00\\x00\\x00\\x00\\x00\\x00\\x00\\x00\\x00\\x00\\x00\\x00\\x00\\x00\\x00\\x00\\x00\\x00\\x00\\x00\\x00\\x00\\x00\\x00\\x00\\x00\\x00\\x00\\x00\\x00\\x00\\x00\\x00\\x00\\x00\\x00\\x00\\x00\\x00\\x00\\x00\\x00\\x00\\x00\\x00\\x00\\x00\\x00\\x00\\x00\\x00\\x00\\x00\\x00\\x00\\x00\\x00\\x00\\x00\\x00\\x00\\x00\\x00\\x00\\x00\\x00\\x00\\x00\\x00\\x00\\x00\\x00\\x00\\x00\\x00\\x00\\x00\\x00\\x00\\x00\\x00\\x00\\x00\\x00\\x00\\x00\\x00\\x00\\x00\\x00\\x00\\x00\\x00\\x00\\x00\\x00\\x00\\x00\\x00\\x00\\x00\\x00\\x00\\x00\\x00\\x00\\x00\\x00\\x00\\x00\\x00\\x00\\x00\\x00\\x00\\x00\\x00\\x00\\x00\\x00\\x00\\x00\\x00\\x00\\x00\\x00\\x00\\x00\\x00\\x00\\x00\\x00\\x00\\x00\\x00\\x00\\x00\\x00\\x00\\x00\\x00\\x00\\x00\\x00\\x00\\x00\\x00\\x00\\x00\\x00\\x00\\x00\\x00\\x00\\x00\\x00\\x00\\x00\\x00\\x00\\x00\\x00\\x00\\x00\\x00\\x00\\x00\\x00\\x00\\x00\\x00\\x00\\x00\\x00\\x00\\x00\\x00\\x00\\x00\\x00\\x00\\x00\\x00\\x00\\x00\\x00\\x00\\x00\\x00\\x00\\x00\\x00\\x00\\x00\\x00\\x00\\x00\\x00\\x00\\x00\\x00\\x00\\x00\\x00\\x00\\x00\\x00\\x00\\x00\\x00\\x00\\x00\\x00\\x00\\x00\\x00\\x00\\x00\\x00\\x00\\x00\\x00\\x00\\x00\\x00\\x00\\x00\\x00\\x00\\x00\\x00\\x00\\x00\\x00\\x00\\x00\\x00\\x00\\x00\\x00\\x00\\x00\\x00\\x00\\x00\\x00\\x00\\x00\\x00\\x00\\x00\\x00\\x00\\x00\\x00\\x00\\x00\\x00\\x00\\x00\\x00\\x00\\x00\\x00\\x00\\x00\\x00\\x00\\x00\\x00\\x00\\x00\\x00\\x00\\x00\\x00\\x00\\x00\\x00\\x00\\x00\\x00\\x00\\x00\\x00\\x00\\x00\\x00\\x00\\x00\\x00\\x00\\x00\\x00\\x00\\x00\\x00\\x00\\x00\\x00\\x00\\x00\\x00\\x00\\x00\\x00\\x00\\x00\\x00\\x00\\x00\\x00\\x00\\x00\\x00\\x00\\x00\\x00\\x00\\x00\\x00\\x00\\x00\\x00\\x00\\x00\\x00\\x00\\x00\\x00\\x00\\x00\\x00\\x00\\x00\\x00\\x00\\x00\\x00\\x00\\x00\\x00\\x00\\x00\\x00\\x00\\x00\\x00\\x00\\x00\\x00\\x00\\x00\\x00\\x00\\x00\\x00\\x00\\x00\\x00\\x00\\x00\\x00\\x00\\x00\\x00\\x00\\x00\\x00\\x00\\x00\\x00\\x00\\x00\\x00\\x00\\x00\\x00\\x00\\x00\\x00\\x00\\x00\\x00\\x00\\x00\\x00\\x00\\x00\\x00\\x00\\x00\\x00\\x00\\x00\\x00\\x00\\x00\\x00\\x00\\x00\\x00\\x00\\x00\\x00\\x00\\x00\\x00\\x00\\x00\\x00\\x00\\x00\\x00\\x00\\x00\\x00\\x00\\x00\\x00\\x00\\x00\\x00\\x00\\x00\\x00\\x00\\x00\\x00\\x00\\x00\\x00\\x00\\x00\\x00\\x00\\x00\\x00\\x00\\x00\\x00\\x00\\x00\\x00\\x00\\x00\\x00\\x00\\x00\\x00\\x00\\x8c\\x92\\xcfN\\xc30\\x0c\\xc6\\xefH\\xbcC\\xe4\\xfb\\xeanH\\x08\\xa1\\xa5\\xbbLH\\xbb!T\\x1e\\xc0$\\xee\\x1f\\xb5\\x8d\\xa3$@\\xf7\\xf6\\x84\\x03\\x82Jc\\xdb\\xd1\\xf6\\xe7\\xcf?[\\xde\\xee\\xe6iT\\x1f\\x1cb/N\\xc3\\xba(A\\xb13b{\\xd7jx\\xad\\x9fV\\x0f\\xa0b\"gi\\x14\\xc7\\x1a\\x8e\\x1caW\\xdd\\xdel_x\\xa4\\x94\\x9bb\\xd7\\xfb\\xa8\\xb2\\x8b\\x8b\\x1a\\xba\\x94\\xfc#b4\\x1dO\\x14\\x0b\\xf1\\xecr\\xa5\\x910Q\\xcaah\\xd1\\x93\\x19\\xa8e\\xdc\\x94\\xe5=\\x86\\xbf\\x1eP-<\\xd5\\xc1j\\x08\\x07{\\x07\\xaa>\\xfa<\\xf9\\xb2\\xb74Mox/\\xe6}b\\x97N\\x8c@\\x9e\\x13;\\xcbv\\xe5Cf\\x0b\\xa9\\xcf\\xdb\\xa8\\x9aB\\xcbI\\x83\\x15\\xf3\\x9c\\xd3\\x11\\xc9\\xfb\"c\\x03\\x9e&\\xda\\\\O\\xf4\\xff\\xb68q\"K\\x89\\xd0H\\xe0\\xf3<\\xdf\\x8as@\\xeb\\xeb\\x81.\\x9fh\\xa9\\xf8\\xbd\\xce<\\xe2\\xa7\\x84\\xe1Md\\xf8a\\xc1\\xc5\\x0fT_\\x00\\x00\\x00\\xff\\xff\\x03\\x00PK\\x03\\x04\\x14\\x00\\x06\\x00\\x08\\x00\\x00\\x00!\\x00\\x81>\\x94\\x97\\xf4\\x00\\x00\\x00\\xba\\x02\\x00\\x00\\x1a\\x00\\x08\\x01xl/_rels/workbook.xml.rels \\xa2\\x04\\x01(\\xa0\\x00\\x01\\x00\\x00\\x00\\x00\\x00\\x00\\x00\\x00\\x00\\x00\\x00\\x00\\x00\\x00\\x00\\x00\\x00\\x00\\x00\\x00\\x00\\x00\\x00\\x00\\x00\\x00\\x00\\x00\\x00\\x00\\x00\\x00\\x00\\x00\\x00\\x00\\x00\\x00\\x00\\x00\\x00\\x00\\x00\\x00\\x00\\x00\\x00\\x00\\x00\\x00\\x00\\x00\\x00\\x00\\x00\\x00\\x00\\x00\\x00\\x00\\x00\\x00\\x00\\x00\\x00\\x00\\x00\\x00\\x00\\x00\\x00\\x00\\x00\\x00\\x00\\x00\\x00\\x00\\x00\\x00\\x00\\x00\\x00\\x00\\x00\\x00\\x00\\x00\\x00\\x00\\x00\\x00\\x00\\x00\\x00\\x00\\x00\\x00\\x00\\x00\\x00\\x00\\x00\\x00\\x00\\x00\\x00\\x00\\x00\\x00\\x00\\x00\\x00\\x00\\x00\\x00\\x00\\x00\\x00\\x00\\x00\\x00\\x00\\x00\\x00\\x00\\x00\\x00\\x00\\x00\\x00\\x00\\x00\\x00\\x00\\x00\\x00\\x00\\x00\\x00\\x00\\x00\\x00\\x00\\x00\\x00\\x00\\x00\\x00\\x00\\x00\\x00\\x00\\x00\\x00\\x00\\x00\\x00\\x00\\x00\\x00\\x00\\x00\\x00\\x00\\x00\\x00\\x00\\x00\\x00\\x00\\x00\\x00\\x00\\x00\\x00\\x00\\x00\\x00\\x00\\x00\\x00\\x00\\x00\\x00\\x00\\x00\\x00\\x00\\x00\\x00\\x00\\x00\\x00\\x00\\x00\\x00\\x00\\x00\\x00\\x00\\x00\\x00\\x00\\x00\\x00\\x00\\x00\\x00\\x00\\x00\\x00\\x00\\x00\\x00\\x00\\x00\\x00\\x00\\x00\\x00\\x00\\x00\\x00\\x00\\x00\\x00\\x00\\x00\\x00\\x00\\x00\\x00\\x00\\x00\\x00\\x00\\x00\\x00\\x00\\x00\\x00\\x00\\x00\\x00\\x00\\x00\\x00\\x00\\x00\\x00\\x00\\x00\\x00\\x00\\x00\\xac\\x92\\xcfJ\\xc40\\x10\\xc6\\xef\\x82\\xef\\x10\\xe6n\\xd3\\xae\"\"\\x9b\\xeeE\\x84\\xbdj}\\x80\\x90L\\x9b\\xb2m\\x122\\xe3\\x9f\\xbe\\xbd\\xa1\\xa2\\xdb\\x85e\\xbd\\xf4\\x12\\xf8f\\xc8\\xf7\\xfd2\\x99\\xed\\xeek\\x1c\\xc4\\x07&\\xea\\x83WP\\x15%\\x08\\xf4&\\xd8\\xdew\\n\\xde\\x9a\\xe7\\x9b\\x07\\x10\\xc4\\xda[=\\x04\\x8f\\n&$\\xd8\\xd5\\xd7W\\xdb\\x17\\x1c4\\xe7K\\xe4\\xfaH\"\\xbbxR\\xe0\\x98\\xe3\\xa3\\x94d\\x1c\\x8e\\x9a\\x8a\\x10\\xd1\\xe7N\\x1b\\xd2\\xa89\\xcb\\xd4\\xc9\\xa8\\xcdAw(7ey/\\xd3\\xd2\\x03\\xea\\x13O\\xb1\\xb7\\n\\xd2\\xde\\xde\\x82h\\xa6\\x98\\x93\\xff\\xf7\\x0em\\xdb\\x1b|\\n\\xe6}D\\xcfg\"$\\xf14\\xe4\\x07\\x88F\\xa7\\x0eY\\xc1\\x8f.2#\\xc8\\xf3\\xf1\\x9b5\\xe39\\x8f\\x05\\x8f\\xe9\\xb3\\x94\\xf3Y]b\\xa8\\xd6d\\xf8\\x0c\\xe9@\\x0e\\x91\\x8f\\x1c\\x7f%\\x92s\\xe7\"\\xcc\\xdd\\x9a0\\xe4tB\\xfb\\xca)\\xaf\\xdb\\xf2[\\x96\\xe5\\xdf\\xc9\\xc8\\x93\\x8d\\xab\\xbf\\x01\\x00\\x00\\xff\\xff\\x03\\x00PK\\x03\\x04\\x14\\x00\\x06\\x00\\x08\\x00\\x00\\x00!\\x00SE\\xe9z!\\x02\\x00\\x00\\xa7\\x04\\x00\\x00\\x0f\\x00\\x00\\x00xl/workbook.xml\\x9cRQo\\x9b0\\x10~\\x9f\\xb4\\xff\\x80\\xfcNm\\x07hB\\x14R\\x85\\x00Z\\xa5\\xa6\\xaa\\xb2,\\xd9\\x9e&\\x0fL\\xb0\\x02\\x18\\xd9\\xce\\x92j\\xda\\x7f\\xdf\\x01I\\xd3\\xaa\\xd3\\x14\\xed\\x05s\\xe7\\xef\\xce\\xdfw\\xdfM\\xee\\x8eUi\\xfd\\xe4J\\x0bY\\x07\\x88\\xde\\x10d\\xf1:\\x95\\x99\\xa8\\xb7\\x01\\xfa\\xb2J\\xec\\x11\\xb2\\xb4au\\xc6JY\\xf3\\x00=s\\x8d\\xee\\xa6\\x1f?L\\x0eR\\xed~H\\xb9\\xb3\\xa0A\\xad\\x03T\\x18\\xd3\\x8c1\\xd6i\\xc1+\\xa6od\\xc3k\\xb8\\xc9\\xa5\\xaa\\x98\\x81Pm\\xb1n\\x14g\\x99.87U\\x89\\x07\\x84\\xdc\\xe2\\x8a\\x89\\x1a\\xf5\\x1d\\xc6\\xea\\x9a\\x1e2\\xcfE\\xca#\\x99\\xee+^\\x9b\\xbe\\x89\\xe2%3@_\\x17\\xa2\\xd1h:\\xc9E\\xc9\\xd7\\xbd\"\\x8b5\\xcd#\\xab\\x80\\xf7\\xb1DV\\xc9\\xb4\\x893ax\\x16 \\x0fBy\\xe0\\x97\\xc4\\x10Yj\\xdf\\x84{Q\\xc2\\xad\\xef\\x10\\x07\\xe1\\xe9\\x8b\\xc8\\'\\x05A\\xabv-\\xf8A_\\xf2mh\\x1d7\\xa2\\xce\\xe4!@6%\\xd0\\xf6\\xf9mx\\xe8.7\"3\\x05\\xcc\\xd7w\\x07\\x00\\xe9s\\x9f\\xb8\\xd8\\x16\\x06\\x92\\xc4\\x81:x\\x00\\xbfz\\xa1\\x1b\\x13\\xbc\\xd4\\x9dV\\xddi\\x90\\x8a\\x83\\x19\\xed\\xfc\\xee{\\x05j,\\xe0G\\xddg\\xb4+?\\xd7\\xa4\\xacL\\x9f\\x94\\xd5\\x1e-\\x90\\xfa\\x94\\x0c\\xfc\\x16\\xc1\\x8f\\xe6A\\x9b\\xee\\xb4\\xf6J\\x04\\xe8\\x17u\\xc9lH|\\xd7&\\xb1\\xe3\\xd9\\xee\\xc8\\x1f\\xd8#\\xd7\\x19\\xd8s7\\x1a\\xc4\\xde0\\x8e\\xe2\\xd0\\xfb}v\\xe8H\\xbdw\\x1eU\"UR\\xcb\\xdc\\xdc\\xa4\\xb2\\xc2\\xbd=\\xef\\x9c\\xa6\\x04S\\xda\\x9b=\\x9d@\\x97\\xf1yyZ\\x96\\x05Sf\\xa5X\\xba\\x83\\x95[\\xf2<d\\x1a\\xec\\xea\\x05\\x01\\xdf\\xd7dCo\\x14\\x12\\x07(\\xba\\tMl\\x97\\xfa\\xc4\\x0e\\xc3[\\xd7\\xf6\\xa2\\xc4\\xf1\\x864\\x9a\\xc7^r!\\xdb\\xca\\xcf\\xff\\x93\\xef\\x08w\\xd5\\x9c\\x99\\xbd\\x82\\x85\\x07\\xd2]<n\\xbf\\xc9)\\xfb\\x92\\xcc\\xfb\\xc4\\xc9\\xa47\\x03\\x19/\\xa3v\\xee\\xa7\\xea\\x7f\\x01?\\x83\\xfa\\x92_\\tN\\xd6W\\x02\\xe7\\x8f\\x8b\\xd5\\xe2J\\xecC\\xbc\\xfa\\xbeI\\xae\\x05\\xcf\\x16a4\\xbb\\x1e?[.g\\xdfV\\xf1\\xd7\\xf3\\x13\\xf8\\xaf\\x03\\xc5\\x9d\\xe1\\xed\\xb7[S|^\\x93\\xe9\\x1f\\x00\\x00\\x00\\xff\\xff\\x03\\x00PK\\x03\\x04\\x14\\x00\\x06\\x00\\x08\\x00\\x00\\x00!\\x00\\x8a\\x07\\xc4 \\r\\x01\\x00\\x00B\\x03\\x00\\x00\\x14\\x00\\x00\\x00xl/sharedStrings.xmll\\xd3\\xcdN\\x840\\x10\\xc0\\xf1\\xbb\\x89\\xef@zw\\xdbaq\\xdd5\\xa5{\\xd0\\x18\\x1f@\\x1f\\xa0\\x81\\nM\\xfa\\x81LY\\xf5\\xed-\\xbb\\xb72\\xdc\\xfa\\x83v\\xf8\\x93 \\xcf\\xbf\\xdeU\\x173\\xa3\\x8d\\xa1e\\xb0\\x13\\xac2\\xa1\\x8b\\xbd\\rC\\xcb>?\\xde\\x1e\\x8e\\xac\\xc2\\xa4C\\xaf]\\x0c\\xa6e\\x7f\\x06\\xd9Y\\xdd\\xdfI\\xc4T\\xe5\\xbd\\x01[6\\xa64=s\\x8e\\xddh\\xbc\\xc6]\\x9cL\\xc8w\\xbe\\xe2\\xecu\\xca\\xcby\\xe08\\xcdF\\xf78\\x1a\\x93\\xbc\\xe3\\xb5\\x10\\x07\\xee\\xb5\\r\\xac\\xea\\xe2\\x12R\\x9e\\xdb4\\'V-\\xc1~/\\xe6\\xe5F{`J\\xa2U2\\xa9W\\x9d\\x8c\\xe4II\\xbe\\xaeo\\xf6\\x1e\\x97\\xb9\\xb4upi\\xa3\\x1d\\xc6\\xd2\\\\\\xfc)\\xa9s\\x1173.\\xd1-~\\xa3u-@\\x88\\xf2\\x80z/\\xf2U\\xeaj\\x84\\xe6\\xfd\\x84\\xe6\\xcfB(}nC>\\xfbH\\xea\\x81\\xd4\\'R\\x8f\\xa4\\x9e(\\xbdFl\\x8a\\x81l\\x03\\xb2\\r\\xc86 \\xdb\\x80l\\x03\\xb2\\r\\xc86 \\xdb\\x80l\\xbb\\xbe\\xee\\xa6\\xad.\\xdax\\xfe\\x07\\xd4?\\x00\\x00\\x00\\xff\\xff\\x03\\x00PK\\x03\\x04\\x14\\x00\\x06\\x00\\x08\\x00\\x00\\x00!\\x00w\\')\\xc9\\x88\\x07\\x00\\x00\\xcf \\x00\\x00\\x13\\x00\\x00\\x00xl/theme/theme1.xml\\xecY\\xcd\\x8b\\x1bG\\x16\\xbf/\\xe4\\x7fh\\xfa.\\xeb\\xab[\\x1f\\x83e\\xa3OO\\xec\\x19\\xdbX\\xb2C\\x8e5RI]\\x9e\\xea.QU\\x9a\\xb10\\x86`\\x9f\\xf6\\xb2\\xb0\\x90\\r\\xb9\\x04r\\xcb!,\\x1bH &\\x97\\xfc1\\x06\\x9b$\\xfbG\\xec\\xab\\xeaVw\\x95T\\xb2g\\x06\\xb3d\\x97\\x19\\xc1\\xd0]\\xfa\\xbdW\\xbfz\\xef\\xd5{OU7o?\\x8b\\xa9w\\x86\\xb9 ,\\xe9\\xf8\\xd5\\x1b\\x15\\xdf\\xc3\\xc9\\x94\\xcdH\\xb2\\xe8\\xf8\\x8f\\'\\xa3R\\xcb\\xf7\\x84D\\xc9\\x0cQ\\x96\\xe0\\x8e\\xbf\\xc6\\xc2\\xbf}\\xeb\\x93\\xbf\\xdcD\\x072\\xc21\\xf6@>\\x11\\x07\\xa8\\xe3GR.\\x0f\\xcae1\\x85a$n\\xb0%N\\xe0\\xbb9\\xe31\\x92\\xf0\\xca\\x17\\xe5\\x19G\\xe7\\xa07\\xa6\\xe5Z\\xa5\\xd2(\\xc7\\x88$\\xbe\\x97\\xa0\\x18\\xd4>\\x98\\xcf\\xc9\\x14{\\x13\\xa5\\xd2\\xbf\\xb5Q>\\xa4\\xf0\\x9aH\\xa1\\x06\\xa6\\x94\\x8f\\x95jlIh\\xec\\xec\\xb4\\xaa\\x10b-\\xfa\\x94{g\\x88v|\\x98g\\xc6\\xce\\'\\xf8\\x99\\xf4=\\x8a\\x84\\x84/:~E\\xff\\xf9\\xe5[7\\xcb\\xe8 \\x13\\xa2r\\x8f\\xac!7\\xd2\\x7f\\x99\\\\&0;\\xad\\xe99\\xf9\\xe2$\\x9f4\\x08\\xc2\\xa0\\xd1\\xcd\\xf5k\\x00\\x95\\xbb\\xb8as\\xd8\\x186r}\\x1a\\x80\\xa6SXi\\xca\\xc5\\xd6\\xd9\\xac\\xf5\\x83\\x0ck\\x80\\xd2G\\x87\\xeeAsP\\xafZxC\\x7f}\\x87s7T\\x1f\\x0b\\xafA\\xa9\\xfe`\\x07?\\x1a\\xf5\\xc1\\x8a\\x16^\\x83R|\\xb8\\x83\\x0f{\\xed\\xde\\xc0\\xd6\\xafA)\\xbe\\xb1\\x83oV\\xba\\x83\\xa0i\\xe9\\xd7\\xa0\\x88\\x92\\xe4t\\x07]\\t\\x1b\\xf5\\xfef\\xb59d\\xce\\xe8\\xa1\\x13\\xde\\x0e\\x83Q\\xb3\\x96)/P\\x10\\ryt\\xa9)\\xe6,\\x91\\xfbb-FO\\x19\\x1f\\x01@\\x01)\\x92$\\xf1\\xe4z\\x89\\xe7h\\nQ\\xdcG\\x94\\x9cp\\xe2\\x1d\\x91E\\x04\\x81\\xb7D\\t\\x130\\\\\\xa9UF\\x95:\\xfcW\\x9f@?i\\x8f\\xa2\\x03\\x8c\\x0ci\\xc5\\x0b\\x98\\x88\\x9d!\\xc5\\xc7\\x13SN\\x96\\xb2\\xe3\\xdf\\x05\\xad\\xbe\\x01y\\xfb\\xfa\\xf5\\x9b\\x97?\\xbdy\\xf9\\xf3\\x9bW\\xaf\\xde\\xbc\\xfcW6\\xb7Ve\\xc9\\x1d\\xa2da\\xca\\xfd\\xf1\\xdd\\xdf\\xff\\xfd\\xcd\\x17\\xde\\xef?~\\xfb\\xc7\\x97\\xffH\\xa7\\xde\\xc6\\x0b\\x13\\xff\\xee\\x9f\\x7f}\\xf7\\xcb\\xaf\\xefS\\x0f+.L\\xf1\\xf6\\xab\\x1f\\xde\\xfd\\xf4\\xc3\\xdb\\xaf\\xff\\xf6\\xdb\\xf7_:\\xb4w9:1\\xe1\\x13\\x12c\\xe1\\xdd\\xc7\\xe7\\xde#\\x16\\xc3\\x02\\x1d\\xfc\\xf1\\t\\xbf\\x9c\\xc4$B\\xc4\\x92@\\x11\\xe8v\\xa8\\x1e\\xca\\xc8\\x02\\xde_#\\xea\\xc2\\xf5\\xb0m\\xc2\\'\\x1c\\xb2\\x8c\\x0bxg\\xf5\\xd4\\xe2:\\x8e\\xf8J\\x12\\xc7\\xcc\\xf7\\xa2\\xd8\\x02\\x1e3F{\\x8c;\\rpO\\xcdeXx\\xb2J\\x16\\xee\\xc9\\xf9\\xca\\xc4=B\\xe8\\xcc5w\\x1f%\\x96\\x83\\x87\\xab%\\xa4W\\xe2R\\xd9\\x8f\\xb0E\\xf3!E\\x89D\\x0b\\x9c`\\xe9\\xa9\\xef\\xd8)\\xc6\\x8e\\xd5}N\\x88e\\xd7c2\\xe5L\\xb0\\xb9\\xf4>\\'^\\x0f\\x11\\xa7I&\\xe4\\xc4\\n\\xa4B\\xe8\\x90\\xc4\\xe0\\x97\\xb5\\x8b \\xb8\\xda\\xb2\\xcd\\xf1\\x13\\xaf\\xc7\\xa8k\\xd5\\x03|f#a[ \\xea ?\\xc1\\xd42\\xe3\\x1d\\xb4\\x92(v\\xa9\\x9c\\xa0\\x98\\x9a\\x06?B2r\\x91\\x1c\\xaf\\xf9\\xd4\\xc4\\r\\x85\\x04O/0e\\xdep\\x86\\x85p\\xc9<\\xe0\\xb0^\\xc3\\xe9\\xf7 \\xc3\\xb8\\xdd~L\\xd7\\xb1\\x8d\\xe4\\x92\\x9c\\xbat\\x1e!\\xc6L\\xe4\\x80\\x9d\\xf6#\\x14/]\\xd81I\"\\x13\\xfb\\xa98\\x85\\x10E\\xdeC&]\\xf0cf\\xef\\x10\\xf5\\x0e~@\\xc9^w?!\\xd8r\\xf7\\x87\\x13\\xc1cH\\xae&\\xa5\"@\\xd47+\\xee\\xf0\\xe5\\x1d\\xcc\\xac\\xf8\\x1d\\xaf\\xe9\\x1caW\\x96\\xe9\\xf2\\xd8\\xca\\xae]N\\x9c\\xd1\\xd1[-\\xac\\xd0>\\xc2\\x98\\xa2s4\\xc3\\xd8{\\xfc\\xa9\\x83A\\x8f--\\x9b\\x17\\xa4\\xefF\\x90U\\x0e\\xb1+\\xb0\\xee\";V\\xd5{\\x82\\x05\\xb4I\\xaa\\xaf\\xd9M\\x91GDX!;\\xc6\\x0b\\xb6\\x87\\xcf\\xf1z+\\xf1\\xacQ\\x12#\\xbeO\\xf3}\\xf0\\xbai\\xf3!T9g*}@\\xa7\\xa7&\\xf0>\\x81\\xf6\\x0f\\xe2\\xc5i\\x94\\x07\\x02t\\x18\\xc1\\xbdW\\xeb\\xc3\\x08Y\\xb5K\\xbd\\x0bw\\xbc\\xae\\xb9\\xe5\\xbf\\x8b\\xec1\\xd8\\x97O-\\x1a\\x17\\xd8\\x97 \\x83/-\\x03\\x89\\xdd\\x94y\\xafm&\\x88Z\\x13\\x14\\x013A\\xd0`\\xb8\\xd2-\\x88X\\xee/DT]\\xd5b+\\xa7\\xdc\\xdc\\xde\\xb4\\x85\\x1b\\xa01\\xb2\\xfa\\x9d\\x98$\\x1fl~\\xb6\\xda\\x9e\\xf0\\xbf\\xd3\\xf68v\\xc3\\xc7ix\\xdc\\x8a\\xad\\x94u\\xc9Vg_J9\\xdcjp\\xf6\\xe1\\xfe\\x07\\xdb\\x9a\\x01Z%\\x0f1T\\x92\\xdd\\x9cu\\xdd\\xd5\\\\w5\\xfe\\xff}W\\xb3o/_\\xf72\\xfb:\\x8e\\xeb^\\xc6\\x87\\x1e\\xe3\\xba\\x97\\xc9NV>N/S\\xb4/\\xd0\\xd9\\xa8\\xd3\\x8e\\xf4\\x94G\\x9f\\xf9\\xc4{\\x8f|\\xe6\\x84\\xd2\\xb1\\\\S|$\\xf4\\xa9\\x8f\\x80_4\\xb3\\x11\\x0c*9}\\xdc\\x89\\xf3#\\xc0e\\x04\\x8f\\xaa\\xcc\\xc1\\x04\\x16n\\xc1\\x91\\x96\\xf18\\x93\\x9f\\x11\\x19\\x8d#\\xb4\\x84\\xa3\\xa1\\xaa\\xaf\\x94,D\\xa6z!\\xbc%\\x13pb\\xa4\\x87\\x9d\\xba\\x15\\x9e\\xae\\xe2c6KO:\\xabUu\\xaa\\x99VV\\x81d1^\\t\\xf3q8\\xa5\\x92)\\xba\\xd1,N\\xefr\\xf5\\x9a\\xedB\\x9f\\xb2n\\x08(\\xd9\\xcb\\x900&\\xb3I\\xd4\\x1d$\\x9a\\x9bAe$}\\xa6\\x0bFs\\x90\\xd0+\\xfb(,\\xda\\x0e\\x16-\\xa5~\\xe3\\xaa\\x1d\\x16@-\\xf7\\n\\xfc\\xe4\\xf6\\xe0\\x87z\\xc7\\x0f\\x03\\x10\\x01!8\\x8c\\x83\\xf6|\\xa6\\xfc\\x94\\xbaz\\xe3]\\xed\\xcc\\x8f\\xe9\\xe9}\\xc6\\xb4\"\\x00Z\\xecM\\x04\\x14\\x9en+\\xae{\\x97\\xa7V\\x97\\x86\\xda\\x05<m\\x910\\xc2\\xcd&\\xa1-\\xa3\\x1b<\\x11\\xc1\\x0f\\xe1,:\\xd5\\xe8Eh\\\\\\xd6\\xd7\\xed\\xc2\\xa5\\x16=e\\n=\\x1f\\x84VA\\xa3\\xd9z\\x1f\\x8b\\xab\\xfa\\x1a\\xe4\\xb6s\\x03M\\xccLA\\x13\\xef\\xbc\\xe37\\xea!\\x84\\xcc\\x14-;\\xfe\\x1cN\\x8c\\xe11^B\\xec\\x08\\xf5\\xab\\x0b\\xd1\\x05\\\\\\xbbL%O7\\xfcU2\\xcb\\x92\\x0b9@\"J\\r\\xae\\x93N\\x9a\\rb\"1\\xf7(\\x89;\\xbeZ~\\xee\\x06\\x9a\\xe8\\x1c\\xa2\\xb9Uk\\x90\\x10\\xfe\\xb4\\xe4\\xda\\x90V\\xfel\\xe4\\xc0\\xe9\\xb6\\x93\\xf1|\\x8e\\xa7\\xd2t\\xbb1\\xa2,\\x9d\\xbeB\\x86Os\\x85\\xf3[-~u\\xb0\\x92d+p\\xf78\\x9a\\x9d{\\'t\\xc5\\x1f!\\x08\\xb1\\xb0YU\\x06\\x9c\\x11\\x01\\x17\\x07\\xd5\\xd4\\x9a3\\x027ay\"+\\xe2o\\xab0ei\\xd7\\xbc\\x8a\\xd21\\x94\\x8e#\\xba\\x8cPVQ\\xccd\\x9e\\xc2u*\\xcf\\xe9\\xe8\\xb7\\xdc\\x06\\xc6[\\xb6f0\\xa8a\\x92\\xac\\x10\\x9e,T\\x815\\x8djU\\xd3\\xbcj\\xa4\\x1c\\xf6V\\xdd\\x0f\\x0b)\\xcb\\x19I\\xb3\\xa8\\x99VVQU\\xd3\\x9d\\xc5\\xac\\x196e`\\xcb\\x96W+\\xf2\\x06\\xab\\x8d\\x89!\\xa7\\x99\\x15>M\\xdd\\xdb)\\xb7\\xbd\\xc9u[}B^%\\xc0\\xe0\\xb9\\xfd\\x1cU\\xf7\\x02\\x05\\xc1\\xa0VLfQS\\x8cw\\xd3\\xb0\\xca\\xd9\\xd9\\xa8];6\\x0b\\xfc\\x00\\xb5\\x8b\\x14\\t#\\xeb76j\\xb7\\xec\\x96\\xd7\\x08\\xe7t0x\\xa5\\xca\\x0fr\\xdbQ\\x0bC\\xf3M_\\xa9-\\xad\\xaf\\xcc\\xcd[mv\\xf2\\x14\\x92\\xc7\\x00\\xba\\xdc\\x15\\x95B\\xbb\\x12\\xcev9\\x82\\x86h\\xac{\\x924m\\xc0\\x16y&\\xb3\\xad\\x01O\\xde\\x8a\\x93\\x8e\\xff\\xbc\\x12v\\x83~-\\xec\\x97*\\xadpX\\n\\xeaA\\xa5\\xd4\\n\\xbb\\xf5R7\\x0c\\xeb\\xd5aX\\xad\\x0cz\\xb5\\x17PXd\\x14W\\xc3\\xf4\\xba~\\x04W\\x18t\\x9d]\\xda\\xeb\\xf1\\x9d\\x8b\\xfbxsKsc\\xca\\xe22\\xd3\\x17\\xf3eM\\\\_\\xdcWk\\xd9\\xc5\\xbd\\xbe\\xf8\\xef\\xf8\\xce\\x1b|\\x8f@\\xf6y\\xde\\xa8\\x8d\\xda\\xf5v\\xafQj\\xd7\\xbb\\xa3R0\\xe8\\xb5J\\xed~\\xa3W\\x1a4\\xfa\\xcd\\xc1h\\xd0\\x0f[\\xed\\xd1\\x0b\\xdf;\\xd3\\xe0\\xa0[\\xef\\x07\\x8da\\xab\\xd4\\xa8\\xf6\\xfb\\xa5\\xa0QQ\\xebh\\xb5K\\xcd\\xa0V\\xeb\\x06\\xcdnk\\x18t_d\\xfd\\x0c\\x98 \\xcd#\\x99Q\\xc0\\xce\\x9a\\xe0\\xad\\xff\\x00\\x00\\x00\\xff\\xff\\x03\\x00PK\\x03\\x04\\x14\\x00\\x06\\x00\\x08\\x00\\x00\\x00!\\x00\\x91\\xb8v\\xf1\\xc9\\x02\\x00\\x00\\x14\\x07\\x00\\x00\\r\\x00\\x00\\x00xl/styles.xml\\xb4U\\xdbn\\xdb0\\x0c}\\x1f\\xb0\\x7f\\x10\\xf4\\xee\\xfaR;K\\x02\\xdb\\xc5\\xd2\\xd4@\\x81\\xae\\x18\\xd0\\x0e\\xd8\\xabb\\xcb\\x89P]\\x0cI\\xee\\x92\\r\\xfb\\xf7R\\xb6\\x938k\\xb1u\\xb7\\x97\\x84\\xa2\\xa8\\xc3\\xc3CJN/\\xb6\\x82\\xa3G\\xaa\\rS2\\xc3\\xe1Y\\x80\\x11\\x95\\xa5\\xaa\\x98\\\\g\\xf8\\xd3}\\xe1M12\\x96\\xc8\\x8ap%i\\x86w\\xd4\\xe0\\x8b\\xfc\\xed\\x9b\\xd4\\xd8\\x1d\\xa7w\\x1bJ-\\x02\\x08i2\\xbc\\xb1\\xb6\\x99\\xfb\\xbe)7T\\x10s\\xa6\\x1a*a\\xa7VZ\\x10\\x0bK\\xbd\\xf6M\\xa3)\\xa9\\x8c;$\\xb8\\x1f\\x05\\xc1\\xc4\\x17\\x84I\\xdc#\\xccE\\xf9\\x1a\\x10A\\xf4C\\xdbx\\xa5\\x12\\r\\xb1l\\xc58\\xb3\\xbb\\x0e\\x0b#Q\\xce\\xaf\\xd7Ri\\xb2\\xe2@u\\x1b\\xc6\\xa4\\xdccw\\x8bg\\xf0\\x82\\x95Z\\x19U\\xdb3\\x80\\xf3U]\\xb3\\x92>g9\\xf3g> \\xe5i\\xad\\xa45\\xa8T\\xad\\xb4\\x19\\x8e\\x00\\xdae\\x98?H\\xf5E\\x16n\\x0b\\x04\\x1c\\xa2\\xf2\\xd4|E\\x8f\\x84\\x83\\'\\xc4~\\x9e\\x96\\x8a+\\x8d,(\\x03\\xc4:\\x8f$\\x82\\xf6\\x11\\x97\\x84\\xb3\\x95f.\\xac&\\x82\\xf1]\\xef\\x8e\\x9c\\xa3\\x13s\\x88\\x13\\x0cJsN\\xdf\\xf1\\xe8\\xd9\\xe4\\xe9\\xcaE\\xfd\\xf7\\\\]J\\x039\\x19\\xe7#\\x05zG\\x9eB\\',\\xd5\\xb2\\x80]4\\xd8\\xf7\\xbb\\x06J\\x9504=e\\xd8\\xfae\\xf4Z\\x93]\\x18%\\xa3\\x03~\\x97\\x10\\xaaT\\xba\\x82!\\xddk\\xefd\\xee]y\\xcaimA\\x03\\xcd\\xd6\\x1b\\xf7oU\\x03\\xbf+e-t4O+F\\xd6J\\x12\\x0e\\xa6\\xbf?1\\x18PNI9\\xbfs\\x83\\xfc\\xb9>\\xc1\\xde\\xd6H\\xb6\\xa2\\x10\\xf6\\xba\\xca0\\\\\\t\\'\\xf8\\xde\\x84B\\x06\\xb3\\xc7\\xeb\\x17\\x0e\\x7f\\x8c\\xd6c\\x8f`c\\xa0\\xfc\\xfb\\xb0h[\\x1f\\xf0ON\\x87\\xf1kX\\x1d\\x8e#\\xd24|w\\xdb\\x8a\\x15\\xd5Ew#\\x871<\\x01\\x1dU\\x1a\\x02\\xfc\\xcb\\x95\\xfe\\x80\\xe9\\x06\\xff%\\xacx\\xf6o\\x08v\\xaa\\x82\\x8e\\xa3f\\x9d\\xb4\\xea :r7*\\xc3\\xb7\\xae:N\\xe1r\\x0e\\xca\\xa1U\\xcb\\xb8e\\xf2\\xa0\\xe3\\xb1O\\x00Zm\\x8f\\x9d\\x0f\\xdc\\xe0Y\\xf7xt3qH\\x03\\xb2T\\xb4&-\\xb7\\xf7\\x87\\xcd\\x0c\\x1f\\xed\\x0f\\xb4b\\xad\\x80\\xf7`\\x88\\xfa\\xc8\\x1e\\x95\\xed 2|\\xb4o\\xdc\\x80\\x86\\x13\\x97\\x83n\\xed\\x8d\\x81\\x1b\\x0c\\xff\\xa8\\xd5,\\xc3\\xdf\\xae\\x16\\xeff\\xcb\\xab\"\\xf2\\xa6\\xc1b\\xea\\xc5\\xe74\\xf1f\\xc9b\\xe9%\\xf1\\xe5b\\xb9,fA\\x14\\\\~\\x1f\\xbde\\x7f\\xf1\\x92u/.\\xccb\\x18\\xcf\\r\\x87\\xf7N\\x0f\\xc5\\x0e\\xe4\\xef\\x8e\\xbe\\x0c\\x8f\\x16=\\xfd\\xeej\\x02\\xed1\\xf7Y4\\t\\xde\\'a\\xe0\\x15\\xe7A\\xe8\\xc5\\x132\\xf5\\xa6\\x93\\xf3\\xc4+\\x920ZN\\xe2\\xc5UR$#\\xee\\xc9\\x9fq\\x0f\\x03?\\x0c\\xfb\\xcf\\x85#\\x9f\\xcc-\\x13\\x943\\xb9\\xef\\xd5\\xbeCc/4\\t\\x96?)\\xc2\\xdfw\\xc27\\x87\\xcfY\\xfe\\x04\\x00\\x00\\xff\\xff\\x03\\x00PK\\x03\\x04\\x14\\x00\\x06\\x00\\x08\\x00\\x00\\x00!\\x00(DKG\\xcb\\xff\\x00\\x00\\xf0\\xef\\x05\\x00\\x18\\x00\\x00\\x00xl/worksheets/sheet1.xml\\x9c}\\xdb\\xb2\\xdc8\\x92\\xe4\\xfb\\x9a\\xed?\\xc8\\xf4>UI\\xe6\\xbd\\xac\\xab\\xc7\\xe6d\\x92\\xdcy[\\xdb\\xeb\\xb3Z\\xa5\\xee\\x96u\\xa9T+\\xa9\\xbbg\\xfe~\\x9d@\\x00\\x11\\x08\\x07H\\xe1\\xbc\\x94\\x9d\\x92\\x07\\x90\\xa43\"\\xe0\\xb8\\x90\\xf1\\x87\\x7f\\xfd\\x8fO\\xbf\\xbe\\xf9\\xc7\\x87/_?~\\xfe\\xed\\xe7\\xb7\\xc3\\x0f\\x87\\xb7o>\\xfc\\xf6\\xfe\\xf3/\\x1f\\x7f\\xfb\\xcb\\xcfo\\xff\\xf7\\xff\\x9a\\xff\\xe5\\xf6\\xf6\\xcd\\xd7o\\xef~\\xfb\\xe5\\xdd\\xaf\\x9f\\x7f\\xfb\\xf0\\xf3\\xdb\\xff\\xfc\\xf0\\xf5\\xed\\xbf\\xfe\\xf1\\xbf\\xfe\\x97?\\xfc\\xf3\\xf3\\x97\\xbf}\\xfd\\xeb\\x87\\x0f\\xdf\\xde\\xa0\\x87\\xdf\\xbe\\xfe\\xfc\\xf6\\xaf\\xdf\\xbe\\xfd\\xfe\\xd3\\x8f?~}\\xff\\xd7\\x0f\\x9f\\xde}\\xfd\\xe1\\xf3\\xef\\x1f~\\x03\\xf2\\xe7\\xcf_>\\xbd\\xfb\\x86\\xff\\xfd\\xf2\\x97\\x1f\\xbf\\xfe\\xfe\\xe5\\xc3\\xbb_B\\xa3O\\xbf\\xfe8\\x1e\\x0e\\x97\\x1f?\\xbd\\xfb\\xf8\\xdb\\xdb\\xd8\\xc3O_\\xbe\\xa7\\x8f\\xcf\\x7f\\xfe\\xf3\\xc7\\xf7\\x1f\\x9e\\x9f\\xdf\\xff\\xfd\\xd3\\x87\\xdf\\xbe\\xc5N\\xbe|\\xf8\\xf5\\xdd7\\\\\\xff\\xd7\\xbf~\\xfc\\xfdk\\xea\\xed\\xd3\\xfb\\xef\\xe9\\xee\\xd3\\xbb/\\x7f\\xfb\\xfb\\xef\\xff\\xf2\\xfe\\xf3\\xa7\\xdf\\xd1\\xc5\\x9f>\\xfe\\xfa\\xf1\\xdb\\x7f\\x86N\\xdf\\xbe\\xf9\\xf4\\xfe\\xa7\\x7f\\xff\\xcbo\\x9f\\xbf\\xbc\\xfb\\xd3\\xaf\\xb8\\xef\\xff\\x18N\\xef\\xde\\xa7\\xbe\\xc3\\xffP\\xf7\\x9f>\\xbe\\xff\\xf2\\xf9\\xeb\\xe7?\\x7f\\xfb\\x01\\xdd\\xfd\\x18/\\x94\\xef\\xf9\\xfe\\xe3\\xfdG\\xf4\\xf4\\xc7?\\xfc\\xf2\\x11w\\xb0\\xd2\\xfe\\xe6\\xcb\\x87?\\xff\\xfc\\xf6\\xdf\\x86\\x9f\\x96\\xe1t:\\xbe\\xfd\\xf1\\x8f\\x7f\\x08\\x14\\xfd\\x9f\\x8f\\x1f\\xfe\\xf9\\xd5\\xfc\\xfd\\xe6\\xdb\\xbb?\\xfd\\xcf\\x0f\\xbf~x\\xff\\xed\\xc3/xRo\\xdf\\xacO\\xe0O\\x9f?\\xffm5\\xfcw\\xfc\\xd3\\x01\\x9d~\\r\\x06k\\xa7\\xef\\xde\\x7f\\xfb\\xf8\\x8f\\x0f\\x8f\\x0f\\xbf\\xfe\\xfa\\xf3\\xdb\\x97\\xe1\\x84\\xa7\\xf8\\xff\\xc2\\xef\\xac\\x7f\\xe3\\'~\\xcc\\xbfa\\xffN\\xbf7\\x87\\xa7\\xf6\\xdf\\xbf\\xbc\\xf9\\xe5\\xc3\\x9f\\xdf\\xfd\\xfd\\xd7o\\xff\\xe3\\xf3?\\xff\\xdb\\x87\\x8f\\x7f\\xf9\\xeb7\\xfc\\xf0\\x19,\\xacd\\xfc\\xf4\\xcb\\x7f>?|}\\x8f\\xa7\\x80\\x9f\\xfea<\\xaf\\xbd\\xbe\\xff\\xfc+\\xba\\xc0\\x7f\\xdf|\\xfa\\xb8\\xba\\x13X|\\xf7\\x1f\\xf1b?\\xfe\\xf2\\xed\\xaf\\xf8\\xeb\\xf0\\xc3i<_o\\x03\\xec\\xdf\\xfc\\xe9\\xc3\\xd7o\\xf3\\xc7\\xb5\\xcf\\xb7o\\xde\\xff\\xfd\\xeb\\xb7\\xcf\\x9f\\xfe\\xafX\\x85+\\x8c\\x9d\\x85\\xeb|\\xbe\\xfb\\xf6\\xee\\x8f\\x7f\\xf8\\xf2\\xf9\\x9fo\\xe0$\\xb0\\xfe\\xfa\\xfb\\xbb\\xd5\\xe5\\x86\\x9f\\xaeo\\xdf\\x84\\x8b:\\xfdp\\xaa_\\xd7\\xf1\\x0cV\\xde\\xaf\\xcd\\xfemm\\xf7\\xf3\\xdb\\xf1\\xed\\x1b\\xfc\\xe2W\\xfc\\xeb?\\xfex\\xf8\\xc3\\x8f\\xff\\xc0\\xed\\xbf\\x17\\x8b\\x17\\xb6\\x18J\\x8b\\x07[\\x8c\\xa5\\xc5\\x93-\\x8e\\xa5\\xc5\\xc4\\x16\\xa7\\xd2bf\\x8bsi\\xb1\\xb0\\xc5%[\\xfc\\x08\\x9e2Y\\xb8\\xddW\\x91\\xb5\\xb6[\\xa9^i:\\x9dn\\x83#\\xe2%\\xe2GC\\xe65_@\\xa0\\xfb1\\x86\\xb6\\xc7\\xfb\\xfd\\xf8\\xc3\\xd5]\\xfe3b\\xa7\\xc3\\xe1@\\xd8\\xb4\\xd1n\\xce\\xd8\\xfd\\x07\\xd7\\xe5\\x12\\xa1\\xb1A\\x03.\\xf4U4\\xac\\xed\\xb6h\\x88\\xb8\\xa5\\xe1\\xe6h8&\\x1a\\xaet\\xab\\xcf\\rl\\xda\\xc0\\xe6\\rl\\x11,_E\\xe1\\rk\\x1axM\\xe8\\xac\\xed,\\r\\xce\\xe9_\"ni\\xb8\\xe7\\x0b\\x88\\xdepJ4T\\xbc!c.\\x0e\\xa6\\x0c\\x1c\\x91_\\xca\\x0eg\\x83y\\xf7Z\"6\\xea\\xa3(H@\\xa2x\\x15\\tk\\xbb-\\x12\"nI\\x18\\\\\\x82y\\xac\\xc9\\xe8\\x1f\\x7fDL8z\\x9e-`j\\x01s\\x0bX\\x04\\xc8t\\x15\\xf7~y\\xe5\\xbd\\xaf\\xed\\xb6\\xee=\\xe2\\xc5\\xbd\\xbb\\x8c\\xf1\\xb8\\xa4{\\xbf\\xf9\\xd8}\\x1a\\xc8?\\xcb\\xc9`\\xde\\x05\\x0c\\xe4\\x9b-\\x11\\x1b\\xd4Q\\x0b\\x1a0l\\xbc\\xca\\x05\\xd6v[4D\\xbc\\xa0A\\xaf \\x06\\xc25\\xd1\\xe0\\xee\\xe6\\xa9\\x009\\xfb\\x94\\xb1\\x13a\\xf3\\x06\\xb6Dl\\xd0\\x9f*XX\\xa5\\xddk\\xb2\\xc1\\xdan\\x8b\\x85\\x88\\x17,\\xb81\\xf0qK,\\\\\\xe9\\x86\\x9e\\x1b\\xd8\\x94\\xb1\\x0be\\xd39cn$Z\"0hv)X\\xb8\\xbf\\x92\\x85\\xb5\\xdd\\x16\\x0b\\x11/X\\xd0+\\x88\\xbep\\x0f,`\\x18\\x1c\\x98\\x85\\rlR,Gy\\xe8pV\\x80:\\\\\"6(9\\x05\\x0b\\x03\\x84\\xff\\xab\\x9c!4\\xdc\\xe2A\\x0c\\n\"\\xd4!#\\x11\\xb0\\tBce\\xc2aO\\xc5Fz\\xe6\\x93\\x82\\xd4pV\\x8c\\x1b.\\x02\\x1a]S\\xd2\\xb1\\n\\xac\\xd7\\xc4\\xc6\\x10\\x95\\x99\\n\\'\\x17\\xff/bP\\xd0\\xa1\\xa2E\\xe8\\x90\\xe6\\x87\\xc3\\x91\\xe90\\x98\\xcfz\\x13:\\x17\\x1eGr\\x80y\\x0b\\\\\\x04\\x1c4PK>^\\xab#\\x07/$\\x89\\x0fV\\x92\\xc6G\\x85\\x8f\\xac\\xfb*\\x81\\x82_\\x90Au\\xf4dM\\x8a\\xb9\\xd1h6\\x88o\\xb5$\\xac\\x15*xv\\xaf\\xf3\\x8d\\xb5\\xe1f\\xa8D\\x83\\xc27T\\xc4\\x08\\x17Y\\xfcq\\n|\\x0e\\x1b\\xe0d@\\x976\\x0cB!\\xb6\\x08\\xd8\\x8c\\x94\\xd7j\\xca0\\'\\xddd\\x83U\\xe5\\xe0t\\xd3\\x03\\x9d\\xc8\\xc3w1\\xf44\\x88\\x7f\\xc0\\x93\\xc1<\\x13\\xda\\x1f\\x05\\x10\\xa6\\xe7\\xe1\\xc7F\\xbd\\x882F^+,\\xd7)\\xf5\\xb6_\\xb0\\xb4\\x1c\\xbd\\xb4D\\'\\x12\\xfa\\xebd\\xbc\\xbc\\xad\\xa7\\x82\\x1c@\\x93\\x82\\xdcrV\\xd0E\\xd0\"\\xc8\\xa0\\xc4\\x97l\\xbcVj\\x0e{ZS\\x0cl\\x94\\x8c\\xee\\xe2\\x1e\\xb0\\x11\\xbf8W\\xd8\\xc8 \\x87\\xd0\\xb4\\xd5rV\\xf0\\xe2\\x9dj\\x11lle\\x8d\\xd7j\\xceaOt\\x8aA\\xc1\\x87\\xcb\\xb2\\x0f\\xd8D>\\xae\\xf7\\n\\x1f\\t\\xbcU\\xa6\\xe3[-g\\x0b\\xfa\\xc1h\\x11\\xf0\\xd6\\n\\x97\\xd7\\xca\\xcfaO\\x7f\\x8aAA\\x88\\x8ek\\x92F\\x93Z\\xbc\\xd5\\x08I\\xe0}\\xa0|8\\xa1\\xf7H\\xe5\\x8d&2s\\xc6\\xd0\\xd0\\xc5\\xe0\"\\xd8p\\xd2K)\\x03\\xe6\\xb5Bt\\xd8S\\xa2bP\\xf0\\xe1\\xa5(lb\\xfa\\xf0\\x83\\xefS\\x91\\x1b\\xb9\\xce\\xa4\\xe0\\xd9\\xdf\\xf0\\xac\\x98\\x86D \\x7f\\x11d8h\\xd8\\x16T\\x8c\\xaf\\x15\\xa3\\xa1\\xe1\\xd6\\x98\"\\x06\\x05\\x15\\xeeA=`#T\\x9c\\xe8\\xe9?\\x15t\\xcd&E\\xf4\\x01\\x87\\xdb\\x9d\\rB\\x1d.\\x02\\xb6\\xb9x\\xad\\x12\\x1d\\xf7\\x94\\xa8\\x18\\x14\\\\h2\\x8fa\\x02\\x9b\\xe8\\xecw\\xa7C\\x9e\\x06\\xa1\\x9b\\x9a\\x14\\xa4<9+\\xc6s\\xbfE\\xc0\\x8b\\x8en\\xa5c\\xbcV\\x86\\x8e{2T\\x0c\\n2\\x9c\\xdb>`\\x13\\x1d\\xe3PY\\xcb\\xcb\\xe0@\\xa1?e\\xac\\xd2pV\\x90\\xe3k\\x11p85\\x92\\xe8\\x88\\x0b~\\x95\\x16\\r\\r7#e\\xed\\xf9\\xe7\\xb7\\x05!\\xce\\x07\\x1e\\xe8D\\x08\\xe1y\\x8ab\\xe7\\x8a\\x7f\\xe4\\x86<5\\x9b\\xb5%\\xafv,\\x02\\x0e\\x07\\r\\xb2\\xd2C^+G\\xc7\\xa86e\\x02\\x85\\x15o7\\x84\\xbe\\x88AA\\x88>\\x15\\t\\x97\\xa8\\x10O\\x87\\xc1Q\\xf5D\\xebH\\xd5HTM\\x19\\x1b\\xd8\\xaf\\xe6\\x0c\\x8e<\\xa5[\\x04<\\xdeZ\\x89\\xf4\\xb5\\x92t\\xdd\\x9e\\xd9\\x94\\xa4b`\\xd98j\\xd0\\n\\x1bI\\x92\\x8e\\x1c\\xe9Ot \\x8408)\\xc8\\nm\\xde\\x02\\x17\\x01\\x8d\\x02.\\xdd\\xe3\\xb5\\xaat\\xdcS\\xa5b`\\t\\xa1\\xfc\\x11u\\xe7\\xe90\\xf2]=\\xd1^\\xf8p\\xae3)\\xc2Zv\\xde\\x02\\x17\\x01/-\\xefx\\xad$\\x1d\\xf7$\\xa9\\x18X2\\xdc]=`\"\\xf7[\\x1be3H\\xa3lF\\xb8\\xd9\\xac}\\xbaf\\x8b f\\xfeX\\xba\\xc5k\\xb5\\xe8\\xe8\\xb5\\xa8\\xa6\\xa5\\x10\\x03/b`\\x99\\xa0\\xa4\\x11\\x05ep\\x0bw\\xddO4\\x17\\x96h \\x9d\\x0cVN\\xf7f\\x83\\x90d[\\x04\\xbc\\xe8\\x95\\x96T\\xbcV\\x86\\x8e^\\x86\\xea\\x0f\\x08\\x15\\xd1\\xc0RA\\x1b$\\xe8$\\xde\\xef\\x91\\x98h!\\x93\\xb69\\x91\\x06U\\xcc\\xf5\\xb7\\x08b\\x12uA\\xc3\\xf1\\xb5\\x1244\\xb4\\x03\\xab\\xa7A\\x0c\\n\\x1a4@c\\xe6\\x84\\x8d\\xd0@b\\xe2\\xb9\\x81M\\x8a\\xf1Ln\\xde\\x02\\x97\\x04\\xaa\\x00,\\xe9x\\xad\\n=z\\x15JtD\\x83\\x82\\x0e7\\xf4>\\xd0\\x89\\xd0A\\x83\\xe7\\xd3b~\\n:\\x19\\xd0\\x85\\x88A8D\\x04\\x1c\\x8c\\x06(\\xd9p2\\xb4~\\x1e\"\\x9d;8z\\xedI\\x14D\\x83\\x82\\x02g\\xf3@\\')0HN=\\xb7\\xc0\\xc9\\x82.\\x08f\\x8by\\xf2\\x16\\x01G}\\x1a%\\t\\xb8^+=wHX\\xad7\\xc3\"\\x1a\\x14$\\xf8I\\xea1\\xc9\\xc6S%,\\xda\\xd8d\\xdb\\x19e\\x10bm\\xb6\\xa0\\xe3g\\x11\\xcc,/\\x95\\x148\\xb1\\xb9C\\x81W\\x98\\xee\\x19\\xbf\\x1c\\xa3AA\\x81\\xbb\\xa2\\x07l\\xc4\\x0fh@x*\\xe6\\x94\\xc7\\xa4\\x88\\xc6\\xb7\\xdc\\xbd\\xe9\\x8f= \\x82\\xc3M\\x95]y\\xffN^\\xee\\xdc\\xbf\\xd7\\x94t\\xff\\xd1\\xa0\\xb8\\x7fw\\xbd\\x8fp\\x9e\\x07GR\\x0e\\xc7\\xcaA\\x82-p2\\xa0\\xcf\\x05I\\x8a\\xa2O\\xef\\x1e\\x8b4\\x1b\\x0e:l\\x97\\x1c8E\\xb9\\xc3\\x81\\x97\\x91\\xc4A4(8pO\\xf3qLR\\xf1TI\\x87\\x19c}4\\xd9\\x86\\xfeFg\\x05]\\xd8-\\x82\\x0c\\xe7\\x16\\x05NG\\xeeP\\xe0\\xc5#Q\\x10\\r\\n\\n\\xbcz<&\\x19x\\xe6\\xd9\\xe5SA\\xe7=\\x93\".\\xaefE\\\\\\x9bE\\x90\\xe1\\xdc\\xca\\x83N;\\xee\\xdc\\xfd\\x9e`<F\\x83\\xe2\\xee\\x95w\\x91\\x07I\\x15\\x9ey\\xfa\\xfcD\\x071C\\x9c\\xdds\\x9c\\x14\\xa1\\x9d\\xb2Y1\\xd7j\\x11d\\xb8\\xb7\\xee\\xdf\\t\\xc6\\x9d\\xfb\\xdfS\\x89GV\\x89\\xb4\\xd7\\x01\\x1b\\xb9E\\xc7\\xcc\\xb3\\x89L\\x8a8_\\x9a\\x9b\\xc8\"\\x08\\x8ee\\xe6\\x8cQ\\xc4\\xfe\\xc9\\x89\\xc4\\xed[\\x0f\\xd6[C\\xa0\\x18\\xd8GoF\\x9e\\xf8\\xe8a#\\xb7\\xce\\xcb\\x01O\\x059\\x91M\\nr\\xcby\\x0b\\\\\\x04\\x1cZ[\\x1b\\'\\'\\x0ewh\\xd8S\\x84\\xa1;\\xb7\\xf2\\xa4\\xbe\\'4$Ex&\\xcd\\xffD\\xfb\\x14\\x00$\\x95&\\x059t\\xe6-p\\x11\\xf0l\\xbc\\xb1t\\x86.Qx\\xda\\x13\\x85bP8\\x83\\xcb\\x94\\x0f\\xd8\\xc8\\x9d\\xde\\xe8N\\x9f\\x19\\xbc\\xf0\\xf3\\x9e2x\\xe6E\\xc79\\x83\\x17G\\xfb\"\\xc8x:\\xb4\"\\x02\\xd7\\xfb\\xfd\\xa2\\x10\\xa7\\x9d\\xb7E\\xa1\\x18\\x14$\\xe8/\\x8b+$\\xe1w\\xbd\\xfa\\xe9\\xdf\\x13\\xed#A\\xd8\\xf6\\xf2\\xeafR\\x90W\\xa0f\\x05y\\x7fh\\x11\\x10\\x01\\xa1Cs\\xe9\\x0b]\\xc2\\xf0\\xb4\\'\\x0c\\xc5\\xa0\\xa0\\xc1\\r`\\x0f\\xd8\\xc8\\xadVFD\\x05/\\xa4p&\\x05y\\x0fG1n\\xb8\\x08x\\xbc\\xa9\\x9b\\x94,t\\xc9\\xc3\\xf5\\x00\\xf7\\xe6\\x0cA\\x0c\\n\\x16\\xdc`\\xfd\\x80\\x8d\\xb0\\xc0~\\xfdT\\xb0\\xe6\\r\\x1b-g\\xdb\\xd2\\x11\\xbf(\\xd6\\x18$\\xba\\x04\\xe2iO \\x8aA\\xc1\\x82z\\xa1\\x84D\\x12\\x817w\\xb1O\\xb4\\x8e\\xfc\\xdc\\xd8K&\\x03\\xe6[\\t\\x1d\\xce\\x06!\\xffY\\x12\\xd8ZJ9u\\xc9\\xc3`\\xbd9J\\xb2<4\\'}\\x85\\x80$\\x0fo\\x8e\\x9a\\'\\xba\\x17\\x02([L\\x8a\\xb1\\xb3\\xcf\\nr\\xb6X\\x12x\\xd6\\x9f+#\\xa1K#\\x9e\\xf64\\xa2\\x18\\x14>\\xe0\\x94\\xd0\\x036r\\xa3<QT\\x8c\\xc7\\x8dIA\\x9eA\\xcc\\nR\\xaeX\\x04;\\x8f7\\x1d\\xa7J\\x16\\xba\\x94\\xe2iO)\\x8a\\x81e\\x81\\xb6 `#,T\\xa6\\x8b\\n\\xf2F\\xd3\\xa4`\\xe5T\\x8c\\x82\\xdcr\\x11p<ir*h8w\\xa9\\xc6`m\\xe3\\xc1\\x85\\xf4\\x8b\\x18X\\x1a\\xd4\\x0bc8\\xc0$\\xb2pg)\\xf0L\\xe0\\x80\\x971\\\\\\xdfS\\xc2\\x0e\\x95\\x86\\xb3\\x82t\\x10b\\x11l\\xb8\\\\[$ti\\xc6\\xb3\\xd7\\x8c\\xeeB_\\xc4\\xc0\\x92\\xe0d\\xfe\\x03&B\\x02\\x07\\x84\\xc5H\\'X\\xd0\\xfd\\xee\\xbc\\x81-\\tk1\\xd0\\xa5\\x17\\xcf^/j\\xaf\\xe1\\x19\\xbf\\x88\\x81e\\xc0\\xa7\\x04\\x98\\x08\\x03,\\x9a\\x15s\\xb78)B\\xad\\xe6\\rl\\x11\\xec\\xa6\\x17ZF\\x01\\xae\\xf4\\xfb\\x95\\xe2y\\xb5\\xb6Q\\xa0\\xbd\\xca\\xedG\\x03{\\xfb\\xb4\\xb9\\x80N\\xe4\\xfeu=+\\xb4~6\\x91)#\\xe6\\x18Sh37\\x91E\\x90\\xc1\\x0cK\\xe5\\xadw\\xa9\\xc3\\xb3W\\x87t\\xeb\\xd1\\xa0\\xb8u\\xbf\\xa1\\x80N\\xe4\\xd6\\x1d\\xf2l\"\\x93\"\\x95\\x0chA\\xe71\\x8b`\\xc7\\x86,<w\\xc9\\xc2`\\xbd\\xf9\\xe4+\\xab\\x86\\xfa\\xcb\\xe1Y=\\xd0I\\xbc}\\xc8\\x1ew\\xb5O\\xc5\\x1c\\xb1\\x93\"\\x15\\xcf\\xcf=\\x12\\xb6H\\xbb\\xe1\\xa8y\\xb8|\\xfe]\\x8a\\xf0\\xec\\x15\\xa1\\xbb\\xcc\\x171(\\x9e\\xbf\\x8e\\xc0B@\\xd6}n\\xfa\\xf4Dk\\xa1\\xc6!\\x93\"\\xbc\\x9a0o\\x81K\\x02\\xf51\\x94\\xf7\\xdf%\\x08\\xcfQ\\xefI\\xf6\\xc6\\xc1\\x0c\\xba\\x7f\\x16\\x84\\xe6]\\x0f\\xb9\\xff,\\xfbx\\xda\\xff\\xc4/\\x08\\x05\\x8e\\xb6I\\x11\\x1e8g\\x0b:\\xa7Z\\x04\\x1b.\\n\\x94\\x14t\\t\\xc2\\xb3\\x17\\x84DA4(\\\\@\\x7fY(\\xc8\\x82\\x90\\x86\\xeb\\'~@\\x18\\xa0\\x17+\\'\\xc5xJ5+X\\x99&\\x0b8\\\\t *I\\xe8\\xd2\\x83g\\xaf\\x07\\x89\\x84hP\\x90\\xe0l\\x1e\\xe8$\\xde\\xe8\\xddy\\xfb\\xd3 4\\xc5\\x99\\x14\\xa4\\x15\\xf7\\xd9b^;,\\x02^\\xd5\\xb1\\n\\x06.]R0Xo\\xa5B1(\\x18\\xd0\\x1c\\x14\\xdd\\x006\\xc2\\x00=\\xea\\xa7\\xc5\\xfc\\xadL\\n\\xf2\\xa4a\\xde\\x02\\x17\\x01\\x073\\x1b-Y\\xe8\\xd2\\x82\\x17\\xaf\\x05\\xdd3~\\x11\\x83\\x82\\x05/\\x06a\\x13X\\x18pZ\\xcf\\xdf\\xe9SAM`\\x81\\xbcI\\x117\\x8c\\xce\\x8a\\xb86\\x8b \\xcd\\xd5\\xd3K\\x97\\x0e\\x0c\\xd6\\x9b>\\x10\\x85bq\\xf7\\x1a\\x7f\\xe2\\x03\"\\x04\\x87\\x03Ot\\x9f\\xf8\\x85H\\r\\x0e+\\xfaM\\xa2IA\\xc7\\xfal\\x10j\\xb6\\x088\\x1e\\xf49\\x94\\x1e\\x80\\xcb\\xfd~1xY\\xad79\\x88\\x06\\x96\\x03\\xb3j+\\x1c\\x88\\x18\\xc4I\\xc2\\x8a\\x07d\\xd0\\xa5\\x89\\t\\xbf-\\xechH\\x87\\x0eg\\x83T\\x08\\x88\\xcd\\x86\\x8b\\xd2V\\x12\\xd0%\\t/{\\x92P\\x0c\\n\\x02\\x9c\\xc7>`#wRI\\x04\\x06\\xf3\\xe11i\\xc3\\xca\\x80\\xa0\\xa0s\\xbaE\\x90\\xc1\\xf4WR\\xd0%\\x0b/~\\xb5P\\x89\\r\\x8f\\xe3E\\x0c\\n\\n\\\\h>`\\x93\\x1ef\\xc5\\x072H\\no\\xb2\\r}\\x8c\\xcc\\x1647\\x1b.k\\x11\\xf0xTzJ\\x16\\xba\\xb4\\xe1eO\\x1b\\x8aA\\xc1\\x82s\\xdc\\x07l\"\\x0b#/\\x8b>3x\\xe4\\xd5\\x81\\x8c\\x997\\xa2$\\x16R\\x97h\\xe5\\xf9Y\\xa4\\xd9\\xf1bb\\xb2\\xe4\\xa0K\\x1f^\\xf6\\xf4\\xa1\\x18\\x14\\x1c\\xb8\\xb0~\\xc0F8\\xe0E\\xaf\\xa7\\x82\\x95ES\\x059\\x8f\\xcc\\nr\\xcb%\\x81\\xa7\\xb3J\\xb5\\x92\\x87.\\x91x\\xd9\\x13\\x89bP\\xf0\\xa0\\xbf\\x1c\\x1e\\xdc\\x036\\x91\\x87\\xa1\\xc6C\\x06\\xf9n&m\\xc9\\x9b\\xcb\\x8a9\\xdf[\\x04\\x19\\x8f\\xc7\\xd6\\xc8\\xd0\\xa5\\x11/{\\x1aQ\\x0c\\n\\x0e\\\\\\xe6x\\xc0F|\\x81\\xee\\xe4\\xa9\\x18\\t\\xc1I1j7+\\xc6s\\xa9E\\xc0k\\x8b\\x83k\\x97J\\x0c\\xd6[\\xa3\\xa3\\x18\\x14\\x1cx\\x95\\x08\\x9bvN\\xc8 \\xa2\\xdb\\'\\xb8)\\x83\\xc8&>\\xf4\\xe7\\x0c\\xd6\\xf2\\x82\\x80\\x10%\\r_\\xb8v\\xe9\\xc4`\\xbd\\xc9C\\x14\\x92\\x05\\x0f\\xfa\\xcb1\\x1e\\xd0I\\xce\\x0b.V\\x9e\\x8a9dR\\xc4\\x8d8\\xb3\"\\x9c-\\x16\\x01q\\xdcJ\\xc7\\xea\"!\\\\\\xbb\\xa4b\\xb0\\xde$\\x80\\xa5\\xa2\\xcf\\xe4\\x0ft\"\\x048j\\x9e\\x199\\xb2\\x84\\x9e2\\x88\\xa3\\xff\\xdeE\\xe6\\x0c\\xf2\\x98\\xb2$\\xec\\xdc\\xdaJ\\xb9\\xe2y}\\xbfT\\x0c\\xd6\\x9b\\x1c\\xac\\xdd\\x95\\x87\\rh\\x13\\x01\\x9dD\\x0e\\xcc\\x82Np\\x8f\\xa7A\\xfc\\xba\\xd2\\xa4\\x18\\x9f\\xf6\\x9f\\x15t\\x91\\xb7\\x082\\x1cu\\x88*}\\xa0K)^\\xf7\\x94\\xa2\\x18\\xd8 pW\\xf4\\x80I\\xba}z\\x96\\xcf\\x0c\\x9e\\\\\\xb3)#\\x9e\\xb5Y\\x11\\x9eI.\\x02\\x0eCko\\xfd\\xda\\xa5\\x13\\x83\\xf5\\xa6\\x03\\xf0\\xf2\\xa1\\xf3\\xf4\\x07\\xfa\\x10\\x02\\xf4\\x99\\xc8\\xf3o!\\x93\\xb6\\xe1@\\x9f\\x15t\\x1d.\\x824\\x1f~\\x97:\\xbczu\\xe8\\x1e\\xd1\\x8b\\x18\\xd8\\x87\\xaf\\xb2T\\x12`Vr.\\xc9=\\xd1XXq\\xc8\\xa4\\x88\\xbb\\xbd\\xd9 48,\\x02\\xdeu<.\\x1d\\xbfK\\x15^\\xbd*\\xa4{\\x8f\\x06\\xf6\\xdei\\xc3\\x00\\x9d\\xa4\\x07_\\xf1\\xfc\\x0c\\xd2\\xfdg\\x84w\\x07g\\xdb\\xa7\\x1f\\x1f\\x17\\x01\\x87\\x83\\x8e\\x1b%\\x07]\\x8a\\xf0\\xea\\x15!q\\x10\\r\\n\\x0et\\xe8\\x11\\x07H\\xa2\\x0fi\\xde\\xdd\\xe8\\x13? \\xfc\\xe8\\xf5\\x86V\\x93\"\\xfc\\xc1\\x81\\xd9\\x82\\xae\\xcbE\\xb0\\xd6a\\xcbk\\x97\\x1c\\x0c\\xd66\\xf8\\x89\\x80\\xca\\x92\\xa1\\xbb\\x95\\x07:\\xa9\\xfb\\xf9\\xb3\\x89L\\x8a\\xb0\\x8c\\x9e\\xb7\\xc0E\\xc0\\xbb\\xf2R8\\xc0\\xadK\\n\\x06\\xeb\\xad\\xfb\\x17\\x83\\xc2\\x01\\x9cD\\x7f\\xc0&=d\\x8a\\xd9\\xa7\\x05\\xf5\\x92\\xa3\\x0fX\\xcc{\\xfa\\xbc\\x05.\\x02\\xb6\\x8e\\x9d\\xdf\\xbat`\\xb0\\xde$\\x81u \\xed\\x1f\\xa0\\x13!\\x81\\xa3\\xc0b^\\xebL\\x16t\\x04\\xcd\\x16\\xf3\\r\\x17\\x01\\xcd{P\\xa5#tI\\xc1[Tz\\xba\\x87\\xe2\\x03A\\x0c\\nGp\\x97\\xfb\\x80\\x8dp\\xc0\\xc3\\xf63\\x83\\xa7\\xca\\x9c \\x83Gn9g\\xf0\\xe4ve\\x17A\\xce\\x07\\xbd\\xda\\x92\\x03\\\\\\xee\\xf7K\\xc1\\xdbj\\xbd\\xe9\\x07\\xd1\\xa0\\xe0@\\xc7\\xa2\\x98\\r\\xd1I\\xe4\\xa0r\\xf4^1\\x0e\\xfaIA\\x17_\\xb3\"\\xb4\\xce\\xb4\\x086\\x18qU2\\xd0%\\x06o^\\x0c*\\xaf\\xe1\\xee^\\xc4\\xa0`\\xc0\\xd9<`#\\x0c\\xd0\\x01\\xaa\\xa7b\\xb4\\xc54)\\xe6z\\x9c\\x15\\xe1\\xf5\\xc4E\\xc0\\xe6\\x1e\\xd2\\xadK\\r\\x06\\xebM\\x1f`5h\\x8e\\xb5\\x89\\x0f$\\xd1wrB\\xf1\\x89\\xee\\x85\\x1b\\xbe\\x93IA\"nV\\xccu\\xb9\\x082\\xb6\\x14\\xe1\\xadK\\x11\\x06\\xeb\\xcd\\xfb\\x8f\\x92\\xb1\\xf0\\x00/\\t\\xd1\\x89\\xdc%\\x1f\\xa4Q\\xcc=\\xe5I\\x11j5o`\\x8b`\\xad\\xb3\\x14\\xb7.U\\x18\\xac7\\xef\\x9fU\\xa1Y\\xa5\\x94\\xe7\\x9f\\xe4\\xdd\\x99\\xee\\xe4\\x89\\x1f\\x88\\xdc\\x9cy\\xde;)\\xe8\\xd2\\xcal\\x10\\x1ac\\x17\\x01\\x07\\xf3\\t\\x8e2\\tt\\x89\\xc2\\xdb\\x9e(\\x14\\x03\\xeb\\x02\\xf4\\x16\\x02l\\xe46\\xd9\\xd1\\x9f\\n\\xf2\\n\\xd0\\xa4 \\xb7\\x9c\\x15t>\\xb7\\x08\\xd2\\xdcB\\xbcu\\xe9\\xc2`\\xbd\\xe9\\x06\\xac\\x0b\\xcdk\\x90\\xe2\\x06i+\\xf9\\xe4\\x14\\xe3\\x13\\xdd\\x07v\\x0e\\xe6S?\\xa1\\xcd\\x94\\x91#/\\xb5\\xcf[\\xe0\" vOtX.\\xbc\\xe0\\xde\\xa5\\x0c\\x83\\xf5\\x16\\x03bPx\\x81\\x1b\\xb9\\x1e\\xb0\\x89\\xf7y\\xe4\\xd3\\x11O\\x05\\xf9\\xab\\x05S\\x06\\xc7\\x8a P\\x906\\xa6\\x16\\xc1\\xce\\xf7\\xd6\\xf7?\\xee]\\xda0Xo\\xd2\\xc0\\xdapt\\x93\\xda\\x07:\\x894\\x1ch\\x00\\x7f*\\xa6\\x8f-\\xba\\x82\"\\xb4\\x92<+\\xc6\\x13\\xc8E@|\\x12FSl\\xe9\\t]\\xd2\\xf0\\xbe\\'\\r\\xc5\\xa0\\xf0\\x04w3\\x0f\\xd8\\xac\\x14\\xe0\\xc3\\xc6n\\xfcz\\x1a\\x84\\xa6\\xd0\\x93\\x82\\x95%2\\x05IL,\\x82\\r\\xc7\\xd6W\\t\\xef\\xb8\\xdc\\xef\\x97\\x86\\xc1z\\xd3\\r\\xd6\\xee\\xcaUB\\xf3\\xa5\\xf1\\x98\\x0f\\xd0Ir\\x83\\xf2\\xf4\\xfc\\xd3 \\x94\\xdd\\'\\x05yg`\\xb6 \\xcd\\x10\\x04<_u\\xca^\\xfaA\\x978\\xbc\\xef\\x89C1(\\xfc@=P8\\x10qx8\\xf0\\x0e\\xd1\\x13\\x1d\\x08A\\x0cN\\nV\\xd6\\xcb\\x14t\\xb1\\xb7\\x08\\xd2^-\\xbcw\\xe9\\xc3`\\xbd\\xe9\\x08\\xac\\x0f\\x8d2\\x11\\x12\\xa2\\n<\\xde\\xaf|\\xd8\\x10?\\x10\\x03\\xc5\\xccm%\\x1f$\\x84[\\xcd\\xb9\\xd5\\x95\\x07\\xcdE\\xc0\\xf1\\xdcZ3\\xb8wI\\xc4`\\xbdI\\x01KD\\xda5@\\'\\xf16\\xf1z\\x9e\\x9f\\xfa?-\\xe8\\x12\\xc9\\x941\\xaf\\xad\\xe7\\x8c\\x9cyEi\\x11p\\x18\\xcef\\xe6^\\x06C\\x97N\\xbcG\\x19\\xd8\\x9e/\\x8b\\x81\\r\\x06\\xda6\\x80\\x8d\\x90\\xc0\\xfe\\xfeT\\x90\\x8f\\xe0L\\n\\xf2LrV\\x90\\xbb]\\x12\\xd8\\x1c\\x1e\\xbb\\xb4\\xe2}O+\\x8a\\x81\\xa5\\x81RB\\x94\\x8a\\xc7\\xbb\\xd9\\xd0\\t\\x1e\\xffDc\\xe1\\x87\\xbdzR\\x90\\xf9\\x99\\x15d\\x95\\xbd\\x08h?\\xe0UzB\\x97T\\xbcG%\\xb8\\xe1\\t,\\x15\\xdd\\x18\\xf8@\\x1f\\xf1F/t\\x86\\xe2i1\\x9f\\xe1\\xa7\\x0c\\x9e+rq\\x0b\\\\\\x04l\\xed\\xa4\\xe2]\\x8f\\x9e\\xf11\\x9a\\xdb\\xa4\\xe0n\\xf1%YXOp\\x1a\\xfe\\xb1\\xda\\xc8\\x03\\'a\\x87\\xaf|\\xb7A|\\xe5;\\x83\\xec*\\xf8\\xce\\xb7A]B\\xc1w\\xbe#h*.\\x14\\xde\\x80\\xef.\\xf61\\x11\\x05\\xa1\\xfa\\x033\\xc1\\x92\\x916\\x16\\xd6_\\x8dT\\x9cjT$\\xd0\\xac\\x82\\xc7Ab\\xab\\x1dx\\xc8\\xedh\\x91\\x12<\\x08xn\\xa8\\x05\\xec9\\xf4\\x11\\xe1u#\\x13\\x11-\\xacK\\x18\\xb9\\x16\\xc7\\xca\\xf5W\\x9bI\\x00NaP\\xf7d\\xe1\\x14\\x19\\xe4,\\x0022\\xca.\\x036\"zU=\\xe1\\xbc\\x02W\\xfd\\xfd\\xfa\\x11g\\x08a\\xbe\\x1d\\x1f\\xd1\\xa2 \\xc3\\xcd\\x1b\\x11 QB\\x1e\\xefH\\x144l\\x16(\\x93\\xb1\\xd1\\x14dl\\xa0 CP]\\x95pdt\\t\\xc9\\xe1\\xe0\\x95${F\\xb4(\\xc8\\xf0\\x93\\xcb\\xb5\\x1b\\xf1\\x0c>\\x87\\n\\xcf0(\\x93\\xa1`)\\xc5\\xc1\\x84B~;\\x0bDD\\xd0|8\\xc3\\x11\\xd1%&\\x87C\\x14\\x8b1\\xf0\\xd6\"JL\\x04\\xcbI#`R\\x88$eh\\xbe\\xbf\\x12G\\xd0\\xf5\\x17rF\\xa5\\xd1\\xc3\\xa2D\\x83i\\xe8=\\r<D\\xd4,_8\\x1e\\xba\\x14%\\x0e\\xf4\\xecF\\x07kJS\\xb4$\\xf1\\x90E%o1\\xc0!2\\xca\\xfa\\x10\\xb9\"\\xa1\\xc8\\xb7\\x9e(8EB\\xcf\\x1cw`#\\xa2\\xe3\\xad\\x99,\\xba\\xb4\\xe5p\\xf0\\xe2\\x92\\xdd\"Z\\x14\\xf1\\xa1\\xc1\\x99\\xe8H\\xf2\\xd2|,7\\xb9E\\x0b\\x02\\x11\\t\\xf2\\xce\\x04\\x16Z\\x10(\\x88\\xd0h\\xf2\\xb7\\xf3\\x88.]9\\x1c\\xbc\\xb0d\\n\\xa2EA\\x81\\x97\\x96k7\\xd1\\xfd/\\xfah\\x12\\x05\\x19r\\xc4\\x81\\x82\\x0cU\\xa6\\x9a\\x06u\\r\\xc1Bl8\\x98\\x05?\\xc7B\\x97\\xb4\\xc4\\'\\xa5v\\xe3\\x82\\xc5\\xa5O\"\\x185\\x92\\xbc\\xbcV&[\\x06\\xe5\\xe9\\x02\\xb8\\xd8h\\x0b\\x8f\\xc8(\\xaf\\xe1\\x81\\x8e\\x88\\x0e\\xcdA\\x145Vz\\x06\\xd1`\\xbe9\\x88\\x8aE\\xe1\\x14\\xa42\\xa5\\xb2\\x0b\\x06Q\\x96\\x05\\xcfAQN\\x04(\\x9f\\x92\\x94d\\xa5-\\xea\\xa7d\\x94\\x17\\xb6Q@%\\xa2C\\xebk\\x18x\\xd5\\xa4\\x8f\\x8e]\\xa5\\x19:t\\xabRn\\x0f\\xf5\\xb1\\xfe\\xaa\\xc4\\x08m;\\x81\\x8d\\x0c\\xb2H\\x02\\x1b\\x19\\xad\\xcc\\xc1\\n\\xd4\\xa7T\\xb0\\x11\\xdb\\x0e&9\\x95\\xb1\\x82\"+]\\xce\\xb1+7C\\x87\\x8e\\r\\xd5\\xba\\x924Si\\x97\\xbb\\xf9\\xa4\\x93d\\x0c\\x85\\xd8\\xd9\\xc1E\\x92\\x93\\'~\\x81\\x10\\x9e\\x91QZ\\xcc\\x05\\x15\\x11\\xbc\\xb5\\x0e\\xb4\\r\\xa8\\xb0\\xd2E\\xc5j\\xbe\\x1d\\'\\xd1\\xc2\\xc6\\tm_\\xac\\xbf*\\x8e\\xe1X\\x82[(D\\xa3%\\xa8\\xc8(\\x8f\\xc3\\xa0\"\\xa3\\xae[\\x10\\x11\\xa1s\\xeb\\x9b\\x00\\x03\\n\\xact\\x11\\xb1+4C\\x87\\xce\\'Hh\\xe6j0\\x177\\xc0\\x80\\x88\\xa4\\x16\\xaf,\\x0c@DB/\\x95e\\x1aE+m\\xc1\\x85H\\xcd\\xb39\\xf5\\xe0\\x02\\xa4Ol\\xa2\\x1c\\xcb\\x9eW\\xb0\\xd8\\xa4\\xbd\\x0c\\xac\\xa0\\x89W\\\\\\xe9\\x10;\\xe8\\xc8 \\xedt\\x80\\x8d\\x0c\\xf2y`\\xb8EFy\\xd0\\x05\\x1b\\x82\\x1e\\xae:\\'rl\\xf4IN\\x14c\\xd9c\\x83%\\xa7\\x17\\xc2H\\x9eI\\x18b<\\xf0(\\xe8\\xc8\\xa8\\x93/ #Cnr\\x02&\\x14\\xa2\\xe0\\x02\\x13\\x11\\x1d\\x8fm&\\xfa\\xd4&\\xaa\\xb0\\xec1\\xc1j\\x9367\\xb0\\xc0\\x9e\\xfc\\x82\\xd7\\xb0\\x0c\\xa8\\x8f/dU\\x10a\\xday\\x06\\xc1EF++\\x16\\x02\\x0e\\x988\\xe5\\xe9\\x8bs\\x8a>\\xd5)ua\\xe2\\xc8T\\x9d\\x8f\\x89E\\x918]R\\x80S$\\xfd\\xe8\\x97g\\xe0\\x11\\n\\xd1\\xb3\\x05\\x17\\t\\xc5$\\xa4\\xc2\\x85A+\\xe3iD\\x07[:\\xd4\\x91\\xd1\\'>Q\\x83e\\xcf/X|\\xd2^\\xc7 \\xa5\\\\\\x8e\\x18P\\xe9\\x9e\\xc0G\\x12\\x90\\':*\\x01:2\\xc8M\\xe1\\x1a\\x06u1\\x84(\\x89\\xe0\\xd8<\\x0f0\\xa0\\xacJ\\xcfP\\x12\\xcc7\\xc7T\\xb1(\\\\\\x83\\xb4\\xa7\\x14s\\x81\\xf6\\xac\\xec\\x88\\xaf\\xd7$#.\\xe5\\x0b\\x85\\\\\\x04\\xa1P]n\\xc54\\xa1T\\x9d\\xa8N\\xa8q\\x95~\\xa5c\\xa0\\xa6J\\x17\\x15\\xbb\\xba3tX\\x8e\\xaa\\xb4\\xf91\\xe42/fz J\\xcb@\\xe43(\\xd9\\x97T\\xe7\\x95\\xb4\\x14\\xc80 \\x07\\x89\\xa0Cs\\xa6\\x8er*]T\\xec\\x8a\\xce\\xd0aI\\x05\\xe5\\x0b\\xa9\\xe1\\x82\\xfd@~\\x80\\xcfa\\x0b\\x05\\x19IX^x\\xba\\x026\\x12\\n\\x89A1\"\\xe0pl\\x95\\x7f\\x18PK\\xa5\\x8b\\x8d\\xd5|;F\\xa2\\x85\\x8d\\x11\\xe7\\xe9\\x8f\\xf5Gc\\x10\\xe0\\xf1\\xfa\\'\\x0862\\xca\\x92\\nld\\x94\\xdb\\x82\\x8d\\x8c\\x92:A\\x9cD\\xb0\\xf55\\xa2\\x01\\x95T\\xba\\xb8\\xf0\\xd2\\xd3\\xa5\\x82\\x97\\xd8a\\xe9\\x19\\xce\\x06\\\\$\\x01\\x89\\xe7W\\xe1\"\\xa3\\x9cL\\xc0EF\\xe9\\xd9\\x83\\n\\x03\\xfa\\x8e\\xc1ED\\xc7v\\xb1\\xcf>\\xe9\\x89\\x9a+\\xa5c\\xb8\\x1b\\x05\\x19,=yODJ\\xb7 N\\xe8\\x8e\\xe0\\x18Y?2U C\\xd1,\\x15B\\xb2\\x01\\x15\\nUbD@\\r\\x1e\\x97:\\xfbT\\'\\xea\\xad\\xec\\x11\\xc1\\xaa\\xd3\\xac\\xa9\\x85K\\x86[$\\x85\\xe8\\x1f\\x1dh\\xc8Pe@U\\x90\\x83\\x07D\\xb4\\x9b\\xc2%\"x:\\xeb\\xec\\xc81\\xd1\\xa7:\\xa5\\x00\\x8cJ-v\\tV\\x9d\\xa6\\xdcBb\"\\xebC7,\\x82\\t\\x85\\xfcs\\x85?d\\xb06\\x17Q\\x94\\x03\\x0bT\\xc4\\xb6fI\\xd11\\xd1\\':Qne\\xcf\\'*K\\x9d\\xfa\\x18\\x12\\x13I\\x1d\\x9a\\x8f\\xe9\\x04\\x08L(T\\x1bN3Z9jg\\xda2\\n*b[s\\xfc\\xd3Q\\xd1\\'9Qre\\x8f\\n\\x96\\x9c\\xbc\\x1f\"\\x95[\\xc2\\x02\\x9f\\x06n\"#\\xc9F\\xcc\\xd8\\x1c\\x08\\xb70 \\x0bp\\x8b\\xba\\xa6\\xa0\"65\\xab\\xaf%\\x15\\xa8\\x9f\\xd23~\\x04s;\\x96R|\\x88\\x85\\x1dKyKD\\xaa\\xb6\\x80\\nZ\\x00W\\x88N!\\xa1\\x12\\xb0jJ\\x9f/\\x15\\xa2v(\\x05\\x1c\\xdb5\\xbf\\xe3\\x82\\x03y}4x\\xad\\xc94D\\x8b\\x82\\x06\\xb70\\xffX\\x7f\\xb5\\xbd\\xc6\\xb9\\x01\\x82\\x88\\xdc\\xd2u:\\xb7!\\xd0\\x90\\xf2Z&\\xcf9C\\x9f\\xccD\\xa1\\x95\\x9d\\xb8\\x10\\x8b\\x82\\x05\\xd2\\x99R\\xaf\\x05\\xe3\\'\\x9f$De\\xe8\\xac\\x15I\\x1d\\x81\\x86\\x0c\\xd6V7\\x15u^\\x06&bC,\\xed\\xb5\\xa8\\xc05wl\\xa4\\xa3\\xe0\\xca\\x1e\\x15\\xd1\\xa2\\xa0\\x82D\\xa6\\xd4m\\t)\\xc2\\x07:\\xa8HB\\xf1B\\'KAE\\x06y\\xc9\\x07N\\x91Q^0\\x07\\x1b\\x11\\xbd7\\xc9\\xe8\\x13\\x99R\\x0f&9\\xdb\\xcdT/\\x0b\\xd9\\xee\\x05/\\x89\\x07\\xba\\n2\\\\\\x08!:\\xb2\\x18\\xe4\\x9dQ\\x90aP\\x97\\xf5@\\x86\\x82\\xf9\\xf9\\x86\\x9f\\x06\\x13\\n\\xd1\\xa8\\x03&\"zm\\xcdIQU\\xa5\\xcb-v\\x15f\\xe8\\xb0\\x94\\xdb\\xf4\\xe2\\xc6 \\xb5\\\\\\xd6\\xb3h\\x15\\xbd\\xad\\xa8\\xf3\\'\\xf0\\x90D\\xa4?\\xc4\\x06\\x1e\\x14\\xa2>\\xc1CD\\x9b\\xdf}\\xc2\\xec\\xac\\x8f\\x88]\\x85\\x19:tD\\xe8\\xfaYxxp\\x89\\xa4\\x05q\\xb0\\xac\\x12\\x1f\\x1b(\\xb8\\xc8\\xa8\\xa3\\t\\\\(\\xe4\\x07_P\\x11A\\xac\\x82eWrY\\xb3Ob\\xa2.\\xcb^\\xaa`\\x89\\xc9\\xdb R\\xdee]\\xb2\\xc9\\xd7%Z\\xc2@\\xfev@C\\x92\\x98\\xa8\\xa0\\xe0\\xe2\\x06Dd\\xd0E#h\\x88\\xd0\\xad\\x9d1\\xfb\\xf4%\\xca\\xb3\\xec\\xd1\\xc0\\xfar\\xd4\\x0c\\x95<\"\\xc9D\\x13\\xb2\\x89\\x06\\x85\\xfc\\x9d\\x82\\x86\\x04r.\\x05\\r\\x19d7\\x03\\x13\\x11=5\\xcb\\xab\\x0c\\xa8\\xbf\\xd2\\x95%v\\xf5e\\xe8\\xd0\\x05\\x87\\x1b\\xd3\\x10\\x1cI%\\xd6^k1\\xa8\\xe3\\x10\\\\\\xe4\\x86\\x9a\\xf6\\x02\\x87`B\\xa1Z\\x96\\x88(>\\x04\\xa5>X\\xc6\\x06J\\xb0\\xf40\\x11\\xcc7\\xe5\\xa5X\\xd8\\x91\\xc3\\'\\x82\\xc7 \\x85_\\x8e\\xf7\\x91\\xcf\\x0e<\\rZ\\x91\\xda\\xda\\xb46\\x17U\\xd4\\xa9\\x98%\\xf7zh\\xbd\\xe84\\xa0\\x10K\\x17\\x17\\xbb\\x1a3t\\xe8\\xbc\\xc2\\xc9Ap\\x91\\x94\\xe2\\xd1A \"C.\\xda\\'\\x031\\x83\\xb3A)\\x87\\x80\\x88\\xd8\\xebxj\\x1eGC5\\x96.\"vef\\xe8\\xd0\\x11\\xe1\\x1e\\x10\\x88HZ\\x91\\xd7\\xf4AE\\x06];P\\x91!\\x9aX\\x80\\x89\\x0c\\xf2Q\\x03P\\x11\\xd1{sO\\x0c\\x05Y\\xba\\x98X\\xcd\\xb7\\xc3#Z\\x14\\xe1\\xa1\\xe3\\x96\\xe4L)\\x03\\x83\\xf0`\\x97H:\\xb1\\xf2\\xfd#P\\x91\\xd1\\x1a\\x15\\x19\\xa4\\xb0\\x02\\x13\\x11\\x84\\xd2\\xd4\\xb4\\xe52E\\x9f\\xc6D\\r\\x97=*Xc\\xd2\\xfb\\x1eH\\xe12\\x03\\x1b+kw\\n\\xf2j\\x0c\\xc8HMQ\\xfd\\x9a\\x06R\\x05k\\xeb\\x13\\x82\\xden\\xe6\\xb53\\xc7F\\x9f\\xceD-\\x97=6\\xa2\\x85u\\x0c\\xde\\xfb\\x90\\x920\\xc7\\xbb)\\x1a(\\x83i\\x86\\x86\\xda:fF\\x0f<\\xbd@\\x90$\\xa9\\xe9\\xd7N\\xe1\\x17\\x025O\\x13\\xa0HKW\\x84\\xec\\xea\\xcc\\xd0a\\x99+\\\\\\xc8#U$=xp\\x0f\\x16\\x89\\xa2\\x05\\xc1!\\x04\\xba\\xddi\\x8d\\x13\\x1cd\\xd0\\x85#8\\x88\\xd0xl{C\\x9f\\xc2DU\\x97=o`\\x85\\xe9.\\x0b$\\x88\\x16\\xbc\\xdd\\xc9\\xbfA\\x83\\x01\\xfdj/\\x98P\\xb4\\xd4\\xa6\\xe0A!\\x1f5`\"\\x82\\xcd\\xcd\\x0eTj\\xe9r\\x06\\'1\\xfd\\xc4\\xea\\x05[\\xf4\\x81)\\x1b\\x15n(\\x04\\x0f\"\\x06o\\xf7\\xda6\\x98E+Dh[\"\\xa2\\x05\\x81\\x86\\x08\\xb5\\xde\\x8f\\xc4\\x1b\\xb4}48yY\\xa1!ZX\\x1a|\\xa8\\x82\\x07\\x91\\x82+\\x0f\\xfeN\\xe1\\x10\\x1b(\\x1cBQ\\xe2A!\\x9a\\xd2\\x81\\x8a\\x88\\xb6>?<\\xa0^K\\x8fG\\x04s3\\x802\\x15bQPA\\xd3P\\xa9\\x12s\\xbc\\xddy?\\xef\\xb9^SX\\xd5\\xab9\\xccd\\xd0\\xca6\\xb16\\xe5\\x8e\\x97\\xd4\\x14\\x13\\x90Lb9j\\xa0rK\\x17\\x1bNaV\\xd8\\x88\\x16\\x05\\x1b*\\xf5ENH\\xbd\\x18\\xb0A+t C4\\xe6\\xcd\\xbc\\xe5\\x19\\xda\\x81\\x89\\x0cQ\\xbb\\xd9\\x80.\\x05\\x83\\x06\\x11\\x98\\x9a\\xb6\\x1d\\x0b}\\xf2\\x12\\xf5^\\x8alYa!Z\\x14,\\xb8I\\xd4\\x03eV\\xd3S\\xaf\\xadVm\\xa1`B\\xdb\\xe6\\'\\x1bH\\x02\\x0f\\nU\\xc2C\\xd0\\xe6\\x9c\\x1c\\x15]\\xba\\x1cb5\\xdf\\x0e\\x8fhQP\\xa1\\x8a.9\\x84(\\xc1\\x9b)\\xbd\\x1a \\xb8\\x83B\\x94D\\xc0\\x83\\xa2\\xc4\\x83B<nH\\xbb\\xe6\\xf8\\x89\\xc2.]48mY\\xf1\\x08\\xd6\\x96\\xbc\\xc9\\x91\\xca\\xc9@\\xe6\\xf9K\\x06\\x11\\xa2\\x1eW\\xd0gS\\x10aP?\\xbd\\x85O\\x18\\x94\\xa3#\\x828\\x90\\x97)t\\xe1\\xd1\\'-Q\\x14f\\xcf\\'XZ\\x9a\\x1fO>!B\\xefF\\x95\\xed\\x06);s$\\x08<\\xe4V\\xb5i\\xa8\\xa2z\\xaf\\xe1\\xe7\\x90#b\\xc3\\xa19\\xf3B\\xa9\\x97.\\x97p\\xba\\xb2\\xe2\\x12\\xd1\\xa2\\x88\\x0c\\xcdP\\x89\\x85\\xa4\\x02o\\x15M%\\xd5g\\xc0\\x03\\xcf\\x19@EnZ\\xf9\\xe6\\xc4&\\n6Da\\xb6\\x87\\xd1>\\x81\\x89*1{>\\xc1\\x02\\xd3\\xac\\x9f&6\\x92\\x16\\xbcU&_R\\x89\\x06l\\xf0f7\\xd80M+\\x01\\x92Q\\xce\\xc5`CPs\\x80\\xc1EH\\x9f\\xccD\\xb9\\x98=6Xf\\xfa=\\x11\\x0c I\\x10\\xdex\\xb6\\x89|\\x91Q7\\xfe\\x82\\x8b\\x0c\\xf1\\xdd\"Y\\x18\\x94\\x93E\\x04\\xf1\\xb2q+Y\\xf4IM\\x94\\x8d\\xd9\\xa3\\x82\\xa5\\xa6\\x8f%P\\xa1\\x9a0_W\\xf0\\x19\\xf0\\xd0\\x82\\xc0C\\x86\\xe8P.h\\xc8 \\xef\\x14\\xc2%\"zjJn\\x94\\x82\\xe9I\\x17\\xc1|s \\x15\\x0b\\x9b.\\xccq\\x05\\t\\x10)@\\x132\\x82{vO\\xbc\\xa1\"\\x82\\xa3\\x9a.\\x14\\xadm\\x07n\\xa1K\\xeay0K\\xeae\\x80\\xa04L\\x17\\x1b\\xbb:3tXN\\xcay\\xc7C\\n\\xd2\\x1co\\x17Z}\\x02\\x1bIL^h\\xf2=\\x19\\xb0\\xa2\\xb9\\xb5\\xa5\\xa3\\x18D\\xc4N\\x87\\xcbIg\\x85\\x8e\\x89>\\xad\\x89z2;\\xf1!\\x16\\x85_\\x90\\xd6\\x94\\xb24\\xc7\\xdb\\x99_\\xf9\\x01\\x15I2V\\xbe\\xbe\\x00.2\\xcaS\\x8c\\xd9\\xa0:\\xc7\\x08\\xce\\x082\\xa4a\\xb3\\xe4\\xc1\\x10\\xea\\xdb\\xfc\\xfe\\xee\\xb7UB\\xfe\\x84\\x01`\\xbb\\x9ez4\\xdf\\x0e\\x12\\xd0\\x80\\xce\\n2HmJ\\xfd\\x1a\\xb8\\x05+)\\x90\\x91tc\\x05\\x05\\x19\\x19\\xadFIF\\x99\\x0c\\x81\\xaef\\xf7\\xcdyF\\x9f\\xe6D\\x95\\x99=\\xcf`\\xcd\\xe9G\\xbe\\x07<U\\x92\\x02^\\x83\\xf1(\\xc8\\xc8h-H2\\xc8M\\xe1\\x18\\x19e\\x97\\x83oD\\xf4thn\\x04\\xa1~LW\\xca\\xd8U\\x9d\\xa1C\\xe7\\x1bN\\x06\\x82\\x8e\\xa4\\x1f\\xf9\\x15)\\x85x\\xc9\\x12\\x8e\\x91\\x1b\\xd6\\xd4\\x96\\xa2\\xec6 C\\xb4\\xe7\\xd9\\xd4js\\xbe\\xd1\\'>Qxf\\xcf7X|\\x8e$>S\\xfd\\x9a\\x1b\\xf2\\x82Kup\\x8d$/\\xf9[/`#\\x81\\xfc\\xf2\\xb5\\x81h\\x1e\\x03*bC\\xbc\\'\\xa5a\\xeb\\xa8\\xe8S\\x9e\\xa8=\\xb3G\\x05+O~\\xfbCJ\\xd8\\x1co\\xd7j\\xce\\xc8\\xf2\\x91#\\x01d$\\x14m}\\x88!N\\x12j^\\xfeI\\t4B\\xf8\\x14b\\x93\\x8c>\\xe1\\x89\"4{d\\xb0\\xf0\\xe4=\\x10\\xa9e\\xd3X\\xcdR\\x94\\x97\\xfd@FV\\x97\\xce\\xdd\\xc0D\\x86*\\x9b\\x84\\x02B\\x8b\\x9b\\xad\\x06\\xe7\\x19}\\xd2\\x13\\xc5h\\xf6\\xc8`\\xe9\\xc9[ R\\xd3\\x06[ *\\x89Ez*D*\\x02Dd}I\\xc1\\x05*\\x04\\xc4\\xd7\\x1f}\\xe4!F\"xnU\\xd6\\x82\\x0c\\xc3\\x9d}\\xff\\xb0\\x1a\\xcc\\xed\\xb0\\xea&\\x0c/\\xb1\\xc32u\\xba\\xa7\\xf7Xmd\\x11\\xd35\\x7f\\x1aH\\xfd8P4)\\x84\\xf9\\xad_\\xd5\\x98\\x15\\xbd\\x93@_\\x128\\xdc\\x9b\\xd32\\x94\\x99\\xe9\\xe2\\xc1\\xabNw#\\xe0!ZXy\\xe1\\x06z\\xf0\\x90teu\\xa9w\\x0b\\x05\\x1b\\xb9-\\xcf9\\xc0FF+N!\\xa0\\xc9\\xb7ep\\xa0\\xdcL\\x17\\x17^w:I\\t.\\xa2\\x85\\xe5B5ox\\xba\\xe0\"IG3\\xb0Il4!\\xb0\\x90[\\xf1\\xf1N\\xb0`P7(\\xc1\\'\"\\xd8|\\x17\\x1f5g\\xbaXX\\xcdmd0\\x0b\\xd1\\xc2\\xb2\\xc0\\x1b!R\\xe9\\x06\\xf9\\x92G\\x7fDG\\x12\\x8d\\x15\\x14dd\\x94\\xcf\\x0b\\x80\\x8c\\r\\x14lD\\xb4\\xf9u\\x1bT\\xa0\\xe9b\\xc3+Nf\\x83\\x15\\xa7\\t\\xce\\xe4\\x14I\\x18\\xdey\\x89\\x0eld\\x94u\\x14\\xd8\\xc8(\\xb7\\x05\\x1b\\x19%\\xb5\\n2\"\\x88w\\x82\\xf2\\n\\x81\\x8b\\x90>\\xc1\\x89\\x026{\\xbe\\x11-\\n\\xdfp)\\x05!\\x92t\\xa3\\x1f\\xfeAE\\x86\\\\+\\xf0\\x90!\\xb7\\xd5\\x04\\x122\\xe4Z\\x81\\x82\\x08a\\xad\\xb3EA\\x9f\\xccD\\x1d\\x9b=\\nXf\\x9a\\xad\\x87\\xe4\\x10I,b\\x1d\\xcb\\xeb#\\xb0\\x90Qw?`!C\\xdc\\x10Dd\\xd45\\x04\\x11\\x11j~\\xde&\\xd4\\xd4\\xe9\\x18@\\xbd\\xc6\\xe4\\xc0`\\x8d\\xc9\\xaf{HM\\x1c,\\xde\\xb8\\xf6 !\\x8bD\\x07\\x81\\x84\\x0c\\xd1w\\x0c\\xc0A\\x1b\\x04\\x0b\\x11<\\xa9\\x0b\\xb9\\x80\\xe8\\x13\\x97(h\\xb3\\xe7\\r,.y\\x13D\\xea\\xe2@is\\x88\\x83\\x88\\xa4\\x11\\xaf\\x14\\xe2\\xa0\"\\x83\\xea\\xe0\\xc1\\xc7@\\x84B\\xe4c`\"\\xa2\\xed\\x97\\xacQ\\xac\\xa6+Szi\\xe9\\x9e\\x1aFO\\x96\\x96\\xbc\\x05\"%r@\\x05O+@E\\x12\\x90x\\xdb\\xd6\\xdd/\\xa8\\xc8 7\\x05\\x1b\\x19\\xa5\\xa6 #\\x82xS\\xae\\x91%P\\xb4\\xa6\\x87\\x8c`\\xbe9\\x88\\x8aE\\x91(I_J\\xa9\\x1c\\xac\\xda\\xa8\\xbf\\x8a\\x96P\\xc8E\\xfa\\x84\\n\\x83\\xa2J1Ke}\\xa9(\\'\\x90%\\xb5\\x1d[UY\\x06T\\xae\\xe9\"\\xc2\\xebK\\xf2\\x8a\\xd0a\\xa9\\xb3y\\x13$\\xd5\\xcb\\xb9U\\xcf\\xf6+\\xea\\x94)\\xb8H\\xfa\\x11\\xe5\\x1c|\\x9e\\x9d\\x0b\\xd43\\x05.b\\xdb\\xa1\\xf5)v|\\x0c\\xaa\\x8f\\x8b]}\\x19:t\\\\\\x90\\xc0\\x94\\xc29\\xeb\\xbafv\\xd6\\xe4\\x14I\\'V\\x96<\\xc1EF\\xf9\\x8c\\x0e\\xb8\\xd8@\\xc1ED\\xf1!\\x82\\xfc\\x9be\\xe2D1\\x9b.\\xbfX\\xcd\\xb7\\x03$Z\\xd8\\x00\\xe1=\\x10)\\xa1\\x03.X9=\\x07Ei#\\x11l$\\x19Yi\\n62JMAF\\x04\\xf1y\\x86\\x16\\x19}\"\\x13ep\\xf6\\xc8`\\x91\\xc9\\x1b!RM\\x07d\\xd4\\xf6\\xc6\\xb6P\\xb0\\x91d$>\\x92\\xe8#\\x01ld\\x94{\\x06\\x1d\\x826\\xe7\\xe6(s\\xd3\\xe5\\x1b\\xbb*3tX\\xc6\\t\\xef\\x84Hq\\x1d$O\\x97s\\xe0\\x18I/^hV\\t*2X\\x1bF,\\xea\\xe2\\x0fL\\xc4\\xa6\\xed/)\\xa2\\xdeM\\x17\\x13\\xbbb3t\\xe8\\x98p\\xb7\\xfb\\x18\\xa4\\xca\\x0eD\\x96:l\\xca\\x18Y0\\xf2h\\x00*\\x12z\\xd5\\xb0\\x17q\\x91!\\xde\\x96\\x06\\x0f\\xb1\\xddxkNJQ\\xf6\\xa6\\x8b\\x88]\\xb5\\x19:tD\\xe8\\xac\\'\\\\4\\x88H\\xd2\\xb0\\xbaN\\xa1(m\\x9d\\x81\\nm\\x9a\\x83>Q\\x91!\\xf7\\x83 B |\\xf1)\\xb7ry\\xb3Op\\xa2T\\xce^\\xaa`\\xc1\\xe9\\x07>\\x10\\x91\\xa5!/A!<2\\xea\\x1e;h\\xc8\\x10\\'\\\\\\xe4\\x89\\x8c\\xea\\xed\\x06\\x92\\xc0D\\x84\\xb0\\x90\\xa7z\\xc51\\xd1\\xa77Q3g\\x8f\\t\\xd6\\x9bF\\xdf%\\x97H\\xb2\\xb0v.O\\xea\\xf2`\\x11\\xc3\\x85:\\x88\\xc8\\xed\\xaaY\"\\xa3\\xbc\\x9c\\x03.Dm6\\xbfb?\\xa0\\x12NOx\\x04\\xf3\\xcd\\xd1T,\\x8a\\xd1\\xd4=\\xa3\\xc7\\xfa\\xabq9\\xd3\\x9c-\\x0e4=\\r\\xe4ZM\\x06\\xe2\\xb5\\xef\\xd9\\xa0,\\xc0\\x96\\x84b\\xa1B\\x05n\\xe9\\x15(\\x88\\xd3\\xc5\\xc4\\xae\\xde\\x0c\\x1d\\xbaD\\xe1d#\\x98H\\xb2\\xd1|w)1\\x91\\xa1Z\\xc6\\xcc\\ro.t\\xc0Dn\\xc8C,\\x98\\x88\\xe8\\x88\\xef\\xd062\\x05\\xca\\xe2t1\\xb1\\xab6C\\x87\\x8e\\tw\\xd5`Bd\\xe1\\x1d/pxa\\x00\\xb7\\xc8h\\xed4\\x96\\xa2.1\\x82\\x8c\\x8d\\x86 #\\xa2\\x97\\xdbY\\x07,\\xe7\\x16\\xab:\\xfc\\xfe\\xd5\\nT\\xd3\\xd9I\\x16ba\\x03\\x84\\xf7=\\xa4(\\x0f\\xde\\trc,\\x98\\x10\\xc1\\x08\\x88&\\x1a\\x88\\x91\\x8cV\\x16,,\\xe8)\\x06\\x17Ilj\\nrT\\xf4\\x89M\\x14\\xd5\\xd9\\xa3\\x82\\xc5\\xa6\\x0bz\\xb8\\x85h\\xbe\\x1a\\x13\\x19\\xa2\\x896\\x88\\xc8\\xa0\\x06|\\x08,\\xb8D\\x868\\xa3\\x82\\x86\\x84\\xaa+9\\x1a\\xfaD\\xa6/\\x06\\xe4\\x9f\\xe8\\xcb \\x16\\xd6#44e\\xf4\\xc8\\xb5{F\\x9eR\\xc1\\'DI\\xde\\x81\\xea\\xd3\\x0bM\\xc1\\x84\\x829\\xe0\\x13\\x13\\n\\x91/\\x81\\tA\\xd5\\x05\\x1d\\x11}\\x1a\\x13\\xd5uJ\\x7fP\\x82\\xc3\\xe5\\x80\\x88ha\\x89\\xe04!J\\xf1~\\xac\\x9cR\\xcc\\xd5}Pe\\xdak\\x11\\x10\\xd1n\\n\\xa7\\xc8 7\\x05\\x15\\x11\\xbd\\xab/9*\\xfaT&\\xea\\xeb\\xecQ\\x11-,\\x15\\xbc\\xf5\\x91\\xca\\xf4\\xd4_\\xac\\xddBA\\x86\\x08\\xc6\\xb5\\xad\\xa7\\nl\\x18\\xd49\\x14\\xc8\\x88\\xa0Y*rd\\xf4)MT\\xda\\xd9#\\x83\\x95&\\xef|\\xe4j>\\xc8\\x8b\\xee\\x92\\x11 \\xa2\\x17\\xd7\\xa4\\xe93\\x1f\\xb8P\\x94\"D!\\xa2\\tLD\\xd4\\x0c\\xc1\\x8e\\x89>\\xa5\\x89r;{L\\xb0\\xd2\\xe4\\xcf]\\xe5\\x92>\\xfe\\xb9\\x82\\x07\\x91\\x8b\\xb5\\xa7\\x0e\\x1e2Z\\x15X\\x1b(\\xa8\\x88\\xe8Y3WA\\xc5\\x88\\x02:\\x1d\\xe3h4\\xb7B\\xd3\\'\\x8bdQD\\x88f\\xaa\\x986W\\xa3\\xf8I\\x9f\\xda\\xab\\xe7\\x06\\xd5\\xd5\\xd8\\x984\\r\\xc4\\x0b\\xe5\\xb3A]\\xc3%C\\xea\\x82\\x8e\\x87.\\x999\\x86\\xbaB\\xdb<D!Z\\xf0\\xe0\\xc8z\\xac\\xddd\\x1e\\xf4\\xca\\xc2\\xbd>\\r\\xe8\\xeef2\\x10\\xcdT\\xc1B\\xee\\xd4\\xb5\\x03\\x0bI\\x82\\xe6xr,tI\\xcc\\x11uv\\xb6\\x03#Y\\x14,\\xb8\\x1b\\x05\\x0bI\\x0b\\xe2uj\\x07\\x82\\x85\\x0c\\xd2\\x01\\x19\\xf0\\x90Aj\\t\\x1e2\\xc8g\\xd7@ED\\x9b\\x0b\\x9ac\\xa8\\xfa\\xf3\\xdd\\n3\\x9ao{\\x04Xp\\xe74i\\xfbc\\xed&yD~F\\xc9\\x1f\\x14\\xf24\\x81\\x89\\x0c\\x92\\xd4\\x00\\x13\\x19\\xe4A\\x05LD\\xf4\\xaaQ\\xea\\x9c\\xa2K_\\x8e(\\xb3\\xb3\\xe7\\x14\\xac/\\x07/0\\xd7n\"\\x11\\x03\\x0f\\r\\xf0\\x8a\\x8c\\xf2\\x1d\\x81\\x8c\\x8c\\xd2\\x98\\x0322\\xc8MAFD\\xb1\\xf6\\x9f\\xe9wlt\\xc9\\xcc\\xd1W\\t2;\\xf1\\xe1\\xb1\\xbe$\\x8b\"D4[\\x07#\\x84HR\\x84~\\x80\\x05\\x15\\nU\\xdc\"\\x83\\xfc\\x89{P\\x91Q>j\\x94\\xc0\\x8d\\x00\\xe9\\xd2\\x99#\\n\\xed\\xec\\xf9\\x05\\xebLz\\x01d\\xed&\\xfa\\x05\\x1d=3\\x10\\xdd\\x0e|\\xa2\\xd5\\x0e4dH\\x1fz\\xe0\\x1d\\xee\\x10\\xa1\\xb67t\\tL\\xec\\xaa\\xedr\\xc0\\x02\\xd3\\xec2$oH2\\xf0\\xa0ki\\x01\\x827(T\\xf1\\x86\\x0c\\x12A`!\\x83\\x95\\xe9WB7\\xbc\\xa1K]\\xe2\\x1b\\x83\\xbbL\\xb0\\xba\\xa4-\\x8f\\xb5\\x9b\\xe0\\r\\xb7{\\xe5\\x88jFqL\\xb1BFnJ\\x03\\x0b\\xc8h\\x83p\\x8a\\x08\\x8eg\\x1d_]\\x8e\\xe8\\xd2\\x97#J\\xed\\xecE\\x06\\xebK\\xda\\xefX\\xbb\\x11.x\\xaa\\x04\\xc7\\xc8\\xa8\\xf3\\x19\\x84F\\x86xa\\nTl\\xa0\\xe0\"\\xa2\\xa7\\x83j\\x9b\\x92\\x0b\\x14\\xce\\xe9\\x11\\x98\\xc1|s\\x18\\x15\\x0b\\x9b/\\xfd\\xdc\\xfd1J\\xb9\\x9e\\xfa\\xeb\\x0e\\x8a\\x9a7\\x99B\\xfcL\\n\\xe1\\x8bW~F2+\\xca\\x1f1^\\x14l\\xadeb[\\xa8\\x8f\\x0b\\xbf\\x96\\xa9\\x1c\\x87\\xab}\\x89\\x1d\\xba\\x15<g\\x04.\\x92\\xe8\\xbbVN\\xe2\\x19\\x94o\\x18th\\xdb<\\x1e\\x86\\xdf\\x06\\x17\\x19\\xa2\\xf8\\x01\\x17\\x02\\x1eZ\\xd5`F\\xd4\\xcdy\\xf3\\xfd\\x0bx\\xd1|\\xdb/\\xa2\\x18-\\xfc\\xc2\\xa9Ip!\\x9ap}{\\xd4\\x81O\\x05\\xfd\\xa2/x0\\xed\\xfc\\xf4\\rTd\\x94\\x0f\\xbb\\x83\\x8b\\x88\\x8e\\xed|\\x81\\xd29]\\\\\\xac\\xe6\\xdb\\\\D\\x8b\\x82\\x0bMV\\xe1\\x01\\x82\\x0bQ\\x857>K\\x03.\\xda \\xd8\\xc8`\\xe5\\xc8\\xaeA\\x9d+\\x82\\x8a\\xd8\\x10\\x9b@\\n\\xb9t\\xd1\\'6Qhg\\x8f\\n\\x16\\x9b\\xf4\\xd2\\xc7\\x98j\\xfd\\xdcju.\\x0c\\xca[\\x18 C\\xf4\\xe4\\xed\\xc4\\x0b\\xbfp\\x8d\\x8c\\xd2L\\rt\\x08xh\\xadT\\x8c(\\x9d\\xd3\\xe5\\x19~\\xe7\\\\iN\\x19#Z\\x14\\x9eAj3\\x15\\xec\\xb9\\xe15A\\x9f\\x04\\xe1\\x1a\\xa2\\x1ao\\x95\\x8f0\\x1b\\x90\\x17D\\xc1FnZ\\xd3\\xde\\x82B\\x83\\xeb\\x159\\xef\\xe8\\x93\\x9c(\\xb7\\xb3\\xe7\\x1d,9\\xe9\\xd5\\x8f1\\xd5\\xf4\\xb9!\\xeb\\xfb\\xe0\\x07\\x1d\\xa2\\x1e\\xd70\\xf2d\\xc1;\\x12\\x8a7\\xeb\\\\\\xc2\\x01\\x1d\\t\\xacTK\\x80wD\\xf4zk\\x95\\xfb\\x1eQC\\xa7\\xcb;v\\xd5g\\xe8\\xb0\\x1cOh\\x13d\\xfd\\xd5\\xa83j\\xaf\\x05)\\xea\\xcf\\x1a\\x80\\x0bmH\\x83\\x89BD\"\\x98\\x88(\\xde\\xd2\\xce\\xed\\x9c_\\xf4\\x89O)\\x04\\x14\\xc7(\\x94\\n\\xe2I\\x99X\\xd80\\xa1\\x19j*\\xf8s\\xbb\\xf2\\xc8\\t\\xb7H\\n\\x12,\\xb9\\x07\\x0f&2\\xe8\\xb22|\"C<Z\\x83\\x89\\x88^\\xcc\\x9c\\xc01\\xd1\\'=Qjg/BXz\\xeaSH#I\\x92\\x888\\xa0Z\\t\\x10\\x83V\\x02\\xc4\\xa0\\xbe-\\xd80\\xa8o\\x0b6\"\\xda<\\xde>\\xa2~NO\\x80\\x04s;\\xb0\\xba\\x07\\xf7\\x12;,\\x03\\xc4o\\x85\\xac6\\x12\\x1f\\xae\\xf9\\xd3B\\xe4\\xe6\\x93E\\xb3\\x9f\\x8b\\xd82}zoZR\\xbb\\xd6Y\\x9b\\x11\\x85s\\xbaX\\xf0\\xb2\\xd3\\xdd\\x06X\\x88\\x166:h\\x17d5\\x12\\x1a*Rk\\x03\\x04\\x0f\\xda\\x92xP\\x88<\\rDHDkP\\x95\\xc1\\x81\\xa29]D\\xf8\\xe5M&\\x825\\xa7_\\xa0y\\x8c\\xa9\\x8eO\\xf5D\\xb3AY>\\x80\\x8a\\xa4,+\\xa7\\xa1\\xe7\\x02u\\xd7\\x062bS\\x14\\xa8\\xcc$:6\\xf0\\xfc:\\x148j\\xec\\x94\\xa9\\xc2\\xfd\\xe2\\xcb(\\x16\\x85[\\xe8\\x8fK\\xae\\x90R=8\\xdf]\\xcb\\x9a[(\\xd8\\xc8\\xba\\x93Wt\\xc1\\xc6\\x06\\n:\"jR\\x8cc\\xa3Ox\\xa2\\xca\\xce\\x1e\\x1b,<\\xe95\\x901\\x95\\xf2i\\xb0\\x91\\xc4ce\\xa4\\x05\\x1b\\x19e&\\xc1FFye\\x04lD\\xb4\\xf5\\xed\\n\\xccU\\xfa|\\xc3\\xebN\\xf6\\r\\xd6\\x9d\\xf42\\xc8\\xfa\\xab\\x922j\\xbaSQ\\x1e\\x19\\xc1\\x86i\\xeb~\\x1ddd\\xd0\\x8d\\xe2`B uT\\xe7\\x17}\\x92\\x13\\xa5v\\xf6\\xfc\\x82%\\'\\xbd\\x102\\xa6r>k\\xce\\xf0\\xe3\\x1e\\x86\\x91\\xac\\x1bYd\\x83\\x89\\x8c\\xba\\xe5L\\xf0\\xa0\\x10u\\x0b*Dp6w\\x02P<\\xa7+cx\\xbd\\xe9\\x9e\\x0b2F\\xb4(2\\x86&\\xef\\x941\\x926\\xc4a]\\x13\\xbe\\x01\\x05\\x17\\x19\\xadr\\x91Q}\\xbeiH\\xcd\\x107\\x04\\x17\\x11\\x1d\\xaf*v\\x9c_\\xf4IN_(\\xc8\\xdf\\x08\\xb8\\xe0\\xf5N\\xde\\x15I\\xd5\\x80V\\xbfpl\\x82\\x8a,\\x1d\\xd9i\\xe0\\x16\\x19\\xad,\\xfe*\\xe8x\\x02\\x13\\xb1]\\xf3\\xe3\\x04#\\x8a\\xe7ty\\x85\\x97\\x9c\\xee>\\xc0\\x04KNz#d5\\xca\\xb9\\xc2\\x93\\t*2\\xea\\x02\\x1e<d\\xc8y\\x1a\\xc2\\xa3\\x05\\x81\\x85\\x08\\x99\\n\\x11\\xa5;\\xa0vN\\x0f\\t\\xc1|Si\\x8aE\\x11\\x1a$5\\xa5b\\xcf\\xfa\\xf6\\x1c\\xc5\\xf3sT\\x94=|2he\\x93L\\x9br\\xc7Kjj\\x8aU92\\xfa\\x04\\'\\n\\xee\\xec\\xe4L\\xb1\\xb0d\\x98\\x19\\x90\\xe4\\x89T\\xed\\x07\\xdfB\\xcb\\x8aG\\x92\\x84\\x81|\\xd8\\x80\\x88\\xa4)\\xcd.\\x8f\\xe4\\x08\\x03Q\\xea\\x01\\r\\xb1!\\x0e\\xb1\\xe6\\xdfs<\\xf4\\xe9M\\x94\\xdb\\xd9\\xe3\\x81\\xf5&\\xef\\x89\\xa4\\x82>\\xb7[m\\x14U\\xb46\\x8a*\\xca3\\xb9y\\xb4\\xa8\\x1f\\x95@\\x87\\xacs6\\xb7\\x02P@\\xa7+FV\\xf3\\xed\\x18\\x89\\x16\\x85[\\xb8g\\xff\\x18SQ\\x9f\\x1b\\xbe\\xa7\\xe0/\\x1a1\\x92D\\xa3)\\xeb\\x13\\x1e>\\xfc\"C\\xbc\\x9f\\x02.2\\xaa\\xfb\\xe6\\xa1!\\x88\\x88P\\xf3{X#\\xea\\xe7t\\x11\\xb1\\xab5C\\x87\\xe5\\xb4\\x94\\xf7DRM\\x1f\\x1cf\\'g\\x06\\x11I/\\x02u\\x19\\x19Td\\xd0-(\\x82\\x07\\x85|;0!2\\xb3u\\x8cwD\\x05\\x9d.&vuf\\xe8\\xd01\\xe1\\xae\\x19.\\x91\\xe4\\xe0\\x9d7\\xbc\\xc0DF\\x9d/\\x81\\x87\\x0c\\xf1J \\xa8\\xc8\\xa8k\\x08\"\\x04B\\x81\\x98V\\xae\\xe8\\xd3\\x99\\xa8\\xb7\\xb3\\x17\\x1c\\xac3\\xfd8\\t&\\x92 4oe\\xa4\\x9c\\x99!\\x96]`\"\\xa3\\xee^A\\x83B\\x15\\x8f\\x88 \\xdeF\\xd7\\xb0qI\\xb3Od\\xa2\\xe2\\xce\\x1e\\x11,2\\xe95\\x10\\xbc\\x9f#r\\x82\\xbf\\xba\\x02\\x8f\\xc8 o\\x8d\\x83\\x8a\\x8c\\xb27\\x81\\x8d\\x8c:5\\x0e\\xa7\\x88\\x10|\\xa2\\xe9\\x14}\"\\xd3W\\x0b\\xf2\\xcf\\xfbe\\x14\\x8b\"c\\xea\\x8f\\x87\\'\\x0f\\xa7HJ\\xd1|*89\\x85@w\\xbf\\xde\\x03\\x1ar+\\x17o\\xe0 \\xb5\\xc2\\x97}\\xfc5\\x81\\x86\\x88\\xe2\\x1d\\x90\\xe68\\xda\\xa70\\xa5\\x0e\\x90,\\x06ay\\xd7\\xe53\\xd0\\xc0\\n\\x93>\\x7f\\xb5\\x1a\\x05\\x85y?\\xf0YC\\xf8DFy\\x94\\x05\\x19II\\xde\\x9df\\x03\\x19\\xa6\\xa1\\xbb0p\\x11\\xc1\\xf1n\\xde\\xed-\\xc3#\\x94\\xf6\\xf9\\xfeci\\xc1|s\\x10\\x15\\x8b\\xc2%\\xdcE?\\xc6T\\xd2\\xe7V)l\\xf14(\\x0f\\xb1\\x93\\xa2F\\x18\\x04w\\x9a-Tq\\x0c\\xf9Q\\xbcD\\xd8r\\x8cP\\xdb\\xa7\\x83\\x8c]\\xa1\\x19:,\\x87\\x0f\\xde\\x00I\\x15\\x81\\xae\\xfe\\xad00!Z\\xf2j\\xde\\x19\\x0f\\xf7\\n\\x1a2\\xc4\\xfbD`\"\\xa3,\\xbc\\x96\\x8c\\x1ae\\xeb\\xbc\\xa2Oi\\xa2\\xe4\\xceN\\xd2\\x14\\x0b\\xeb\\x15\\x94\\'RY\\x9fk\\xad\\xe6\\xc3\\xa8(/@\\x81\\rY\\xd8\\xbcz\\xdd\\x05*2\\xc4\\xebZ\\xa0B\\x965\\x0f\\xad\\x0f\\x99\\x8c}\\xe5\\x82\\xa2\\xf9v\\x84\\x80\\x05wpSW\\x05$g\\xa6\\xa2?\\xd7\\x9b\\x8bi\\xf8\\x84(E@~<\\x04\\x0f\\x19\\xac\\x9c\\xdb\\xdc\\x00ADl\\x89\\xaa\\xad\\rE\\x81\\xfa9=\\xda*\\x98[\\x1e\\xdc\\xf4\\xf8e\\x14\\x0b\\xeb\\x13\\x9c(D\\x0e^1#e&\\x0c\\xe8\\xa58\\xa8\\xc8\\xa8\\x1b)\\xe1\\x12\\n\\x91\\x86\\x07\\x13\\x11\\x1d\\x9b\\x87\\nP?\\xa7\\x8b\\t\\xaf2\\x99\\x89ha\\x99\\xf0\\x03\"r\\xa6h\\xbeku\\rOQN\\x07\\xe0b\\xa3-\\xe8\\xc8\\xa8\\x1bj\\xc1E\\x84N\\xcdU\\x7f\\xd4\\xd1\\xe9\\xe2\\xc2\\xebL\\xe6\\x82u&\\xef\\x81\\xa4\\xc2>W#uDR(\\xc4\\x8b\\xfa B\\xc4\\xe4\\x15[\\x8b\\xdee@DF]@\\x82\\x08\\x81\\x9a\\xa2\\x02et\\xba\\x88\\xf0:\\x93\\x89`\\x9di\\x9eB\\xca\\x13\"\\x07\\xaf7~\\xecH\\x15\\x1b(\\xb8\\xc8(\\xcb(p\\x91Q^\\xed\\x01\\x1d\\x11\\x1d\\xcdg\\x96\\xdc\\x08\\xd2\\'5\\xa5&\\x90j,\\xa6\\xa3\\xb2\\x9e\\xa9\\x9a?\\xd1!\\xca\\xf0jF\\xb6\\xe4\\x17\\x19r\\xad@D\\x86*K\\x99\\n\\xf2*(x\\x10\\xb1i\\x96V\\x1d\\x0f}Z\\x13\\xa5w\\xca\\x91\\x94y`\\xad\\xc9;\\x1f\\xa9\\xf4\\xcf:Fx\\xb9\\n\\xb7\\x10\\xc9X\\x1fA2X\\x1bA\\x0c\\xe8\\xc3\\x07dD\\xd4h\\x95\\x92\\x8bP\\xe6\\xe7\\xfb\\xe5U0\\xdf\\x1cA\\xc4\\xa2\\xc8\\x9bn\\x94x\\x8c\\xa9\\xbc\\xcf\\xb5R\\xfea\\x0b\\x9c\\x0c\\xc8\"j.P\\xf7\\xa3K\\x06\\xcd\\xa3q\\\\\\xf4\\xadi\\xa2\\xfc\\xce\\x8e_\\x88E\\xc1\\x85s\\x1ep\\x91d!\\x86S\\xf6\\x8b-\\x14l\\xe4\\xb6\\xac\\xca\\xc1\\xc6\\x06\\n:\":\\x9aS\\xc6\\x8e\\x8e>\\xc1\\x89\\x12<{tD\\x8b\\x82\\x0eR\\x9c\\xb9\\xce\\x8fO\\xac\\xcfQ!\\x12\\x1e\\xa0B$\\xe5m\\xa8$\\x0c\\x05yv\\x0f&\\xa4i\\xab*\\xc8\\xd8W=(\\x9ao\\x07\\t8pr\\x93\\xb7?r\\x11\\xa0\\x91\\x1f.\\xc8\\x10Uy\\x1b9\\x07\\x82\\x8d\\x8c\\xd6\\xd80 g\\x0ci\\x8a\\x17\\xc9\\x1a\\xa2\\x13UwzF\\xd5`\\xbe\\xcdF\\\\\\xfc,\\xfc\\x82Tg\\xae\\xf5\\x83\\xca\\x8a\\xfe\\xa2\\xc1\\x86\\xa8\\xc7[\\x05\\x05\\x1b\\x19u\\xee\\x86\\x18Q\\x88\\xba\\x85g\\x88\\xec4\\x07\\x06]\\x8c\\xf4\\xc9NT\\xe3\\xd9\\x8b\\x11\\x96\\x9d\\xbc\\r\\x92\\xeb\\xfd\\xe0\\xc5\\xa9J\\xca\\x10\\xe9x3\\x89.\\x0c\\xb8 \"C\\xec4\\xe0\"\\xa3\\xdc-\\xb8\\x88(\\xbel\\xd2\\xf2\\x8b>\\xd9\\x19\\n\\x0fm\\xfb\\x05\\xcbN\\xde\\n\\xc9\\xe5\\x80\\x0e|0\\x1b~!\\x12\\xf1\\x06\\xd4\\r\\x08`#\\x835\\xe1\\xa9(\\x7f\\x15\\x03l\\xc4\\xb6\\x17\\xf3\\xd5$\\xe7\\x19}\\xda\\x93*\\t\\xb9q\\xe2e\\x14\\x0b\\x1b%&u\\x8b\\xd8J%}n\\x03}G\\x12d\\x88|\\xbc\\xe1;\\x1f\\xdem\\xc0FF)\\xbb\\xc25\\x0c\\xe8\\xa3\\x0fdDt8\\x98$\\xe6\\xd8\\xe8\\x93\\x9e\\xa8\\xd5\\xb3\\x17\\',=y;$\\x95\\xfc\\xb9\\x9a\\xa7$\\xd23C\\xa8\\xaa\\xc4\\x8e\\x91\\xc4\\xa79\\x1a\\x10\\xda\\x81\\x08\\x85|;\\xf0\\x10\\xc1\\xeb\\xd9\\xac\\xaa:\\x1e\\xfa\\xa4\\'\\xca\\xf1\\xec\\xf1\\xc0\\xd2\\xd3\\x1fu\\x85\\xc4H\\x12\\x91\\xdfi\\x81Wd\\x90\\x86\\n8E\\x02\\xab\\xef\\xcad\\xd4\\x1c2\\n<\\x81\\x8a\\xd8\\xf0\\x8co\\xca4\\xd2\\x05J\\xef\\xf4\\x0c#\\xc1|3]\\x88E\\x11 \\xee\\xd1>\\xc6T\\xf0\\xe7jN\\xc0\\x88K(\\xe4ZM\\xa6Um\\xfd_\\x1bR\\xe4,\\xb9i\\xfb\\xd5\\x10\\x14\\xd7\\xe9\"bWv\\x86\\x0e\\xcb\\x15N\\xde\\rI\\xd5~\\xae\\xf8:\\xb1\\xbb\\xdf\\xe7hA\\x1f\\xee`#\\xebJ]\\x97\\x92\\xf0PH\\xd5\\x83x\\x84@(\\x91\\xd2\\xf4\\x88>\\xc1\\x89:<;\\xc1!\\x16\\x85G\\xe8\\x8f\\x87\\xeb\\x82G\\xa4\\xb5\\xc8\\x9b[i\\x01\\r\\x19\\xe2)\\x1bh\\xc8(=\\xf6y\\x0b\\x84O\\xc4\\x96\\x03N,\\xb6\\x82\\x03\\xd7\\xdcqp3\\x14\\x1c\\xda\\x0e\\x8e\\xb5C\\xe7\\x13nA\\x05T\\x880\\xc4T\\xbd\\xe2\\x13\\x19t<\\x81\\x89\\x0c\\xd1N\\xa1B\\xb5S&\\x82\\xa2>\\xbc\\xf6Y&L\\x14\\xd4\\xe9\"\"J\\xc9\\xe8\\xa0\\xeb\\xb1\\x7f\\x1aFC\\x87\\x8e\\x08U4\\xc9\\'D\\x15b\\xe0 U\\x08\\xb7H(\\xbf\\xff\\x90!\\xce\\xb4\\xf0\\x89\\xd4\\xeeJ!\\x07\\x9f\\x88\\xe0m8*\\x87\\x8e\\x8a>\\xad\\x89\\xea;{\\xe1\\xc1Z\\xd3\\xac4\\'*D\\x14^+\\xef\\xbe\\x80\\x8a\\r\\x14~\\x91Q~\\xf8\\xa0c\\x03\\x05\\x1f\\x11m\\x9fICI\\x9d.\\xcf\\x88br\\xcb3Xnr\\xb2\\x10\\xc9\\xb8\\xaeUr\\xd6\\xcc +F\\x90\\x91QN& \\xc3\\xa0\\xaecp\\x11\\xc1\\xb3\\xd9\\x8cr\\xae\\xd1\\'6\\xa9x\\x10G\\t/tr\\xb6\\x10Mx\\xc5\\x17\\xcd\\xdd%\\xc312HD\\x81\\x8a\\x0cV\\xa9\\xd8@\\xc1ED\\x073\\xb9q\\\\\\xf4IM\\x14\\xe0)\\xc3\\xc4=\\xf3\\x97Q,\\xec(\\xc2\\t\\xc3\\xc8B?`\\x82\\x8c\\x8cVf!\\n\\xf2\\xc4\\x16~a\\x9az\\xcd\\x0e2Dp\\xea\\xf3s\\\\\\xf4\\xc9MT\\xe0\\xd9\\xe3\\x82\\xe5&\\xef\\x8a\\xa4*?k\\xf6d\\xc7H\\x8a\\xb2\\x92Z\\xe1\\x19\\x19\\xa57J\\xc0E\\x1b\\x04\\x15\\x11l\\xbf(\\xd4W=h\\xa4\\xeaA\\xe4\\x17ba\\xfd\\x82wER\\xf9\\xa0k\\xf5]\\x08Ey\\x9c\\x99\\xd6K\\x08\\xa7\\x13\\xd6\\xb6\\x8e\\xc7\\xd9\\x80<\\xef]\\x12:\\x1c[\\x02\\x03uuz\\xb2g0\\xb7\\x02\\x83\\xd9\\x88\\xb2\\xb4`CG2\\x19LR\\xa9\\x9f+\\xbf*\\xf9\\x1c-\\xe8c\\x08d$\\xd1\\x89\\xa6>\\x10\\xc0\\xc6\\x06\\n6\"zVMZ\\x86\\t\\xca\\xebt\\x91\\xe1\\x85\\'\\x93\\x11-\\n2\\xf4I$2\\x92~\\xe4J\\x9d \\xc3\\x80\\x152\\x14\\xcd\\x022\\xf4\\n&Z\\x10h\\x88\\x10\\x8a\\xd0\\xe5F\\x8e\\x07\\\\p\\x87\\xeaD\\x1d\\x9e\\x9dt!\\x16\\x05\\x0f\\xaa\\xf4\\x12\\x0fI=\\x9e9\\x01\\x82\\x88\\x84V\\xea\\xf1)\\x88\\xa6zS\\x89\\x89\\xd4\\xb2R\\xfe\\x13dD\\x14\\xa7\\xbe[d\\xf4)O\\xd4\\xe1\\xd9##Z\\x14d\\xb8\\x8b~\\x8c\\xa9\\xd6\\xcf\\x95\\xdf\\xbc\\x06\\x17I@2\\x88\\x00\\xc9`mgd\\x0b\\x05\\x19\\xb1msw\\x1d\\x15v\\xba\\x1c\\xc3KO\\x0e\\x10\\x96\\x9e\\xfc\\xa1\\xacT\\xf2\\xc7\\x1e$\\x0c\\xcf\\x16L$\\xedx\\xe1=VP\\x91Q\\x17t\\x08\\x0f\\x85H\\xd9\\x83\\x07AO\\xea\\xa4.B\\xfaD\\'\\n\\xf2\\xec9\\x05\\x8bN\\xb3b\\x92\"$\\x89C\\x94\\xc6\\xf0\\xb9\\x0f\\\\\\x18\\xd4\\xf9\\x13\\xa8\\xc8`Mj)\\xea\\x9e\\x10\\xa8\\x88\\r\\xf1Q\\xefV|\\xf4iNT\\xe5\\xd9\\xa3\\x825\\xa7YOLT$qx\\xaa&\\x8b\\r\\x14\\\\d\\xb4\\xf2)9\\x0b\\xfa\\x84\\x0b6Du\\xb6\\xc7\\xd3>\\xd5\\x89\\xca<{lD\\x8b\"[h\\xaaJl$uh\\xbeG\\x93\"$C.\\x06\\xc0C\\x86\\xe8\\x9bI\\x08\\x90\\x0c\\xba\\xd1\\x1b$D\\xe8\\xdc\\xdc\\x19B\\x89\\x9d\\xae4\\xb1+7C\\x87n\\xb2\\xee\\xd6\\x9c\\x902\\x93,\\x1ch\\x10@p$p\\xe4\\x95;0\\x91Pn\\n&2\\xe8x\\x07\\x13\\x11\\xc2G\\x7f\\x1b\\xc1\\x81\\n<=L\\x04\\xf3My%\\x16\\xd6\\x1dx/$\\xd5\\xfd\\xb9\\xe2c\\xc4\\xde\\x87\\x9f\\xa3\\xa2\\x94%\\x14\\xd2\\x1b\\n~4\\x9bV\\xb53\\'\\xa9\\xa1y\\xed\\xb5L\\x98(\\xb0\\xd3E\\x84_\\xdcty\\xe9e\\x0c\\x1d:\\x97p\\x9e\\xfaX\\x8d\\xa2r\\xc6\\xd6\\xa9\\xbbY\\xf0`@\\xcf\\xd2\\xa4\\xe8@\\x93\\x17\\x90\\x91\\x9b:/\\\\\\x12t2\\xdf\\xd5wL\\xf4\\x89LT\\xe3\\xd9\\xc9\\x10bQ\\xb8\\x84\\x8bu0\\x91\\xe4\\xa0\\xf9\\xe6\\xbcd\\x88\\x0c\\xf9\\x19\\x1cH\\xc8\\xadj\\xa3\\x86\\xa24\\xb7\\x07\\x0f\\xb1\\xe9\\xb9Y\\x04\\x02\\xe7\\x93\\xfa\\\\b5\\xdf\\x8e\\x8dhQ\\x10\\xe1\\xfc\\x18D$5\\xe8\\x8f(\\xc3!2\\xe4|\\x05Dd\\x88VD\\xe1\\r\\x06\\xf4\\x8e\\x04\"\\x12\\xda\\\\\\xd0CQ\\x9d\\xae\\xd8\\xd8U\\x98\\xa1C\\x17\\x1b\\xee\\x96@\\x84\\xe8\\xc4K\\xf5\\x1d!Ei\\x8c\\x04\\x1b\\xb9i\\xe5\\x1c\\x92\\x82\\xac?\\xc1Fl\\xda\\xae\\x021\\xa2\\xb0N\\x17\\x1b\\xbb\\x1a3t\\xe8\\xd8\\xd0\\x85\\x12\\x19AS\\xad\\x1f\\xb8k-e\\x8a\\x1e\\\\\\xb9rD\\x82\\x8d\\x0c\\xf2\\xa1\\x128GF\\x89+\\xb0!\\xe0\\xad\\xa9\\xb8Q^\\xa7\\x8b\\x8d]\\xa1\\x19:tl\\xb8\\xe4\\n\\xdf\\x10\\xb5x\\xa9\\xbe5\\xa5(eU\\xb0\\x91\\x9a\\xdej\\xf3s\\x8b:\"\\xc1\\x86H\\xcd\\xa1\\xf9\\xc2\\x10j\\xect\\xb1\\xb1\\xab5C\\x87\\x8e\\r\\x15\\xba\\xc97D/^*E\\xf6\\x9052\\xca\\x8b\\xdb\\xa0#\\xa3\\x15\\x8d\\xa5 {\\x0e\\xe8\\x88M\\xf1B\\x992\\xe5\\x86\\x92>\\xb1\\x89\\xba<{\\x19\\x94\\xc5\\xa6\\x99\\x17\\':\\x9224\\x1f\\xabJCI\\x82p\\xf8\\xcaOP\\xc0EB\\x0f|\\xbb\\x08\\x94\\x8c\\xf2\\xaa9\\xc8\\x88\\xe8\\x80y\\x88\\x8e\\xf2\\x8e\\x8d>\\xd5IE\\x85\\\\\\x14@b\\xf0\"\\'\\xef\\x8b\\xa4\\xe2@\\xd7\\xea\\xeb2\\x8a\\xeaU\\x07\\xae\\xc0F\\x96\\x955\\xcf\\xc8 \\x13\\t2\"\\n\\xad\\xd1\\x90\\x9d}5\\x85F\\xaa)\\xe4\\x84\\xeeK\\xb2\\xb0C\\xab\\xa3\\xeb\\xb1\\xdaD\\xb1u\\xa8\\xa9NEy\\xc26\\xe5\\xb6\\x17s@5\\xf04g\\xe8\\xea\\xddmI\\x10>q\\xa2\\x17\\\\\\xfa\\x04J\\xed\\xf4$\\x8c`n5\\x86\\xf6\\x1b\\xae\\x06D\\xf0\\xf2&\\xe5\\x0b\\xa9\\xefs\\xa4+~\\xae\\xcd\\x9b\\x1c\\x81\\x85\\x8cVT\\x86\\x82N\\xd3\\x80\\x87\\xd8\\x0e\\x1fEj\\xf9C\\x9f\\xe6DM\\x9e\"Qx\\xaf\\x07\\r\\xd1\\xc2\\xfa\\x83\\xa3\\n\\xfe\\x90\\xc5#\\xbfA\\x0b&2\\xca\\xc9\\x00Ld\\x94\\xdb\\xc2%2J\\x03\\x10\\xc8\\x88 \\x8e\\xf9\\xb6\\xc8Xe\\xe2\\xf7\\x1fuFQ\\x9e=2\\xa2\\x85%\\xc3Ki\\xb0!2\\xf0R\\xfb\\x1c\\xa9\\x82\\x8eE0\\x91\\xdbUN\\x17(\\xc8\\xfa\\x1cL\\xc4\\xa6\\xc3\\xb19+C\\xa5\\x9d.*\\x9c\\xf2\\xac\\xf8E\\xb4(\\xa8P\\xa7\\x0c1\\x04*\\xb2|t\\x10\\xbc\"CU\\xaf\\xc8(O\\xe2\\xe1\\x15\\x19u\\xb9\\x16LD\\xa89\\'C\\x9d\\x9d.\\x1e\\x9c\\xe6\\xac\\xf0\\x10-\\n\\x1e\\xdcU\\x81\\x87,\\ri\\x04\\x00\\x13\\x19\\xe4\\x11\\x00^\\x91\\xd1j|\\x18\\x94\\'$\\xd2vh~\\xd3\\x1a\\xa5v\\xba\\xd8p\\x9a\\xb3\\xc2F\\xb4(\\xd8\\xa0\\x19j*\\xffs1\\x07K\\x83\\xc3\\x80\\x8b\\xa4)\\xcd\\xe77\\x02\\x04\"\\x12\\x84\\xb0\\xf2\\xb7\\n\\x97\\xc8\\xa8\\x8b+\\xb8D\\x84\\xcc\\xd1\\r7r\\xf4IMT\\xe4\\xd9\\xcb\\x12\\xd1\\xa2 \\xc1er\\xb8D\\x92\\x8bF\\xe5$\\x12\\x14\\xa2;\\x05\\x0f\\x19\\xe5C\\xe2\\xe0!\\xa3\\xce\\t\\xc1C\\x84\\x86\\xe6\\xcbS\\xa8\\xb0\\xd3\\xe5\\rNdV\\xbc\\x81E\\xa6\\xd9\\x89J9B\\xd4\\xe0\\x05{\\x9e^I\\xc2!\\x0c\\xea\\x9f:\\xb8\\xc8h\\xed<\\xef\\x16\\n:\\xa4\\xad\\xb9\"\\xe7\\x17}*\\x13Ey\\xf6\\xfc\\x82U&o\\x81\\xa4\\xba@\\x17|\\xd8\\xdb\\xdf0\\xe8\\x10\\xb5\\x08\\xb2\\xf2\\x98\\x97\\xe2#C\\xb4F\\x03\\xb7\\xc8 \\xf7\\n*De\\x1e\\x1a\\xd3\\x8fc_A\\xa1hn\\xc4\\x15yF\\xb2(B\\xc4\\xcb\\xcc\\xd5H$\\x14\\x0f\\x02\\xcfMt\\xca\\xe8\\xc5\\x1c\\xcc\\rD\\xcd\\x16\"\\x86\\x97\\x84\\xdeZ\\xdf\\xf48\\x86*A\\xdf-*\\xa2\\xf96\\x17,4i\\x17d\\xedF\\xb8\\xe0\\x93\\xfa\\xe0\"\\xa3\\xbcd\\x0b.2\\xca+\\x1e\\xa0c\\x03\\x05\\x1d\\x11\\x1dZ\\xe7\\x16\\x8f(\\xb9\\xd3\\x914\\xa2\\xf96\\x1d,8\\xa9`\\xc8\\xdaM\\xa0\\xe3\\x82\\x93H\\x14%\\x06\\xe5\\xb4\\x00:L[u\\xf8\\xe4\\x1c\\x19\\xe4\\xa6`#\\xa2CKq\\x1eQv\\xa7\\x8b\\x8d\\xd5|\\x9b\\x8dha\\x03\\x85\\xde\\x0eY\\x7f5\\xb2\\x81\\x93\\xbd\\x1562Js\\r\\x90\\x91A\\xa7\\xd0\\xe0\\x18\\nQb\\x06\\x15\\x11=\\xb5\\xde\\xd8?\\xa2\\xe8N\\x17\\x15{\\x8a3v\\xe8Vp\\xdcE?V#\\xa1\\xc2-\\xfc!H\\x14\\xa2\\xa5=\\x03\\xd2\\xba\\x1f\\x98\\xc8-\\xd9\\xdb\\xc0DD\\x073\\x90\\x17\\x03\\xc91\\x94\\x0b\\xea\\xc8\\x18{\\x9a3v\\xe8\\x98p\\xc3=\\x98\\xc8\\xd2\\x90O\\x1a\\x81\\x0cA\\xaf\\x07\\x9aX\\xc1)LS\\x8e\\x90\\xdc\\x92\\xb32\\xc8\\x88\\xe8\\xd0<rrD\\xf5\\x9d.\\xbf\\xd8\\xd3\\x9c\\xb1C\\xc7\\x86\\xd7\\x9c\\xab\\x91\\xe4O\\x1e\\x00\\xc1FB+u\\xa9@GB\\x0f<\\xb2*8Pt\\x81\\x8d\\xd8\\xf2~<\\xab\\xfes\\xbe\\xd1%>\\x8f\\xbe\\xd6Pede\\xf1i\\xf6,\\xa3\\xe6Z\\xbb\\x89lT\\xee\\x17ld\\xd4\\xc5\\x10\\xa8\\xc8\\x10\\xdd-\\xc2\\xc4\\x80>\\r\\x81\\x8b\\x88\\x9e.\\x17u)\\xc7E\\x97\\xfe<\\xfajC\\x15.X\\x7fz\\x85\\x898I\\x1a\\xf2^\\xf5\\x8c\\x8c\\xf2\"7\\xe8\\xc8(\\x8f\\xbb\\xe0#\\xa3\\x95\\xfd\\x91\\x84\\x9e\\xce\\x17\\x15>\\x8e\\x8f.\\x01zD\\xd5\\x9e\\xbd\\xc1\\x84\\x05\\xa8?.\\x0f>\\x92T\\xe4/\\x9b\\xc05\\x0c\\xe8\\x1f1\\xe8\\xc8hUhd\\x94%\\x0c\\xdc#\\xa2X\\xd9\\xd2\\x9c^\\xd2\\xd1Wt\\xe8\\xe8\\x8b\\x0e\\xb1{\\xd4\\x8a\\x0e\\xe9\\xb3\\x90PIE\\x87.\\xf8P\\xad:n\\x00\\x9f\\xebo\\xc4\\xd1\\x06 \\xd3\\x91Q\\x1cGsMg\\xd3T\\xef7\\xf4\\xba$\\xe8thS\\xd1\\xb5\\xd8yD\\xe1\\x9e\\x1d\\xcf\\x10\\x8bBf\\xb8\\x19\\xc6c\\xedF\\xc6V\\xbe[p\\x91Q\\xf6\\xf6\\xc9\\xa0n\\xa0\\x02\\x13\\xb9\\xa1\\xcb\\xda`\"BxUB\\x9f\\x8bs\\x8a>\\xf9\\x89\\xb2={L\\xb0\\xfc\\xa4\\x8d\\x91c\\xaa\\rtA\\x8d\\x0f\\xf7dAD\\x96\\x90L\\x13\\x88H(N\\xf4\\xf9d\\x04.\\x12\\x8a\\x17F<\\n:\"z\\xbf\\x1a_vt\\xacr\\xf1\\xfb\\xa5\\x06J\\xf7\\xec\\xd1\\x11-\\xacc\\x98\\x1fO1\\x92\\x94\"\\xee\\xc9\\x87\\x01\\xf8\\xd8@\\xc1GFYp\\x83\\x8f\\x8c2[\\xe0#\\xa2Ck\\xdb\\xec\\x88Z<]t\\xecj\\xd0\\xd0a\\xa95\\xd43\\x13\\x1bI-\\xd6\\xd9H\\xa8\\x7f\\x83\\x12T$\\xa8\\xee\\x1a\\x19\\xa5l\\x02&\"x9\\xea\\x88\\xed\\x1c\\xa3k\\xdd\\xf3\\x88\\xaa={\\x8e\\xc1\\xeb\\x9e\\x9c0\\x92\\x8e\\xa4W/\\xd7\\x1f\\x88\\xb9\\xc4C\\xa0!C\\xbc2\\x0c\\x8f0\\xa8\\x0b=\\xd0\\x10\\xc1\\xb3\\xae\\x01:\\x16\\xfa\\xb4\\'\\x8a\\xf5\\x94,\\xb8T\\xfdr\\x14\\x0b\\x1b\\x1e\\xfa\\xdb\\xc9\\x1fD>\\xe2\\xcd\\xf1Ztl\\xa0\\xe0\\xc2\\xa0>\\x1f\\x80\\x0b\\x832\\x17\\x114\\xdffr\\\\\\xf4)O\\xa9\"\\x14\\x132\\xde\\xb3;2\\x17\\xac<is\\xe4\\x98\\xca\\x05\\xa1XX\\x8d\\x0cQ\\x90\\xb5\\xd3\\x17\\x9bM\\xc1E\\xbb)\\xfc\"\\x82\\x83)\\r\\xe8\\xc8\\xe8\\x93\\x9e\\xa8\\xd8\\xb3\\xe7\\x18,=\\xcdh\\x9e<#\\x0bD\\x96\\x8f\\xc8\\x9b\\x06\\xf5Y\\x15\\x9e\\x91QVS`\\xc3\\xa0\\xec\\x19\\x11\\xc4[\\xbdy\\r\\xd1\\xb1\\xd1\\'<}\\xbd\\xa1\\x8ak\\xb0\\xf0\\xf4\\x1f{\\x81\\xbcH\\xfa\\xf0\\xcew\\x0462\\xaaS\\xa9@#\\xa8\\xc8PMv*\\xea\\x1a\\xc2-b\\xc3\\xd6\\'\\xcf\\x8f}\\x95\\x86\\xa2\\xb9]\\xcdQ~\\xc3\\x95\\xbe$\\x0b\\x9b.\\xcc\\x8e\\x9dxE*\\x0b\\x84 \\xc8\\xcf\\'@\\xcf\\xb5}\\xcc\\x9a\\x95\\x93\\\\\\x93A\\xe9\\x00\\xd2\\xbc\\x05.\\tl}G\\xec\\x88\\x1a<=\\xe3h0\\xdf&\\xa2\\xb2\\xe6\\xe9\\x1e\\xcfc\\xfd\\xd5\\xe6\\xdd\\x82\\x0b\\x83:\\xa2@\\x85\\x82%\\x87 B!\\xaf\\xdd@D\\x04\\xcd\\xfak\\x19\\x19}\\xc5\\x86\\x8e\\xc1|\\x9b\\x08\\x96\\x9bfC\"yDR\\x85(\\x88\\xebG\\x01\\x10!\\xe8\\xd5|Q54\\x04\\r\\xda\\x90hP\\x88\\xfa\\x04\\x0f\\x82\\xb6\\xf6Q\\x8f\\xa8\\xbc\\xd3\\xe5\\x11\\xab\\xf96\\x11\\xd1\\xa2\\x08\\r\\x153\\x89\\x08\\x91\\x83W|\\xbd\\xb7B\\xc4\\x06\\n.2\\xea\\x1c\\r.\\xa1\\x10u\\x0b.\":\\x9cu\\xe6\\xe2\\x9c\\xa2Oe\\xa2L\\xcf\\x1e\\x17\\xd1\\xa2\\xe0\\x82df\\xaa\\x05t\\xe5c\\xcb\\xf0\\t\\x11\\x8bW\\x1c\\x82\\xe7\\xe0H Zz\\x16AFB\\xfd:3\\x98\\x88P\\xf34\\xd2\\x11uw\\xba\\xbc\\xc2\\xabLN\\x98\\xac2Ml&\\xaf\\x10I\\x88\\x83Y\\xa5\\x97\\x83\\x07\\x85\\xe8V\\xe1\\x12\\t=8\\xd1\\x06\\x16\\x14\\xa2\\x86 \"\\xa2\\xc3Q\\xb9u.\\xd1\\'4Q\\xa4g\\xcf%\\xa2E\\xe1\\x12\\xee\\xa2\\x910\\x93\\x1e\\xc4\\xf0\\xe0\\x15\\x03\\xb8\\xc8\\xe8\\xff\\xa7\\xec\\xdc\\x12d\\x05a \\xba\\xa5k?\\xec\\x99\\xdfy\\xee\\x7fG\\xf7\\x08$\\xc4\\x14\\xea\\xf0]\\xe0L\\x1fC(@M\\x1aW\\x80p\\xa9\\xff\\xa0\\x02\\x17\\x10]\\x1a\\x81\\xa8*\\x95\\xc4\\x9d|\\x021\\xe72[\\xed\\xa0\\x9a\\x85\\x87.sP](\\x07* \\x9a\\x19|\\xb1);\\x00\\xe1j\\xdap\\x00\\x84K\\xa3\\xb5\\xc7\\x99JP\\xd4\\xbe\\x87\\x9fQ\\xbbStgjt\\\\\\x9a\\xccr\\xc1\\xfdj4<\\x18f\\xa3\\xa3YA\\xf2\\x84\\xdf\\xa3\"\\x11\\x11&\\x8d^\\x95\\xe9\\xea\\xe0U\\x99 \\xea\\xa2\\x06\\x14\\xed\\xc2G\\xcf\\\\\\xdc\\xa9\\xbc3\\x85\\xa2\\xfa\\xc7\\xb3\\xb0P\\x87)\\xdf\\xca\\xda\\xfej1\\x14\\xafl\\xba@q$\\x11\\x13.\\xa5\\xf4\\xc4\\xe0\\xe8\\xd2hpT\\xf5u\\xb8=Q\\xca\\x01\\xfd}\\xb7\\xa64?\\x9dD[\\x8b\\x98%\\xc2\\xc1m\\x0b\\x08+\\x03\\xb4\\r\\x8e\\x9c\\xfe\\xbf\\xeeQM\\xc9\\xe0\\xbb\\x8b|\\\\-\\x8f\\xab\\x9f\\xae\\x0e.\\xfck\\xea\\xc2\\x87\\xa2<\\x0e\\xf7\\xb9\\x82\\xd2;3AQ\\x9a\\x9f\\xe3P\\x97\\xa9g!V\\x0e\\x08\\x1c\\xfe\\x7f\\xb5\\xf1\\xd1%]\\x91\\x00\\xa3\\x19\\xc9\\xedy\\xe0D\\n\\x16\\xc7\"(\\x9ax\\x0b\\xaf\\xe8$\\x14s\\xdb\\x9aT\\xe9\\xb9\\x98?Z\\x8b]d\\xa4\\x7f\\xfa\\xf3n\\xa5\\x80\\xd6AaJ\"\\xc3\\x1c\\xe3@\\x85\\x86\\xa9\\xc3\\xcd\\xab\\xae\\xa6M\"`\\xd4\\x8e\\x8f\\xd7\\xbf\\xce?\\xc1\\xe0\\xbf\\x9e\\xd8\\xd4\\xa4R\\xcf\\x15\\x8c\\xdab\\x07#\\xcd\\x89\\xc0h\\xa6p}\\x8ev*\\xba\\x9a:B\\xa2w\\xdc\\x07\\x14Q\\xd1%\\x19z\\x90\\xa8*\\xaf\\x01tH\\x89\\xc4\\x9c\\xd3\\xa4R\\xcf\\x15\\tu\\x9aRH\\xfdn\\xd5\\x80Vy\\xe74H\\xb2\\xe4\\x04Ds\\x92\\xebCO\\x8aa\\xe1\\xaat\\x05E\\x15\\x1f\\xef!S\\'\\x14sV\\x93Z=W(\\xd4jJ\\xf9\\x90\\xbb\\x95\\xfcY\\xc3\\x9e\\x81%\\x8b\\xe6\\x18\\x91r:\\x00\\x85\\x8b\\xa3]\\xee\\xae\\x8ev\\xb9\\x9b\\xca\\x17\\xf1{\\xa8%\\x16sn3\\x97\\x19\\xd2\\xfd\\x9a\\xd6b7@z\\xd6\\xb6y\\xc4\\x9caH\\xe8\\xc6\\xc2\\xa4U\\xfd\\x170L\\rq^:\\x12\\x14&\\x85\\xbd\\xa9\"\\x11\\x12Uz\\xa3`\\xbb\\x0f\\xab\\x84a\\xcekR\\xa9\\xe7*$tGS\\x0f?\\xac\\x16\\xd0:\\xf80\\x01I\\xb3\\x19JN\\xbd\\x07Q\\xe1\\xa2\\x0c\\x01P\\xb8\\xa8k]h4\\xb3\\x196\\x15\\x13\\x8c9\\xb3I\\xbd\\x9e+\\x18\\xb5E\\x8c\\x89n\\xfa-$\\x9a\\xef[\\xf9\\xc0I\\xf6\\x07\\xb005\\xdc\\xc1\\xd2\\x91\\x900\\tL\\xb9#(\\\\\\xd5G\\x7fAQ\\xd5\\xe5\\xdf\\xb1\\xcf\\x9as\\x9b\\xd4\\xeb\\xb9b\\xa1n\\xb3\\xa7lc\\xd1\\xbc\\xe1\\xca\\x874\\x076+\\xa8i\\x1e\\x86\\x86\\x8bz\\x9e\\x06\\rW\\xf5\\xc2\\xd0\\xa8j8V\\xd9\\xc7E\\xa9\\x0c\\xf4w\\xcf\\xd9\\n\\tu\\xe7\\xdd\\'\\xe9\\xf2;?\\xee\\xadE\\x8c\\x0bI\\x15\\xad\\xe8\\xcf=>\\xfbQ\\xba\\x7fm\\xdd\\xeb&\\x1fw>c\\xfa\\x0e\\xaaz\\xd5\\x9f\\x9d\\x9a \\xfe\\x9axXg\\xe8Nu\\x9e\\x19[Q\\x9aG\\xbb\\xa9$\\xd4n\\xe6\\x1d\\x89\\xcf\\xed\\xaf\\xb6\\xdf\\xdb\\xb3\\xb9\\xa18\\x92\\xe0\\xe0R\\xfa\\x9d@8\\x92@P\\xa5%\\xac\\xfcR0\\xcc\\xd9L\\xca\\xf4\\xec\\x07\\x86\"\\xa8-b0\\x84\\x0c\\xd5F\\x86\\xd5\\x02Z\\x1f:\\xd8\\t\\x083\\x92\\x0fy\\xda\\n\\x0e.\\xaa)\\x03\\x85\\xab\\xd2\\x15\\x18M<\\xfa\\xbc\\xc9\\x9d\\xda;S\\xf1\\xb05?\\x8f\\x87\\xdab\\x07#\\x11#\\x1e\\xcc\\x12\\xde\\xf5\\xfd\\x0e`\\xb8\\x9a\\xd6\\x9e\\xa00\\xe96\\xda\\xc5\\x8bjN\\xa8\\xb0hN3l5\\xa7\\xc0\\x983\\x9a\\xad\\x88P\\r\\xb7m\\xdb&\\xfdL\\xb2\\x84\\x1a\\xcd`\\xed,0\\xcc\\x12\\xde\\xc5B\\x81\\xe2X\\x04\\x86\\x8b)\\x0f\\x13\\x14]\\xca30 \\xaaHa\\x99\\x03OA\\xe9\\x9d\\xa9\\xa0\\xc86SA\\xa8\\xcd\\x0c\\x1f64\\x10f\\x17\\xef\\xfa\\x81\\x93\\xbb\\x15\\nZ\\xef)\\xcf\\x82!\\xf4\\xcb\\xc9\\x14\\x12\\xae\\xa6\\x8ep\\xa8\\xd2\\x12.\\x99\\x02b\\xcebR\\xa8\\xe7jp\\x0c64Sncp\\x98\\x1d|$\\x89ppI?[\\x10\\xc4a\\x9a8\\xee\\n\\x89*\\xbe\\x07S\\x9bH\\xcc\\xb9Lj\\xf4\\\\\\x91P\\x97)\\xaf\\x85\\xdc\\xad\\x10\\xd0z\\xd7\\x89\\x10\\x18\\xe6\\x15\\xc3\\xd7\\x8aJ(\\x11\\x12.\\xc9\\x83\\xbeD\\x84\\x8bzUP4\\xf5\\xf0U\\x88R/h\\xc2Kd\\x8f\\xa9\\x83C=\\xa6|\\x1b\\xebn\\xb5\\x80\\xd6\\x87\\xb8fH\\x98U\\xcc\\x11\\x03\\t\\x97\\xd2\\xb6/\\x1c\\xba$&\\x04\\x0eU\\xa5~\\xcaQ\\x92\\x98\\xf3\\x97\\xb9\\xbc\\xd0 [\\xaa\\xbf\\xd4c\\x0f+ \\xb4\\xdee\\x04\\xc0\\xc1L\\xe2=%D8\\xb8$\\xb3$$\\x8eE@Tq\\t\\xe5\\xf0\\xf6cc\\xae\\xb6\\xd0=\\xd7\\x16R\\x10\\xa3\\xdaB)y}n\\x97\\xa9\\x96*3\\xfa\\n\\x92N\\x92\\xdfAM+\\x99\\x9f(\\r\"\\xc2\\xfe\\xe2\\xd1w\\xb1\\xee\\x94\\xda\\x99\\x996J\\xf3S/\\xd1ZD/\\xa1\\xc7\\x1e\\xad\\xc0\\xcf=\\x16\\xa9.i\\x00\\x10\\xe6\\x12\\xc3\\xab+-C\\xb8\\xc4\\x07\\xd6t\\xd2\\xe8j\\xe2\\xfek\\xd7\\\\C\\xd2I\\xe10g/\\xa9\\xcas\\x91*[\\x8b\\x1d\\x85>(\\xdb\\xe4\\xe9\\xc5}\\xee\\x12\\xdfpp\\x8b\\xd8w\\x11\\x8c\\x83I\\xe1!\\xba\"\\x11\\r.\\x891\\x01C\\x13\\xc36J\\xc2\\xb0\\xf9\\xc0\\xbf\\xa7I\\xca\\xf1\\\\a\\xa8-v\\x18R.eT\\x98?\\xd4\\xfd(0\\x988x\\xce\\x94qa*K\\xd74\\xf1\\xc2\\xc2D\\xfd\\xe09,\\xaaH\\xa1\\xc8\\x83TI}\\x9d)\\x16\\xd56\\x9e\\x18\\xcbr\\xc1t\\x06\\xd6\\xff\\xb8\\x85\\x84y\\xc0\\xb0,.\\x12$\\xba\\x94\\x7f+ L\\x1c\\xac\\xe1!\\xe1\\xaa\\x9e\\x86\\x80\\xa2\\xaa|N\\xad\\xdf\\x9a\\x14\\x17s\\xde\\x92r<Wq\\xa1\\xdeR\\xcf;\\xac\\xe6\\xcf\\xf6\\xfd\\xa3<\\xdc\\xc1a\\x1eq\\xf0|\\x1e<\\\\\\xd5\\xc7\\x93\\xe1\\xe1\\xaa\\xbc\\x1c\\x02\\x8e*\\xf2\\xd0Y\\xcf\\xb5\\t\\xc7\\x9c\\xc5\\xa4\\x1e\\xcf\\x15\\x0e\\xb5\\x98\\xf9\\x073L\\x9a\\x19\\xdcNq\\xb2\\n\\x0eW\\xf5\\xcd:p\\x98:<\\x0es5\\xaf\\x80\\x81Q;\\xf2\\xf5\\xd1C\\x18s.\\x93z<W0\\xd4e\\xea\\xbb\\x1fV\\xf4\\xe7\\x95\\r($\\x9a\\x19D\\x92\\x1d:H\\xb8\\xaa\\xbb8\\x04\\x86\\xab\\xda\\x17\\x18U]\\xd6\\xf0GSdl\\xb6p\"\\x81^\\xfaL\\xca\\xf6l\\xb8v\\t\\xb4\\xdf\\tK\\x1a\\xcd\\x14\\x8e`ti\\x904\\\\\\xd4\\xa7:a\\x11T]\\x987uy\\x0f\\xe7\\xf8\\x89\\xc5\\x9c\\xd7\\xa4*\\xcfU`\\xa8\\xd7\\xd4s\\x0f\\xaf\\xfbs\\xd3\\x93Pb\\xa3\\x99\\xc6\\xed+\\x94y\\x0c\\x11\\x1b\\xaej\\xc2\\x81GP\\xd3\\\\Ch4\\xc3\\xf9\\x08n~\\x8f\\xa3\\x94\\x00\\xfa{h\\x94\\xe6\\xa7F\\xab\\xb5\\xd8\\x85Fr>\\x9fw\\xaf\\xffs\\xd7p\\xff\\n\\xaa\\x1e\\xe7|\\x07upl\\xdc/\\xac\\x07\\'\\xbf\\xd6\\x95U\\xfa\\xd1\\x17=\\xee\\xd4\\xdc\\x99\\x19*\\xa5\\xf99\\x0f\\xdd\\xd4\\xd43\\x10/\\x02\\x94%`4\\xe3\\xc9;+:T\\\\d\\x0f+\\x0f\\x86\\x9f\\xdeu\\xa0\\x02\\xa3^xy?\\xda\\xba\\xa1\\xe6\\xce\\x14\\x8aK\\xf7Y.\\xb8\\xcf\\x1a\\x924\\xbcD\\x90\\xfe\\\\X4\\xa7\\xf8\\xba\\xcbkC\\xc4\\x85\\x89\\xfc\\xda4\\x10@a\"=\\xf3\\x08\\x03EU\\xd7C\\x07J\\xd5\\x9d)\\x14[\\xf3\\xf3\\xa8\\xa8-\\xe2(I\\xebL\\x06I3\\x8a\\xaf\\x9b\\xbe\\x10\\x06\\x8b\\xa0\\xa6\\x9f\\x0b\\x8b.\\xba\\x8flV<H\\x19\\x13 j\\xbf\\xe3\\xd11\\xe7>\\xa9\\xd0\\xb3\\xe7\\x90\\x8c\\xe5\\x07+\\xad\\xd2\"r\\xd0d\\xd1l\\xe2\\xeb\\xa6\\xeb+8\\x9c\\xa8\\x80pUS\\tQ\\xe1j\\x82\\x0f\\x89*\\xf1\\x1e\\xb6\\x03L\\x89s\\xce|R\\x9c\\xe7\\n\\x85\\x9aO=\\xfd\\xf0\\n@\\xc3\\xe1\\xd1\\xfc\\xe38U\\x988H\\x06\\x900U\\xaf\\x0b\\x8b*\\x86\\x0f\\xce%\\x14s\\xc6\\xb3\\x94!\\x8a\\xa3C\\xa3B\\x8dg\\xb8\\x0f\\xcd^x\\xfd\\x9f\\xf1\\xf00k\\x89\\x9a3#a\\xe1\\xaa\\xce?\\xc0p\\xb5\\xa7\\xc6\\xf2GA\\xd1\\x8c\\xe7z\\xb4&)\\x85\\x82&\\xe6\\xd3\\xec;\\x95\\x85\\xfa\\xce\\xfc\\xa0\\x15\\xa9\\xc2\\x0c\\xe2\\xa0\\xb4-C\\xc4\\xd5Q\\xdatQ\\x16\\x1d\\x90\\x08b\\xa6\\x08\\x8c\\xaa\\x1e~\\xb7\\x81Z;SY3\\xdbNe\\xa1\\xb6S\\x0fA\\xbc\\xfe\\x8f\\xce\\x03\\xa00\\xf7\\x98\\'Zb\\xc2\\xa4\\xfc\\xba*\\x18L\\xca\\xbd`P\\xa5%\\xdc\\x9348\\xe6\\xfc&Ey\\xae\\xf2\\x84\\xfaM=\\x00\\xf1\\xc2?:S\\x02\\xc1,\\xe3==\\xc9\\x0f\\x04\\x97\\x12| \\x1cI@\\xa8\\xd2\\xe1\\xfen\\xa9\\xfb\\xf3\\xf7AQ\\x9a\\x9f&\\x88\\xd6\"N\\x1b\\xe1(\\xae%\\x08/\\x064z\\xc0\\xdfE\\x0c\\xb9L\\x9f.j\\xcf\\x1f\\xbeU\\xd9\\x1e\\x82\\xcdO\\x86\\xfe\\x9a\\xb4\\x1e>\\xd6NY\\x9d\\x99\\x11Q\\x9a\\x9f\\x83Pw\\x19V\\x81\\x06\\xc2,d~L\\xff\\xeb\\xeeU\\x80\\xf4\\x19\\xcc\\xef.\\xe6~@\\xb0Kj?0T\\x91\\x82t\\x07s\\xe7\\\\\\xf5\\xa0{i~\\x8e\\xa1z\\xcf]<\\x88\\xb5\\xb4:?k\\xd8~/\\x84\\xc0\\xd0\\xec\\xe1\\xfa&[\\x9e`p\\xb1\\xff\\x9e\\xd2\\x0f\\x0c]\\x92Y\\x06\\x0eM\\r\\x9fc\\xdd\\xe7\\x86R\\xecgb\\\\\\xf0\\xfbv\\xb62\\x8d\\xd1\\x8f\\xfb\\xa8zP\\xb26\\x9f[\\xa3\\xba\\xdd\\x1fN\\xf2\\x8d\\xc3\\x91\\x04\\x05\\x97\\x04\\x11\\x1c\\\\\\xd4\\x07n\\xe0P\\xd5\\xe3/SPLgjX\\\\\\xda\\xcar\\xc1\\xfdJ#<\\xc3a\\xc3\\xc2\\xdc\\xdf?}\\xbc\\x92\\x90pUW\\x0c\\xd0pU\\xfb\\x82\\xc3\\xd5t\\x87`Q\\xa5\\xe5\\xe8\\x83\\xc4w\\n\\xeaL\\xb1\\xb8\\xf4\\x95\\xe5\\x82{\\x16z\\xf2ae|\\xf8\\xdc\\x9b\\x042,\\x9a;\\x1c\\xa9\\xb0pU\\xd7)\\xb0\\x08j\\x1a?\\xd0\\xa8\"_\\xea8\\xca\\x14s\\xd6\\x92\\x12<W#D\\xade\\xd8*\\xb2\\xc8h\\x06p\\xe5}\\xc1\\xf4?\\x03\\xc3\\xdc!a\\x93\\x97\\x92\\xc0\\xf0\\xae\\n\\x12\\x18\\xae\\xeaq\\x1a4\\x9a\\x1a\\x9e N\\xf9b\\xf3\\x82\\x13\\xf9\\xe2\\xd2\\\\\\xb6\\x12C1o\\xea[\\x1fV\\xe7g\\x947\\x9b?D\\xca\\xa0@\\xe1\\xe2h\\xdf\\xaa\\xab\\xc9\\x84\\xc0\\xa1v\\xc4Su\\xff\\x9d@\\xcc9\\xcb\\\\;(\\x1c\\xb8\\x95;N\\xe2Tg\\x99\\xa7w\\x12g\\xb3\\x81+E\\xa5\\xb2\\x1b&.L\\xcd\\x8f\\xdeB\\xc2\\xa4\\xb0]]\\xfe0\\x11\\xd1\\xa5L\\x10\\x10U|,a\\xc0&\\x10s\\xee\\x92*<W\\xe3C\\xdd\\xa5\\x1e\\x81X\\x9d\\x9f\\xf5\\x99\\xf2\\x1b\\x14\\x9aK\\x14\\t\\n.\\xa5\\xa3C(\\xb8\\xd4\\x13A\\x01\\x04\\x83&\\xb17z\\x90#\\xa8\\xa833*J\\xf3S7\\xd1Z\\xecFEJ\\x03\\x9fw\\xab\\xe3\\xb3\\xf2\\xbeF\\x12\\xbf\\x82\\xa8Y\\xe0;\\xa8\\xa9\\xe3O\\x94$\\xc4~]\\xa5D\\xfa\\x11\\x8b9\\x83\\xd9J\\x03U\\xbf\\xb6=w\\x96\\xee\\xe7\\xc7\\xbd\\xb5\\xd8\\xb1\\xe8\\xa3\\xb2\\xe5K+\\xf2\\xc3g\\x86\\x06,\\x9aU\\\\\\x9f\\xa3|\\x19\\xbb\\xe6l\\n\\x0e\\xeb;8Z\\x07G\\xf3\\x99K\\xd8o\\xdf\\x0f\\x0fJ\\xebL\\x85F\\xde\\xc2T\\x1cj4C\\xb66\\x1c\\xe6\\nu3\\x85\\xd0pQ\\x9e\\'\"2L\\xd4\\xb5+0L\\xd4\\xcb\\xc2\\xa2\\x8a\\xb7\\xe3\\x8fRP]g\\x8a\\xc5\\xd6\\xfc|\\x98\\xd4\\x16\\xbb\\xd0\\x10\\xb3i5}\\xd6\\xe1.MT\\xd3X\\x00\\x86\\x99\\xca\\xc1\\xa9\\x084NTpT\\x95\\xcd\\xed\\x9ePRh\\xccyN\\xaa\\xf1\\\\\\xe1\\xa8-v8d/\\xd3K\\xfe<\\xd5+\\x11\\x1b\\xcd7\\xae\\xa8\\x8a\\xc3E\\t\\x1ch\\xb8(\\xcft\\x01\\xa3y\\xce\\xe5\\xd8\\x81S^g*8.]g\\xb9\\xe0\\xdeu\\xe6\\xcd\\x13r\\xa8y\\xc3\\xfc\"\\x0b(\\\\R\\xa7Dh\\xb8\\xaa310\\\\M\\xfcAQ\\xa5\\xdb\\xe1N?\\x95u\\xa6@\\\\\\x1a\\xcer\\xc1=\\x08Y\\x99z\\xad\\x1f\\xee\\xbb\\x1a\\x8b\\xaeJv\\x85\\x849J\\xde\\xb2\\x1b\\xe4OW\\xc5\\x9f\\xc1\\xa2\\x8a\\x14=\\xe8\\t=\\x8d\\x919\\xbfI\\x19\\x9e\\xab1R[\\xc41\\xa2\\x19\\xc3l\\xe3\\xda\\'\\xfc\\x92X\\t\\x8a.\\r\\xc6\\x87\\x8b)k\\x13\\x10]\\xca\\xfd\\xc0P\\xc5%\\xec$&\\nsf3\\xd7\\x0e\\xca\\x9bl\\xcc\\xa9j6S\\xa024\\xcc\\x17\\x0e\\x8a7\\x03\"\\xa8\\x9a(\\\\Ll\\x01q$\\x81\\xa1JK\\xf0\\xff\\t\\xc3\\x9c\\xd5\\xa4\\xf2\\xce>\\x18\\xd2\\xdd\\x04\\x83ZM=\\xf0\\xb0\\xda?\\x9b\\xe7\\xce\\xf1\\r\\x07\\xf7\\x8dz\\xfe\\xc9\\xd8pU\\xfb\\xc2\\xc2U\\xf5h\\xe0\\xa8\\xea\\xe3\\xd0y\\xcf\\x15\\x0e\\xba\\xe7\\xc2A\\x1a\\x15\\xadE\\x1c\\x1bz\\xe8a\\xb5\\x81V^\\x0cL7\\xfek\\xfb\\x1b\\xed\\xd5\\x18\\x11\\xbf\\x838\\x98>Nz\\xfeZ\\xcf\\xe5\\xa8\\xc4\\xef\\x9d\\xa2:39\\xb34\\x8f\\xceB\"\\xa3\\xb5\\xd8\\xa1\\xe8\\x07.\\xcde\\xb5R>\\x9cN\\xc9d\\t\\n3\\x8e*\\x82\\xc2E\\xfd\\xc0\\xe4OP\\xd3\\xff\\x05\\t\\xeb\\xd83\\xf8~\\x8cPQg\\x8aD\\xf6\\x9b\\xe9/~\\xdc\\xcb\\x05\\xf7\\xb3G\\xc8SF\\xc2\\x8c!\\x0ft\\xeb\\x18\\xb1\\x12@\\xbc-\\xe4\\x8b\\x86\\xd2\\x11\\x10\\xdeQ6\\xc1\\xe1\\xe0\\xa2^\\x15\\x14U]\\xde\\xfa\\xbf\\x9cPp\\xf7&\\xf6*\\xa8\\xc0s\\x91.Z\\x8b]P\\xf4?n(\\xcc\\x15\\x86:WE\"$\\xba$\\x94@\\xe1\\xaaf\\x03X\\x9c\\xa8\\xb0\\xa8\\xea\\xe1\\xf7\\x8d\\xa8\\xa93\\x85\"[\\xcd\\xf4+\\x89\\n\\xb5\\x9az\\xfc\\xe1E~\\x9e\\x1a\\xe5\\xd0\\x08\\x861\\xc7\\x0c4\\\\\\x1d=\\xa7\\x18\\xd5\\x14S\\xc0h]\\x0f\\x9f!\\xa0\\xa8\\xce\\x14\\x8dl5\\x95Fm\\xb1\\x0b\\x8c\\xeeh,0\\xcc\\x13\\xf2fm\\xfe\\xbd\\xd0\\x08j6`\\xd0pu\\xf46LW\\x95Es\\x9b\\x87\\xcbuJ\\xebL\\xb1\\xc8nSY\\xd4\\x16;\\x16=Y\\x19\\x0bs\\x85\\xec\\xda\\rX\\xb8\\x9a \\x02\\xc2%\\r)\\x06\\x89\\xab\\xa9#AQ\\xa5G\\xa8$\\x9b\\xb2\\xc5\\x9c\\xd3\\xa4\\x14\\xcfU\\xb6P\\xa7\\x99\\xdfn\\xf8\\xbc{\\xb1\\x9fw}:\\x95\\xa00\\xd7\\xc8\\x83\\xbe\\xe9\\xd6\\x82\\xc2\\xc5\\xe1\\x08\\tj\\x8e\\'h4\\xc7\\x19>\\x07\\x91h\\xcc9N*\\xf1\\\\\\xd1P\\xc7\\xa9\\xe7!V\\xd0g\\xab\\t2\\x08\\x0b\\xb3\\x8e\\x83\\xba:\\xe0pU\\xfb\\x12\\x19\\xae\\xaa\\x11\\x03Gs\\x9e\\xa1dU\\xc21\\xe7<\\xa9\\xc6s\\x85C\\x9dg\\xf0y6J\\xcc\\x1f\\xf2\\x88\\x7f\\xbe\\x87\\x04\\x87\\xab\\xba\\xb9\\r\\x0eS\\x07\\xee\\x1d\\x1c\\xa6\\x0e>\\x04\\x03\\x8e\\xaa>\\xc2c\\x08;\\x1c\\x8f\\xb9bB\\xb5\\xf9\\x99\\xdd\\xb2\\x161i\\xc8\\x99\\xc8\\xd6\\xa8\\x99\\xcb\\xb4\\xbc\\xfa\\x8a\\x92\\x0c\\x94 \\xca(\\xfa9\\x13\\x7fM\\xe4\\x05\\x00\\xf7-\\t\\xc4\\x94\\xef\\xe4\\x90\\xe9\".\\xac\\xc5\\x0eD\\xf6\\x9d[\\xa3\\x06BG>,\\\\\\xd5\\x07P\\xbf\\x83*\\x0fs\\x02\\xc3\\xbb\\x8aC\\x07F\\x15\\x1fG~\\xeb1WG\\xa86?\\x8f\\x8a\\xc1Vg\\xba\\xf5\\x9f\\xdbe*\\x0c|\\xb6\\xe4\\x8c\\xa0\\xea\\xceE\\x10e\\xcb\\n\\x16\\xfd\\xba~\\xf3\\xcb\\xb8\\x84D\\x95\\xf8\\x0cV_4\\xa7\\xb8\\xe0\\x06\\xfe\\xddz>\\xa8\\xc4s\\x9e/\\xac\\xc5..\\xd2\\xd4\\x0b\\n\\xf3\\x88\\xa3ow\\x045M\\xc7\\x04\\x85w\\x1c\\xd8\\x8b\\xa0\\xea\\xde\\x100j\\xdf\\xdb\\x12\\xcat%\\x18S\\xe6\\x93\\x19\\xfa\\x12\\x86\\x9a\\xcf|\\xe7\\x81\\xe1\\x062\\xcd\\x9c\\x8c\\x90.I^\\x05\\x86\\xab\\t01\\xd1\\xa5\\x9cf\\x00QE8\\x1cf\\x8b)\\xdf\\xf9\\xa0\\x10\\xcfUT\\xa8\\xef\\x0c\\x07\\x96u\\x16\\xd9.\\xd3\\x06\\x88,\\xb1@\\x11\\xc4<\\xc5\\x80\\xc2U\\xc9\\x07\\xc0\\x08b\\xee\\n\\x8d\\xaa\\xbe\\x1f=e\\xf0\\xa0\\xb0\\xce\\xd4\\x10\\xb92\\x9e\\xf5\\x82\\xfb\\x85\\xaa\\x1c\\x8cl\\x8d*\\x0c\\x1e\\xfb\\xd7\\xb8pq\\x94,\\\\\\xd4\\xc5(0\\x82:\\x80Q\\xd5\\xe5-\\xd4\\xfcKcd\\xca}>\\xa8\\xc4s\\x15\\x1a\\xea>\\xc3\\x19\\x95\\x85\\x86\\x99D\\xbe\\x1e\\x99G\\x10\\xb1\\xe1j?\\xc1(\\x1d\\t\\x0c\\x93\\x16\\xb5S\\xc0pU\\x1f\\x97&2\\xaaz{\\x1d\\xd5\\x1d{\\x94\\xb2@\\x7f~\\xc8\\xa06?\\x9fH\\xd4|\\x06oc0\\x9aE|\\x8e\\x1e@\\xd9\\xfeH\\r\\x9c\\xf0\\x9dT\\x83\\xe1\\x1de\\x1b\\x08\\x16.\\xea9\\x01,\\xaaz\\xe3k\\xcd=\\x1aSdLY\\xcf\\x07Ex\\xae\"C\\xad\\xa7\\x9c\\x8bl\\x97i?W\\xdd4\\x91\\x11\\xd4\\xfe\\x7f\\x1b\\x0e\\x175\\x7fv)\\x8f>XT\\xf1\\x16\\x1e\\xf5\\xdb\\x93(\\xc5~\\xfe\\x1e\\x16\\xa5y\\x0c\\x8b\\xb4&\\xfcx\\xb4\\x16qRMS\\xe3\\xe7\\xd6\\xa6\\x80x\\xf2A\\xde\\xf4S\\xbf\\x82\\xa8[6\\xdf]}\\xd3\\x03\\xa4\\x9f\\xae\\xf2\\x9af\\xba\\xf0\\xaf\\x89\\xb7\\xb7\\xf0\\x80\\\\\\x821\\xe7<)\\xc3\\xb3\\x0f\\x0b\\x85Q[D\\x18i\\xf3\\x1e\\x18\\xe6\\x0f)\\xa3\\x96\\xb3\\x1c4\\\\\\x1d\\xa4\\xcf.\\xaaM\\x03\\x86w\\xd5\\x0bC\\xa3\\xaaKx6 \\xc1\\x98\\xda\\xf4\\xe4a\\x96\\x04#\\xddu\"C\\x9dg\\xb7z-_X\\xa1\\x9fgx\\xfa\\xbcH\\x90h\\xde\\xf19\\xd8\\xde .\\\\M\\xce\\x1e\\x0e.iHTi\\r\\x07\\x14\\t\\xc2f\"\\'\\x86\\xc7\\xd6<\\x0e\\x0f\\x85P[\\xc4\\x88\\x08\\x7f\\xdc(4\\xeb\\xf8\\x1c\\x95\\xf1|X\\xf1\\x9f\\xe7KR#\\x1cB\\xd7\\x90\\xfe\\xca\\x85A\\xe1\\xaat%\"\\x9a\\xe9\\x0cSZ\\x821\\xe79[Q\\xa0\\x1ag\\xdbS(\\nC=\\xa7\\x9c\\x8d<\\xbc\\xfc\\xcf?\\xf5\\x08D\\x85\\xb9\\xc7\\x7fi\\xf0\\x81\\xc2\\xa5\\xc1\\xb6VP\\xf5k[\\xb0h}\\xdf{\\xbaM,\\xe6l\\'\\x15x\\xae\\x02Cmgx\\xf9\\xc0\\x02\\xa3\\xd9\\xc3\\'\\xf9-\\xdf]X\\x9c\\xa8\\xe0pu\\xb0H\\xed\\xa2\\xae~\\xa1Q\\xbb\\xbe\\x1d\\x9d(?J\\xbd\\x9f\\x89a\\x92}\\xa7F\\xc6`\\xc3SV\\xa9V\\xe7\\x87%\\xe3\\x88Fs\\x8f\\x9b\\x9a\\xf3*4\\xba\\xba_\\x892H\\xba4\\x98D\\xaax\\xe89K=\\xa0\\t\\x12\\xd9s*\\t\\xf5\\x9c\\xf2^\\xc8\\xc3\\xaa\\xfc<\\xc3\\xcb\\\\\\x966\\x9bo\\x14\\t\\x06.\\xc94\\x0c\\x05\\x17\\xd3\\xc0\"\\x1c\\xaat\\xb8P/e\\x80&\\x18\\xe4}Ne\\xa0VS\\x0eF\\x1e^\\xdb\\x87\"\\x18)\\xd134\\xdci\\xea\\\\\\x08\\x08WGK\\xf5\\xae\\xaam\\x03\\x86\\xf7\\xf58J\\x99b\\xcekR|\\xe7*S\\xa8\\xd7\\x0c\\x03\\xd32\\x85\\xbbBM~\\xe0pUXA\\xc3E}D\\x9e\\xb8pU\\xba\\x02\\xa3\\x89GO\\x1bp\\xee>5\\x9f\\x96\\xe6\\xa7\\xf3ik\\xb1\\x9bOS\\xfc|n\\x7f\\xb5\\x19o\\xcdn_\\xa7\\xeawPu9\\xf7\\x13\\xd4\\xb4\\x9c\\xfb5\\xe9\\x16\\xa6\\xf7}`PTg\\xc6[\\x94\\xe6\\xe7,\\xd4m\\xca\\xe1\\xc8\\xc3\\xeb\\xfc\\xe4\\xb28\\x80p\\xc3\\xd87[J8A\\xa1I\\xac\\xe3<\\xcc\\x8b\\x04\\x82.\\xe5q\\x07\\x84*\\x86\\xb4\\x94\\x18\\xcc\\x99L)\\x1c\\x94n\\xf5\\xc7\\xa3\\xb5\\xd8\\xc5\\x83\\xb8L+\\xe3\\xb3\\x0e-EW%\\xc2\\x01\\xd1\\xcc\\xe4\\xfaO6~@\\xe1\\xe2(S4\\xf5\\xf0{i\\x0f*\\xeaL\\x05\\xc4\\xd6\\xfc< j\\x8b\\x08C\\x0eD\\xb6\\xbfZ\\x07\\xc7\\xa2\\xc9\\x8f\\x98pU\\x1c#0\\\\\\x94\\xe5\\x160\\\\\\xd4\\xc5\\t\\x81\\xd1\\xd4\\xa3\\xd3\\xa1\\x07Eu\\xa6`T+Y\\xc3mh6\\xcb\\x05\\xd3VV\\x1a\\xb4d\\n\\xf3\\x8cZ \\x08\\x16.\\xa6\\xf9\\x05\\x12.\\r\\xb3\\x84\\xab\\x8a\\x18\\x14U\\xbd\\xdd\\x0e\\x8d7uu\\xa6X\\\\\\x9a\\xcdr\\xc1\\xc4\"\\xad\\x9b`\\xd1\\x0c\\xe3\\xca\\x87\\xf4\\xb2\\x81\\x02\\x86\\xab)#\\x00\\xc3\\xa5d\\x1d\\x08\\x8a#\\t\\x0cU:|\\xcb\\xf2A\\xc9\\x9d)\\n\\x97&\\xb3\\\\0Q\\x10\\x93\\xe9\\x85~\\xee\\xc3\\xb9\\xa3y\\xc5\\xf8\\xb17K\\x99&\\xf1\\x9cs\\xc6\\x07\\x08S\\xf3\\xc7\\xfd\\x00\\xd1\\xa4\\xd7\\xd1\\xf3\\x05\\x0fJ\\xeaL\\x91\\xb84\\x99\\xe5\\x82\\x89D_\\xf94Kae~\\xd6P.\\xb2H\\x04C3\\x8bT\\xc8\\xd8O\\x0f\\x04\\x83I\\x83\\x8f\\xa6\\xed\\xc4\\xcc\\x08\\x10\\xb5+\\xae\\xa2g\\xf04}l\\xc6\\xf0\\xefN\\xb3\\x15\\x06:K\\x12\\xea4\\xf3:\\x8b\\x81a\\x96oP\\xde\\x1a\\x16\\xae&\\x82\\xb0p)a\"\\x1e\\\\J\\x11\\x08\\x86*-\\xff\\x8e>\\xe9\\xc2\\x99\\xf2\\x1c\\x86K\\x8bY.\\x98\\xe2!\\x8de0\\x98\\x13\\\\\\x93\\x04\\x03\\x97\\xe4KyPpQW\\xde\\x80pu\\xb4\\xcf\\xdd\\xd4\\xe5\\x15\\x9ez\\xdb\\x87D\\xa9\\xf5\\xf3\\xf7\\x90h\\xa5\\x81NB\\xa2\\xb5\\xd8M\\xa2\\xc9v|>\\xac<\\xd0\\xfa6x\\xaa \\xa8\\xe9\\xe6~\\x07ip\\x1a\\xd4\\xaf*\\x87\\xec\\xbf\\xd6\\xf3\\xed\\xa8\\x06\\xf8\\x83r:3\\x83\\xa34?\\xb5\\x13\\xad\\xc5\\x8eDJ\\xfe\\x90\\xa8(y[\\\\_\\xa1\\xfd\\nj\\x9az!a\\x1d\\x07\\xfb\\xa0?AM\\xec\\x01a\\x1d\\x83\\xb7I11\\xe72)\\xbdsa\\xacZ\\x8b\\x1d\\x89\\x9e\\xa3Z\\xbe\\xf4\\xe2>oI\\x02\\x83\\x19\\xc5w\\r\\x08\\x93\\xc2.u\\xb9 \\x0cL\\x1a<\\xd7\\x04\\x86\\xaa22\\xfa5\\x13\\x06\\xfe\\xdf\\x89lI\\xdd\\x9d+\\x0c\\xb5E\\xc4\\xa0\\xa7\\x1e^\\xdcg\\xf0\\xe9DH\\x98K\\xccU]\\t\\x08\\x97t\\xb3\\x0b\\x18AMv\\x0c\\x16U<|\\x8c\\xf5A!\\x9d)\\x14\\x97\\xee\\xb2\\\\p\\x9f1S\\xa024\\xcc\\x06\\xe6\\xdf\\n\\x86&i\\xb1R\\x97\\xb6\\xd2\\xd0\\xe9\\x87B\\xc1/\\x99b\\x0c\\x06Uz\\x1d\\xbd*\\xf5\\xa0\\x80\\xce\\x14\\x83KWY.\\xb8g\\xa0\\xe9\\xc1\\x0c\\xe0\\xbb\\xecBB!\\x88\\xd9\\x0e\\x10\\x0f\\xa6r\\xf4\\x93UH\\x98\\xaa\\x17\\x86E\\x15\\xc3\\xe25\\x8d\\x8c9k\\xd9\\xea\\x00\\xf5I#\\xfd\\xcc\\x8fGk\\x11GF\\xbaA\\x84\\x83\\xf9\\xbc\\xd1\\x87\\n\\x82\\xda\\x87s\\xc9\\x03\\x808\\xe9\\x08\\x08WG\\x93F\\x13\\x83\\xebL$\\xe6\\xac%\\xf5v\\xf69BI\\xd4\\x16\\x91D\\xd8\\x11\\xb1T\\xd9L\\xa2V |X\\xbd\\x1f\\xa4\\x1c\\xfe\\x90\\xf0~\\xf2[\\x01\\xe1\\xa2\\xf4$\"\\xaa\\xb8\\x1c}\\xa2\\xe0A\\xf9\\x9c\\xa9\\xd1Q\\x8d\\xe3YH\\xa8\\xb5\\xd4\\xc3\\x0e+\\xe9\\xf3\\n%\\xf0\\n#\\x06Gs\\x88H\\x03\\x10.\\xeab\\x1b\\x12AM)\\x04\\x12U\\x8c;;)$\\xe6\\xdc\\xa5\\x94\\t\\xd2\\x90\\x18l`&C\\xcc\\xe8h>p\\xf8\\x01\\xda\\xa0\\xaa\\x8f\\xe8\\x1d\\xf7k\\x118tI2\\x08 \\xaa\\xba\\x1c.\\xbbJI\\x9f\\xbf[\\xcbV\\x01\\xe8$$Z\\x8b\\xdd\\xd8H\\xa3\\xfd\\xf3a\\x95\\x80^7q\\x88_;1\\xe7\\xc4\\xef\\xa8f\\x14\\'W\\xfd\\xb5~KX\\xcd\\xedC\\x82\\n:3\\x83\\xa34\\x8f\\xd6RB\\xa2\\xb5\\xd8\\x91H\\xcb\\'H\\xb8\\xd1\\xd3\\x155(\\\\\\x1dl\\xdbuq0\\x89vQ\\x06G\\x93nG\\xcft?(\\x9f3E\"[K%Q[\\xecH\\xa4\\x7f\\x0b\\x12\\xcd\\t\\xf2\\r\\xc9\\xfd\\x8d\\x05\\x83K\\xc9\\x7f\\x10\\x0e.\\x8d\\x16^]M\\x1d\\x89\\x87\\xda\\xf1dd\\xf0\\xefN8K\\xea\\xec\\\\\\xcc\\x1a\\xad\\xc5\\x8eB\\xfa\\xa9Ph\\x16\\xf0E\\xf1\\x8f\\x84\\x08\\x0e.\\xaa{\\x04\\x85\\xab)\\xf1\\xfcD)_\\x15\\x12\\xad\\xdf\\xe1R\\x83\\xca9S$\\xb2\\xb1\\xd4x\\xa8-v$\\xd2\\r\\x82\\x84\\xd9\\xc7\\xd1\\xabb;5q\\x82\\x84w\\xd5\\'\\x9b\\x81\\xe1\\xaaR\\x84FUo\\xe1\\xf8)\\xe5\\x899\\x8bI\\xb9\\x9d\\xab\\xb8\\xa8-v4\\x122h4+\\xf8\\x1a\\xd3pUG\\x018\\\\M\\xe9\\x07\\x16.\\x8dv\\xf7\\x9bJ9J\\x1f\\x91\\x89\\xc5\\x9c\\xc7\\x94RA\\xe9g~P\\xf7\\xb2\\xd0\\xda\\xb1\\x10\\x93i\\xf5\\x80^\\x0f\\xfd\\xe6\\xd1v\\x85\\xb2\\xf5\\xbf\\x89\\x83\\xd9\\xc3U\\xdd\\xff\\x85\\x86\\xabbG\\x08\\x8c*>\\xd6>\\x9b%\\x18s6\\x93\\x92;W\\x81\\xa163\\x8c\\xd1f3\\xadr\\xcf\\xeb\\xa9\\xb1\\xfe\\xf5\\xe8j\\xff\\xaf\\x9b\\xe3\\xee\\x92n\\x02\\x83\\xc2\\x8cfXy\\x97\\x8e\\x80\\xa8\\xd2#\\xd0M \\xe6l&5w\\xae@\\xa8\\xcd\\xd4\\xb7>\\xac\\xb0\\xcf\\xeb9\\xda\\xae\\xea\\xaa\\x820\\'9\\xe8\\x08\\x08W%!\\x83\\xa2\\x8a\\x87\\x9fH{PFg*u\\xe6]L\\x1d \\xea3\\xc3\\xc1\\xb4\\xc5\\x84yB\\xc6@\\xde\\xea%&L\\xe5+7\\xe1\\x1eZX\\x98:\\xe8\\x0b\\rSsm\\x19XT\\xe9\\xed\\xf0\\\\\\xb4\\x14\\xf8\\xf9\\xbb\\xd5l\\xf5\\x80N\\xacfk\\x11\\x93\\x85|\\t\\xeba\\xf5{b\\x9d\\x92\\xf2S\\xbf\\x824z\\x80\\xa2w\\x94\\x1b\\xff\\x13\\xbbzjl\\xc3\\xa3\\xf7\\xeb6~?>\\xa8\\xb33\\x13\\x14\\xa5\\xf9\\xa9\\xd3l-v z\\xcanAa\\xd5}^\\xe1\\xe4\\xc1@4\\x9b\\xf96\\xfaN\\xdc\\xa3w\\x94\\xe3R@\\x98C\\xe5a\\xe8\\x1cj\\xbf\\xa6>\\xde_=\\x89\\'\\x16s^\\x93\\x02<\\x17\\xb9\\xa2\\xb5\\xd8\\xb1H\\x06\\xe1\\xf3au|^\\xc3g\\xce\\xba\\xaa\\x0b\\xcf\\xef\\xd8w\\x7f\\xeb\\x81af4\\x9cjXT\\x98\\xdd|\\xef\\xe6,\\x91\\xe0_\\x9e\\xf0\\x9b\\x94\\xdf\\xb9\"Q[\\xecH\\x88\\xdf\\xb4\\x12?\\xaf7}@\\x9f\\x11b\\x96\\xf2M&D@\\xb8\\xa8\\xc3\\x07\\x16\\xae\\xcaC\\xbe\\xc4E\\x15\\x97X\\xbd*\\xd1\\x98\\xf3\\x9cT\\xe0\\xb9\\xa2\\xa1\\x9eS\\xdf\\xfa\\xb02?\\xaf\\xc1n44\\xcc8\\x0e\\xca\\xe9\\x80\\xc3TX\\xe5\\xb4\\n\\x8e\\x13\\x15\\x1e\\xcdt\\xc6G\\x84\\x13\\x8f9\\xd7I\\t\\x9e+\\x1e\\xea:\\xc3Y\\xbd\\xe5\\x0c\\xb3\\x87\\x83\\xd1\\r\\x0fWu\\x9a\\x81\\x87\\xab\\xc3\\xf0pU\\xe3\\x0e\\x1eU]87\\xf61\\x96x\\xcc9O\\xaa\\xf0\\\\\\xf1P\\xe7\\xa9\\xaf~x\\x9d\\x9f\\xc1\\xf3\\x97\\xf0h\\xf6\\xf1\\x8d\\xa7\\xf5r\\x04\\xc0\\xc3\\xcc\\xe5\\xe0\\xc9N\\xe2\\xa3\\xf7\\xf5_l\\xa9\\xa3J\\xef\\xbc\\x8c\\xedR\\x821\\xe7<\\xa9\\xc2s\\x05C\\x9d\\xa7\\x1e\\x82X\\xa9\\x9f7\\x9e8\\xca?\\x17\\x18\\xcd@\\x8eT`\\xb8:z\\x1e/\\xaa)w\\x13\\x1b\\xb5\\xebr\\xf8\\xf6\\\\\\xa9\\xf83\\xe13.\\xed\\xe7\\xa0\\x84P\\xbf\\x136R\\x9aM|\\xfb7\\xd8\\xd1\\xb2B@o<`\\x95\\'IX\\x98\\xc3\\x1c\\x07FP3e`T\\xf5\\xed\\xf0\\xe8\\x98\\xb2:S\\xb3\\xca\\xa5\\x01-\\x17\\xbc8\\x10\\xf1B?\\xef:\\xb8\\x89\\x0c\\xf3\\x90\\xa8\\xe9\\xee\\x02\\xc3\\xc5a\\xd6pU/\\x0c\\x8c\\xaa\\x1e~\\x82\\xf4Q\\n\\xfe\\xfc=2Z}\\xa0\\xee@\\xbb\\x89)w\\xfd\\xa3^p\\x0f#\\xb5\\xf9\\xdc\\xda\\xd4\\x05i6\\x05_Q\\x1a\\xc4\\xc5a\\xc7\\x9f\\xd8\\xd1SB\\xcb\\x16\\xad\\xd7\\x12\\xde\\x1d\\xd8\\'\\x0b\\x8a\\xe9\\xccDDi\\x1e\\xddg\\xfa\\x81@\\xd8.\\xb8\\x87\\xa0\\xa7!\\xad\\x84\\x0f\\xdf\\x89\\xd5\\x857 \\xccE\\x8e|F\\x17\\xf5\\xa6\\x83\"t\\xcdc\\xeb\\xd7T\\xbe5\\xe9\\x9c\\x12\\x8d9\\xffI\\xf9\\x9d}\\xeaT\\x1a\\xb5Et]z$\\xe25~\\xde4!@\\xc3l$\\xaa\\x0c\\x90.\\xeaz\\x1f\\x1a\\xa1\\xeb\\x80F3\\xa1\\xcf~\\xd5Dc\\xb3\\x8c\\x13\\x03\\xa4:\\xcc\\xb3\\x01R[\\xecht\\x03\\xdcr\\xa7\\xd7\\xf9y\\x93\\x8dl`\\xb8\\x8f\\x14\\xf1;\\x88\\xca\\x11\\x18\\xa1\\xeb\\x00F\\xf3\\xa0\\x87\\x9b[\\xd4\\xd5\\x99\\x82\\x91-\\xa8\\x86\\x86ZP\\xf9B\\xd6\\xc3\\x0b\\xfd\\xf0JX\\xce\\xf7\\xd0p\\x1b9Z\\x9atU\\x8e\\x0b\\xa0\\xd1\\xbb\\xfaX\\xb0\\x9cQ\\xa5\\xc3\\xca \\x8fR\\x12h\".\\xb2\\xfbT\\x14\\xea>\\xf5\\r\\x10\\xaf\\xf4\\x13J\\x8c\\x96\\xff\\x18\\x0ef\\x1f\\xb3DL\\xb84\\x1c \\'*\\xe9\\xa2\\xaa\\x87/\\x1cSSg*$\\xb2\\xebT\\x0e\\xea:\\xf5-\\x10/\\xf2Cv\\xccq\\x0c\\n\\xf3\\x95\\xc3\\xdc\\xe9\\xe20w\\xba\\x9a\\xf6\\x99 Q\\xa5%<\\x17\\x99R\\xc5\\x9c\\xe7\\xa4\\x00\\xcfU\\xe2T\\xcf\\x19\\xf6\\xe0-U4\\xdf\\xc8nNN\\x8d\\x90p1m~\\x10\\x14.\\r6s\\xba(\\x17\\x05D\\xedy\\x0b\\xbb&\\t\\xc4\\xdcn\\'Ux\\xae@\\xe8ng(\\xa4j \\xcc\\x16\\xf2\\x8d\\xa3AL\\xb8\\xaa\\x11\\x03\\x0cWG\\x1e\\xab\\xabb\\xcf\\xa0Q\\xbb\\xde\\xee=\\x92\\x13\\x8d9\\xbfI9\\x9e+\\x1a\\xb5\\xc5n\\x06I\\xd1\\x8a\\xc72_\\xa8\\xaf\\x8f\\x12\\x16\\xc7\",\\\\\\x94\\xe9\\x85\\x94\\xe9b\\x9f0-eVi9\\xaa\\x9f\\xf3\\xa0\\xf6\\xceL\\xaa(\\xcdOmVk\\xb1\\x03\\xd1\\xefB\\x0b\\x0b\\xaf\\xf8#_\\xa4\\xdd\\xfe\\xa1\\xeaC\\xf9\\xe8K\\xfa9\\xdfA\\xd4W\\xab~\\x82\\xaa\\xb3\\xce\\xaf\\xa9\\xb7\\xb0%\\xbc\\x8f\\x89R\\x1b\\xe8\\xef\\xb3Gi~\\x8eB\\x1d\\xa7\\x1e\\x8cx\\xdd\\x9f\\xe1\\x08\\xe9\\xea`g\\xab\\x8bi\\x9d\\x07\\n\\xb3\\x9b/\\x1dY\\xa0\\xa8\\xea\\xf1\\xeb0\\xd4\\xd9\\x99\\x8a\\x8aK\\xbbY.\\xb87\\xdfz4b\\xd5}^|\\x1f,\\xdd\\xfa\\xaf\\xc7\\x89H\\\\\\x98\\x9f\\xe4\\xeb`\\xd9\\x8d\\x00\\xc3\\xd4Wz\\xb9\\n\\x12U:\\xfc\\xfc\\xff\\x83J;S$\\xb6\\xe6\\xe7AQ[\\xc4\\xf1\\xa1\\'#V\\xfd\\xe7\\xb5\\x8aC\\x82\\x84\\xf9\\xc5\\xfc\\xf07\\x1c\\\\\\x1a\\xa4\\x89.\\x8e\\x0eQ\\x9b\\xba>:\\xa34<\\xe6|&ey\\xaeH\\xa8\\xcf\\xd4s\\x11/\\xfc\\xa3\\xef0@\\xc2\\xbc\"b\\xbe\\xed\\xc0pu4\\x7ftUF\\x16aQ\\xbb\\xbe\\x05\\xb3\\x97`l\\xc6p\"W\\\\:M\\xea\\xf6l\\xb8va\\x91\\xec\\xc1\\'G\\x99-7\\x0e_\\x0b\\xea\\xaa\\x9c7\\x03\\xe3\\xa4+#\\xc4\\xd5\\x11\\x8c*.\\xaf\\xf0\\xa9\\x98Dc\\xceoR\\x95\\xe7*4\\xd4of\\xf7\\x00\\r\\xb3\\x85O\\x8dgb#\\xa8\\x83\\xd8pU\\x1f\\xae\\x00\\x87\\xab2\\xfc\\x88\\x8d*\\xbe\\x1d>\\xdcK\\xb1\\x9d\\xa9\\xd8\\xb8\\xb4\\x9c\\xe5\\x82)6\\xfaF\\x81M\\xa9f\\x1d\\xc3\\x19V\\x91@\\xd1%1aD\\x86\\xab:\\x8b\\xb8\\x94\\xac\\x0c\\x14\\xaat\\xfbw\\xb8\\xbfI\\xa9\\x9d)\\x0c\\x97\\x86\\xb3\\\\0aH\\xff2Aa\\xa6q\\xb4H\\x8f\\xe2 &\\xbc\\xebh\\x95\\xde\\xfb\\xaa\\xf5\\x00G3\\x9c\\xd4Q\\xf6Uk\\x1a#s\\x8e\\x93\"=WcD\\x1d\\xa7\\x9e\\x8cX\\xad\\x1f\\x8eL\\xfd\\xff\\xb2\\xa8h\\xae\\x91\\xdd\\xde\\xbdDH\\xb8\\x94z14\\\\J\\xfb#0h\\x12\\xc7\"~\\xc1=\\x83\\xb9\\xbaB\\x0f\\xa9+\\x94|\\xe4\\x87\\xb5\\xd8e\\xcd\\xd4\\xe8sk\\xd4v6eQ\\xf5\\x15\\xc4\\x14\\xe2\\xdfA\\x12\\n\\xfd\\x92\\xba\\xac\\xf9\\xb5\\x8e/^\\xc49\\x021\\xb7\\xb9IY\\x9e\\x8b`h-\"\\x08=\\t\\xb1\\xda?\\xafw\\xf5\\xc7\\x900\\xcb8P\\x81\\xe1\\xaa\\xa4\\xc4\\x9f3\\x11\\x1a\\xb5\\xe7\\xf1\\x12\\x84B;3\\x89\\xa24?\\xb5X\\xadE\\x84!y\\xa2U\\xf7\\xa1\\x18\\x96\\xfc\\x1eP\\x98aD\\xd4<\\xd1\\xd54p\\x00\\xe1\\x1d\\xc5\\x7f\\x01\\xa2\\x8a\\xcf\\xc3\\xf7\\xae)\\xb13\\x05bk~\\x0e\\xa2\\xb6\\x88 R\\x943:\\xcc2r\\xac\\xd3\\xc7m\\xcb\\x11&\\x8e\\x9f\\xb80U\\x1e\\xd5\\x00D\\xbb\\xea\\xa8#$\\xaaz\\xf8N\\x08\\xe5u\\xa6@$\\xab\\x19,l\\xf9\\x1d\\xe4\\t\\xb5\\x9a\\x9a&\\x9a]|[\\x06\\xab\\x0f\\xab\\x06\\xf4\\xb6\\x0c>N\\xbc]\\xbed\\x18\\xba\\xfa\\x80/\\x7f\\x19\\x10]\\xcax\\xe1P\\xc5\\xe3\\xef\\xf1R\\\\g\\nD\\xb2\\x99\\x03\\x10j3\\xf5\\x10\\xc4\\xaa\\xfd`\\x7f\\xf3\\xff\\xcc\\xd8hV\\xf1mQ\\xd7E\\x9apu\\xe4\\xab\\xceTh\\xd4\\xbe\\xb7{\\x8f\\xd14}\\xcc\\xd9L\\xaa\\xf1\\xec\\xc6\\xc7\\x80\\x86\\xda\\xcc|\\x07\\x19 \\xcd\\x0cn\\xb7^\\x07\\xc8\\xb1\\x08\\x0c\\x17\\xf5\\t6\"\\xc3U\\x897X4\\xf1\\xf0e\\xa1R\\x19\\xe8\\xef\\x0b\\x90\\xd2<\\xe4\\x8a\\x01\\x8b\\xc1\\xbef\\x9a\\xe2a\\xd1\\x0c\\xe16Frb$4\\\\\\x15R\\xc0pQ\\xbb\\x02\\xc3U\\x1d_\\xd0\\xa8\\xea\\xf1t:g5)\\xccs\\x15\\x18\\xb5EL\\x9cz\\x04b\\xa5\\x7f\\xde\\xb2\\x04\\x89f%E\\x82\\x83K\\xfaK\\xe1\\x10\\xd4\\x14l`\\xa8bX\\xf6\\xa7\\xf11g1)\\xc8s\\x85A-fX\\x11\\x97\\x0cGL\\x98#\\xd4\\xb7\\xc4\\x00\\xe1\\xa2\\xe6\\x03X\\xb8*;\\xda\\xa0p1\\xad\\x83\\x01Q\\xa5\\xc3\\x89\\xb4\\x14\\xfe\\xf9\\xfb\\xe0(\\xcdO\\x07Gk\\xb1\\x8b\\x87t{>\\x1fV\\xf2\\x87o\\xb5\\r\\x06GW\\xd52~\\x87\\xbe\\xea8~N\\xd5_S\\x97\\xc3\\x17e(\\xb233\\x8b\\x94\\xe6\\xe78tcS\\xcf@\\xac\\xb4\\x0fns?)~=\\x82$\\xa4`\\xe1Vst2\\xd6U\\x89\\x19P4\\xaf\\xf9\\xef\\xa8r\\xcc\\x83*;S,\\xd2\\xce\\xa6\\xe6\\xcdr\\xc1\\xfd\\xaaT\\x8fA\\xac\\xf2\\xcf\\xd8yG5gUp\\xb8\\xa7\\x94\\x1fLd\\xb8\\xa8\\xe3\\x0b\\x1cU\\xbd\\x1d>\\xccI\\x9d\\x9d)\\x1a[\\xf3\\xf3\\xc8\\xa8-v\\x03\\xa5O\\xe7-cX\\xed\\x9fW\\xd8;(\\x12\\x91an4|g\\xbbHp0\\xe95\\xda\\xe3u\\xf5M\\xe7Z@\\xd4\\xbe\\xcb\\xe1\\x9e\\r5v\\xa6@\\\\:\\xcer\\xc1\\x14\\x16b9\\xad\\xb2\\xcf\\xeb5x#;\\x8a\\x83\\xa8h\\xbe\\xf2\\xa5\\xfb\\xa2D\\x85\\x8b\\x8a\\n\\x18U}\\x1e\\x95\\xff}\\xcc\\xd5\\x13\\xaa\\xcd\\xcf\\xa3B]\\xa7\\x1e\\x84X\\xd5\\x1f~\\x91\\xe4\\x8b\\xe6*_kBHT\\xb8$\\xc7\\x80ppqt\\n\\xd2\\xd4\\xe3/\\x15\\xcc\\xd5\\x12z\\x94\\xe6\\xe7\\x1c\\xd4o\\xea)\\x88\\x15\\xfdy\\xbd\\xd2\\xa2\\x95\\xd1\\xd1\\\\!\\xd2`#\\xaf\\xab\\xfa\\xa0#,\\xbc\\xaf,x\\t\\x89*\\xde\\x9e}\\xaa\\xdd[\\x0b\\n\\xecL\\x8d\\x8f\\xb4\\xa79H\\x9bj7\\xf5\\x18\\xc4J\\x02\\xbd\\x06\\xdf\\x1d\\x86F\\xf3\\x8c\\xaf\\xfc\\xb9\\x0e\\xa2\\xc2%]\\xa4\\x80\\xc2\\xd5\\x14i\\x80\\xa8\\xd2[8)J \\xe6\\xac&\\x95x\\xae2\\xa6ZM=\\x05\\xb1r?\\x1b\\x88\\x9c\\x0b\\x00\\xd1L\\xe3\\xe8\\xa15X\\xb8\\xaa\\x1b\\x97\\xb0pU\\xf7\\x84\\xc0Q\\xd5\\xe7z\\xf8\\x98\\x1e\\xb5u\\xa6\\x02\\xe3\\xd2s\\x96\\x0b\\xee\\x13gHT6\\x834o\\xc8/\\x96\\\\\\xe1\\xd2\\xe8io+\\x14\\xf4z\\x93\\xd3eXx\\xd7\\xc1)H\\x13\\x19*}\\x8d\\xbf\\x0b\\x8d\\xe7\\\\\\x15\\xa1\\xda\\xfc,]X\\x8b8\\x99\\xca)\\xc8\\xd6\\xa8\\xeen\\xbe\\xc4\\x1e|\\x9d\\x89\\xdf]\\x1c\\x1d\\x9av5\\xac\\xba\\n\\xfd_\\x93\\x9ek\\xf8\\xc4eB1\\xe58\\x9f\\x94\\xe29\\x1f%\\xd6b\\x87\"\\xd9\\xca\\xcf\\xadQC\\xa1[Y;1\\x0f!XxW\\xb9\\xf5?;1w\\x85F\\xed\\xfa~\\xf4l\\xf3s\\xae\\x8ePm~\\x1e\\x17\\xd5\\x94\\xee`\\xa4q\\x00\\x0cs\\x86\\xd8\\xa5\\xb4T!.\\x8eEX\\xb8\\xa8Sj\\x10\\x07S\\xaa\\xa9\\xcb\\xed\\xe8\\xed\\xd3g)\\r\\xf4\\xe7\\xa5Ym~\\x0e\\x03\\x0c\\xf9\\xe04\\xa5u`\\x98w\\x94\\xb2\\xd8AR\\xaf\\x04\\x0b\\xef\\xa83.\\x81\\xe1\\xaa\\x9e?\\x13\\x18\\xcdt\\xbe\\x85\\x0f\\x8a\\xa4a2\\xe5:\\x9fT\\xe4\\xb9\\x1a&\\xb5\\xc5.2\\x92e\\x02\\x86\\xb9C\\n\\\\\\xe7p&4\\\\\\x95\\xb8\\x01\\x87\\x8b\\x83#\\xb2\\xa0\\xa6\\xa1\\t\\x8b\\xda\\x91\\xdd\\xf6\\xbeg\\x9eXLmu>\\xa9\\xc7s\\xc5BM\\xa7\\x1c\\x89l\\x97\\xa9)\\x83\\x97jsn\\x85\\x85\\xab\\xbaW\\x03\\x0cW\\xfb\\x8cP2$\\x81q$A\\xa2J\\x94H\\xf1\\x99+\\x81\\x98\\xda\\xe5|\\x96\\xbaC\\xe7#D]\\xa7f\\x0bs\\x87\\x0fq\\x87`p1\\xddW\\x18\\x98tW\\xfb\\x00\\x06S\\x07_\\x03\\x80DUy\\n\\xa9_6\\xa1\\x98r\\x9dO*\\xf1\\\\\\xc5\\x84\\xbaN\\xcd\\x15\\xe6\\x0e\\x1f\\xfa\\x93`\\x11\\xd4<x\\xc0\\xe1jJ\\xb9\\xb0p\\xa9\\xffZ\\x9bO\\xabt;:7}\\xce\\x15\\x10\\xaa\\xcdcH\\xa4\\xf8\\xfc\\xb0\\x161Oh\\x9a0gHH\\x0c\\x86\\x86\\xabb\\xa4\\xc0\\xe0\\xa2bpI1T\\xe9\\xf0\\x93\\x16\\xcfR\\x0bhb\\xee\\xc8^S1\\x0c\\xf67\\xd3Y/\\xe9\\xd2\\\\\\xe13\\xf5\\'\\x18\\xba$\\x88\\xa0\\xe0\\xaa\\xac\\xee\\t\\x87c\\x91\\x91Q\\xc5g\\xbf\\'\\xfbq1W9\\xe8\\x99+\\x07\\x85\\x8d\\xc2\\x12\\x81\\x1f\\xd6\"\\xc6\\x83\\x1c\\x84l\\x8dZ\\xae\\x1c\\xcd\\x1b]\\xd5p\\xf9\\xde\\xf5\\x95\\x988\\xeb\\xfak]\\x1fG\\x13\\x07\\xd5t&V \\xcf\\xd2\\xfctp\\xb4\\x16;\\x18=Y\\x17b\\x9f\\xdbe\\x1a\\x0c\\x9d\\xfa\\xbfNU`\\x84\\xbe\\n\\xe3X\\x84E\\x15\\x1f=i\\xa5\\xc0\\x98\\xda\\xdd|R\\x9eg\\x9f0S\\x84\\x13\\x18j5\\xf3i\\x07,\\xcc0\\x86]\\xd7\\x82\\t\\x10]\\xca.\\x14\\x0e]\\xf4\\xb9\\xb0\\xf4\\xfb9\\x96`P{\\xad}\\x0eK\\x0c\\xb8q\\x7f\\x7f4\\xefI\\xe9\\x9d+\\x06\\xb5\\xc5.\\x1e\\xfa>\\x89\\xc5\\x83Y\\xc1\\x87\\x1aE0\\x045\\xddq0\\xb8(\\xa9\\x14\\x10.\\xeauaQ\\xd5\\xe5\\xe8\\xc8\\xf4I1\\x9d)\\x18\\xd9aj@\\xa8\\xc3\\x947A\\xb6\\xbf\\xda\\x06G\\xca\\xa6\\x90\\xe8\\xd2  L|\\x0cVa\\xde\\x131\\xcf\\xbc\\x90h]\\xffu\\xbc),\\xe6\\xfc%uw\\xae\\xc2B\\xfde02\\x16\\x16f\\x04ybS\\'Q+\\xfd\\xf3\\xba\\x8f\\xd6\\x1e]\\xd5\\xbe\\x04\\x86_\\xb9\\xcf\\x12\\xe5\\x8f\\xc2\\xa2Y\\xcc\\xc3\\xe5\\xf9\\\\\\xcd \\xfc\\xd9%\\x0b\\xb5\\x98r\\x08\\xb2]\\xa6FEX)\\x97\\xff\\x98\\xa8pI\\x86\\x00\\xe3\\xc3\\xc5~oK? ti\\x14\\x13U]\\xee=\\x8aSL\\xcc\\xf9K\\x8a\\xef\\\\\\xc5\\x84\\xfa\\xcbp\\x13,&\\xcc\\t\\xf2)\\xa4AL\\x045\\xfd^P\\xb8(\\xcf\\x0c\\x00\\xc3\\xc54[\\x11\\x11U\\n\\x1f\\xbfM \\xa6v5\\x9f\\x14\\xde\\xb9\\x02\\xa1\\xbb\\x9aR\\x1e}\\xbb\\x8c\\xcf\\xa1\\xe9\\xa7\\x12\\x12A\\xcc\\xc3\\x1d\\x10]\\x95\\xa9\\xa3K\\x82\\x17\\x12U\\r\\x9bZ\\x89\\xc4\\xd4~\\xe6\\x93\\xaa;W$\\xd4c\\xca\\xd9\\xc7v\\x99Fb\\xb0\\xfc\\x8a\\xe2\\x80\\x84wUWFL\\xb8\\x9a\\x00C\\xa2J\\xcb\\xa1\\x99\\x98+\\x18\\xf4\\xcc\\x05\\x83\\xd4e\\x0e\\n\\x06\\xc9\\xf1\\xc7v\\x99\\x86B\\x1f>\\n\\xa2\\xee\\x83\\x7f\\x075M\\xcf?A\\xd2\\x8e\\xbf\\xa6\\xde\\xc2\\x7f\\xb3\\x8f\\nj\\xe9\\xccL\\xa3\\xa5\\xf9\\xa9\\xc7l-\\xa2\\xa7\\x90\\xe3\\x8fg\\xab\\xe0\\xc3c\\xa4\\xba\\xdb\\xf2\\x15\\xd4A\\xce\\xec]\\x07g\\xe8\\xa1\\xab0\\x06F\\xf5\\x98\\xb7\\x7f\\xe1Q\\x8fDc\\xceeR|\\xe7b\\x8c\\xb4\\x16;\\x1a\\xdd\\xee\\xb7\\xb4\\xe9\\x15~8\\xfcJ\\xc1\\x0c\\x8cf%\\xd7|\\xa4LT\\x98\\xc4Kw9\\xdd\\x12\\x18\\xae\\x8e\\xf63\\x9b\\xfa\\xbc\\x873\\xc9\\xc4b3\\x87\\x7f_\\x93R{\\xe7\\x8aEm\\xb1c\\x91\\xc2\\xf9\\xf3i%|V>S\\xa0,\\x9ae\\\\\\x07\\xef\\xe1\\x82\\xc3\\xd5\\xb4\\x00\\x87\\x85K\\xfa\\xf1\\x03\\xe2\\xa2y\\xcd\\xf7\\xa3\\x8f\\xf4r\\xa0<\\xc7\\xe2\\xd2l\\x96\\x0b\\xa6\\xb3\\xa0\\xf4sa\\xd1\\x9c\\xdf*\\xe7\\xa5Q\\x12{\\x00\\t\\xef(I\\x17\\x16A\\xccI\\x17\\x16U]^a\\xc5\\x93\\xe2b\\xcenR\\x81\\xe7*.\\xd4n\\x86\\xafE\\xd8\\x18i\\xa6p]\\xf5)\\x08\\x06\\x89\\xab\\xe2\\x1e\\xa0\\xe1b\\xf2\\xec\\xb0p\\xa9\\x1b\\xa9\\xf2\\x07\\x01Q\\xa5\\xf7\\xa3\\xaf\\x13<K\\xa1\\x9f\\x89\\xf1qi5\\xcb\\x05SL\\xf4\\xa5\\xa0qh\\xbep\\xe5\\xd5\\xa0|\\xf7\\xe0\\xe0\\xaa\\x8ey@\\xb8:\\n\\x0b\\x17\\xd5\\x93C\\xa3\\xaa\\x18\\xce\\x1e\\xa5),\\xe6\\x1c\\'ex\\xae\\xc2B\\x1d\\xa7\\xbc\\x05\\xf2\\xf4B@\\x83O)\\x82\\xa3\\xf9\\xc6u\\xf0aIp\\x98:\\xf8P)\\xa1a\\xea\\xe0\\xca\\xf0\\xa8\\xear\\xf8\\xa9\\xf7\\'\\x05v\\xa6\\xd2\\xe7\\xa5\\xf1,\\x17L\\xe1\\x91\\x16H\\xa4\\x8cf\\x11\\xd7\\xe1\\tHW5x\\xe0\\xe1}\\x07\\xbbz]\\xd4\\x91R\\xfb-\\xcb\\x1a\\xeeO\\n\\x8e9\\xefIA\\x9e\\xab\\xe0P\\xef\\xa9G ^\\xf5\\x87[\\x98\\xe7G\\x82\\xa3\\x19\\xc8-8zP\\x97a\\x06\\x0b\\x13\\x07Krb\\xc3T\\xedJhT\\xf1v\\xf4\\xa0\\xc5\\xb3\\xd4\\xfe\\xf9{\\xe2h\\xa5\\x82\\xda\\xfe\\x18O\\xd6\\'\\xff\\xf0Q/\\xb8\\x8f\\x0c\\xc9\\x1b^\\xf5\\xe7\\xae{\\x0c_\\xdb\\x15\\x8a5]Y\\xae\\x0b\\x8b.\\xa6\\xd9\\xfa\\'\\xf4\\x1b%\\x8d\\xd6\\x91/\\xbe\\xf7\\x98\\xd9\\xc7E)\\xfe3\\x81\"\\x9f\\xa6+\\x8a\\xda\"z\\x8c\\xbe\\xa3\\xd8R\\xa8\\x95\\xf6Y5&\\x824\\xe0\\xd0\\xf6/\\xd7\\xecg\\xe1p$\\xfd\\x9a\\xf4\\n//&\\x06s\\x9e\\x93\\x8a<\\xfb\\xb1\\x91n\\n\\xe1P[D\\x06\\x92\\'\\xbc\\xea\\xcf]\\xf7\\xb4\\t\\x07\\xb3\\x8e\\x03\\xf5;\\xa8\\t?\\x1c\\xbc\\xa3<\\xb2\\x01\\x89&\\x86\\xe5S\"\\xb1\\x19\\xc4\\x89h\\xd8\\x9a\\xc7\\xb5\\x88\\x92\\xa8-\"\\ty\\'\\xe4\\xe95\\x7f\\xee\\xc96\\xc2\\xc1l#g\\x80y\\xb2\\x85\\x83\\xab\\xca\\x10\\x14\\xae\\xaa9\\x87EUo\\x87\\xd3)\\x85v\\xa6Xd\\xc7\\xa9,j\\x8b\\x1d\\x8b>,mh\\x987\\x0c\\xf7\\xa8H\\xb0\\xe8\\x92$SX\\xb8:\\x98;\\xba\\x98\\xfe \\x1c\\x9a\\xdd\\x0c\\'P)&\\xe6\\xdc&5y\\xaebB\\xdd\\xa6\\x94D\\x7fz\\xdd\\x9f\\x87\\xfc\\x1cH\\x98iT\\x11\\x10&j&%&L\\xccO\\r\\x02\\xa2JG\\x8f)\\xb2N\\x9b\\x8b\\x87\\xec65\\x1e\\x06\\x1b\\x9bi<\\x7fn\\x7f\\xb5\\xcd\\x0b\\x1a\\xc4\\x80\\x08\\xea`xt5od\\xc5\\x8e9\\t\\x83\\xa2v\\x0cY6\\x85\\xc4\\x9c\\xd3\\xa4(\\xcfUH\\xa8\\xd3\\x0c;\\x0464\\xcc\\x0f>F\\xcfSXY\\xa0\\x15U\\'P\\xef\\xaak\\x17\\x82\\xc2U\\x1d\\x1dU:\\xfa\\xec\\xe8\\x93*;SI\"{L\\r\\x8a\\xdab\\x97$\\xd2\\xcf!(\\xcc\\'R!#\\xdfv\\x82\\xe2Dex\\xb8*\\x9c \\x11\\xc4|a\\xc2\\xa2\\xaaKx\\xa9;\\xc5\\xc5\\x9c\\xc9\\xcc%\\x85\\xc2B\\xaf\\xdcr&R5\\x99z\\x0eb\\xe5\\x7f\\xd6\\x9b>\\x95\\t\\rs\\x8aa\\xa7\\xbe\\\\\\x1d\\x14&\\xdd\\xd4\\x91\\xc1\\xc2\\xd4\\xbb\\xc6\\x0c,\\xaa\\xba\\xbc\\xba\\xb9\\xd9\\xb3(E\\x80\\xfe>\\x95\\xb6\\x9aA\\xddcJd\\xb4\\x16\\xbb\\xc8\\x10\\x93i\\xf5\\x7f\\xb6\\xe2\\xbey\\\\\\x7f=\\xa3\\x9ao\\xefwP5\\xd5\\xfc\\x04U\\xb6\\x85~M\\\\\\x0e\\xb7,(\\xb833NJ\\xf3Sc\\xd1Z\\xech\\xf4[\\xd12F+\\xf3s_\\xb9\\x85i\\x10\\x01\\xc3\\x1c\\xa3\\x06\\x86KDT\\xe6\\x04\\t\\xef(W\\x85D\\x15oG\\x0f5?)\\xba3E\\xe2\\xd2l\\x96\\x0b\\xee\\xd7\\x1ez\\x1cbU\\x80\\xd6\\xb0#_ \\xc1\\xc1\\x1c\\xa3\\x1e\\x8c\\x12\\x13.\\xea\\xb6\\x1d$\\\\M\\xe8\\xe1P\\xa50\\xa4\\xd3\\xf0\\xe0\\xceM8M\\n\\xf4\\\\L!\\xadE\\x0c\\x08=\\x0b\\xb1:?\\xdb*k0<\\xcc0fs\\x00\\x07\\x93\\xc2W\\xdf\\n? tI\\x82\\x05\\x0eU}\\xf5\\xe1\\x9c8\\xcc\\xb9LJ\\xf3\\\\qP\\x97\\x19\\x16\\x7f60\\xdc,\\xca`& \\x82\\x98\\xa3\\x1f\\x12\\xae\\x0e\\xb6\\xb0\\xa2\\x98\\xbb\\xc2\\xa2Y\\xcd\\xa3\\x97L\\x9f\\x14\\xdb\\x99\\n\\x8aK\\xabY.\\xb8\\x1f\\x1b\\xc1\\xd4\\x18\\x0c\\xf3\\x84\\xa3\\xba\\xcf\\xdb\\xffT\\r\\xd8\\x9a2\\x08(\\\\\\xd2i\\x98\\xb8pup\\x10\\xd2\\xc4\\xd7\\xd1g6\\x9f\\x94\\xda\\x99Bq\\xe96\\xcb\\x05\\x13\\nq\\x9bV\\xfd\\x87/u\\x8d\\xc6\\x87\\xf9\\xc9\\xbc6\\x01\\x85Iln\\xe4\\x81\\x05\\nW5\\x9f\\x12\\x16U}\\xfc\\x0b\\xef\\xda\\xa4A2\\xe77\\xa9\\xces5H\\xd4o\\xca\\x8b O\\xab\\xff\\xb3\\xdeFGd]M\\x8bV`\\x98\\x9f\\x1ct\\x04\\x86\\xab)\\xa0 Q\\xa5\\xdb{(-\\x9cH\\xcc\\xf9M\\x8a\\xf3\\\\\\x91P\\xbf\\x99\\xef\\xdf\\xe7\\xd3\\n\\x00\\xadC\\xbfy\\xa6\\x02\\xc3-\\xa5\\x86\\x140\\\\\\x15\\xeb\\xdd\\xa4\\xdb\\x1a\\xbe\\xe3\\x98`\\xcc\\xd9\\xcdR\\x88\\xe8\\xdcT\\xa8\\xdd\\xd4s\\x10\\xab\\xff\\xb3\\x86O\\x96\\xd9Tj\\x96\\xf1\\x9f\\xa4U@\\xb88\\xb4WA\\xd5\\xb8hfs\\t\\x1b${\\x14\\xa5\\x0e\\xd0\\xdf\\xddfi~\\x8a\\xa2\\xb5\\xd8M\\xa7\\xe26\\xad\\xce\\xcf6\\x9d\\xe6t\\xff\\xf5tU\\xa7S\\x97\\x06\\x1f\\x9b\\xfb\\xe9\\x1d\\x07\\xc9\\xe4\\xd7\\xd5\\xe33\\xe4R\\x0bh\\x02F\\xde\\xd3\\xecsu\\xb9\\xaf\\x1f\\xcfr\\xc1\\x94;\\x93\\xe3\\xf9\\xdc\\x1a\\xb5\\x95\\xba\\xae\\x17\\x80\\xe1\\xaa.^\\xbf\\xbb\\x1a\\xf6\\xef\\xcb\\xdf\\x06\\x86ud\\x91\"\\x81\\xd1\\xc4\\x1bEN}\\x85\\x9f\\x02c\\xcen\\xb6\\xd2A\\xf5o>\\xd8\\xeaV\\x16\\xba\\xb7)EB\\x9eV\\x05h\\xb0\\xc1\\xdb%\\xf9=p0C9\\xcc\\x9c]M\\xff\\x15AQ;\\xae\\xbc{w\\x04b\\xcepR\\x9e\\xe7\"s\\xb6\\x16q\\x84\\xe8\\x01\\x88\\x95\\x00Zo\\xa3\\xf5XT\\xf3\\xf8\\x01\\x86\\x19\\xcb\\\\\\xa4\\x87\\xa0\\xe8\\x92L\\xb7\\xc0\\xa8*\\xa5c\\x8eX\\xcc\\x99NJ\\xf3\\\\\\xb1P\\xd3\\xa9\\xc9\\xc2\\x8c\\xe3M7k\\x19\\x1f\\xae\\xeaZ\\x1c\\x14\\xae\\xea\\xa7\\x08\\xa0\\xe1\\xaa\\xf6\\x85FU\\x1f\\xc1\\x05\\xa7!2\\xe7:s]\\xa1\\xc1\\x10\\xd1\\rN\\xcd\\x16\\xe6\\x0e\\xf3\\xea\\x13\\x14G\\x12\\x1cL\\x1alu\\xc0\\xe1D\\x85CU\\x97\\xf0\\xd0`\\xe20g9)\\xd7\\xb3\\x8f\\x8a\\x94\\x9dH\\x9b\\xb5E\\x1c!=M5\\xf3mE\\x7f\\xd6\\xbblGA\\xc2}\\xa3~\\xf4\\'\\x88\\xd2\\x13\\x14\\xbd\\xa7\\x8f\\x81\\xf2\\x17\\xe1P\\xa5\\x93\\xd11\\xe76)\\xc6s\\xc5A\\xdd\\xa6\\x1e\\x82X\\xc1\\x9fm\\x17+\\xe7\\x02H\\x98i\\x04S\\xf6g\\x84\\x85\\xa99\\x13\\x03\\xc2\\xa4\\x1cg\\x80\\xa8\\xd2r<w\\xcc\\x99\\xcdV#\\xa8\\xcf\\x1d\\x1a\\x10j6\\xf5U\\x10\\xab\\x05\\xb4\\x0e\\xbe\\x10\\xf6\\xec\\xa2\\xac>\\xc1`f2\\xef\\x1d\\x83\\xc1%\\xe9\\x07\\x88*.\\xe1\\\\7\\x8d\\x8c9\\xa3I\\x11\\x9e\\xab\\x88P\\xa3\\xa9G V\\x07\\x88\\x17\\xe4\\xe5\\x9e\\x13\\x11n\\x18uf\\x01\\x85\\xab\\xf2{\\x81\\xe1\\xa2\\x1e\\xaaA\\xa3\\x99\\xcd\\xc3Uz\\xa9\\t\\xf4w{U\\x9aG\\xaf)a\\xd1Z\\xc4<\\xa1/\\x82\\xb4\\xa2>\\xf7uPY\\xec\\x8b\\x8f\\x084\\xf3\\x05\\xab<z\\xbe\\x83\\xaaO]\\xfc\\x04U\\xfb\\xfe\\x9a\\x1a.\\xba\\x8f\\r\\x8a\\xef\\xcc,\\xd4K\\xf3s\\x1az\\x80\\x9e\\xe3\\xf9\\x93\\xd7\\xe3\\xed\\xf7&+\\x04\\n\\x97t\\x9e\\x05\\x85\\xab\\xa9#\\x1c\\xba$\\x0c\\xe1P\\xd5\\xb7\\xde-q\\x983\\x9aT\\xe9\\xb9\\x18#\\xad\\xc5.*R\\xe8\\xc0\\xc1\\x0c#+\\xaep\\x8bJ\\xaa\\x07\\x85\\xabi\\xfe\\x85\\x83KJ\\t\\x14AM\\x7f\\x13\\x12M<\\xdc\\xae\\xa0\\xe8\\xceTHl\\xcd\\xcfC\\xa2\\xb6\\xd8\\xa1\\xe8>\\xb7\\xcd\\xa4V\\xea\\xe7IM\\xb1\\x01\\x8a\\xe6\\x18\\x9f\\xe1\\xc3\\x98\\xa5#(\\\\\\x1a=\\xe5\\xddU\\x1d;\\xb0\\xa8}\\xf9P\\x81O\\xb3),\\xe6\\xac&\\x15z\\xaeX\\xa8\\xd5\\xd4\\xd7A\\xac\\xd0\\x0f\\xbfv\\x90:\\xbb\\x9a\\xec\\x08,\\x9a\\x95\\x1cA$,\\\\\\xd5\\xcb\\xc2\\xa2\\xaa\\xb7\\xf0!\\xa1\\xc4b\\xcehR\\x89\\xe7\\x8a\\x85\\x1a\\xcd\\xe0\\xee,.\\x9a+|R\\xd03[\\x07\\x86\\x88\\xabi3\\x10\\x16.\\xe9\\x82\\x16\\x16\\xae\\xea7\\x17aQ\\xd5\\xe5\\xd5\\xaf\\x9aX\\xcc\\x99\\xcdRu\\xe8|\\x8c\\xa8\\xd9\\xd4c\\x10+\\x14\\x04\\x0b\\x8fW\\xcb\\x15\\xcd1>\\xc3\\x07\\xcdl\\x80\\xb8$\\x8f\\xaf\\x86\\x0b\\xea\\xea\\xdc\\n\\x08\\x1d\\xbekKa\\x9d\\xa9Dq\\xe94\\xcb\\x05\\xd3FE\\xfa\\x9f\\xc9\\x99\\xcd\\x12n\\x83#%7\\xe2\\xc1\\xfcb\\x18\\xd1\\x86\\xe1\\xb8\\x1f\\xe1\\xe0\\xfd4X\\x08\\x87\\xaa\\xde\\x8e\\xbe`\\xfe,%\\x81&<E\\xde\\xd7L\\xbf\\xe3\\xa3^0\\x91H\\xf7\\x1c\\x12\\xe6\\n\\x99=\\x06C\\xc3\\xd4\\xc1\\x07I\\x19\\x1d\\xa6\\x0e\\xfa\\x82\\xc3\\xd4\\xecoaQ\\xa5\\xe5\\xb0\\x9c\\xd2\\x93\\x9a;Saqi7\\xcb\\x05\\x13\\x8c\\xbe7`y\\xc2\\\\\\xe1\\xe0\\xe3\\xbb\\xc4EP\\x13lX\\xb88Z\\x9eG5u\\x85F\\xed\\xfa:\\x1c#\\xa5\\xe6\\xcf\\xdf#\\xa3\\x95\\x08\\xaafe\\xdb\\xc0J\\x7f\\xf1\\xe3\\xd9Z\\xc4\\xc9T>\\x8a\\xb55*\\x9by\\xcfQ\\xad\\xc6\\xa0\\xea1\\xe2wPe\\x17\\xf8\\'\\x88\\xa3)\\xa4\\xfd\\xd9\\xdb+D\\xe3>oR^g&6J\\xf3\\xd3\\xbc\\xd9Z\\xecpt\\x8f\\xd7b\\xa3\\x15\\xf5\\xb9?\\x07\\x1f\\xf2~\\x9a\\xb8R:=\\xd1\\x06F3\\x95\\xdb\\x84\\x1a~T\\xb9.4\\x82\\x9a=\\xcb\\xaf\\xab\\xff\\xee\\xfd\\x1fJ4\\xe6L\\'\\x15y.f\\xd4\\xd6bG#\\xfd\\xa6\\xcf\\xa7\\xd5\\xfc\\x89O[\\x97\\x1f\\xf4\\xd5\\xa5\\xbc\\xdc\\x86\\x84yJ\\xdd\\xe3u\\x89\\xe7\\x142$0\\xd4\\x8e\\x0b_ \\xf5I+a\\xe0\\xff\\x9d8L\\xa7\\x1c\\xcf\\x15\\x86\\xdab\\x87A\\x0c\\xa7\\xd5\\xfcY\\x1f\\xa3\\xf3\\xb1\\xae\\xaa\\xab\\x04F\\xf3\\x9c\\xebctt\\xda\\xd5\\xc1\\xd1i\\x13o\\xff\\x0e\\x1fC\\xa2\\xc2\\xce\\x14\\x8eK\\xcfY.\\x98\\xf2\\xa7\\xecoZ\\xd1\\x1f\\x1e@\\xf3\\xdbdQ\\xd1|\\xe3\\xf6k\\xf3\\xfd\\x85\\x85\\xa9\\x83S\\x14\\x86\\x88\\xa9\\xfa\\\\\\x1b\\xa1Q\\xc5\\xe5\\x11\\xfef\\n\\x8d9\\xcfI\\xb1\\x9e\\xab\\xd0P\\xcf\\x99\\x03\\x9a\\x11\\xe2\\xe60E\\r#\\xc4%M\\x08\\xb0p\\xb5\\x0fy\\xcb\\x15.\\xc9\\x96\\x06 \\xaaH\\xf5\\xca\\x0e?\\x81\\x983\\x9cT\\xe2\\xb9\\x02\\xa1\\x863o\\xbf\\x01\\xc2\\xad\\xa3<\\xd6\\x0f\\x8a&\\xae\\x14\\xcc\\xce\\xd9\\x0f\\x14\\xdeUA\\x11\\x16\\xde7\\xf9;XT\\x89\\xef\\x17\\xf6\\xcc\\x95X\\xcc\\xf9\\xceV#\\xe8lN\\xd5\\x1dN=\\x0b\\xb1b@\\xeb?\\xdd\\xa6\\x07\\x86\\x1b\\xc8\\xe1\\x9c\\xea\\xaaxVX\\x1c\\x8b\\xd0h\\xd6\\xf3\\xa84\\xdf\\x93\\xf2:S\\xd9\\xe2\\xd2z\\x96\\x0b\\xee\\xb3\\x85&\\x0b\\xf3\\x87\\xc3}\\x0b\\xab\\x07\\x04\\xa9}*!*\\xbc\\xa3.\\xc7!\\xe1\\xaaX\\x0fHT\\x91\\xedN\\xbfh\\n\\x8b9\\xdfIM\\x9e\\xab!R[\\xc4i\\xa4\\xff\\xed2\\xac\\x19!\\xe6\\x1d\\xff\\xa9w$*\\x82\\x1a\\xc2\\xb9\\xf4\\x05\\x86\\xab\\xf2\\xb2\\x03,\\\\\\x1cM\"U<\\\\\\x9e\\xceU\\x13z\\xe6jB\\x8f\\x94\\xf6>\\xacED\\x916\\x1f>\\xb76\\xf5\\x04\\x99-\\xce<M|\\x9d\\xaa\\xdfA\\xd5\\xe9\\xf6\\'\\xa8=%\\x14\\x86\\xbf&\\x85\\x0f\\xa9\\xef\\x83\\x82\\x12;3\\xc3\\xa34\\x8f\\x86SI\\x0c\\xf67S\\x0e\\x03E3\\x86k\\xde\\x16\\x87C\\x97\\x06Y3\\xa8\\x1e\\xe5m\\x02\\t\\x92\\xe0\\x85C\\xbd\\xeca)\\xa1\\'%v\\xa6@d\\xaf\\xa9 j\\x8b\\x18\\x12y\\xb5\\x08\\x08s\\x8d\\xff\\xd4:\\xc0\\xc2U\\x19\\x00\\x84\\x84\\x8b\\xda\\x95\\x90pU\\xdd\\x1b4\\x9az\\xe8\\xb1(\\xb33Eck~\\x1e\\x16\\xb5\\xc5\\x8e\\x86\\xacQ\\xad\\xf4\\xcf6\\x85\\x0cF\\x88\\x99\\xca\\x7fih\\xc1\\xc2%\\xdd\\x1c\\x85\\xc5\\x89\\n\\x8b\\xaa\\x1e\\xbfNH\\xa9\\x9d)\\x16\\xd9ojd\\xd4\\x16;\\x16}#\\xad%N\\xab\\xfe\\xb3\\x928\\xd3\\xa8&0\\xcc5\\x92J\\x92\\x08\\x0c\\x175\\xe5\\x02\\xc3U\\xe9\\n\\x8bf8\\x03\\xfc\\x94.\\xe6\\xfc&uy\\xae\\xe2B\\xfd\\xa6\\x1e\\x87X\\xf1\\x9f5o\\x05C\\xa2\\xd9F\\x91\\xe0\\xe0\\xd2h.\\xed\\xaa|\\x03\\x03\\x0e\\xb5\\xeb\\x12\\x06l\\xe20g7\\xa9\\xc9s\\xc5A\\xedfxu\\xcdb\\xc2\\\\\\xe1M\\x0e\\xcc!\\x11D\\x9dK\\xbb\\xda\\x1d\\xb4%N\\xef(\\'\\xed\\x90\\xa8\\xe2\\xf2\\xeaQ\\x9cH\\xcc\\x99M\\xea\\xf1\\\\\\x91P\\xb3\\xa9/\\x85X\\xd1\\x1f\\x9e@\\x1ae\\ns\\x8c\\xa8\\x03\\x14\\xae\\x0e\\xc7GP\\xd3\\xd0\\x82Fs\\x9b\\xe1\\xa1\\x90Dc\\xcemR\\x96\\xe7\\x8aFm\\xb1\\xcb\\x15b7\\xad\\xf4\\x0fg\\xea\\xfbY\\x91\\xa80\\xcb\\x98%\\xc6\\x87Kzr@\\x9epU\\xa7\\x17@Tu9|\\x9d\\x8e:;SI3\\x9b\\xcd\\x1en%JqXj6\\xf50\\xc4\\n\\xff\\xac\\xcb\\xe8)\\x8b3\\x15\\x1cf(\\x97\\xc1\\x1a$\\x8a9\\xa2\\xa0Q\\xbb\\x1e~#\\xab\\xd4\\x00\\xfa\\xfb&g+\\x19\\xd4\\x17d\\x02\\xa3\\xb5\\xd8EE\\x9a\\x14?)\\x16\\xd8\\xfcf~\\xc0\\xec+H:\\xd1~\\x07UO\\xcc\\x7f\\x82:X\\x84\\xb4\\xbf\\xb9\\x84w3\\xf6\\x03\\x842;3qQ\\x9a\\x9f\\x1a\\x8b\\xd6\"\\xa2\\x08\\x7f\\xbc%\\xceV\\xdc\\xe7>\\x8e\\x0bW\\xc33d\\xa5#(\\xdc\\x8d\\xea\\xb2\\x15\\x14\\xa6\\xdeF\\xa7\"M\\xbd\\x1dN\"\\xd4\\xd8\\x99bqi9\\xcb\\x05\\xf7K\\xd3\\xfc\\x93\\x08\\x0bs\\x86y[\\x9c\\xb08\\x92\\x00\\xe1\\x92L\\x12p\\x08\\xa2\\x8e\\x0eS\\x0f?[M\\x89\\x9d)\\x0e[\\xf3\\xf3\\x98\\xa8-v1!f\\xd3\\xca\\xfe\\xac\\xff\\xf4\\xd6\\x82\\xc2<\\xe3\\xa2{\\xb6\\xd005\\xaf\\xe0a\\xd1%\\x99\\x99~M\\xe5\\xabz\\x9e\\xa8\\xd3\\xf8\\x983\\x9b\\x14\\xe4\\xb9b\\xa1f3\\xdfxb\\xc2M\\xe1h\\xef\\xc6\\xd5\\xecH\\x00\\x11:\\x06\\xd3\\xd8\\x9c\\x85\\xab@\\x94\\xb9\\xb4\\x89\\xaf5\\xcc\\xee\\x89\\xc5\\x9c\\xd9\\xa4(\\xcf\\x15\\x0b5\\x9b\\xfa^\\x88U\\xfe\\x19\\x9cw\\x10\\x16\\xe6)\\x07\\xeb5h\\xb8\\x9aV\\xbc\\x84E\\x97\\xc4\\x92\\x10\\x16\\xcdo\\xbe\\x1f\\xd5\\xa5{Rfgj\\x8c\\\\\\x1a\\xcer\\xc1\\x94+\\xd2=\".\\xcc\\x1a\\xe6;\\x0f\\t\\x97\\xd2\\xec\\x04\\x06\\x97\\x92\\x1d\\x01C\\x97\\x06\\x11Q\\xc5e=\\xdc\\xad\\xa0\\xc6\\xce\\x14\\x85K\\xb3Y.\\x98(\\xa4\\xdf\\x03\\x05\\xb3\\x84\\xe3L\\x11\\xd4\\x04\\x10\\x14.\\x8e\\x16\\xa6]M\\xfbfDD\\xed\\xb8\\xbc\\x85\\x83\\xfa4:\\xe6\\xac&\\xf5x\\xaeF\\x87Z\\xcd\\xec\\x1c`\\xd1l!wR\\xe2\\x98\\xa0pU\\xf6\\xc3a\\xe1\\xa2\\xbar\"\\xc3UeQ%\\x9e\\xd5;J\\x9asf\\xb3\\xd5\\t:\\xf3Wj6\\xf5\\x14\\xc4j\\xfel\\xa7\\xa69\\xf7\\x81\\xc2\\xec$\\xc7\\xa6Y\\x85ES\\xf9\\xd9\\xfe\\x9b,i\\xba\\x94\\x1c\\x1dAQ%\\x1e\\xbb\\xe9\\xbdvAA\\xce\\x9a\\x19 \\xb5\\xf9\\xd9Tj-vSi\\xfa\\xbf>\\xb7F\\xf58=\\xa4\\xaf\\xf2k\\xbe\\x82$K\\xd6\\xef.r\\x0c\\x9f\\x19\\xfd\\xecTq\\x15\\xa6\\xbe\\x1d~\\xae\\x80c\\x979\\x16u\\xe3\\xf28*\\xea\\x05\\xf7\\xc9B\\x8eA\\xb6F\\x8d\\x85n\\xbc\\x81#\\xa8\\xf97\\xc1#\\xa8\\x03\\x1e\\'\\xea\\xaf\\xf5=|\\x87l\\x9d\\xab%T\\x9b\\x9f\\x87\\x86npvWSn?\\x91\\xd1\\x9c!3\\xdc>\\xceA\\xe1R\\x0f\\xe6\\xd2\\x0b\\x0e.\\rV\\xe8AM\\x7f\\x0e\\x08\\xb5#\\x0f\\x11\\xfb_K\\xe3cs\\x86\\x7f^\\x89\\xad\\xd4\\xe19O\\x9a\\xd6\"\\x8e\\x8f\\xf4s\\x80\\xd0,!nIsfP\\xfb?m\\x1cB\\xc7$2<\\x82\\x98C\\t\\x12M\\xed\\xbb=\\t\\xc4\\x94\\xcfd\\x132\\x81H\\xe8?\\xacE\\x04\\xa1y\\xa2\\xb9E\\xb2\\x9e\\x8cw\\x02\"\\xa8\\xf9\\x07\\x11\\x13\\xae\\x0ef\\xd2\\xa0\\xea\\x95\\x81Q\\xfb.o}\\x975\\xd1\\x98r\\x9a\\x84\\xd7%\\ru\\x9a\\xf2N\\xc8v\\x99v \\xa4\\x07\\xc4\\xe0p5-]`\\xe1\\x92\\xae;\\t\\x0cW\\xfb\\xcd/\\x01\\x05\\x88*-a\\x05\\x90@L\\xd9L^]\\xb8\\x04Q[\\xc4\\xb0\\x08\\xeba\\xcb\\x12\\xcd\\x15n\\xa6\"\\xe7=@\\x04u\\x10\\x17]\\xf51_.\\x0b\\x88.\\xc9eaQ\\xd5\\xa3O7\\xf0\\xfe/\\xbfm\"Ud\\xaf\\xa9#\\xa4\\xb6\\xd8\\xa1H\\xb7\\x96\\\\\\xd1\\x0c#+\\xc5l\\x90!\\x11\\xc4\\x01\\x89\\xae\\n\\x89.I\\x06\\x82DU\\x8f\\xde\\xad\\xe44f\\x8eDv\\x9aJB\\x9d\\xa6\\xbc\\x11\\xb2\\xfdU\\x9fH\\xf3\\x8f\\x05\\x85\\xab:E0@\\\\\\x1d\\x14\\xae<U\\xa1Q\\xfb\\x06\\xbf\\x97\\x86\\xc8\\x94\\xd9dw\\xe1r\\x88\\xa8\\xd9\\xcc\\x9b\\xb5\\xc4\\x85\\xbb\\xc2a\\xae8Q\\xa1\\x11T\\x9dF\\x82\\x981\\x03\\xa3\\xaa\\xe1\\xee\\xeca\\x94\\xfa@\\x7f\\x1f$\\xa5y4\\x15\\x12\\x1a\\xad\\xc5n\\x90\\xa4\\xff\\xf9s\\xb5\\xaa?l\\xbc\\xee#\\xfd\\xebX\\xfa\\x0eR\\x9a\\xa1\\x7f\\xa2\\x94G\\xdd\\xaf\\x8ba\\xab A\\x983\\x9a\\xadHPus\\xdb3\\xac\\n\\xa1Z\\xd1\\x1d\\x84\\xbc*]\\xad\\x14\\x10\\x10$\\xbb\\xc1\\xc1\\xcdb_45W\\xe1\\x12\\x1f\\xf9\\xcew\\x1c\\x14\\xd6qpYXT\\xf5\\xe8\\xdd\\x18\\xce\\xf3\\xa7REi~\\x1e\\x0fj2\\xc3\\xdeY\\x9b?\\xac\\x1a\\xd0\\xc0e\\x06I(\\x11\\x12\\xddh\\xee\\x03\\t\\x0e]\\x92\\x8ep\\xa8\\xea\\xf1DJy\\x9d\\x99\\xd9\\xa34?\\x07\\xb1]p\\xbf\\xf8\\x90\\xf3\\x8f\\xd5J\\xfe`\\xff\\xf6\\xbf\\x87\\x80h\\x86\\x10I~\\x0f \\\\M3\\x12 \\x8e$(Ti9z\\xf8\\x8a\\xf3\\xa89\\n\\x97.\\xb3\\\\0QH9\\x80\\xf4\\xd0\\xac\\xe2\\xf6SS\\xee\\x80\\x83\\x8b\\xa3\\x89\\xa3\\xabJ\\t\\x14\\'}\\xa1\\xd1\\\\\\xe6\\xd1\\x03X+\\xc5u\\xa6b\\xe2\\xd2e\\x96\\x0b\\xeei\\xc8\\xd9\\xc7\\xf6W\\x9b\\xcb\\x94\\xf3\\x1ah\\x041\\xe7\\x02\\xa2\\xa2\\xab\\xfbp\\x02E\\x97$\\x9c@Q\\xd5g\\xcfl)c\\xce\\xd9Lj\\xf5\\xec\\x97a\\xfd\\xba%\\x03|\\xb0\\x87,\\xa3CN>\\xb6F\\x95D\\xc8\\xe4\\xa5?\\x1c\\x8e$ \\xb8\\xa4\\x07\\xa1ppU\\x03\\x06\\x0eM=*]\\xcaS\\x0bs!qi2\\xcb\\x05SH\\xa4!\\xcd\\x001;\\xb8\\x8cB\\xc2\\xc4\\x9b\\x1e\\x0bC\\xc3\\xd4\\x9c\\x85Aa\\x12\\xa7ai\\xd8A\\xa2\\x8a\\xb7%\\xbc\\xb1\\x91bb\\xceeR\\x8d\\xe7*&\\xd4e\\x86u\\x8fM\\x1d\\xe6\\x14\\xef\\xa3\\xb5\\xb9\\xd5\\n\\xe2\\xbb\\x7f\\x12\\xe5\\xb0\\xf0\\xbe\\x83\\xa7\\xdc\\xbb\\xaa_\\xb1\\x05G\\xed\\xca@\\xe9^$\\xe1\\x98\\xb3\\x99\\x94\\xe4\\xb9\\xc2\\xa163\\x8f\\x03\"\\xc3\\xdc`xa\\xc7\\x86\\x88I\\x14\\x88H\\xb7\\x17\\x14&>\\xe5i\\x1a\\x02\\xc3\\xc54n\\xe1`\\xd2\\xab\\x07\\xe9\\x9e\\xc3\\\\)\\xa1UJ\\t\\xa5?\\xf9a-\\xa2\\xb9\\xcak\\xce\\xcf\\xadQM\\x15|\\xd9>\\xfd\\xd8\\xaf \\xa6Y\\xf6\\xbbK\\xa3\\xcf\\xdawU\\xaf\\xfak\\xe2\\r\\xcf\\xed\\xc96\\xa1\\x98\\xf3\\x99\\xadP\\xd0\\x89\\xcfl-v(\\xc4gZ=\\xa0\\x95\\x9ac\\x8a\\xa2\\xb9\\xc5\\x95r\\x08\\x99\"4\\\\\\xd5C\\xe3 \\xf6[_B\\r\\x14\\xb5\\xdf\\xf1w\\xed\\xf9B\\xfcT\\xde,\\xcdO\\xedUk\\xb1C\\x91B\\x87\\xa8h\\x9e\\x90\\xef\\x10\\xc9\\xaf%,\\x82\\x9a@\\x81\\xc2E=7\\xf9\\tjO\\x07\\xc6\\xa2v|?z\\xd2\\x86\\xcf\\xd7\\xcd\\xa1\\xd8\\x9a\\x9f\\xa3\\xa8-v(\\xd2\\xbf\\x05\\ns\\x85\\xef\\xe9\\x8c\\x0f\\x0eG\\x12\\x14\\\\J\\xab\\x12\\x10tIV%DDUo\\xf7\\xf7>\\xe4\\xd2\\xe0\\x98\\xb3\\x9a\\x94\\xe1\\xb9\\xc2P[\\xec0\\xf4\\x91\\xd9\\xa6\\x0f\\xaf\\xf5\\xf3\\xa6\\xf1\\x0f\\t\\xf3\\x8bak\\xa5t\\x84\\x84KJ\\xc2%5\\x1c\\x90\\xa8\\xea\\x1b5\\xb0\\x8f\\xd2\\xc4\\x9c\\xcd\\xa4\\x0e\\xcf\\x15\\x89\\xda\"\\x92\\xd0s\\x0f\\xaf\\xf4\\x93\\xcbh\\x81\\xc1\\xbc\\xe2\\x9b$S@t\\xd1\\x7fOaDHtI\\x86\\x1b \\xaa\\xba\\x1c\\xeeM\\x94r?\\x7f\\xdf\\x9b(\\xcd\\xcf\\x07\\x86\\x9aLM\\x11\\xe6\\x07\\xf9\\xad9!B\\xc2U\\xdd\\x97\\x02\\x85\\xab\\xda\\x17\\x1a\\xae\\xf6!`9\\xa2J\\xaf\\xe7aH\\xcc\\xd9L\\x8a\\xef\\\\\\x85Dm\\x11CBSD\\xf3\\x83k\\xf8\\xa8H\\xf9\\x87\\xe1\\xd0%\\xa1\\x04\\x07We\\xc6\\x01C\\x10\\xf3\\x8a\\x85\\xa0\\xa8\\xea\\x12>\\x03\\x9b\\xd2\\xc4\\x9c\\xcb\\xa4*\\xcf\\x9eD\\xfa\\x95\\xd8\\tu\\x99\\x9a%\\x9aQ\\\\\\xdftD\\x03\\xe3D\\x05\\x86\\xa9/}\\xa4\\x11\\x1a\\'*4\\x9azx\\xeeA)\\x9d\\x99\\x15ii\\x1e\\x87\\x88\\xd2P\\x93\\xa9\\xe7\\x1e^\\xddg\\xf0\\x93\\xc0\\xd1,!\\xf5\\xf8d\"\\x00\\x87\\xa9L\\xc1\\xf9\\xf6\\x83\\xc3U\\xdd\\x13\\x03GU\\x0fK\\x1e\\xf3\\x1d\\xf1)\\x1c\\xa5\\xf9)\\x8e\\xd6\"\\x0e\\x13=\\xfdhU|\\xee/\\x9e\\xf4\\xcf?\\xe9k\\xfb\\x9f\\x8a\\x13}\\x853\\xcd6\\x87tI\\xc3\\xea\\'t\\x94]\\x90_\\x13\\x1fa\\x9fh?N\\xe6\\n\\x07\\xf1y\\xb7\\xabq\\xd2Z\\xecP$\\xe3\\xf7\\xb9]\\xa6\\xfdX\\xfdE\\xa0\\x08j\\x06\\xf5\\x1d\\xd4\\x81\\xd9\\x8c]\\x937\\x03\\x86\\xd9\\xcdne\\x12\\x8c9\\xb7I\\x1d\\x9e\\x8b\\xa4\\xd1Z\\xec`\\xa4\\xac\\x0e\\x8cf\\x19_\\x83G\\x10\\x81q\\xa2\\x02\\xc3\\xd4\\xc1#K\\x84\\x86\\xa9yl\\xc2\\xa2JK8\\x81H,\\xf8\\xa7\\'\\x8e\\xc5\\xa8\\xc3s\\xc5\\xa2\\xb6\\xd8\\xb1\\xe87\\xa2\\x84:,\\x9a;\\x94Q\\x00\\x88.\\r\\xe6\\x92\\xae\\xa6kB\\xe1\\xa4# \\x9a\\xe3\\xec1\\x9a8\\xcc\\xf9M\\xea\\xf0\\\\qP\\xbf\\x99\\x9f\\xba\\x83C\\xf3\\x86[\\xaeHq\\x0c\\t\\x17\\xf5\\xa5\\x08B\\xc2U%\\xd1%A\\x08\\x89\\xaa\\xde\\xc29EB1g8\\xa9\\xc4s\\x85B\\rgxH\\xd4B\\xa2\\xb9\\xc3\\x83\\xb4\\xe9\\xaa\\xbc\\xe6\\x04\\n\\x17\\xd5\\xb5\\x13\\x17A\\xcdi\\x06\\x1aU]\\xc2\\xf7\\xe2\\x13\\x8d\\xb9\\xbdM\\x8a\\xf1\\\\\\xd1P\\xdb\\x997\\xdf\\x08\\x0cs\\x87\\xa3s\\xe3\\x13\\x11\\x18\\xdeS\\xe7[`\\xb8\\xaa;`\\xc0\\xa8\\xea\\xed\\xf0\\x10\\xbd\\xd4\\x06\\xfa\\xbb\\x07\\x97RBb0Z\\x8b]\\xb6H\\x8d\\x80a\\x1eq\\xd5\\xe7\\xca\\x18&\\xae\\xca\\x8b\\x1e\\xd0p1Y{Pti4J\\xaaz\\x0b_\\x14Oq1\\xe7<\\xa9\\xc6s\\x15\\x17\\xea<\\xe5\\x93X\\xab\\x97\\xfcy\\r\\xcd\\x85\\xdbG}\\xf0\\x02\\x16\\xae\\xeaj\\x05\\x1c\\xae\\xa6DDXT\\t\\xbb\\xebK\\xba\\xc4b\\xcewR\\x8d\\xe7\\x8a\\x85\\xfaN=\\t\\xf1\\x92?\\xe1\\xf9\\xe2\\xb6 \\xe9\\x92\\xdaJ@\\x98\\xad\\xcc\\x1d\\xa1\\xe0\\x92n\\t\\x01\\xa2\\xaa\\x1c\\x94\\x1d\\x80(U\\x7f\\xfe>>Z\\x91\\xa0\\xeaW\\xb6\\xa3\\xe3\\x14\\xfa\\x1fTv(\\xa8\\xe2\\xf8\\xd0\\x83\\x10/\\x14\\xf4\\xd2\\'q\\xbf\\xb6K\\xd4\\xbd\\xcf\\x81\\xfa\\x1d\\xd4\\xd1\\xa6w\\xef;0\\x9dM|{\\xf4\\x05\\xd2>,\\xa8\\xae3\\xe3-J\\xf3S\\xff\\xddZ\\xech\\xf4\\x98l\\x13I\\xab\\xe9s\\x8f_ejaq(\\xc1\\xc1\\xcc(\\xc7$i\\x00\\xfc\\x04q\\x84\\xa1\\xf5\\xfcwx<Fu\\x9d)\\x0e\\x97~\\xb3\\\\0\\x9d\\n\\xf5\\x904\\x0e\\xcd\\x15n\\x95\\xc1u\\xeb\\xc2\\x8b\\x01\\x85\\xcf\\x14\\x95\\x8e\\xa08\\xe9\\x08\\x0bWG#\\xa4\\xa9\\xd4=\\xee\\xae$\\x05\\x05wo\\xc2pR\\x91\\xe7\"W\\xb4\\x16\\xbb\\xa0\\xe8\\x7f\\xdc`4s\\xc8\\xd7\\x8f|\\xe8ZPt)\\xdfyX\\xb8(\\xfbz]\\xd2\\xc5\\xcd\\xafu\\xbc\\xbd\\xee=\\x9a\\x12\\x889\\xc7I9\\x9e+\\x10\\xea8\\xf3}\\xff\\\\\\xbd\\xe6\\xcf\\xe0\\x9d\\xe33\\x11\\x14\\xcdUr\\xf6\\'\\xebZ\\xc2\\xc2U\\x99\\x85\\x81\\xd1,\\xe7\\xfd\\xf0\\xe0\\x94\\n;SQq\\xe99\\xcb\\x05\\xd3\\x10\\xe9\\xdbi\\x16\\x15\\xcd\\x1ar\\xd6?\\x1a\"\\xae\\xf6[hC\\xc4%I\\x08\\xa0pQL=(\\xaa\\xf8\\x1e\\xf6\\xd9SX\\xcc\\xf9M\\xca\\xf1\\\\\\x85\\x85\\xfaMy\\x0fd\\xf5\\x9a?\\xa37m\\xbb\\x9a\\x0f\\\\\\x89\\n3\\x94\\xe3\\xa80U\\xa3\\r\\x14\\xcdm\\xde\\xc2\\xe1db1\\xb7\\xcfIA\\x9e+\\x16\\xba\\xcf\\x19\\x1e\\x0c\\xb4\\xa80c\\xf8/\\xcd-\\xcc\\xa5.\\xa5X\\x02\\x84K\\xe91]\\x02\\xc2%Y\\xbc@\\xa1\\x8a\\x9c\\xa4\\xf7\\xbf\\x96(\\xcc9M*\\xf1\\\\QP\\xa7)\\xdf\\xc2\\xa2\\xf4\\\\\\xb5\\r\\xbc\\r*\\xc3\\x1d\\x10\\xe6\\x16y\\x1d&/\\xaa`\\xe1}u\\x95\\x01\\x0eW\\xbbq(\\xe8\\x81Q%J\\xa3\\x1f\\x9b\\x8a9\\xaf)e\\x84\\xd4b\\xa9\\xd7\\xd4\\xe3\\x10+\\x07\\xb4=\\xea\\x9e\\xb2\\x010\\x9ai\\xdc\\xc4\\x01\\x0cWS\\xcc@\\xa2K\\xd2\\x11\\x18U]\\xc2S\\x91\\xfb\\xc0(U\\x7f\\xfe\\xee6K\\xf3\\xe0\\xaf\\xc2c^\\x05\\xff\\xc7\\xdaZ\\xc4\\xa94-\\x9b>\\xb76\\xc5N\\x0e?P\\x1cTu\\x07\\xdf]\\xe5Q\\xc5D\\xf1\\xa7\\x8b\\xef\\xba\\xdd\\xf1k\\xea\\x8d\\xaa[>\\x81\\'\\x1asn\\x93b<\\xbba2\\xa0Q[D\\x1a)x\\xa0\\xd1\\xcc\\x1fO\\x95\\xfa\\xbfU`~EI&\\x17PXGv\\xf4\\x14E\\x10s@\\x81\\xa2\\xaa\\xcb\\xe1r\\x8c\\xf2:3\\x93ii\\x1e\\xe3\"%0\\xe2\\xa2:\\xd2H\"\\r]H\\x98/\\x1c\\x14\\x82\\x08\\xa2\\xde[Xx\\xd7\\xd1\\xc2\\xb4\\xab\\x89\\x13$j\\xc7%\\xbc\\xb6\\x9db\\x82\\x7fy\\xc2lR\\x8ag\\x1f\\x13J\\xa2\\xb6\\x88$\\xf2\\x9d\\x07\\x85\\x99\\xc6|8@PtIF< \\\\\\xd5\\xac\\xca\\x00qU\\x9f\\x19\\x87EU\\xd7\\x1e\\xa2\\t\\xc5\\x9c\\xdd\\xa4\\x0e\\xcf\\x15\\n\\xb5\\x9b\\xf9\\xf7\\x82\\xc2m\\xa1\\xfe\\xcf\\xd0p\\xb5\\xcf}e\\xf4\\x80\\xc2%9d\\x86\\x84\\x8b\\xe9\\x06\\x81\\xa1J\\xc7\\x9e\\x82\\xc2:S!\\x91\\x9cf\\xf8b\\xa5%\\xcd\\xdab\\x17\\x12\\xe9\\xe7\\xc0\\xc1=\\xa1\\xac?\\x0e% x\\xaf\\xc1\\xa2\\xb4\\x8b\\xe9\\xaf\\x01\\xa1\\xf6[^\\x1dO\\n\\x869\\x93I\\x11\\x9e\\xab`P\\x93\\x196I\\n) \\x98\\x1b\\\\t\\xc5D0\\xb8\\x9a\\x10\\xc1\\xc1%\\xedH4\\x04USD\\x15\\x0f\\x9fG\\xa3\\xac\\xceT8$\\x8b9\\x08\\x07\\xb5\\x98a-l$\\xcc\\x11f\\t\\x0c]\\x1ae\\x08W\\x87\\xa9\\xf2D%*\\xaa\\xfa:\\x9c@\\xe7|&ux\\xae\\x82B}\\xa6\\x1e\\x81x\\xad\\x9f\\x9b\\xac\\x96\\x80a6s\\xf0](\\xc2\\xc2\\xd5\\xc1*\\xac\\x8br]P\\xb4\\x9e\\xe1\\x18\"\\r\\x909\\x97I\\x15\\x9e+\\x16\\xea2\\xc3\\x1f\\xb7\\xb0h~\\x90\\xa7\\x82\\xe4\\xde\\x03\\xc3UYF\\xc0\\xc2\\xc5\\xb4\\xf7\\xc1\\xf8\\xe8\\x92\\\\\\x15\\x14U]\\xc2\\x19\\xc4\\x1eE\\xa9\\xf7\\xf3w\\x97\\xd9\\xca\\x03U\\x8f\\xc2\\x9e\\xa6\\x8e\\x90\\xd6b\\x970{L6\\x14^\"(\\x14\\xd1,\\xd2\\xd7\\x1a\\xa4l\\x9d\\xbe\\x83\\x98R\\xc1O\\x94r\\xbf_\\x13y\\\\\\xd3}\\\\\\xc20g/)\\xc0s\\x11\\x11\\xad\\xc5\\x0eC\\x9f\\xbc\\r\\x839A\\xea\\x8c\\xa5\\x1f\\x04\\x08\\x13\\x075\\xef!a\\xaav\\x85\\x85\\x89\\xa3o\\x98\\x9bzT\\xcau\\xa5\\xa6\\xceL\\xd2,\\xcdO\\rfk\\xb1c!\\x0e\\xd3*\\xf9pr#q\\x0c\\x0c3\\x91\\x832\\xa4\\xc0pU\\xfbB\\xe3D%4\\xaaz\\xf8\\xd4\\rUu\\xa6hl\\xcd\\xcfi\\xd4\\x16\\x91\\x86\\x9e~X\\xa5\\x9f\\xc1\\x8ef\\x90r\\xd0@\\xc2\\\\$_7O\\x11\\x05\\x08\\x17G\\xaf?4\\xf5\\xb6\\xf6\\t:\\x8d\\x919\\x8fI\\t\\x9e+\\x12\\xea1\\xf5\\xf8\\xc3\\xea\\xfc\\xb0M\\x9f\\x7f\\x11aaV1l\\xaf\\x94\\xb1\\x05\\t\\x97\\xbaM*\\x12\\x1c\\xba$k7\\x02\\xa2y\\xcc`w\\x13\\x879\\x8fI\\xf9\\x9d+\\x0e\\xea1\\xc3#q\\x96+\\xcc->4\\xc6\\x01\\xe1\\xaa>K\\x05\\x0bW\\xe5\\x15\\x12h\\xb8\\xa8\\xfb\\x1b\\xd0h\\xea\\xe1\\xf1G\\xa9\\x0641\\x81\\\\\\x9a\\xcdr\\xc1\\xb4\\xb7\\xdbC\\xd2h\\x98+\\x1c>\\xdcm\\x95\\x80\\xd6\\xb7t\\xefA\\xe1\\x1d\\x15#,L\\x1d<\\xce\\x06\\x8b\\xaa>na\\xa34\\x85\\xc6\\x9c\\xdf\\xa4\\x14\\xcfUh\\xa8\\xdf\\xd4\\xf7@\\xbc\\xde\\x0fg\\x80i\\xd0\\x13\\x19\\xe6\\x1a_r\\xef\\xa1\\xe1b\\xea\\x07\\n\\x97\\xe4%\\x11HT\\xf1\\xf6~T\\xafr\\xa5\\xb2\\xceT\\xda\\xbc\\xb4\\x9b\\xe5\\x82),\\xd2?\\xfd\\xb9\\xfd\\xd5z\\x1aJ}\\xad$B\\xc2E]g\\x80\\xc2\\xd5\\xd1\\xea\\xbc\\xabrah\\xd4\\xae\\xcb3\\xec6\\xa7\\xb8\\x983\\x9c\\x14\\xe2\\xb9\\x8a\\x0b5\\x9c\\xe1Y\\x06\\x1b$f\\r\\xdf\\xf45\\x06p\\xb8\\x9a\\xe6bX\\xb8\\xa4\\x1b:D\\x86\\xab\\x12Q\\xb0\\xa8\\xe2\\xed\\xdf\\xeb\\xc8j\\x95\\x9a?\\x7fO\\x18\\xadDPu4C\\xc7\\xd9Z\\xec&Tq\\x9c\\xad\\x9a\\xcf\\x9d\\xcf\\x95idt1\\xf5\\xfb^\\xbb\\xa4\\x0f]\\xfc\\xecT\\xdd\\xcak}\\xd7\\xc3\\x17\\xb0)\\xb933HJ\\xf3So\\xd1Z\\xecP\\x88\\xeb\\xb4B?+{\\xff\\xf9\\x08\\xf1k=S\\xc1a\\xce\\x92\\x17\\xce\\xf3\\x0f\\x06\\x87\\xa9\\xef\\xb2\\xad\\xf3k\"\\x1fu\\xef;\\xe5\\xfbQBq\\x9d)\\x1cu\\xdf\\xf2,2tgS\\x8fB\\xbc\\xe0\\x0f\\xa3Dr\\x86\\x8b\\xfc\\xa2\\xfc{\\xa1a\\xce2\\xbf2\\x02\\n\\x93\\xf2W\\xb6\\x00Q\\xa5\\x85|q8F6\\x8f81F\\xb6\\xe6\\xe7\\x81Q[\\xc4\\xc0\\xd0c\\x10/\\xf5\\xf3\\x9e2\\x02Qa\\xd6q\\xf0\\xf948\\xb8:\\x9aT\\xbb\\xaa\\xde\\x04\\x1a\\xado\\xf8\\x9b)*\\xe6l\\'ex\\xaeX\\xa8\\xedL\\xc3\\xfes\\xb5J?\\xaf\\xc1\\xa7#\\xa1\\xd1\\x0c\\xe4+ox\\x80\\xc2\\xa4AG\\xa2\\xc2U\\x1d>\\xa0h\\xce\\xf3\\x1e\\xbe3\\x97X\\xccYO*\\xf1\\\\\\xb1P\\xeb\\xa9\\xf9\\xa2Y\\xc0\\xd7\\xa2\\xbbR\\xb08Q\\xc1\\xd1U_y7\\x17~(\\x01\\xa2\\xf6:\\xaaz\\xbcRUgjxd\\xcf\\x99\\xb6T?\\xea\\x05\\xf7\\xe6\"\\r\\x01B\\xa2y\\xc3\\x17\\x87\\xe8\\x9a\\'L\\x0cC\\xba\\xfcN\\x10\\x98D\\xbf\\x9cn\\x89\\x88\\xa0\\xe6\\x04\\x03\\x88\\xaa\\x1e\\x96\\x05_\\xa9\\xa83E\"\\x1bN%\\xa1\\x86S\\x8f@\\xac\\xc8\\xcfK\\xbf\\xbeM@4\\xe3\\x08\\xa7\\xfd-\\x07\\x85K)\\xc8\\xe0\\xd0\\xa5L\\x17\\x0c\\xff);\\xb7\\xc5\\xd6U\\x18\\x88\\xfe\\xd2I\\x9a\\xd6\\xc9\\xeb\\xee\\xed\\xff\\xff\\xe8,.\\x12\\xb2\\x06\\xdb\\xe5y\\xc0m\\x96\\x85\\x18\\xc0\\xb6\\x9ax;<\\x1d\\xa4\\x9c\\xce\\x12\\x86\\xec6\\x15Ck\\x11\\xf3eX\\x0fv\\x7fe\\x15~6\\xdd\\xe7\\r\\x92\\xdct8t\\xafYFT\\n%H\\x04q\\x12\\x11M=|\\xa8\\x82J;K$\\xb2\\xd3T\\x12\\xea4s\\x1d\\x18\\xc6F\\xb7\\x84\\xe5\\x07\\xe5\\x18\\'\"NT`\\xb8:\\xd9\\xb2\\x18bZ\\x02\\x12\\x14\\xad\\xdf\\xed\\xbf\\x91\\xbc\\xf7\\xc9r\\xadn\\x10o0A.N\\xa2\\x82\\xa2\\xb7\\xd8\\x05E\\xfa\\xb7>\\xcbe\\xda[1\\xba\\x03\\xf3\\x15\\xc4\\xd4\\xef;H\\xe9\\xef\\xfeDI\\xe8\\xfe\\x9az\\x0fU\\x0e\\x13\\x875\\x97I\\xf1\\x9d+\\x0e\\xad\\xc5\\x8eC\\xda\\x97\\x86C\\xf7\\x82\\xdb\\xe4es@\\x045\\x8d\\x00P\\xb88\\x19\\x1e\\'\",ZO\\xea\\x11z\\xeaI,\\xd6,&\\xa5w\\xaeX\\xa8\\xc5\\xcc\\xa6\\x00\\x16\\xdd\\x0cn\\xe1{\\x1a5\\x87\\x00\\xc2\\xa5\\xe1\\x8a\\xfb\\xc41$\\x9dw\\t\\x8a\\xa3\\x8ePh\\xd2\\xe3\\xe3pdp\\xeb\\x16\\xec%Ew\\xae(\\xb4\\x16\\xbb\\x88H\\xbf\\x07\\n\\xdd\\xe9m\\x8f\\xc9\\x04\\x1a\\xc5\\x9c\\xf5\\x88\\x08\\xef\\xaa\\x0f\\x9e\\x80\\xc2\\xd54\\xe3\\x80\\xa2I\\xb7c\\x14k\\xee\\x92\\x9a;W(\\xd4]\\x86\\xc3\\x97>sX]\\x9f\\xed]o-1a.q\\xa2\\xc2\\xc2U]\\xbe\\xc1\\xc2\\xd5\\x94a`\\xd1\\xa4[\\xf8\\xbak\\x1a\\x1ck\\xee\\x92\\xba;W,\\xd4]\\xeag\\xb0\\xac\\xb6\\xcf\\xf6&[+\\xa00\\xff\\x18\\xaaU\\xdb\\xf00\\x89\\x13\\x90\\x1c1p0uz\\x04\\xd2U\\xd6\\xa2\\x87\\x89b\\xcdb\\xe6\\x9aA\\xef)\\x89\\xff\\xfb\\xe8-vC$\\x85+C\\xc4\\xdc\\xe0\\xdb\\xecY\\xff\\xa1\\xca\\xc6\\x0baq\\xd2\\x15\\x1c\\xae\\x8e\\x9cP9\\x12\\x16]\\xfa\\x18\\xffM\\n\\x8b5\\x8f\\x99\\x8b\\x06MP\\xa8\\xc7\\xcc\\xb6\\x19\\x14f\\x08\\xc3\\xe7\\xb3\\xeb\\x7fLP\\xb8$\\x89\\x04\\x0e.\\xce\\xd6\\xa2C\\x95\\xae\\x90\\xe8]\\x0f\\x1f8\\xa2\\x90\\xceR\\xde\\xbc\\xb4\\x99\\xf5\\x82\\xfbu\\x87\\x9e\\x80Xq\\x9f\\xed]n;,\\xcc-\\xbe\\xeb\\xee=0\\\\\\x95\\xbd\\rb\\xc2E\\xb9.,\\xba\\x18&\\xb3\\x14\\x15kF\\x93\\xaa;W\\xc9B\\x8d\\xa6\\x9e\\x82Xi\\x9fm\\xd3\\xe4\\x07\\x0c\\xb3\\x92\\xbc?\\xa5\\xae\\xc2E\\xed\\n\\x0cW\\xc5s\\x00\\xa3\\x89\\xaf\\xb0\\xf5\\xbe\\x87QK\\xfc\\xfc}\\xbf\\xa6W\\x04jf\\xa5\\xeciJ\\xb6\\xe8-b\\xb6\\x08\\x87\\x0e}\\x16\\xe9\\xf5{\\xde\\xca\\x84\\x9a3\\xe0\\xd7\\x87\\xab\\xe1c4=u\\xba\\xa43\\xf1O\\xe87!\\xd1{\\xde\\xb70\\xa7%\\x14kn\\x93\\xba;\\x17q\\xd1[\\xecP\\x88\\xdb\\xb4\\xe2>\\x1bu\\x9bu\\x01\\x12\\xd5\\x0c\\xea\\xfbc\\xa8\\xbaM\\x0e\\x0e3\\xa3\\x93s\\xe9_W\\x9f\\x87\\x93*\\x05uVrFm~\\xba\\n\\xe9-v<R\\xb0\\x7f\\xb2\\xb5\\xdbW!<\\xaf\\x99\\x7f1\\xa1\\xe1j\\xea\\x08\\x0c\\x97\\xd4\\x99\\x00\\xc3U}\\xa5\\x02\\x18M\\xa5\\xfc\\xdc\\xd1\\xacJ\\xbd\\x9d%\\x18\\xa5\\xf99\\x8c\\xd6b\\x07C\\x8c\\xa7U\\xf9\\xd9\\xeez\\x83\\x81a\\xee1\\x9c\\xde\\xd88qi\\x92>G?\\x11A\\xd1z\\xde\\xdf\\xc2\\x032i\\x9c\\xac\\x19O\\n\\xf0\\\\\\xa1P\\xe3\\xa9o\\x82X\\x91\\x9fm\\xb6:\\x1d\\xa2\\xae\\xe2\\x89\\x0cs\\x96\\x93\\xcf\\xeb\\x11\\x19\\xae\\xea\\x0b\\x05\\xe0\\xe8\\xd6\\xf3~\\xb8\\xb3IQ\\x9d\\xa5\\xc8\\xb8\\xf4\\x9e\\xf5\\x82ijM\\xbbN\\x0c\\x13s\\x89\\x93\\xf7[\\x88\\x0cWgs\\xebP\\xd5\\xab\\xc1\\xc3\\xfb\\xea\\xb9\\x11<\\xbazX\\xa9\\x91c\\xaa5\\x1e\\x97[\\x9c\\xf5\\x82\\x89\\xc7p|6\\xa3\\x98M\\x9c\\xe4P\\x93\\xb0\\xa6Y%8L\\x9d<\\xdb\\x06\\x0cS\\xdf4\\xa9\\x00\\xa3\\xa9\\xaf\\xc7Q\\xd9\\xca\\x0f\\xea\\xeb,\\x05G\\xf3\\x97g\\xd3\\xab:P=\\x0e\\xb1\\x82?\\x1b\\xd6*\\xffb\\x82\\xc3|f\\xd8\\x8a\\xb3\\xb4\\xe1\\xd2\\xcc\\x82\\x8e\\x8e\\xf2\\x9a\\x04,Z\\xd7\\xfb6B5\\xa5\\x8d5\\x0bJ\\xa1\\x9e\\xab\\xb4\\xd1Z\\xc4\\x0c\\x9a\\x96\\x08\\x0c\\x13w\\x8a\\xd3\\xd9\\xd5\\xd4\\x0fy\\xdabt\\x9c\\x92\\xb0\\x8e\\xef\\xea_@\\xd1T\\xbe\\xedq\\xb0\\x97C\\x81\\x9d\\xa5\\xa8\\xb8t\\xa0\\xf5\\x82\\xfb!2n\\x83\\x8d\\x10\\xf3\\x89\\xfc\\xcfi\\xf2$&L\\x0c\\x13\\xa0\\xc5\\x84I\\xf4\\xcb\\xc1\\xc4\\x00\\tj\\x9e\\xae!\\xd1\\xd5\\x03\\x10\\xdbZ\\x1d\\xa1\\xd6<\\xce\\xaa\\xe3\\xba\\xf5\\x9f\\xfdg-bL\\xe4TQ\\xda\\xb4}\\xce\\x0f\\xb5\\x02_\\xa7\\xeawPu\\xa2\\xf9\\xd9\\xa9\\t\\xf1\\xaf\\x89|[p\\x1e\\x15\\xdbZ!\\xa1\\xd6\\xfc\\x1c\\xc6d\\xb7s\\xf8\\x9b\\x16\\x16\\xe52\\x9d\\x86\\xac\\xa5\\x80\\x11\\xc4|w\\x81\\xe1\\xaa\\xce\\x14\\xc0\\x08\\xaa\\xc2h\"\\'\\xc9G0\\x96\\xcc\\'\\x87\\x9d)[hdL\\xb6;\\xd3\\xa8\\xff,\\x97i06=4\\x87\\x86\\xab\\xa9#(\\\\\\x9a|S\\xefT%0Z\\xdf{\\xf8\\xca\\xc2.sn\\xb5<\\xd0\\x9f\\xd7h\\xad\\xf9y`\\xa8\\xf7\\x94\\x93\\x91r\\x99\\x1e\\x18\\x1a\\xea\\xb0\\x08\\xea$2\\x82*9\\xe3\\xb4/8Z\\xdf\\xedp\\x98,\\xd9O>\\xdbs\\x19\\x19j?\\xe5\\x1d\\x91r\\x99NC\\xf7\\xfa\\x82\\xa8\\x0btb#t\\x9d\\xc0p5-\\xa5!\\xd1\\xbd\\xe7\\xd1\\x8a\\x95\\xafT\\xad\\xcc#\\xad\\xf9y`L\\xb6=\\xf3\\x8a\\xb5\\\\\\xa6\\xa1\\xc8\\xfe\\x81\\xa8\\x18R\\x9ec\\xe00D\\x1f\\xf45\\t\\x91+\\x86$s\\x0c\\x1c\\x9az\\xb4\\xe3\\xb9\\xd5\\xf2@\\x0b\\xe3#;N\\xcd\\x15\\xadE\\x9cEB\\xa2\\xb2\\xc4i\\xd6\\x90\\xbd\\xee\\x91\\xc5\\xaa\\x08\\x08\\x17u?\\'\\x88\\x1a.\\xb0\\xf0\\xaer\\xaa\\x08\\x8a.\\xbe\\x8f\\xbf\\x98r\\xc5\\x92\\xe1\\xdcj\\xf5\\xa1\\xf3\\x90P\\xc3)/\\x88\\x94\\xcb\\xb4\\x90\\xe0!\\xf7\\xf1\\x9f\\x19\\x0b\\x17\\xc7\\x90\\xae\\x12!\\xe1\\x92~\\x0b\\x04\\x12\\xae\\xaa\\x8d\\x05\\x85\\xa9#@\\x13\\x8a%\\xc3\\xb9Q\\x90go85,\\xd4p\\x86\\xa1iaa\\xd6\\xf01\\x0b\\x0b\\x17\\xd5z@\\xc3\\xd5\\x94\\n@1\\xa4\\x0c\\x18\\x12]\\x0c\\x9f\\xc4M$\\x96\\xfc\\xe6\\x96k\\t\\x85\\xafc\\xd4\\x1f\\x89\\xcd\\xd2\\x1dO9\\x1e)\\x8dzP\\xe8\\xdb\\xf6\\x8c\\x90\\xa0\\xa6\\x90\\x81\\x84\\x8b\\xd3\\xe9\\xd4\\xd54\\x0f\\x83\\xa2I\\x87\\xe5\\t\\xf9\\xc8\\xe1R\\xca\\xcc\\x95\\x84\\x14\\xc5\\xac\\x92P\\x8a\\xf3\\xcf\\xf2W{\\xca\\x9c\\xf9\\x8a\\xa1\\xca\\x88\\xff\\xdeu\\xd5\\xd9#v\\xcd\\xea\\xaf\\xf5}\\xbc\\xc6\\xbah\\x1f\\x18\\xd4\\xd9YX\\x88l\\xb5\\xf9i\\xb6\\xe8-b\\xe6\\x94\\x03\\x92r\\x99\\x1e\\x18i\\x88}\\x05i\\x927\\x0f\\xfb\\xfd\\xc4~\\xfb\\xb9\\x05\\x08\\xed\\xaf\\xdd\\xc3\\xf3\\x93\\t\\xc2\\x9a\\xd5\\xa4&\\xcfE\\x9e\\xe8-v\\x10R\\xa4\\x12\\x12\\xe6\\x183\\x1f \\xb8\\x94\\xf2\\x00\\xd1`\\xd2\\xe4{(P05\\x1f\\xc5@\\xa1I\\x8f\\xa3\\xdd^\\x9e\\x7fY\\x0b\\x85\\xd2\\xfc<\\x14Z\\x8b\\x1d\\x85\\xf4{\\xa0`F\\xf16\\xb1UC\\x9c\\x8d\\x0b\\xef\\x99\\x964`\\x18\\xd2\\xc4Mt\\x95\\x8f\\xffx\\xa4\\xa4xX3\\x98\\xd4\\xe3\\xb9\"\\xa1\\x06S\\x8eDx\\x12\\xab\\x0f\\n>\\xbc\\x90\\r5!q\\xa2\\x12\\x15\\xae\\xca\\x86.4\\\\L[\\x02\\x04E\\x97x~\\xf3\\x88\\xc5\\x9a\\xc3\\xa4 \\xcf\\x15\\x0bu\\x98\\xe1l\\xaa\\xcf\\xa1V\\xf5\\x87\\xb3\\x1a\\xb9\\x81\\xb00\\xb38\\x19\\x03\\xb0p5\\xed\\xa6C\\xc2%\\xdd\\x15\\x05FW\\xdf\\xff;\\x84\\xb1\\xb4\\xb3\\xb9Q\\x95\\xe7\\n\\x86\\xfa\\xcc\\x9c\\xc4\\x19\"\\xe6\\x07\\xa9w3\\t\\x0cWS\\x86\\x81\\x84I<\\xeb\\x98;\\x02\\xc3U\\xd9\\x0e\\x82E\\x13o\\xcf\\xc7\\x18\\\\i\\x90\\xac\\xf9L\\xea\\xf2\\\\\\xb1P\\x9f)\\xef\\x85\\x10\\x0fm\\x90pJ\\xe1\\x01[c\\x86\\xa8pI\\xcf\\x8d`\\xe1j\\xea\\x08\\x08\\x97\\xd4\\x93A\\xa2\\xa9\\xb7\\xc7c\\x84S\"\\xb1f3sA\\xa1\\x89\\xa3P\\x9b)\\xc7!<\\xbf\\xdaIL\\xaa\\xeb\\x01\\xc3T\\xde&\\xca\\xb7\\x1e\\x18\\xa6N>w3\\xc4\\xfc\\x01>X\\xb4~|\\xa1\\xf7p\\x84\\xac\\x19M\\xca\\xf2\\\\E\\x85\\x1a\\xcd|\\xd8\\xc5\\x08\\xe9~\\x90c\\xbcl\\x8eA\\xe1\\xa2\\xde^P\\xb8:[\\x8a\\rU\\xb7@\\xc0\\xd1\\xbd\\xe6\\xfd\\xe8\\x9bi\\xdbZQ\\xa1\\xd6\\xfctN\\xede\\x87vs\\xaa\\x98M+*\\xc4\\xbaYn\\xfeW\\xf9#\\xcd|\\xfd\\'K\\xb5\\xef *\\xac\\x9f\\xa0\\x0e?YG\\xdf\\xafI\\x1bg\\xf0>0\\xf7\\xc3\\xa4\\x16\\x01\\xfa\\xfb\"\\xbd6?g\\xa1\\xbb\\x9br\\x12\\xb2Yi \\xac\\xb0\\x86\\xc6\\x10%w\\x0ei\\xfc\\x9e\\xfaS\\xa1`\\xeeU/\\t\\x87n6\\xc3j(aX3\\x9b\\xbd^P\\xbbjy\\xde\"\\xa5\\xaf\\x7f[o\\x11C\"\\xdd\\x9d\\xcf\\xd2\\xc6\\xefy\\x9e`\\x88\\x08S\\xf3\\xe3\\xf2\\xc4\\x83I\\xbc\\x13\\x92\\x16i\\x80pQ\\xbc: \\x9aH\\xcd\\xc6\\xd1/\\x91(\\xfep! J\\xf3\\xf3\\x80h-\"\\x89\\xe4x \\xd1\\xad!g4\\x1e\\xa7}\\x02\\tR\\xfe\\xad\\x80\\xf0~\\xb2K\\x0e\\x08\\x17eH\\x01\\xa2\\x89\\x87\\x15\\xd86*\\xed,q\\xc8vs\\xe4\\xe2\\xfaC\\x88\\x08\\xb5\\x9b\\x9a#\\xcc\\xf9\\xf1Ra\\x9e \\x88\\x08WS(\\x01\\xc2\\xa5\\x89\\xd5\\x1cb\\xea\\x07\\x86\\xd6\\xefp%J\\x99\\x9d%\\n\\xd9h*\\x055\\x9a9\\xbe\\t\\x87\\xee\\xf9xNj\\x86\\xc1T}\\'\\x17\\x10&\\xd2u\\x84\\xb8\\xe5\\x08\\x13\\'\\xaf\\x13z\\xcf\\xf0\\xea]\\x1a\\x19k>3W\\x14\\xcaOM\\x11\\x11\\xea3\\xe5\\x9d\\x90\\xd2\\xa8&\\t\\x1e@\\x95\\xa11$\\xf1\\xe3\\x90pUv\\xbc\\x18\\x1b.\\xa6;DH4\\xe9\\x1e\\xfe\\x95\\xc4a\\xcdcR\\x94g\\x9f!\\xd2_\\x84\\x83zL=\\xf7\\x18\\x95\\x7f\\xa61\\xe1n1M\\x0cp0)|\\x18\\xd1\\xe2aH\\x02\\x10\\x10\\xddc\\x1e=\\xc7\\xbaQ`gip4\\x039&\\r\\x05\\xa1\\x16S\\x8f<\\xac\\xac\\x0f\\x8f_\\xcf\\x06\\x87\\x9bHUa\\xe1\\xaa:\\'\\x82\\xe2D\\x05GSooc\\xb7 \\xc5\\xc5\\x9a\\xcb\\xa4\\x1e\\xcfU\\\\\\xa8\\xcb\\xcc/F\\x91+\\xdc*\\x8e\\x95\\x80M\\x1d.\\xe9F5,\\\\M\\x1d\\x01\\xe1\\x92v\\x04DSy\\xdb\\xd6\\x07\\xe4\\x1eD\\xad\\xfb\\xf3\\xf7)\\xb46\\x8fS\\xa8\\xc4Eo\\x11\\xa7P=\\xf8\\x88\\xf5\\x80t\\xee\\x18j\\xba\\xfa\\xf76\\xa4\\xe4\\xb7~\\x824~k\\x85\\xfb\\xeb\\xd2\\xe1\\x91\\x07uuVFGm~NA\\x9d\\xa5\\x1eyX\\xa9\\x1f\\x9eq\\x90!\\xfd\\xc5\\x1b\\x01\\xe6\\xb8t\\x03\\x1b\\x10]\\xc5\\x85\\xc8\\xc8\\x82\\xc5\\x89\\n\\x8e\\xa6\\xf2%\\xf3\\xa3\\xa0Xs\\x98T\\xe2\\xb9\\x18\\x1d\\xbd\\xc5.(\\xd2\\xfc\\xfe\\xb9Y\\xad\\x1f\\xde[\\x99\\xe1\\xe8VQ\\xe6\\x16X\\xb8\\xa4\\x8f\\xdf\\xc1\\xc2U]\\x90\\xc0\\xa2\\xa9\\xf7\\xb7\\xf1\\xef\\xa4\\x01R,\\xe1\\xc2\\x00)\\xcd\\xcfC\\xa3\\xb5\\xd8\\xb1HN\\x12\\x16\\xe6\\x07\\'\\xef\\xe5\\x07Q\\x1f,\\x82\\xc6\\xe8\\xea\\xb7\\xb7\\xcf!C\\x1a\\xbf\\xd6\\x86H\\xf7\\x98\\x87\\x13\\x08\\xb5u\\x968\\\\z\\xccz\\xc1\\xfd\\x03G\\xf9\\xa5Y8\\x1c{EFH\\x10s\\x16\\x81\\x83\\xab\\xba\\x86%*\\\\\\xd5\\x07O\\x88\\x8a\\xa6\\xde\\x8e>9\\xca\\xa7\\xef\\xd7h\\\\z\\xcdz\\xc1=\\x8d\\xbc\\xab\\x0f\\x8d\\xee\\t\\xd9u\\xdd\\xdfZX\\xb8$\\xa6\\x1a\\x14.\\xea#\\x88\\xa0p5M.ph\\xd2\\xfb\\xd1ch\\x1beu\\x96\\xa2\\xa2\\xb9\\xc8\\x96\\x7f\\xcaZ4\\xfd\\x8e\\x7f\\xed\\x82\\x89\\xc3HS5X\\xe1\\xd0\\x1d!\\x1c\\xb2q\\x86\\x84\\x8b\\xf2A H\\xb8\\xa8\\xc9\\x00\\x12\\xae\\xeac\\x9e\\xc0\\xe8j8\\x19I\\xa9b\\xcdlR\\xa5\\xe7*U\\xa8\\xd9\\x94\\xb7B6/\\xf63]\\x87\\r5-\\xe0`a\\x8e\\xf25e\\x11\\xd4\\xe4\\xe6A\\xd1\\xc5\\xff\\xc2\\xe1ub\\xb1\\xe67\\xa9\\xc3s\\xc5B\\xfd\\xa6\\x9e\\x80X\\xa5\\x1fv\\x9fe\\x80t\\xc3(\\x12 \\\\\\x92\\x1d\\x1eb\\xc2E\\xb5\\x15M\\xba?\\xc2N@\\xa2\\xb0f3)\\xc2sEAm\\xa6\\x9e}X\\xa5\\x9f\\xf2>H\\xce\\x8b\\x8c\\x8fn\\x18\\xb7G\\x1aW\\x800)<`hS\\x87I\\xd4\\x88\\xcf\\xd7$\\x1e\\x9a\\xfa\\xf8/\\xac[\\xf6$\\xa8\\xa8\\xb3\\x92(j\\xf3\\xd3i\\xb4\\xb7\\x88\\xd3h\\xde\\x97\\xfa\\xdcz\\x1d\\x9f7\\xf6\\x0e&\\x96\"\\xaa)\\xc4\\xbfC\\xd7\\xb4_\\xf6\\x13%\\xb9\\xea\\xaf\\xa9\\xb7g\\x80\\x98X\\xac\\xb9\\xcd^\\x1a\\xe8$i\\xf6\\x16;\\x16i\\x00\\xc0\\xc2=\\xa1\\xec?}\\xb9\\xc8#\\xa6\\xfb\\x81\\x03\\x88\\xd0/\\x13\\x86EW\\xa5# \\x9at\\x8f\\x1f\\x90O \\xd6|&\\x15x.\\x86Go\\xb1\\x03\\x91\\xac\\x0e \\xdc\\x10j(C\\xc2\\xd54\\xde!a\\xd2\\xac\\xa2\\xebP\\x9fr\\x0e\\r\\x0b\\xb3\\x99a\\x7f9\\xb1\\xe0\\x9f^\\xf0\\x99\\xb9x\\x90\\xce\\xa4\\xb3\\xe2A\\xe23\\xbd\\xd2OxV\\xb2\\x8ex@\\x98\\x8f\\xcc\\x12 \\\\R\\xf3DH\\x045\\r+@4\\xf1\\xce\\x07\\xee=\\xd0\\x12\\x885\\xa3I\\x01\\x9e\\xab\\xa0h-vA\\x91&C\\x82\\xc2\\xfc`\\xf8\\x86\\xb4\\x81p)\\xe1\\x03\\x84K3c5T\\xdd\\xdf\\x80D\\xeb\\xfb\\xa24\\xe1\\x11\\x895\\x93\\xd9\\xeb\\x02\\xb5Q75W\\x93\\xcaA!\\x1e\\xbb\\xb9\\xf2\\x1a?\\x93\\xa2jDE7\\x8b|\\x96\\xc6\\xff\\xeb\\xda\\x11\\x18.\\xa9{\"*\\\\M\\x1d!\\xd1$^H\\xf7K\\xa6\\x90Xs\\x99\\xb9p\\xd0dl\\xe8nf\\xfa\\xaf\\x88\\x88n\\xf7\\xf8\\x0e\\x91\\x9a\\xcc!\\xea\\x14\\x0b\\t\\xef:[\\x90\\x0e5\\xcd,\\x90h\\x1do[\\xf8vgB\\xb1\\xe61)\\xc1s5:\\xd4c\\xa60\\x07\\x85y\\xc1\\x0f=\\xe2$$\\x82:\\xee\\xa0\\x05\\x85\\x8bz\\x8cLP\\xb8\\xaa\\x17\\x86FSo\\xe1\\x10?\\xc1X3\\x99\\x94\\xe0\\xd9\\xc3H\\xff\\xed\\xbf\\xad\\xb7\\x88\\xa9B3E7\\x84|JZf\\x7f`\\xb8\\x9an.Q\\xe1\\x92v\\x04\\x85\\xab#1V\\x86p\\xe8R8\\xc2O\\x1c\\xd6l&\\xd5w\\xae8\\xa8\\xcd\\xd4\\x93\\x0f+\\xf1\\xc3\\xa7a\\xc5\\x12\\x02\\xa2\\x1b\\xc6\\x8f\\xf0\\xf5\\x11\\x8b\\t\\x97\\xa6\\x89\"\\xa8\\xea4\\xc7e\\x0fr\\xc5Z\\xe5\\xa0M*\\x07ILL*\\x07\\x85\\xe3\\x86\\xfa\\x93>\\xcbe\\xda\\xc9\\x07/\\x04\\xe5\\x7f\\xfa+\\xa8\\xfa\\x83\\xbf\\x83\\x9aV\\xc3?\\xc7\\xd2\\xafI\\xb7\\xa3O\\x8dn\\xb5\\n\\xd0\\xdf7\\xaej\\xf3\\xe8\\xb8\\x15\\xc4dO3\\xc5* \\xcc-n\\xe2\\x82\\xe0\\xe0\\xa2\\xe6E8\\xb8*]!\\xe1\\xa2\\x1c#\\xc3\\xa2\\x89\\xb7\\xc3#s\\xaa\\xe9\\xac\\x98\\xab\\xda\\xfc\\x9cE\\xb3\\xa21Q\\xe8\\xe9\\x87\\x97\\xf7\\t\\x15\\x98k\\xbc@\\xc2\\xac\\xe4\\xc7d\\x93\"\\x88\\x1e\\xe4\\xb5\\x1f\\x18\\x8e\\xfb\\x81\\xa1\\x89\\x87\\x8f\\x19QGg\\x89Bi~N\\xa1\\xb5\\xd8QH1LD\\x98\\x1d\\xfcP\\x8f\\x04\\x08Wg \\\\\\xd4\\xae\\xb0pUG\\x150\\x9az;\\xdc\\xf3\\xa7\\x9c\\xce\\x12\\x8d\\xec3u|\\xa8\\xcf\\xd4\\x93\\x0f\\xaf\\xef\\xf3\\x91\\x86\\x0e(\\xccL2\\xcb\\xe6\\x1c\\xc2\\xe8pu6:\\\\LW\\x85C\\x93X\\x8ez,\\xed\\'\\x0f*\\xea,q\\xc8[\\x99\\xca\\xa1\\xb5\\xd8E\\xc5\\xb0\\xb8\\x960\\xcd\\x0eR\\xf8:]\\x01\\x12.\\xca\\xd3\\x10\\x80p1Y6\"\\xc2\\xa5da\\xc0\\xd0\\xa4[\\xd8-I\\x18\\xd6<&\\x95y\\xae\\x06\\x87z\\xcc\\xb0[f\\x18\\xcc)\\x86\\xc2\\x03\\x96\"\\x86\\x94\\t\\x01\\xc1\\xc5Y4\\x041\\x07\\x12$\\x9az\\x0f\\x0f\\xe7%\\x12k\\x16\\xb3\\x96\\x19:O\\x13j1C\\xa66\\x12f\\x05\\xdf\\xe5\\x17\\x11\\x10.N\\x87\\x86\\xab\\xd2\\x95\\x98pq6q4\\xf1\\xf01\\n\\x8a\\xe9,\\x8d\\x8dK\\x83Y/\\xb8\\xdf\\xde\\xd6C\\x0f+\\xe1C\\xf9\\xa7\\x89\\xc3\\x1c\\xaa>\\xd9L`\\x98\\x8d\\x0c\\x1f\\x9a\\xae\\x84!1$\\xb9,a\\xd1\\xd4\\xdb\\xe1V?\\xd5t\\x96X\\\\\\x9a\\xccz\\xc1=\\x0b=\\xf2\\xf0\\n?\\x1fz\\nJ\\\\\\xb8W\\x94;\\x0f\\n\\x13go\\x9d\\xef\\xd4\\x94\\x80\\x80\\xd1\\xba>\\x0e\\xcf\\x7fj\\xa1\\x9f\\xbf\\x9b\\xab^\\x17\\xa8\\xd9\\x94\\xb24O\\x7f\\xf1\\x1f_\\x8d\\xa9\\xf9$&\\xcdp\\xce\\xd0\\xc7\\x88\\x97\\x07z\\xd7#\\xad\\xafr\\x89\\xe6A\\'\\xeawP\\xf5t\\xf5g\\xa7\\xa6\\xff\\xed\\xd7\\xc5\\xc3\\xdcY\\xeb\\xfd,\\xd0hF\\xf2\\x8c\\x86ZM=\\xf8\\xf0B?\\xd3a2\\xd4\\xd90\\x19\\xea\\x98\\x16\\xfb0\\x19\\x92B\\x86E\\xf7\\xa1\\xf7\\xc3\\xc7\\xd0\\xa8\\xa9\\xb32Nj\\xf3\\xd3\\xf4\\xd9[\\xecB#\\xfd\\xd7\\x9f[\\xaf\\xe4\\xf3\\xc6\\xebk>\\xcf\\xd7\\x1fD\\\\t\\xcf\\xc8kL\\x13_\\xe1\\xea\\x7f\\xca\\x89\\xb8\\x08}5.\\x9a\\xf8q\\xfc\\xaa\\x1ceu\\x96X\\x94\\xe6\\xe7,Z\\x8b\\x1d\\x0bq\\x9c^\\xea\\'\\x9cF\\x18\\x0b\\xf3\\x8c\\x93\\xd2\\xbf\\x8c\\x11S\\'5#`\\xe1\\xea\\xecI\\x9b\\xae>\\x8e_\\n\\xa2\\xb6\\xce\\x12\\x8cK\\xc3Y/\\x98\\x12h\\xbaI\\x04F\\xb7\\x86<_-\\x81\\xe1\\x92nH\\x00\\xc3\\xd4\\xc9\\xe7\\x81\\x80aj\\xceR\\x0c\\x91&\\xdd\\x9fa\\xe5\\xbfw\\x18\\xd4\\xd5Y\"qi9\\xeb\\x05\\x13\\t\\xb1\\x9cV\\xcd\\x87\\xd3}\\x99\\xff\\x18%\\xdd;\\x165\\x9b&`\\xb8\\xaa\\x06\\x04\\x18\\xae\\xa6X\\x04F\\xf7\\x9d\\x8f\\xb0g\\x90`\\xac\\x19O\\xea\\xf0\\\\\\x8d\\x115\\x9ea\\xe7\\xc8\\xa6\\x92\\xee\\x11\\xd9r\\x9c\\xc1pU\\x93\\x020\\\\M\\x8c!\\xe1\\x92v\\x04FS\\x9f\\x87\\xbb\\x9b\\x94\\xd6Y\\n\\x8cf,\\xcf&\\x12\\xb5\\x9e\\xfa\\xf2\\x87U\\xfb)\\x9f\\x12\\xcc\\'\\\\\\x04F7\\x90\\xec\\xb8\\xcc\\x02\\xc3\\xd4P\\xd5\\xdb&\\x12\\x93\\xc2W\\x07\\xaa\\x04\\x88&\\xb1\\xcf;\\xd6k)*\\xd6\\x9c\\'Ux\\xae\\xa2\\xa2\\xb5\\xd8e\\xce4U\\x90,\\xbaE$\\xef\\xe75\\x07 \\\\\\x9c,\\xd5\\x87\\xa8;\\xb9\\x84\\x85w\\xd5\\x01\\xd2\\xa4\\xe7G\\xc8O\\t\\xc5\\x9a\\xf1\\xa4\\x08\\xcf\\x15\\x8a\\xd6\"\\xa2\\xd0c\\x10+\\xf4\\xb3\\xcd>\\xb6\\xc9K*\\xfd\\xe1\\xbc\\xc9\\xc76\\x83\\xa8\\x13.,\\xbc\\xab\\xaaDFw\\x9e\\xe1\\xccbO\\x83\\xba:+C\\xa46\\x8fSjZ4\\xff\\xdbz\\x8bH#\\xb5\\xf9,m\\xda\\xdb\\x1f\\xa1\\xecn\\x9fQ]\\x9a\\xbcE\\xf6\\x1d:\\xea\\xe0\\xf9\\x19\\xea3\\xfd\\xc5_\\x93\\xee\\x8f\\xff\\xc6S\\n\\t\\xc4\\xda):\\xe5y\\xf6a\\x91\\xfe$ \\xd4t\\xa6m\\x04@t\\xfb\\xb7\\xbdtG\\xea+\\xa8\\xf2\\\\\\x12(N\\xba\\x82\\xc2U\\x9d\\x9c\\xa0\\xd1\\xd4\\xa321\\xc4\\xe8ZP\\xb4\\xdd\\xcbv\\xd1\\xb2\\x1cI\\xbf\\x13\\x16\\xba\\xbf)\\xc9\\xc2\\xaa\\xfcl\\xa1\\xc4\\x93\\x05\\x85\\xd9F\\x82\"gTH\\xb8*\\'k\\x808\\x16\\xe1\\xd0\\xc4\\xe3\\xf7k)\\xa8\\xb34:J\\xf38:\\x14Dk\\x11G\\x87\\x9e\\x84X\\x19\\x9fm\\xfa\\xe4\\xeaP\\xf5\\xd6\\x02\\xa3\\xbbJ\\xa6\\x02\\x99^\\xa0\\xe1\\xaa\\xc6\\x1b8\\x9az\\x0b_\\xd6Ocd\\xcdrR\\x83\\xe7\\nGk\\xb1\\xc31\\x06h\\xbd\\xfb\\x0c\\x12\\xf3\\x86\\x14\\x12\\xccw\\x9fAr\\xa2\\x82\\xc3\\xd4\\xf0\\x11\\xc0zYX\\xb8\\x94B\\x11\\x10Mz\\x1c\\x9e STg).\\xb2\\xe3\\xd4\\xb8h-v \\xc6\\\\n \\xcc\\x17N\\x8f\\xd2\\xbd\\x06P\\xf8\\xf4c\\xed\\x08\\x05\\xef(\\x89\\x04\\x0e.\\xce\\xf6\\xbdM}\\ro\\x96bb\\xcdoR\\x85\\xe7*&\\xd4o\\xeaY\\x88\\x97\\xfa\\xe1\\xc0#\\xdbkb\\xc2l\\xe3\\xe4(\\x11\\x1a\\xaej_p\\xb8*\\xd9\\x84\\xc0h\\xe2Q\\x8d\\xf4\\x8d\\xe2:Kq\\x91\\r\\xa7\\xc6\\x85\\x1a\\xce\\xfc\\xb0.\\x03\\xc4\\x9ca\\xf8\\xdcN\\xbd\\xf3\\x90\\x18Rv`\\x800qS\\xa3\\n\\x88\\xa0f\\xc4\\xbf\\xa6\\xde\\x0e_\\xa6\\xa4\\xf4\\xce\\x12\\x8a\\xec8\\x15\\x85:N=\\x0f\\xf1\\x82?\\x9c\\x0eMr\\x85\\xfb\\xc6\\x89\\xe5\\x0c]\\xf7+[P\\x84~\\xf9\\xaa\\xa0\\xe8\\xea\\xe1\\x16\\x0e\\xd5u\\x96Pd\\xc7\\xa9(\\xd4q\\xe6\\'T\\x89\\n3\\x86\\x0c\\x82\\xb4\\x8c\\'.\\\\\\xd4\\x85\\x15\\x81\\xe1\\xeat\\x84\\xb8:rB\\r7P4\\x89\\xc7\\xb1\\x1c\\xe1>[\\xac\\xd5\\x11\\xda\\xa4\\x8e\\x90\\xa0\\x98\\xd5\\x11JV\\xec\\xb3\\\\\\xa6\\xf9M\\xbe\\xfa\\x9f\\xef\\xdf\\xd7\\xa9\\xfa\\x1dT]\\xc8\\xff\\x9c\\xaa\\xbf\\xa6\\xde\\x0fw:\\xa9\\xb1\\xb3\\x12\\x19\\xb5\\xf9\\xa9\\xbf\\xe8-v\\xf3Hb\\x06\\x0e3\\x87\\xd3\\x05jT\\xf3\\xb8\\x07\\x87\\xf7\\x95\\xb34h\\xb8(Sj\\x97\\x0e-\\'uv\\x96H\\\\Z\\xcez\\xc1\\xfd\\x1e\\x8e\\x1e\\x8dx\\xe1\\x1f\\xc6\\xc8$0\\xcc;\\xea\\xa1\" \\\\\\x9c\\x8d\\x913\\x95\\xb8h}\\xef\\xe1\\x91\\xe94L\\xb8\\x81\\x0bOoR\\x99\\xe7bR\\xed-b\\\\\\x84\\x05r\\xf7\\x17^\\xfbG\\xcb\\x1b3J\\xdc:N\\xceF\\\\\\xd4\\x87\\xdb\\x88\\x8a\\xd1\\xd3\\xb3B\\xcf\\x17]\\xba\\xfdw\\xf8\\x11(\\n\\xed,\\x91\\xb8\\xb4\\x9c\\xf5\\x82\\xfb\\xb8\\xc8{\\x8e\\x8c\\x10\\xf3\\x86\\xd3u\\xd9P5%\\x10\\x18\\xdeW\\xb7A\\x81\\x11\\xd4\\x91$\\rG\\x13y\\xf7\\xdbA\\xa5\\xb8X\\xf3\\x9d\\x94\\xe6\\xb9\\x8a\\x0b\\xf5\\x9dz2\\xe2\\xf5\\x7ffEn\\xb7\\xa1\\xa6S\\x04P\\x98\\xb5\\xe4u\\xf5<\\xbc@\\xe1\\xaa.U\\x18#M}\\x1e~\\x83\\x96Z;K\\x91qi<\\xeb\\x05Sd\\xa4\\x9fDd\\x98=\\x0c\\xb3}\\xbd{\\x8c\\x90.=\\xff\\x93\\xf7>@\\xe1\\xfd4\\xd3\\x80\\xc2U}\\x05\\x0f\\x14]\\xbd\\x85I>\\xc5\\xc5\\x9a\\xef\\xa48\\xcfU\\\\\\xa8\\xef\\x0c\\x93\\x98\\xe5\\x0bs\\x88\\xfa\\x88:4\\\\Ts\\t\\x0eW%\\x9b@\\xc3\\xc54\\x93\\x83\\xa2I\\xcfx\\xe4\\x99P\\xac\\xf9Nj\\xf3\\\\\\xa1P\\xdf\\x99c\\x99\\xb0\\xe8\\x1e\\xf0\\xf9_Z\\xb5\\x01\\xc2%\\xb5\\xa4\\x80pu\\x06\\xc2\\xc5tU@4\\x89\\xa2\\x07\\xc3\\x84%\\x10k\\xae\\x93\\xba<W \\xd4u\\x86Gi-&\\xcc\\x1cN^$\\x86EW\\xcb\\x10\\xc9\\x10a\\xe1}\\xd5\\xa6\\x11\\x15\\xae&C\\x03\\x8c&\\xddx\\x91\\xec qRkg%Y\\xd4\\xe6\\xa7F\\xab\\xb7\\xd8M\\xa8\\xe3\\x8fw\\x18\\xbd\\xc2\\xcf\\xdb6\\xfb\\x0c\\xd4\\x10\\xe5#\\x15\\xdf\\xdb\\x10g\\x99s\\xa8\\xb3\\xcc\\xd9\\xd5\\xdb#l\\x83\\xeeC\\x83:<K4\\xf2^g\\xba\\x01\\xff\\xb6z\\xc1\\x94:S\\xa3\\xcf\\xd2\\xa8\\xba\\xf0g^\\xb6}E)\\xafU`\\xe1\\xfdt\\xd3\\xea\\'\\xa8:\\x19\\xff\\x9az{\\x85hK,\\xd6\\x8c\\'uy.\\x86Io\\xb1\\x8b\\x8c1\\x9f[dt\\xf7\\xf8\\xe4\\x8bX\\xc9\\x06@\\xc3DN\\xd8\\xc3\\xff]\\xbb\\x82\\xc3T\\xed\\n\\r\\x17\\xf5E\\x02h4\\xf5\\xfduxND\\xad\\x9d\\xa5\\xc8(\\xcd\\xcf\\xc7Ik\\x11i\\xe8\\xe1\\x88\\x95\\xff\\x81\\x86\\x8f\\xdf\\xfaka\\xd1\\xcd\\xe3\\xf3\\xbf\\x91\\xe7\\x0c\\x84K\\xa9\\x17\\x18\\x86\\x94\\xf1B\\xa1\\x89\\xf7\\xf0\\xa1\\x95\\x14\\x12k\\x9e\\x93\\x82<W\\x10Z\\x8b\\x08AsE7\\x86\\xcf\\xff4\\xca\\xc1\\xe0\\xaa\\xda\\x07B\\xc2U9g\\x83\\x85\\x8b\\xbaP\\x01FS?\\xc2\\xbc\\x95`\\xacYN\\xaa\\xf1\\\\\\xc1P\\xcb\\xa9\\xa9\\xa2[\\xc3g\\xde\\xf9\\x83\\x84K\\xe9\\xec\\x0f\\x0c.iZ\\x84\\x83\\xab\\n\\x18\\x0eM\\xbd\\x1f\\xbe=Uk\\xfe\\xfc\\xfd\\xa1\\xa4\\xda<\\x8e\\x8c\\x94\\x02\\xc8\\x99\\xba\\xcf\\x99\\xda\\x902\\xcdR\\xe6C\\x028\\x0c)\\x878$L\\xe4\\xd3\\xad:8\\x8eE84\\xf1\\xf6\\x18\\x8e#\\xc5\\xc3\\x9a\\xd5\\xa4\\x08\\xcf>\\x1e\\xd2o\\x84\\x83Z\\xcd\\xfck\\x01\\xd1-!\\x011\\xd9\\xef\\x1d\\xea\\xecHd\\xa8\\xd3\\xb0\\xf0+\\xab\\n\\x8e\\xa6\\xdeB\\xe1\\xcc\\x84c\\xcdnJ\\r!\\xc5\\xa1v3<\\xeba\\xd3\\xc70\\x863\\x1c\\xaeNq\\xb8\\xaa?\\x98Q\\xe2\\xaa\\x82\\x06GW\\xc3\\t_\\xc2\\xb1f:{\\x95\\xa06\\xc1\\x97\\x93C\\xc5\\xa1\\xa63\\xe4m\\xc3\\xe1\\xb6R\\xce7\\x18(A\\xd4\\xfd\\xac\\xa0\\xee\\xa7\\x1eP\\x84\\x8ei\\x10A\\xa2[\\xce\\xf0\\xd1\\x80\\x1d\\t\\x1c.\\x81\\xff\\xe7|\\xd1\\x9a\\x9f\\xe5\\x0bk\\x11\\'\\x91\\x9c\\x1d?K\\xa3\\xe6\\xb1\\xe4\\xb9\\xbd!\\xf1\\x95Hq\\x15C\\xcd\\x1d\\x7f\\x86\\x94\\x87\\xe5\\xafI\\xb7\\xb0\\xb3\\x96(,9\\xcd\\'\\x15z\\xce\\xb3\\x85\\xb5\\xd8QH\\x13\\x01\\x14\\xdc1\\xea3\\x11_A\\x1d9\\xaeY\\x8a iG@\\xf8eSG@4)\\xc4o\\xe2\\xb0\\xe42YE^rh-v\\x1cR\\x90\\xc2\\xc1\\xdd\\xa0~\\xd5\\t\\x0e\\xa6\\xe6\\xfb\\xfa=$>\\xc9\\x9a\\xc7\\x0c\\x1c\\xac#\\xb3K\\x8e$P4\\xf5\\xf0#z\\x18\\x9c\\xb5\\x91Q\\x9a\\x9f\\x8f\\x8c\\xd6b\\xc7\"\\xb9EX\\x98%\\x9c<\\xb6\\n\\x0bW\\xd3\\x8e\\x0f,\\\\\\x9a\\xc6\\x84\\xab\\x9aMa\\xd1T\\x1e\\xcc\\xf2\\xe4\\x92\\xe2b\\xc9j>\\xa5tP\\xce\\x97\\xd6b\\xc7\"{\\xcd\\xd2\\xc8\\xb2D\\xb6\\x07\\xa00Q\\xbf&\\x0b\\x0c\\x13C]\\xe7:v\\x88\\n\\x97\\xc4s\\x00\\xa2\\x89\\xf7\\xe0\\xe2\\x13\\x88%\\x9b\\xc9B\\xe12(\\xd4f\\xca[\"\\xe52\\x1d\\x84\\x18g@\\xb8\\xa8\\x0b\\xf4 \\xa6\\\\\\x00\\x08\\xef7\\r\\x89\\xa6\\xf2!\\xf3\\xa3\\x90X\\xda\\xd7d]tIB\\x8df\\xc8\\xd7m\\n-\\x97\\xa9$p<\\x93\\x908\\x16\\t\\t\\x17\\xc7/\\xb2\\x908\\x92\\x08\\x88&\\xf1%\\x95#\\x0cK>\\xf3I\\xed\\x9d\\xab,\\xa1>S\\x8e@\\xcae:\\x06M|D\\x84y\\xc5\\xd9\\xf6\\x95\\xab\\xb8$I\\x8bD\\x85_y\\xb22w5l\\x8d\\xa4\\xf1\\xb1\\xe43\\x9fR:H\\x13\\x85\\xfaL9\\x07)\\x97\\xe98\\xf4\\x0c9\\x88)\\xc1\\x10\\x13\\xdeO\\xd7\\x9c\\xa0p5ei\\xc2\\xa2I\\xf70T\\x13\\x87%\\x83\\xf9\\xa4\\xfa\\xceUX\\xa8\\xc1\\x94\\x13\\x90r\\x99\\xb3\\xb0pU2\\x1f(\\\\\\xd4\\xad}P\\xb8\\x9an\\x10(\\x9a\\xc4\\xa6\\xff\\x90\\xf6,j\\xa1\\x9f\\xbf[\\xcc\\xda\\xfct\"\\xed-\\xe2\\xe4\\x11\\xfcm\\xcf\\x14V\\xe0\\xe7I9\\xa9\\xec\\r\\xbe\\x9eC\\xd5\\xa7\\x89\\xbe\\x83\\xaa{\\xe1?A\\x15\\x1b\\xffk\\xe2\\xed\\x15\\xdeDK8\\xd6\\xbcf/\\x0ct\\xbc\\xf6x\\xf6\\x16;\\x1c#]\\x19\\x0e3\\x85\\x0f]l\\x81#\\xa8\\xc9\\x9eA\\xc3\\xc5d:@1$\\x81\\x0c\\x8b\\xa6\\xde?\\xc2\\xc3\\xe7\\x89\\xc5\\x9a\\xdf\\xa4\\x16\\xcf\\xc50\\xe9-v,\\xd2\\x0f\\xfa|Z\\xb5\\x9fg\\xb8G\\x15\\x13 \\xcc3\\xf2vU\\xea\\x07\\x08\\x175h`\\xe1\\xaa\\xee}\\xc1\\xa2\\xa97\\x1ej=\\x98I(\\xaf\\xb3\\xb2\\x12\\xab\\xcd\\xcf\\x87I\\xb9`\\xda\\xedN\\x99\\x0c\\x16f\\x0c\\'/\\xa0\\x06Q\\x1fo\\x07\\x87w\\x9d<\\xe5\\x1cT\\xed\\x0b\\x8e\\xee8\\x1fG\\x1frxRbg\\tG\\xde\\xdd\\x1c\\xd9\\xa8\\xde\\xda\\x7f\\xed\\x82\\tG\\x9a\\x11\\xc0a\\xee0\\x14q\\xb7\\xd0\\x18\\xd2$4\\\\\\x94CU\"\\xc3\\xc5q\\xef\\xebE\\xe1\\xd0\\xa4\\xdb=\\xacg\\xd3\\x10Ys\\x9c\\x14\\xe3\\xb9\\x1a\"\\xea8\\xc3\\xf8\\xac\\xff\\x17\\x1c\\xcc\\x1c\\xce\\x1eE\\nj\\xa2LPxG\\xfd<\\n$NT`t\\xcf\\xf9\\x11>\\xc7\\x96`\\xac\\x99N\\xaa\\xf1\\\\\\xc1P\\xd3\\x19\\xca\\x9d\\x19\\x8c\\xee\\x0fy\\xb5K\\x1c\\x13)\\xc3\\xd4\\xc9+\\x13\\xf00u\\xd2\\x17\\x1e\\xa6\\x86a`\\x91\\xd1$\\xeao\\x8c1\\x9b`\\xacYO\\n\\xf2\\\\\\xc1P\\xeb)\\x87 O\\xab\\xfa#_1\\x85\\x84\\xf9\\xcew\\x9dc \\xe1\\xaa,b\\x00\\xe1\\xa2\\xce\\xd6\\x04FW\\xc3z \\xa1X\\xb3\\x9d\\xd4\\xe3\\xb9B\\xa1\\xb6SsE\\xf7\\x87\\xc5a\\xe4\\xfd\\x05`\\x9c\\xa8\\xc005l\\xe4\\xd7\\x1b\\x0f\\n\\x93\\xf8\\xe6d\\x9a\\x82 \\xd1D\\x0e\\n\\xc7{\\x8d\\t\\xc5\\x9a\\xf3\\xa4\\x16\\xcf\\x15\\nu\\x9ec\\x9b\\xc0FH\\xf7\\x87\\xcf\\xb7)\\x8a\\xa0f+\\x06\\x8a\\xa1\\xfa\\xcch(\\x86$\\x84a\\xd1\\xd4\\xdbQ\\x15\\xa1\\xe7Z\\x15\\xa1\\xd6<\\xcc\\xa8\\xb9\\xa2\\xfb?k\\x11\\xddEJ\\x80\\x9f\\xa5M\\xf5\\xe0s\\x14QM7\\xf7;t\\xd5\\x15\\xf9\\xcf\\xa9\\xfak*\\x0fZ8\\xc4}\\\\P`ge>\\xad\\xcd\\xcfa\\xb4M\\xd0\\x08#\\xef\\xd0A\\xc3\\x0c\\xe2]\\xa7\\x83\\xaf\\xa0jb\\x05\\xc7I_p\\x9c\\xa8\\xe0h\\xea-\\x9cI$\\x1ck\\xce\\x93\\xaa<\\xbba2\\x89\\x8d\\xd6b\\x87#M\\xf7\\xe00\\x8f\\xf8\\x96\\x0c:,\\x86$\\xb1\\x0e\\x0bW5?\\xc2\\xc2UM\\xbc\\xb0h\\xea\\xd1\\xb3\\x8bO\\n\\xed,EFi~\\x1e\\x19\\xad\\xc5\\x0eE\\xda~\\x02\\x85\\xb9\\xc7\\xb7\\xc9NN\\x145c\\x04\\xd5\\x83\\xbdg\\x8cC\\t\\x0c\\xed\\x0f\\x86/8\\xa6\\x88X3\\x9c\\xd4\\xe5\\xb9\\xc2\\xd0Z\\xec0\\xa4\\x15\\x14\\x18\\xcc\\x1b\\xbe\\xe9\\xaa\\x81\\xa08Q\\t\\nWg\\xdb\\x17C\\xd5+C\\xa3\\xf5=\\xfa\\x06\\xccs\\xad\\xacPk~\\x1e\\x14j;\\xe5\\x15\\x91r\\x99\\x9e<u\\x85\\x05\\x8d\\xa0j\\xf2\\x1c\\xa2\\x04\\xc5\\x90tF\\xed\\x17\\r~?\\x85\\xc5\\x9a\\xe5\\xa46\\xcfUX\\xa8\\xe5\\x0c\\xdbi}B\\xb5\\xea?\\xcf7]=\\x01\\xc2l\\xe3D%,\\\\\\xd5g\\xf5vb\\x1eYDE\\xebz\\x0b\\x89<\\xd1X\\xf3\\x9c\\xbdnPK\\xc6\\x1c\\x9cN\\xd2\\xa6z\\xce\\xf0\\xf8\\xa8\\xd10w\\xf86\\r\\x8b\\xa0jX\\xb8\\x982.YsH\\x92qA\\xd1\\xd4\\xfb\\xd1\\x97\\x81\\x9eT\\xdbYJ\\x9b\\xc9sNP\\xa8\\xe7\\x94Og\\x95\\xbf\\xdaF\\xc8t[k\\xa8:\\x11\\x10\\x18\\xa3\\xaf\\x0c\\x91!M\\x86H\\x13\\x0f\\xdf\\x0fyRog\\tE\\xf2\\x9c\\x13\\x14\\xea9\\xc3V\\xabE\\x85\\xb9\\xc3\\xf7\\xe9\\x18\\t\\xaaF\\x85\\x8b\\xb3!r,\\x12\\x16M\\xbc}\\x8c\\xb9}?Bj%\\xa0\\xbf\\xefv\\xd6\\xe6\\xa7\\x89\\xb3\\xb7\\xd8M#\\xe2:\\xadB\\x10uge#\\xee\\xeb9T\\xf9\\xb9\\xdfC|\\xd3We\\x82\\x98\\xfe\\xe4\\xafI\\xef\\x87\\x87\\x86\\x14\\xdcY\\x89\\x8a\\xda\\xfc\\x9c\\x84:\\xce\\xb0\\x0c\\xeaQaE\\x80\\x9e\\xb3O|<\\xcfTP\\x98\\xa7|\\xc8\\xe3\\x8e?A\\x9c\\xcd\\xa7\\xbd\\xeb-\\x1cN\\xa4\\xb8X3\\x9cT\\xe8\\xb9\\x98Gz\\x8b\\x18\\x17\\xe1\\x8f\\x1b\\rs\\x86\\x0f\\xb9\\xf3\\x84\\x85\\x8b:\\x80\\x80\\xe1\\xaa\\x86\\x144\\\\\\xd5\\x87?\\x89\\x8d\\xae\\xbe\\x8fEs\\xa2\\xc1\\xbf\\xbd\\xf0\\xd8\\t%|\\xaeh\\xb4\\x16;\\x1a\\xe29\\xad\\x12\\xd0\\x13\\xcf\\x99\\'?p\\xb8#\\x95\\x81\\x00\\r\\x17\\xc7O\\xaa\\x8cA\\xe1RZ\\x17\\xc3\\xa1I\\x8f\\xa3\\xefZ<)\\xb9\\xb3\\xc4\\xe1\\xd2t\\xd6\\x0b\\xa6]N1\\x9dV\\x06\\xa8p\\xd0\\x9d\\x8b\\xa1N\\xce\\x89\\x86\\xa8\\x0b:P\\xb8#\\x15\\x84\\xc0h\\xe2\\xfd\\xe3p\\xaf\\x93\\xc2;K4\\xd2^\\xa7\\xce#\\xf5\\x82\\x89F\\xf2\\x01\\x9fO\\xab\\x04\\xf4d\\x03/\\xcd\\x14\\x04\\x85yG\\xc4\\x1c2D\\x85\\xab2\\xbc\\x80\\x11\\xc4\\xdc\\x15\\x1aM\\xe5S\\x1f#j\\xd2\\x18Ys\\x9e\\x14\\xea\\xb9\\x1a#\\xea<\\xf3\\xdd\\x87\\x86\\xb9G\\xcasf\\x15\\x1c\\xa6\\x86r\\xc5u\\x18\\xc0\\xc2\\xa4Iq\\xec JL\\x81\\xa2\\xbb\\xce\\xf7mDjB\\xb1f;)\\xd4s\\x85Bm\\xa7\\xbc$\\xc2\\xe8\\xe8^k\\xf6\\x96vP\\xd5\\x94B\\xc3\\xfbJP\\x11\\x19.N^\\x06p\\x95/\\xd7\\xb9MK8\\xd6\\xacg.34\\x19\\'j=\\xe5\\xe3YO\\xab\\t\\x84\\x8b\\x9f\\x8c\\x133\\x90*\\x02\\xc3\\xc4\\xf0\\xe0\\x99%\\xcf#\\x89\\xb0h\\xd2\\xedq\\xf4\\xee\\x10\\xb5f\\xd6\\xf2\\xc5\\xa5\\xef\\xac\\x17L\\xf9b\\x0cO\\x9bS\\xcd\\x1f\\x86\\x0f\\x90T\\x89\\xe11\\xa4Y\\xb6p5\\xe5 \"\\xc2%q\\x1e\\x80h\"\\xcf\\xe2\\x1cm\\xee\\xd5\\xb2@\\x7f7\\x9d\\xbd\\x8a\\xd0\\xc9\\xb2\\xac\\xb7\\xd8M\\xa7\\xc9\\x01~\\xe25m-2\\t\\x88!\\xea\\x96\\xf0\\xf7\\xe8:3\\x9d\\xa3\\xab\\x8c\\x9d_\\xeb\\xf9|\\x1d}\\xdd\\xe2I\\x05\\x9e\\x95Y\\xa46?\\xf5\\x9d\\xbdE\\x84\\xa1\\xe7\"\\xbd\\xee\\xcf\\xdb\\xe4\\\\dHiz\\x81\\x839\\xcew\\xa5\\xf4\\xb3SSW@\\xf4\\xae\\xa1\\xb2\\xf9>KP}g\\x89\\xc3\\xa5\\xe3\\xac\\x17\\xdc\\x8f\\x8ed\\x86\\x88\\t\\xf7\\x85\\xe9\\x1f\\xfe\\n\\x92\\xba/Hx\\xc71\\t\\xf4\\x1c\\x11$\\x19Uph\\x1dq\\xde\\xa3c\\x02Q\\xbc\\xe1\\xc2\\xe8(\\xcd\\xcf\\x03\\xa2\\xb5\\x88\\x01!Y\\xc2\\xea\\x01=\\xa7\\xab\\xd3\\xa8&P\\xa00C\\xc9\\x99|6\\x0e\\x04\\x85\\xab\\xea\\xda\\xa1\\xd1\\xd4\\xdb\\xc7H1\\t\\xc6\\x9a\\xe3\\xa4^\\xcf\\x1e\\xc6\\x98\\x93\\xea\\xdd\\xf9\\xf7\\xec-\"\\x0c\\xcd\\x14\\xe6\\x0b\\'\\x1f%&0Le\\xee\\xc8\\xbf\\x17\\x1a\\xa6N\\xfaB\\xc3\\xd4I_ht\\xf5p\\x1dB\\x11\\x9e\\xa5\\xd0\\xc8\\x8eSi\\xb4\\x16\\x91F\\xd8L\\xeb3\\x88U\\x05\\xe2\\xf5`\\xf9\\xc1\\xe00\\xdf89{\\x07\\x87\\xab\\xda\\x17\\x1c\\xae\\xa6\\x91\\t\\x8b&\\x1d\\x96\\xce`vYc\\x91\\xfd\\xa6\\xb2P\\xbf\\x19,\\x8d\\xb10\\xdb\\xa8\\xc6\\x01\\x14A\\x9cD\\xc6P\\xdd(Y\\xca8\\x92\\xe0\\xd0\\xa4\\xc3s\\x00\\xea\\xef,\\x85D\\xf6\\x9a\\x8aA\\xbd\\xa6\\xbc\\x1b\\xf2\\xb4\\x9a@L\\x1f\\x13\\xdb\\x1dUM\\x17\\xe6&\\xe7s\\x88\\xabza`4\\xf5v\\xb8\\x08\\xa1\\n\\xcf\\x12\\x8df$\\x87\\xb3P\\x1aj5C\\xe2\\xb6\\xa00W8\\xab6\\xc4\\xb7\\x16\\xcc\\x97k~d\\x80\\x0cU\\xa2bH2\\xee`\\xd1\\xd4\\xdb\\xe3p\\x1eY\\xb3\\x9b\\xb9\\xe0P\\xd82\\xac?\\x93\\xd49\\xd9\\xe6\\x1cy\\xdbX\\x985\\x9c\\x14\\xc8`\\x84\\xb8\\xaa\\x06\\x02\\x16\\xae\\x8a\\x93\"W\\x041\\x0f.h45\\x08\\xfbyd\\xad\\xe2\\xd03W\\x1cR\\x18\\xb3\\x8aC)\\xd6?\\xcbe\\xda\\xf67\\x15\\x87\\x92\\xf8\\x15\\xc4$}\\x07)\\xf1\\xfd\\tR\\xea\\xf5k\\xd2\\xed\\xe8C\\'OJ\\xf0\\xac\\x8c\\x8e\\xda<:\\x0b\\x19\\x1d\\xbd\\xc5n\\xfa\\x18\\xa6\\xbfGD/\\xfc\\x83\\xd5L;\\\\ p?\\xa9\\xe6\\x00\\n\\xae\\xea\\xbbU\\x80pU\\x87\\x15,lL\\x8f\\xbf\\x99\\x02b\\xcdnR\\xb6\\xe7\\xc2X\\xf4\\x16;\\x16iV# \\xdc6\\xea\\xf3\\xea\\xe00u\\xf6\\x15\\xe3\\xa1\\xcaW\\x8c\\xa3$\\xe9\\x18\\x16\\xed\\xb2\\xf7\\xa3R\\xf2O\\xca\\xf0,\\xc5Ei~\\x1e\\x17\\xad\\xc5\\x8e\\x85XN+\\r\\xc4\\xff\\'\\xe9\\r\\x16\\xee\\x1bG~\\xab\\x01E\\\\\\xb84\\xd9\\xc6:\\x11!\\xd1z\\x1e}\\xc2\\x81\\xd9l\\r\\xc4\\xa5\\xdb\\xac\\x17\\xdc\\xafA\\xc2Sa6@\\xcc\\x14\\x86\\xd7\\x83\\xab\\x04\\x85!\\t#@\\xb8\\x9aF&\\xa3\\xe3H\\x02B\\x93N\\xd2\\xc4\\x9a\\xcb\\xa4j\\xcfU8\\xa8\\xcb\\xd4\\x93\\x10\\xab\\x0b\\xc4\\x86\\x92\\xfcT@\\x98Sd\\x05\\x1e\\x92\\xbcE\\x84\\xab\\xda\\x17\\x16\\xaeN\\xb6y\\xbbx\\x0f\\xffPJ\\x14k>3\\xd7\\x1c\\x9a\\xcc\\x1c\\xea3\\xf5$\\xc4j\\x07\\xb1\\xdb(#\\x1a\\x1a\\xe6\\x17\\';\\xe2\\x84\\x85\\xab3\\xcf=\\xd4\\x94\\x9d\\x88\\x8c\\xd6\\xf1\\xfd\\xbf1\\xe4\\x12\\x8b5\\xb3\\x99\\xab\\x0eMX\\xa8\\xd9\\xd4\\xf7D\\xac:\\x10\\xff\\x9f\\xdc{X\\xb8cL\\x19\\x06\\x10.\\xc9\\xf4KT\\xb88\\xd9\\xc3\\xea\\xe2\\x8d\\xa7\\x91\\xdc\\x95%\\x14kN\\x93\\xca=W\\x83D\\x9d\\xa6\\xbe&b\\xe5\\x818\\xce\\x9c\\xa10\\xc3\\xc8\\x83\\x16\\x93A\\xe2\\xaa\\xec\\x7fA\\xc3E\\x9d\\x89\\t\\x8c\\xa6\\xbe\\xdf\\x8e3\\xe7\\x9a\\xd9\\xa4v\\xcf\\x15\\x0e5\\x9b\\xe1\\xad6\\xcb\\x9c\\xe6\\t\\x1f\\xb3\\x93!\\xab-\\x849\\xf4\\x9bh\\t\\xc3;\\x8e\\xfb[%H\\x0cIF\\x1e$\\x9a\\xfa\\xe2\\xe3\\xfb~\\xcd}`\\xd4\"A\\x7f\\xdf\\xbe\\xe95\\x85\\xcc\\xae<u\\x8c\\xf4\\x16q2\\xcd\\'\\x1d\\x9flrw\\xa7\\x19\\x1e\\x00\\xa9?\\xe8+H\\xba\\xa4\\xfa\\x0e\\xea\\xc4s\\x8f\\xabj\\xd7_\\xebz\\x8b\\x1f\\x18H,\\xd6\\x0c\\'u{.\\xa2\\xa2\\xb7\\xd8\\xb1\\x10\\xc3i\\xe5\\x7f8\\xb4\\xf2{d,\\xcc4\\x928\\x93\\x08\\n\\x17gO-\\x0eu\\x92/\\xbax\\xe7\\x89g\\xff\\x93\\t\\xc5\\x9a\\xdf\\xa4\\xa6\\xcf\\x15\\x8a\\xd6b\\x87\"et\\xc2\\xc2\\x1c\\xe5]\\xa6>\\x02\\xc3E=;\\x83\\x86\\xab\\xb39u\\xa8\\xfaZ&\\x91\\xd1\\xfa\\xb2\\xadw8J\\xf8\\xbf\\x1769)\\xdcs\\x85\\xa3\\xb5\\xd8\\xe1\\x18\\xf7\\xa2\\xde~p\\x98s\\xbc\\xa9\\x8b\\x80\\x87\\xa9!\\xe9\\xd7\\x8e\\xc00\\x89\\x8e)n~\\x86x\\x9f=\\\\\\xd0\\xbb\\xde\\x1fG\\x9fQ{R\\x8bg\\x89\\xc5\\xa5\\xeb\\xac\\x17\\xdc\\xbbN}M\\xc4\\x8a\\x03\\xf1R\\x8f\\xe49X\\x98\\x7f\\xbcKZ\\x80\\x86\\x89\\x93\\xae\\xe00\\xf5\\xae\\xcb6B\\xa3\\xa9\\xbc\\xc4\\x7f\\x18\\x1ak\\xf6\\x93\\xe2=W\\xa1\\xa1\\xf6S\\x0fD\\xbc<\\xd0\\xa4\\xe8\\x148\\xba\\x85,%%\\xd2\\xfd\\x07\\x87\\x89\\x9cA\\xe7i\\x17\\x1c\\xa6\\x86Z\\x8e5\\xaa`\\xd1\\xa4\\xc7Q\\r\\xa6g\\xad#\\xb40\\x97\\\\\\xeeq\\xd6\\x0b\\xee#CsF\\xb7\\x8f|\\xb5\\xc8s\\x99\\xa5Os\\x96\\xe1\\x95\\'\\x1b!\\xdeK\\xcf\\x97\\x81\\xe0j\\xfas@h\\xd2k\\x1b[\\x1d)s\\xae\\x99\\xceZ\\x9e\\xe8tu\\xda[\\xc4T\\xa1\\x99\\xa2\\xbb\\xc3\\xf2\\xday\\xbe\\xa7\\x84\\x83\\xabz\\xc7\\x89\\x07Wg\\xc9\\xc2\\xc5\\xc9\\xa3\\x05\\xbd\\xe7-\\x18\\xbf\\xc4b\\xcduR\\xd2g?6\\xc6\\x98\\xab\\xb7\\xed\\xdf\\xb3\\xb7\\x88,\\x92Y\"kvo\\xc8g\\xcd$ \\\\\\x92I\\x11\\x0e.N\\xe7SW\\xa5+A\\xd1\\xc4{\\x88\\xb3\\x04b\\xcdoR\\xb1\\xe7\\n\\x84\\xfaM=\\t\\xf1\\xb2@\\xaf\\x140\\x84D\\xb7\\x8d%`4C\\xb8(\\xb6\\x83\\xb1\\xe1\\xe2t*m\\xea\\xed0]\\xd6\\xd2@\\x7f\\xcf\\x11\\xbd\\x92\\xd0\\xf0\\x9b\\x12\\x12\\xbdE\\x0c\\t=\\x07\\xb1\\x8aB\\xbcP?\\x19\\x1f\\xae\\xce\\xbe\\xb5\\xf8tu\\xf2\\x1d\\xb5!\\xea\\x87R~M\\xbc\\x1f\\xe6\\nj\\xf0\\xacL\\xa5\\xb5y\\xcc\\x15\\n\\xa3Y\\xd2\\x1d\\x8c\\xd4\\xe8\\xf3iu\\x81\\xf8 \\xcbd*\\x1d\\xaa.\\xc7\\xbfC\\xdf\\xd9 \\x89}STA\\xa3\\xdd\\xc4\\xe3\\xcf:P\\x89g\\x89F\\xf6\\x9c\\xe9\\x87\\xfe\\xe3\\x91\\xb3:\\x8cv4\\xc6^AM)\\xd00\\xe38\\xfb\\xe6bP\\xf5a\"h\\x9c\\xf4\\xfd\\t\\xaar\\x06G7\\x9d\\xe1=\\x8d}\\xce\\xa0\\x12\\xcf\\x12\\x8e\\xd2\\xfc<8Z\\x8b\\x1d\\x8e\\x94\"\\xc1\\xd1\\xad#\\x1f7\\xcb\\xd93H\\x9a3\\x82\\xb8\\xef\\x07\\x87q\\xc9\\xdc\\x0f\\x0cM<\\\\\\x9fR\\x86g\\x89Bv\\x9b\\x1a\\x14\\xad\\xc5\\x8eB\\x8aU(tS\\xc8\\xb7cg\\xf9\\xc2U\\xdd} (\\\\\\x1do\\x91\\xd6X\\x83\\xc4\\x90&$\\x9ax\\x0f\\xcf\\x86\\xa5\\x80Xs\\x9aT\\xed\\xb9\\n\\x08u\\x9a\\xfaz\\x88\\x15\\xff\\xd9(&\\x958}=\\x87\\x98\\x02\\t\\x0cf$\\xf90x\\xb6$\\x90pU\\xf3\\x08A\\xd1\\xd4{\\xf8\\x14lB\\xb1\\xb6\\xcbI\\xc9\\x9e+\\x14\\xba\\xcb\\xa9\\xaf\\x87xY\\xa0)\\n\\xf3\\x8c\\x93\\x82]\\xd0p5\\x05$(\\x8e$84\\xe9\\x1e\\x9e\\x85K\\x1c\\xd6\\xcc&\\xe5|\\xae8\\xe8\\x0eg\\xd8#\\xb0\\x94\\xe9\\xa6P\\x8fE\\x89\\x89\\x13\\x15\\x10\\xaeNNCND`\\xb4\\x9e\\xc7/\\xcaP\\x83g)U\\\\\\xba\\xcdz\\xc1\\xfd\\xf2C\\x8fC\\xac\\xf2\\x0fvS\\xe2\\x1c\\x18n\\x1b\\xd3J\\x02\\x12.iG\\xa2\\xc2\\xd5\\xb4\\xac\\x01D\\x93\\xde\\x8f\\x13\\xc5\\x9a\\xdb\\xa4`\\xcfUT\\xa8\\xdb\\x0c\\x07\\x10\\x16\\x15n\\x0c\\xe5\\xeb.p\\x08b\\xce\\x06\\xa0\\x08j\\xde,\\x04EPS\\x06\\x02F\\x13\\xb71[\\xedG\\xc8Z\\xb1\\xa1g.6\\x14\\xe6\\xa5\\xfa3\\xffY\\x8b8\\x7f\\xe8y\\x88\\x15\\x1b\\xe2\\xe3\\x98\\x93\\xa0\\x18\\xaa\\xee\\xc0|\\x97?PO\\xe1\\x99\\x81s\\xc2\\xfd\\xd9\\x89\\x99\\xe3\\xaf\\xa9\\xb7\\xb0\\x14N4\\xd6\\x0c\\'\\x05{.\"\\xa3\\xb7\\xd8\\xd1H\\x19\\xee\\x93\\xda\\xbc}\\xb7W\\xbfV\\xfe\\x15D\\t\\x1bXx\\xcf\\xd9\\x18\\x19\\xaa\\x9e:\\x01\\xa3\\xf5\\xbd\\xdd_\\xe3\\x1fJ4\\xd6\\x0c\\'\\x15{\\xaeh\\xa8\\xe1\\x0ck\\xe3>N\\xac,\\x10\\xcfJM\\xecwTS\\xb0\\x83\\xc3\\xfcfx\\x8a\\xa6^\\x95\\xc0pI\\xf2E\\x97n<\\xf3\\xed\\xd6,\\x81\\xe0\\xfe-loR\\xb1\\xe7\\nDk\\xb1\\x0b\\x8b\\xe4\\x10\\x08\\x0b\\xdb\\xa5\\x0cO\\x8b\\xd5_CP\\xb84\\xfe\\xe5*\\xc1\\xc0%Y\\x88C\\xc1E\\xdd\\x05&\"\\x9az\\x03\\xd6\\x11\\x885\\xb7I!\\x9f+\\x10\\xea6s\\x82\\x03D\\xb7\\x85d\\xf6YD\\x9c\\xa8\\xe0pU\\xcf\\x94\\xe0\\xe1\\xaa^\\x19\\x1eM\\xbd\\xbd\\x85L\\x92\\x02c\\xcdrR\\xaf\\xe7\\x8a\\x87ZN}5\\xc4\\x8a\\x02=\\xa7\\xee{\\xa8i-\\x07\\x8c\\xee*K\\xc7\\x8c\\x19\\x18\\xae\\x8a\\x93\\x85E\\x13\\xf9\\xa6\\xc5p\\xed\\x89\\xc5\\x9a\\xe7\\xa4`\\xcf\\x15\\x0b\\xf5\\x9caJ\\xb7l\\xd1\\xdd\\xe1\\xf3%\\xe9\\x91a\\xe2\\xa2\\xb8\\x8b!\\xe92\\x1e\\x14\\xdeQ\\xb3E\\x93\\xd8\\xd4\\x1bx\\x13\\x885\\xd3I\\xb9\\x9e+\\x10j:\\xf5\\xa3YV\\x10\\xe85\\xdd\\xc29S\\x89\\x8bn:_\\xd3O\\x19\\x0fU7\\x87\\x08\\x8c\\xd6\\xf7=\\x1cI$\\x1ck\\xb6\\x93\\xa2=W8Z\\x8b]\\xf2\\x1c\\xf6\\xc6\\xe2\\xa2\\xfbCpx.\\xb3\\xe4iR~\\xf4\\x13\\x10&\\x01\"\\xcd.\\x04\\x85\\x89\\xece\\x85\\x8cP\\xaf\\n\\x87\\xa6\\xde\\xa8\\x0c|\\x18\\x18k\\xbe\\x93\\x8a=W$\\xd4w\\xeaQ\\x88\\xd5\\x04z\\xe5\\xa9\\x96\\xf1\\xd1\\x9d#R\\xfe\\xb9\\xb0\\x18\\xe2\\x9e $\\x86\\x94\\xfb\\x01\\xa2\\x89\\xf7\\xc3\\xe7\\x16\\xa9\\xbd\\xb32\\x9b\\xd6\\xe6q\\xe3&M\\x94\\xff\\x9e\\xbdE\\x0c\\x884\\xde?K\\x9b\\xea\\x1a_\\xd3O[\\x0fU}\\xd4\\xf7\\xe8\\x1b\\x1eT\\xaew\\xfdgH\\x93\\x0f\\xc6\\xff\\x9az{\\x85m\\x83\\xfd\\xe0X\\xab2D\\xdeN!\\xa1,t\\x873Y\\x04Xt\\xd7\\xf8\\xfaO]\\xc0WPSG@\\x8c\\x8e9$\\x86\\x94zA\\xa1\\xf5\\nC&1X\\xb3\\x99\\x14\\xe8\\xd9\\x0f\\x8b4P\\x89\\x07\\xb5\\x99)\\t\\xc0\\xa0\\xfb\\xc1\\x17\\x9e;O\\x850\\x08j\\xf8\\xbf\\xebM\\x07\\xc3P\\x05\\xc3\\x90&9\\xa2w<~\\xe0\\x9d\\xb2;KC\\xa34\\x8fCCQ\\xb4\\x16qh\\x84\\t\\xbc\\xfe\\x1eX\\x98+\\xd4\\x15\\x15(\\x828A\\x11\\xd4\\x8c\\x91\\xd1\\x11\\xd4\\xf4\\xaf\\x11\\x16M<\\xfc\\x08\\x10Uw\\x96Xd\\xaf\\x99\\xfe a\\xa1^SOB\\xac\\x12\\xd0k\\xba\\xf9?\\xd4tu\\x82\\xa2[\\xc9YGH\\x9c\\xa8\\xa0\\xe8F3\\x10LCd\\xcdgR\\xa8\\xe7*.\\xd4g\\xeak!V\\r\\xe85\\xdd\\xfa\\x1f\\xaan\\xdf\\x83\\xa3\\x9b\\xc9Y_p\\xb8\\x9a\\x12\\x18,\\x9at\\xf866\\xc5w\\x96\\xc2\"\\xdb\\xcct\\xe3\\x08\\x0b\\xb5\\x99\\xd9\\x180D\\xba!,\\xee*\\xdc\\xa5:\\x80\\x18#\\'*(\\\\\\x9d\\x1c\\x17F1\\x0f/`\\xb4\\xae\\x87\\xfb\\x15\\x94\\xdeY\\x82\\x91\\xad\\xa6\\xc2P\\xab\\x19\\x0e`,_\\xb8]\\xd4;\\x0f\\x0cW\\xd3\\xd5!\\xe1\\x92v$(\\x82:A\\xd1\\xd4\\xc7\\x98\\xd9\\xd3\\x10Y\\xb3\\x99\\xb9\\xc8P\\xa8\\xc6]\\x7f%q\\xa16S?\\x95e\\xc5~\\x18\\xf5\\xfb\\xa9\\x00\\x0ef\\x17uW\\x07\\x12.\\xa6~`p)\\xf1#\\x1c\\xba\\xc7\\x0c\\xef\\xd0\\'\\x08k\\x0e\\x93\\x02=WyB\\x1df\\xf02\\x16\\x0ff\\x07\\xff\\xd3\\x07U\\xe1\\xe0\\xea\\xc4d\\x0eQ\\x9ey\\x1f\\x92\\x9e\"\\x81\\xa2]\\xf5p+\\xef\\xb5V[\\xa85?\\x9bJ\\xad\\xc5n*\\x1d\\xc1\\xd8P\\x94F\\xcdf\\xcelEP\\xd3\\xb2\\xf2;H\\xe9\\xae\\xffDI=\\x85\\xa9G\\x9bx\\xafZ.\\xe8\\xcf\\x0f\\x14\\xb4\\xe6\\xe7\\x1c\\xd4a\\xca\\x11H\\xb9L{U\\x8a\\xefq\\xe4\\xb1\\xfc\\x15T\\xd9\\xc2\\x85\\xc4\\xe8\\xba\\x1fR\\x90\\x18\\x92d\\xe1_W\\x8f\\x1e\\'xQug![\\xb6\\xe6\\xe7(\\xd4h\\xca\\x01H\\xb9LC\\xf1\\x92\\x07\\xb5!\\xe1\\xa2\\xee\\xc8\\x80\\xc2U}\\xf6\\x0e\\x1a\\xae\\xa6\\xb1\\x03\\x8a&Q3\\xdc\\x11\\xee\\x12\\x05\\xb3\\xf2\\x1a\\x8af#\\x1b\\xfe\\xf2)\\xbd\\x14\\xa4\\xff\\xda\\x05\\xf7gAr\\x04R\\x1au\\x14r\\xb8\\x05\\n\\x17\\xf5\\xc8\\x13\\x14\\xae*(P\\xb8\\xaa\\'n\\xd0h\\xea\\xe1\\xa7<H\\xdek4\\xae\\xacf\\xbb`\\xa2\\x91n\\xd2gi\\xd4i\\xe8\\x16\\x148NTp\\xb8\\xaa\\x0bVp\\xb8\\x9a\\xee\\x13,\\x9at;z{\\x8c\\xf5\\xd0\\x1a\\x8b+\\xab\\xd9.\\x98X\\x8c\\xfde\\xcb\\x9b\\xdd\\x10\\xb2\\x8d\\xe2\\x11[%@\\x98$_\\xfd\\x19R\\xee\\x05\\x02\\xeb\\xc5S\\x9c\\n\\xa1\\x89\\x87\\x05=_\\xb5`\\xd0B\\xd2\\xbc2\\x99\\xed\\x82\\t\\xc2\\xd8&2\\x08\\xdd(r\\xae-\\xe9\\r\\x0e\\xae\\x8a\\x8d$\\x1e\\\\\\xd4wcvbN\\xc6DD\\xef\\xfa\\x08\\x87&)Y,\\xb9Lv\\x15\\x88\\xa0\\xf3\\xbc\\xa9.S\\xde\\x06)\\x97\\xe9SH\\x1a9\\xa0pIv\\xaaAa\\xe2\\xa6\\xdb\\x95\\xc4\\x85\\xa9\\xcftU@4\\xe9\\x1ec0\\x81X\\xf2\\x98\\xec\\xa6^\\x82P\\x8f\\x99W\\x17\\xe4\\x89n\\x08\\xd9\\x83\\xcf\\xa1\\x0c\\n\\x13\\xf3\\xf3\\xc8\\x800)\\x94\\xd1\\xaa\\x91\\x06\\x05\\x93\\x98\\x93&\\x11\\xd1\\xd4\\x8f\\xf7\\xf71r\\x12\\x88%\\x9f\\xc9\\xa2\\xe9\\x12\\x84\\xfaL9\\xf7(\\x97\\xe9\\x11!\\xb7\\x1d\\x10.\\xea\\x14\\x00\\x0bW\\xa7\\xd3\\x87\\xabra\\xc2\\xa2\\x89\\xb7Gp9{\\x1a\\xb5$\\xd0\\xdf\\xb3E\\xaf t2\\x99\\xf6\\x16\\xd1j\\xca\\xc9\\xc7\\xcb\\xab\\x08M\\x9eS\\xff\\x1a\\xea\\xe4\\xa8\\xe7{\\xa8\\x9a\\x1d\\x7f\\x868\\r\\x8e\\xfegy]\\xc8\\x13u\\xa2Q\\xfc\\xe1\\x02\\x8d\\xbc\\xa59b\\xae\\x06\\xeb?vlk\\xf4\\xech\\xa4Y\\xe2\\xb34\\xea\\xb1\\xa1\\'y\\xd0pU\\x97\\xef\\xd0pU\\xf7\\x02\\xc1\\xe1\\xaa\\xf6\\xfdu\\x95\\xecq\\xc4c\\xcduR\\xab\\xe7\"{\\xf6\\x16;\\x1e\\xc3\\xe7\\xf5\\xb9\\xc4\\x0b\\x02=\\xd34\\x03\\x0c\\xf3\\x8d\\xe4\\x93\\x9cm\\x80\\xe1\\xaa\\xd8UX\\xb8\\xa8\\x1e\\r\\x16\\xddun\\xb7\\xf0\\xcaM\\n\\x8eb$\\x17\\x82\\xa34?\\x9dJz%\\xa2\\x08C\\x8e@^^,h\\xf2\\xec\\x19<\\xcc<NTx\\xb8\\xaa\\xcbP\\x80\\x04U\\x13iWo\\x87+\\x92\\xb5:C\\xaf\\xda\\xfc\\x1c\\x87\\xeeq\\x8e\\xb8\\xb4\\xd00w8\\t\\r\\x97d\\x81\\xeau\\x84\\xc2\\xc3\\x01}6\\t\\xd2d6\\xe9*\\xfb\\xbdG\\x03d\\xcdqR\\xa8\\xe7*&Z\\x8b\\x18\\x13\\x9a/\\xdc\\x1f\\xea  $\\x82\\x9ao+!\\x11\\xd4<\\x80\\x08\\x89\\xa0\\xe6\\xbe\\x8c\\x91\\xa6\\x1e\\xce\\xac\\xb5j\\xd0\\xc2\\x00\\xc9\\xce3\\xdd7\\xb2\\xa7noj\\xb20\\xf7\\xc8t\\x90\\x7f\\x100NT`\\xb8\\xaa\\x89\\x17\\x18AM\\x89\\x1d\\x16M\\xbc\\x1d=\\x9c\\xf6\\xa2\\xf4\\xceR\\xb6\\xc8\\xc6Sa\\xa8\\xf1\\x94\\xe3\\x90\\xf2W\\xfb\\xbaL\\xcd\\x114\\\\M\\x06\\x12\\x14.\\x8d\\xb9\\xd1\\x86\\xc8\\x90\\xb2\\x87\\x83C\\x13y\\x00\\xe9h\\x84\\xac\\xf9N\\xea\\xf4\\xecG\\x88rP\\xdf)G!/\\xaf\\x05\\xf4\\x9a\\x0e\\x11\\xb7\\x90\\xe2J!1D\\xffIFbH\\x13\\x12M<\\x06\\xb1\\xe6;s}\\xa1\\xf0-\\xcf\\xfa\\xdf0:\\xd4w\\xca9Hi\\xd4\\x03BW\\x14\\x04\\xc4\\x89\\n\\x89\\xa1\\n\\x89!\\xc9\\xa8#(\\x9az{\\x8c\\xd4\\xb5\\x9fJ\\xd7\\n\\x0cQ\\xb3\\xe9*(z\\x8b\\x986\\xe5 \\xa4\\\\\\xa6\\xb3\\xd0\\xe7m\\x828\\xfe\\xe9\\n\\xfa;H\\xd2\\xef\\'\\x88z \\xfdk\\xea\\xe1\\x17N^\\xd4\\xdbYI\\x13\\xb5y\\x9cEex\\xf4\\x16;\\x12i\\x9f\\xfe\\xb3\\xfcU#\\xb1\\xbf\\xb3_Q\\x92\\t\\x11\\x14G\\x1d\\x011$\\x1d\\x1c]\\x0c\\x8f\\xdc\\xa6\\x80X3\\x9aT\\xe6\\xb9\\xc8\\x12\\xbd\\xc5\\x0eCJ\\xe2`\\xe8\\x96\\x90]6\\xf9\\xad\\x908Q!\\x11\\xd4<\\xef\\x00#\\xa8\\xe9\\xcf\\x12\\x14M<\\xfa\\x0e+O\\xb4\\xac\\xc5Di~\\x1e\\x13\\xad\\xc5\\x0eF\\n\\x1c`t;\\xc8\\x02;\\xdf?X\\xb8\\x98&`@\\xb84\\x9bD\\xcfTH\\xb4\\xbe\\xf7\\x90\\xdcR\\\\\\xac\\xednR\\x9c\\xe7\\n\\x85\\x9aLy\\x19\\xe4e\\x15\\x80\\xd8\\x89\\x93\\xec\\x06\\x8bn4\\x8b\\x9a\\xee-4\\\\\\x9cmn\\x0e5u\\x04E\\xebx;z4\\xef\\xb5VX\\xa85?\\x8f\\n\\xb5\\x9aa\\x9b\\xa0\\xe6>\\xa2\\xa2;B\\x16H\\xf9\\xc7B\\xc2\\xc51\\xfb[\\xcet)\\xed\\x9726\\x86\\x94/\\t\\x86&\\xde\\xc2\\x17\\xdaRD\\x14O\\xf8w\\x93Ia\\x9e\\xab\\x88P\\x93\\xa9\\x07!V\\x1a\\x08\\x0f\\x9c\\xffg0t\\xa3\\x88)\\xdcgS\\xc2\\xc1%\\x8d$H\\xb8\\x9a:\\xc2\\xa1IG\\xa7\\xe7\\xafZ h\\x01\\xc3\\xa5\\xbd\\xec\\x15\\x87b\\x8e\\xd0C\\x10\\xab\\xfc\\xc3\\xbc\\xb6\\xff\\xa5@\\xe8.Q$ \\x98\\x94\\xb9B\\xe0H\\x82@w\\x96\\xe1e\\xc5\\x14\\tk\\xce\\xb2\\x96\\x1d:\\x1f\\x10\\xea,\\xe5\\xf5\\x8f\\x97\\xd5\\x02b\\xbe\\x13\\x04\\xdd\\x1e\\x8a\\x04\\x02\\x97\\x128\\x10\\x0cI\\x92\\r\\x14\\x9az;z\\xbe\\xff\\xb5VB\\xa85?\\xa7\\xa0\\xb62l\\x89XZ\\xe8\\xfe\\x8f\\xb45\\x19\\x0f.\\xa6,\\x07\\x07\\x97t\\xc6\\x05\\x85\\xabrUHt1l~\\xef\\xe3\\xa1\\xd6\\xfb\\xf9\\xfb\\x90\\xe8\\xe5\\x81\\x9ak)\\xe7\\x82i\\x0c\\xfe{\\xf5\\x16\\xbb!\\x91\\x12\\xddgiT\\xad\\x14G\\xb8r\\xfb\\xbe\\x82*\\xe9\\xf3;\\x88\\xb3#\\xd2qaU\\x7f\\xad/\\x8fr\\x0fs\\x97p\\xac9K\\xea\\xf0\\\\$\\xca\\xdeb\\x87c\\xfc\\xf1\\x1e\\x18^\\tHJ\\x84\\xbf\\x86\\xa4K\\x11`\\x98}\\x9c|\\xda\\xf9\\'\\xa8\\xda\\x17\\x18\\xfd&>\\x8f^*}QWge\\xd6\\xa8\\xcdOGIo\\xb1\\x83\\x91\\xa2\\x9d\\xd8\\xe8.\\x90\\xd8\\xd2Q2\\xc4\\xb4\\xcb\\x05\\x0b\\xef73\\x11C\\xd59\\x05\\x16\\xad\\xef\\xfd\\x16>5\\x96\\x02\\x83\\x7fza\\x06\\xa5\\x14\\xcfU`\\xb4\\x16;\\x16i0\\xc1\\xa2\\xdb\\xc49\\x0b\\x17u\\x11\\x05\\x0eW\\xf5\\xb0\\x99\\xd0pU\\xdf\\x92\\x01GSoo\\xe1;\\x19\\t\\xc7\\x9a\\xc5\\xa4\\x18\\xcf\\x15\\x0e\\xb5\\x98z\\x02\\xe2\\x05\\x7f>4\\xa0I\\x1b\\xb6\\x97\\x19\\x8a\\xdewc\\xe5\\xd2Gr\\xe2\\x908\\xea\\x05\\x86\\xee.\\xb7\\xf0Q\\xb7\\x84am\\'\\x93*<W\\x18\\xd4^\\xca\\x9b\\x1f\\xafQ\\xeaGO\\xbe\\xc0\\xd0\\x9d\"/\\x8d\\xe7\\xf1CT\\xb8\\x98r2 \\x86\\x94\\xfb\\x81\\xa2\\x89\\xf7\\xd7Qm\\xa9\\x17eu\\x96\\x06\\xc8\\xa5\\xc5\\xac\\x17L\\'\\xe8\\xe9\\xee1@\\xba\\x19\\xe4\\x8b3\\xd9X\\x04I\\xd6\\xa9\\x80\\xf0\\x8e2k\\x82\\xc2\\xc5i\\xb2h*\\x9f\\xb8\\x1f9(\\x85\\xc5\\xda6\\xa6\\x14\\x10Jy\\x80IU\\xb71\\xf5\\xd0c\\xd4\\xf9\\xd1\\x83\\x0b\\xc2\\xa2\\x9bF>\\xee\\x96o/4\\\\L\\xfe\\x0c\\x16.\\xa55\\tA\\xd1\\xa4{\\xf8W\\x12\\x875\\xb3)\\x95\\x83\\x94\\x83\\x9a\\xcdq\\x0fl2\\xed\\xd6\\x90\\x1f*!\\xe1\\xd2lh\\xb88\\xf9>\\xc3\\xcb\\x8b\\n\\xf1)\\xf0\\xbcs\\x01\\x89n8\\xff\\x0b\\xaf\\xdc$\\x14k\\x1b\\x99\\xbd4\\xd0\\x99\\xcfR\\xc7\\x99\\x86\\x00\\xa3\\xc3\\xdc\\xdft*\\rb>\\xb6 \"\\x82\\x9a\\x7f/A\\x11\\xd4\\xdc\\x17\\x1aM\\r\\x89k\\xcf\\xa2\\x96\\xfb\\xf9\\xbb\\xe7\\xac\\xcd\\xa3\\xafH\\xb7\\xfc\\xdf\\xab\\xb7\\x88s\\xa9d\\n/\\xf3\\xf3\\xa1c\\xfa\\xab\\\\\\xa1\\xed\\xedM\\xd4\\xef\\xa0N\\x92\\xc5Y\\xd7_\\xebz;<\\xff\\xa1\\xb0\\xceJ\\xde\\xac\\xcd\\xcfa4O\\x1aa\\xe8\\x91\\x87\\x95\\xf3\\xe1\\xab;\\x12\\xce\\xd00[\\x19\\x1e\\xca\\xef3\\xe9\\x90\\xb4\\xe3O\\xe8\\xa8\\x0f\\x06\\xc3\\xa2]\\xf6\\xa8\\x84\\xe7\\x8b\\xda:K(\\xf2~\\xa6\\xc6Ek\\xb1C\\x91\\x12\\xdcg\\xf9\\xab\\xed\\xd63_\\xe6H\\x07EP\\x93U%.\\x86\\xb8O5\\x908\\x92\\xc0\\xd0\\xa4\\xdb\\xd1g\\x9a_T\\xd5Y\\xe2P\\x9a\\x9f\\x87Dk\\xb1\\xe3\\x90\\x92#\\x1c\\xcc\\x12\\xf20Z\\x1e\\xd3p8Q\\x011T\\x011$\\xc1\\x0b\\x8b\\xa6>\\xc7\\x02?\\xa5\\x8a5\\x9fI\\x05\\x9e+\\x14\\xea3\\xf5\\xcc\\xc3\\n\\xf9L,\\x14$\\xdc0N&\\x91 \\n\\x88\\xd0/\\xc7\\x19 \\xba:\\xd6\\x86\\t\\xc4\\x9a\\xd3\\xa4\\xfc\\xce\\x15\\x08u\\x9a\\xf2\\xe2\\xc7\\xcb\\x0b\\xfc\\x10\\x13)\\xfa\\x01\\xe1\\x86Q\\x03\\x86\\x90\\x18\\xaa\\x90\\x18R\\xbe* \\x9axx\\n\\xb6V7\\xe8U\\x9b\\x9f\\x0f\\x8e\\xc9Vf\\xfa\\xad\\x0c\\x0es\\x84\\xf3\\xc1\\xe1\\xaa\\xae\\xa6 \\xe1\\xaa@$O\\xb8\\xa8]\\x81\\xd1T>\\xd9\\xe1\\x0cSX\\xac9\\xcdZm\\xe8\\x9c\\x86:\\xcd\\xbcA\\x0b\\r\\xf3\\x84\\xdbl\\xfbf\\xa8\\x13\\xa79\\xc4\\x94\\x88A\\xe1W\\xd5\\xa9\\x05\\x14M\\xbd\\xbdF\\x96O(\\xd6\\xccf-5t\\x8eB\\xcd\\xa6\\x9ezx\\xfd\\x9fm\\xf6\\xec\\xc0P\\x15\\x14\\x81\\xe1\\x8eS\\x97\\xb3\\xe08Q\\xc1\\xd1\\x1dg\\xd8\\x1dN8\\xd6\\x0c\\'\\x05x\\xae\\x12\\x86\\x1aN=\\xf9\\xf0*?\\xf2\\t\\x93W\\x90d\"\\x80\\x859J\\xcd4\\xa0pq\\xdc\\xfc\\xeaG\\xe0\\xd0\\xa4m,\\x15\\xf6\\x18\\xd6\\n\\x07\\xbd\\xa4pP\\xfa\\x83\\xff\\xac\\xc5n.\\x1d\\xa3\\xb3\\xafA\\xbcp\\x10Q\\x91s\\xfdW\\xb9Dw\\x1c\\xaa~\\x0f\\x95M\\x8e\\x94\\x87~vb\\x9e\\xa4\\x7fM\\xbd\\x1d\\xee\\xe8QVg\\xc5Y\\xd4\\xe6\\xa7c\\xa4\\xb7\\x884\\xf2)\\xc7\\xe7\\xab\\x17\\xf3y\\x93\\xb7H@aN\\x13\\xdf\\x9d\\x7f\\x0f(\\x86\\xea\\xf9\\xaf\\x12\\x06\\xc4\\x90\\xa4# \\x9az;\\xf4\\x15\\xb5\\xda\\xcf\\xdf\\x97 \\xb5\\xf99\\x08\\xb5\\x9a\\xf9\\xac\\x03\\x10n\\nS\\xf2\\x03\\xc4\\x91\\x04\\x05\\x97\\x86K2\\nC\\xca\\xb1\\x02\\x84&\\xde\\x0f\\x8f\\xc3(\\xa7\\xb3\\x14\\r\\xa5\\xf99\\x84\\xd6b\\x17\\r\\xe23\\xbd\\xc2\\x0f\\xd5\\xd6R|\\x83\\xc1\\xdc\\xe2\\xa4\\xfc\\x18$\\\\\\xd5tJH\\x9c\\xa8\\xd0h\\xea#<\\xed\\x932\\xc5\\x9a\\xd5\\xa4\\x0c\\xcf\\x15\\r\\xb5\\x9aa{\\xc02\\x85\\xb9\\xc2\\xf0I\\xc3*\\xc1bH\\x92D`\\xe1\\xaan\\x02\\xc2\"\\xa8y\\\\\\xc1\\xa2\\xa9\\xf7\\xf7\\xa3Ov\\xbc(\\xab\\xb3\\x14\\x1a\\x97v\\xb3^0\\xed\\xe6\\r\\xafk0\\xcc\\x18>$\\xf5\\x81#\\x88\\xf9\\'\\x81\\xc3\\xd51\\x13\\xd8 \\x19\\xd2,Ut\\xf5qh,(\\xab\\xb3\\xc4\"\\xefl\\xea\\x14\\xa2\\x8e3O\\x12\\xe4\\n3\\x86\\xb3\\xaf\\xa2\\xed\\xd44\\x88`\\xe1]uEKh\\xb8\\xaa/\\x1d\\x11\\x1a\\xddq~\\x84\\xb71\\xd28Y\\xb3\\x9c\\x94\\xe2\\xb9\\x1a\\'j9\\xc3\\x1f\\xb7\\xd00s\\xf8\\xd0\\xd3\\x1db\\xc3U\\x85\\xe1\\x92\\xbc\\x8d\\x0c\\x0b\\x17S,\\x02\\xa2I<Z2\\xb2n\\x02\\xb1f8\\xa5\\x84\\x90\\xc6\\x85\\x1aN=\\x03\\xf1J?\\xb3J\\xbf\\xaf\\xa1\\xca\\xaf%.\\xccQN\\xea\\xd3\\xc1\\xc2U\\xc9\\xcb\\xd0h\\xe2v\\xf8\\xe4n\\xad\\x08\\xb40\\xa1^\\xda\\xcdz\\xc1\\x940d\\x83\\xd3\\x8b\\xfd\\xdc\\xf5\\x08\\x8c\\xa80\\xdb\\x18\\x96O5\\x9c@\\xe1\\x92p\\x82\\x84\\x8b\\x1a\\x15]z\\x7f\\x1b\\x9eo\\x1f\\x15\\xb5\\xdc\\xcf\\xdfA\\xf4\\xea@\\xcd\\xaf\\x94\\x03u\\x89\\x8a\\xdeb7\\xa9\\x8e?\\xde\\x87\\x87U\\xfa\\xd9\\xd8\\xcfKC\\xe0\\xeb5\\xc4$}\\x0f\\x89\\x1d\\xe2\\x9cT\\x7f\\x82:[\\x9c\\xf6\\xcbb\\xb6\\xc6\\xbf\\x93X\\xac\\xd9M\\xaa\\xf0\\\\\\xa4\\x8a\\xde\"\\xb2\\x08\\xc3\\xd3Xtk\\xb8}\\xcc\\x82\\xc2\\xea\\x00m\\x1f\\xf2\\xc4\\x1e8B\\xd7\\xc4\\n\\x1a.\\xa68\\xfc5\\xe9\\x16N\\x1e\\x13\\x89\\xb5\\xadM\\n\\xf0\\\\\\x91P\\xbf\\x99\"\\xe7\\xf3eE~\\n\\x88<\\xc1\\x10\\x15\\xdd;\\x16\\x10\\xf9\\xd6C\\xc2U\\x99O\\x87\\xa4\\xcf.\\x82\\xa2u|\\x84\\x97w\\x13\\x8ab\\x12\\x17\\x06Hi~\\xea:\\xa9\\xd0SZ\\xc4\\xa0H7\\x08\\x14\\xdd\\x1bn\\x93\\xba\\xcfA\\xd4\\x93\\x1fH\\x84\\xae\\x99\"A\\xe1\\xaaZR`4\\x95:t\\xbe~I0\\xd6L\\'\\xd5w\\xf60\\xd2\\x0f\\xfd\\xf7\\xea-\"\\x8c1:m\\x80ts\\x08\\x0c\\xff\\xb7\\xaaDP\\x0cIB\\x06\\x14\\xa6\\xce\\x8a\\xa3\\x9f\\xaa\\xa0h}OP\\xacYN\\x8a\\xef\\\\\\xa1h-\"\\n=\\x08\\xf1\\xf2>,@\\xd3\\x88\\x87F\\xf7\\x86\\xdbtu\\x1a\\xd4=F\\xa2\"tLW\\x85D\\x13\\xf9\\xea\\xaawKA\\xb1f8{Q\\xa01\\x85\\x8c\\xeb\\xd6\\xbbJP\\xa8\\xe1\\xd4\\xb7?\\xbc\\xc6\\xcf\\xa6O\\x99\\x81\\xa2\\xbb\\xc6m\\xd3\\xf3O\\x02\\xc3U=\\xf7\\x81\\x86\\xab2\\xd9B\\xa3\\x89\\xc7\\xeb\\xb2Z\\xeeg!_d\\xbf\\xa94\\xd4o\\x86E\\xa1\\x8d\\x91\\xee\\x0c7h\\xa4;\\x08\\x8cc\\x11\\x16C\\xf4\\xfb[/\\n\\x88!\\xc9\\xe8\\x82DSo\\xe1\\xcbB).\\xd6\\x0cg\\xaf\\rt\\x16\\x17j8\\xf50\\xc4\\xcb\\x00m\\xd3\\xe9\\xb4\\xbb\\xc6-\\x9c\\xea\\xd5_\\x0b\\x08\\x97t\\xfa\\x81\\xc5\\x89\\n\\x8b\\xee7\\xc7\\xcdK(\\xd6v7\\xa5~\\xd0\\xb8\\xae\\r\\x91\\xc9\\xeefr\\x7f\\xcc\"\\xdd\\xfdm\\xfah\\rA\\xe1\\xa2l\\xf3\\xc3\\xc2\\xc5\\xd9\\x92l\\xa8i\\xb2\\x05D\\xebx\\xf8.e\\xad\\xf6\\xf3\\xf7\\xd1Q\\x9b\\xc7\\xd9T@\\xf4\\x16\\xbb\\xac\\x99\\x06\\xc0\\xe7\\xcbJ\\x00m\\xba[\\xfb\\x15\\xc4\\xe4H\\xbe\\x83\\xa4k\\xcf\\x9f\\x9d\\x9a\\xfe\\xe4\\xaf\\x89\\xc7\\xdf1\\xa1\\x9c\\xce\\x8a\\xaf\\xa8\\xcd\\xcfI4;\\xba#\\x91\\xee\\x0f$\\xcc\\x14b\\xbc\\xb3\\x8b\\x02\\x85\\xab\\xbaI\\x03\\rW\\x87=\\xe8\\x99\\xe2P\\x02D\\xebu\\xfc\\xcau\\xad\\xf2\\xb3\\x10\\x12\\xd9kjH\\xa8\\xd7\\xd4\\x83\\x10+\\xfd3\\xb3\\x93\\x80p;);;ppQ,9A\\xe1\\xa2\\xbe\\xaa\\n\\x8c\\xa6\\x1e\\x16\\xb6}QNg)*J\\xf3\\xf3\\xa8h-vQ\\x91\\x88\\x11\\x15\\xc1\\x15\\xa6H\\x86\\x85\\x8b:\\xd1\\x02\\xc3UY\\x86\\x03\\xc3E\\x8d\\'`t5|\\xb5n\\x9f5\\xd7j\\x07Q\\xd2\\xef\\x12\\x86nq\\x86\\xc5`\\x8de`\\x0c\\xd7\\xb8\\x9f\\x10Aa\\x12{\\xc1\\xd9[\\x83\\xc2\\xd4\\xf7Y\\\\\\x98\\x18\\x1e\\xce\\xac\\x7f\\x10\\x0eMz|\\x8cg\\x1c\\x13\\x875\\xabI\\xf5\\x9d\\xab\\xa0P\\xab\\xa9\\xc7 ^\\xe2\\x87\\x1d=\\r\\ns\\x8c\\x93R\\xc8\\x90pU\\x8fI\\x88\\nW5\\xabB\\xa3\\xa9\\xf7\\xe0q\\x12\\x8d5\\xbbI\\r\\x9e+\\x1aj7\\xf5,\\xc4\\xab\\xfc\\xbcIF .\\xcc1>\\xd2\\n\\x05\\x14&M*\\xc9\\x83\\xc2\\xd5\\xb4\\xea\\x81C\\x93n\\x87\\x0bS\\xea\\xe9,\\xa5\\x8aK\\xa3Y/\\xb8_\\x98\\xeaK!^\\xe2\\'od@\\xc1\\xec\\xe2\\xa4Z8 L\\r\\xcf\\xd9\\xd9\\xec1$\\x99\\x94\\x00\\xd1T>V\\xed\\xc31\\x05\\xc4\\x9a\\xcf\\xa4\\xfc\\xceU@\\xa8\\xcf\\xd4\\x93\\x10/\\xf03\\xfb\\xe2\\xea\\xcbU\\xad+\\x08\\n\\xf3\\x92\\xff\\xcdv\\xb1\\x86*i\\x04\\x18\\xad\\xeb\\xfd\\x11\"4\\xd1X\\xb3\\x9a\\xd4\\xdf\\xb9\\xa2\\xa1VS?\\x86\\xe55~fG!.\\xb2\\x07\\x9c2\\t0\\xccj>t_\\x87\\x01b\\xea\\xbbf\\\\ht\\xf5\\xed06j=\\xa0\\xbf\\x9b\\x8b\\xda\\xfct>\\xed-\\xe2|\\x9ag\\x82\\xcf\\x97\\x97\\x00z\\x9b\\xac\\xc6\\x86(K\\xf8\\xef\\xb3\\x9e?;1\\x9b\\xb7_S\\xef\\xc7G!T\\xd4Y\\xc9\\x18\\xb5\\xf99\\x0c\\xb5\\x9cz\\x14bU~\\xb6\\xf7\\xd9Q\\xc8Pe\\x96\\x81\\x869\\xceIWp\\xb8\\x9a\\x82\\n\\x16M\\xe2\\xc5\\xa9\\xa39\\x95\\xa2:K,.]g\\xbd`\\xca\\x9eiAA`\\x98;|\\xcc\\x1e\\xbf\\x19j:o\\x87\\x84u\\x9cN#C\\x95i\\xa4K\\xf7\\xedp\\xaf\\x97\\xaa:K$\\x9a\\xa1l\\x80\\xcb\\t@r\\x93\\xff^\\xf5\\x82\\x89Dj\\x04\\t\\xb3\\x86\\x1c\\xee\\xa4\\xdb\\xf7\\x15D}\\xb4\\n\\x16\\xc7]\\t\\n\\x17us\\x94\\xb8hj)\\x82q0\\x99PSg\\x89\\xc6\\xa5\\xe7\\xac\\x17L4\\xd2]\\x82\\x86\\xb9C\\x0e\\x86r:\\x01\\x87\\xa9L\\xac\\xe3\\xff\\xae\\x93\\'4L\\xcc#\\x0f\\x16C\\xca\\xfd@\\xd1D^p\\x1f\\xfb\\x06\\xfb\\x99\\x84\\x92:K(.mg\\xbd\\xe0\\x1eEv\\x11\\xa00wx\\xd7\\xad\\x07P\\xb8\\x9a\\x96\\xb6\\x80p)1\\x02\\xc4\\x90& \\x9ax?\\\\\\x86\\xd4J@\\x0bs\\xc8\\xa5\\xe1\\xac\\x17\\xdcs\\xd0La\\xcep\\x12\\x0eG\\x12\\x0c\\\\J\\x19\\x04\\x06.\\xe9\\x8e(\\xd1\\xd0\\xd4\\xdb\\xf17~\\xa8\\xa3\\xb3\\x14\\r\\x97v\\xb3^pOA\\xb3\\x84;C}\\xf4\\x8c`\\x08j\\x9e\\x0fa\\x11\\xd4\\x0c\\x11\\x1cA\\xcd}\\xc1\\xd1\\xd4\\xe7\\xb8-ih\\xacYN\\xa9\\x19\\x94\\x12\\x009S-gj\\xc3\\xc80\\xdb\\x98\\xd7j\\x90p)\\xddw0\\xb84\\xfcs\\xf7\\xddCJ\\xbd\\x00\\xd0z\\xdd\\xc2KI\\x89\\xc0\\x9a\\xcd\\xa4\\xe8\\xce\\xdef\\xa6_\\x07\\x01\\xb5\\x99z\\xfca\\x85}6\\x92C\\x1a\\xe5@0\\xaf\\xa8\"\\x18\\x828\\x89\\x86\\xa0\\xa6\\xeb\\xc2\\xa2\\x8b#\\xe3\\xecQ\\xd4\\xf2>\\x7f\\xcf\\x0f\\xbd\\x1a\\xd0\\x98@\\x05Eo\\x11=\\xa6\\x9e\\x7fXI\\xa0-?s\\xf1\\xf5\\n\\x92\\xcc&\\xdfA\\x9d\\xad>B_\\x9f!\\xfb>E\\x97\\x0e_\\xb2\\xa5\\x8e\\xceJ\\x86\\xa8\\xcd\\xa3\\xbdT\\x0ej/\\xc3\\xae@\\xfd\\xaf>_V\\xd8g\\xbb\\x8b\\x81\\x84\\x84Y\\xc4\\x0c\\t\\x0c.I\\xbf\\x9f \\x8e\\x0c`\\x14Z\\xbfc\\nk\\xc6\\x92\\x92;\\x17\\x03\\xa3\\xb7\\xd8E\\xc3p\\xb5F\\xc1\\xfc\\xe1]\\x0f\\xb9\\xc1p\\xa2Bb\\xa8\\xfb[\\x0e\\x87#\\xe9\\xd7\\xa5\\x91:\\xd2\\xa8X\\xb3\\x95T\\xdb\\xb9\\xe2\\xd0Z\\xec8\\x0c\\xebb\\x1c\\xcc\\xfe\\xbd\\xc9]\\x05\\x83\\x8b\\xe9\\xae\\xc2\\xc0%\\xdd\\x93\\x02CPu\\xb2\\xe8\\xea\\xe13\\xddT\\xcfY\\x1a\\x17\\xd9R\\xea\\xb8h-v$R\\xd6b\\\\\\x98\\xf9\\x9b\\x928\\x16a\\xe1\\xa2:\\x05X\\x9c\\xa8DEW\\x0f\\xfd5\\xe5s\\x96`dS\\xa90Z\\x8b\\x1d\\x8c\\x91\\xa9-,\\xcc\\x00>tC\\x92\\xb8pU\\xe3\\xc2%\\xed\\x08\\x0bW5j`\\xd1\\xd4\\xfb\\xe1\\x8bsT\\xcfYb\\x91\\x8d\\xa5\\xb2\\xd0\\x9dL=\\xf9\\xb0\\x8a>\\x1b\\x9b\\x13y&\\x84\\x85\\xd9\\xc4\\xb7\\x14Q\\xc4\\x85K\\xda\\x11\\x16\\xaej\\xd4\\xc0\\xa2\\xfb\\xcb\\xf0\\xbcXJ\\x17k\\xf6\\xb2\\x16\\x16:\\x9f<\\x9a\\x01\\xdd\\xc5\\x85\\xf8K+\\xe9\\xb3=R\\xc8\\x00\\xc2\\x0cb\\x96\\x00\\xe1\\x92\\xfeT@\\xb8*\\x1e\\x05\\x0eM\\xbc\\x87\\x8d\\xe2\\xc4a\\xcdYRq\\xe7*m\\xaa\\xb3\\xd43\\x0f\\xab\\xe9\\xb3\\x85\\xda\\x90u\\xe8\\xc0\\xc1\\xfc\\xe3\\xfb\\xec\\xf8g\\xa8\\xba\\xdc\\x06\\x85\\xf7U\\x15\\x16\\xddc\\xbeF\\xa4%\\x16k\\x1e\\x93\\x92;W,\\xd4cf/M\\xe24/\\xc81\\xced|\\xb8\\x9aF\\x1fa\\xe1RJ#\\x80p)\\x85 \\x14\\xbat\\xb4\\xa1{\\xfbo\\xadRPo\\x7f66\\xbcI\\x1c\\x1c\\xe1\\xef\\xb7\\xa4Y[\\xd5\\x17\\x7f6H\\xe4i\\xef+\\xca\\x19E\\xd4\\xd2\\x0f\\xfe\\x89Z\\xea\\xf7\\xeb\\xda\\xe1\\xc3F\\xb4Xr\\x99\\xbd\\xfd\\x05\\r\\xf5\\x99r\\xf0Q/\\xd4h\\xf0\\x00\\xa2\\xc4E\\x90y\\xe2h\\x04tE\\xf9\\x1dT\\x1e\\\\\\xcd\\x9d\\x0b\\x123\\xa3\\xf9\\r\\xf6\\x82\\xa4i\\xec\\xf8\\x8f\\xb0\\xda\\x8d\\x13\\x9a,y\\xce\\xde\\xfe\\x82I\\xf3\\xa5\\xbb\\x08\\xc9\\xae\\xb3^\\xa83\\x99<N\\x10e9\\xca(L\\xcc\\\\\\xea\\'>\\n\\x12WuK\\xacPi2\\xd5\\x0fF\\x80e*\\xfc\\xf3\\x7f\\x7fr\\x93K\\x96\\xf6\\x17TZ\\x93\\x1d\\x95\\xecA\\xeb\\x85\\x1a\\x95\\xe7d\\x977\\xca\\x9381\\xa7I\\xd7Y\\x9c\\xb8\\xac{\\xe9\\x05J\\x93\\x1f\\xb7\\xb0)\\x9b\\xa1,\\x99Q.y\\xe5F\\xbd\\xc9\\x0eJ\\xfae\\x9f\\xb5U\\x8329\\x1d,\\xc9\\xc4m\\xa5\\x1e\\xf4\\x94X1\\x99J\\xc09\\x15\\x95`qYmZ\\xe1\\xd2d\\x96\\xcac\\x0f$sY\\xf2\\xa5\\\\\\xf2\\xca\\x98z\\x93\\x1d\\x97d3\\n\\x17\\xf3\\x90w=X\\x0e\\xead\\xeb7\\xa8\\xac\\xfa\\x12\\xf1\\x02\\xc5\\xaf,ja\\xd2\\xdd\\xe9{x+63Y\\xf2\\xa7\\\\\\xf2\\xca\\xa0z\\x93\\x1d\\x93\\x91\\xd6|\\xe21/y\\x9f\\xa7\\x15\\x975\\x18J\\xac\\xb8\\xac\\x8f\\xa4DU\\xce\\xe6\\n\\x95\\xeeS\\xf9\\xc0\\x81\\xaf\\x853\\x95%\\xa7\\xca%\\xf3Nh\\x9a\\xf5\\xfey\\x93\\x1d\\x95\\x91\\xd6\\x9c\\x8a\\x19\\xcbw]\\xdb\\xd6k\\xb4\\xf1\\x15>\\xf3\\xe4\\xb3\\x8f\\xf7\\xd4\\xb4Q\\x02\\xc5eu\\xac\\xaeR$b\\xfc\\xe3\\x19\\xc9\\x92i\\xe5\\x92W\\xae\\xd5\\x9b\\xec\\x90\\x8c\\xbf\\xefH\\xcc`\\xce\\x1e\\x02\\xae\\x17\\xe9\\x89X\"\\xa1\\xc4I\\xe8<\\x19=\\xa6N2q\\t\\x94&??\\x8e\\xbe\\xcdH\\x93%\\xfb\\xda\\xdb_\\xcc?j`\\xe5\\x04\\xa5^\\xa8\\xfdl\\xbew\\x90~X\\xc9\\xb4\\xe6E\\xb3\\xd7(H\\\\\\x93\\x9e%N\\\\\\xd5aY\\x90t9|\\x97#\\xc5I\\xad\\x1b\\xf4\\xe7\\x9d\\xd2\\xdb\\x7f\\xbd\\xceP7@\\x0f\\xbe\\xfe\\xe3\\x83\\xb2F\\x00C\\xa77\\x89q\\xa2a\\xd2k\\x02\\xbdm\\xb3\\x97\\xd0\\xea5\\xfa\\xd0\\xd1\\xe7\\x13\\xa2:c2.-*H\\xba\\x1a\\xbe\\x93\\x99\\x89,\\xbaY\\x8a\\xfd\\xec<\\xca\\x8c\\x88\\xbaY\\xd9H\\xe7?3\\xc7\\xc9\\xbb\\x11yB%H\\\\\\xe6\\x05\\x94,\\x13\\'.Oz\\x13(.\\xeb\\xeb+\\x05J\\xfb\\xd3\\xb7\\xa3\\xb3yZ,\\xfa\\xd9\\xda>\\x8c\\x9c\\x19\\x15\\xf5\\xb3\\xb2\\xa7^\\xffp\\x8b\\x84\\xd9\\xbbX\\xe7r\\xa1\\xe2\\x96uj\\xf2\\x87\\x9cf\\xbc\\xc2\\xa4u}\\x84\\xff)G\\n!\\xbe\\xe2f\\xa9\\xeds\\x19)\\xadI\\x1c;\\xb2\\xbf\\xce\\xbff\\x9es\\xf6\\xc8\\xf0\\xb9\\\\\\x98xo\\x19\\x1f%P\\\\M#\\xbb i\\xda\\xed\\xbf!e$\\x8b^6\\x97\\'\\x9a\\x85\\xc9dkU\\x97=VP\\xa8\\xbc\\xbe\\x98GG\\x19<\\xe6F\\'rA2\\xe4}:+@\\x86&\\xfe\\xbf0i\\xf2\\xd1\\xfbY4X\\xb4\\xb1\\xb5\\xfd\\xc5\\xc8\\x99l\\xb0\\x0esd3\\xb1U\\x15\\xe2\\x05\\x94\\xfd\\x8f*<\\xcc\\x88\\xea\\xcb)\\x05\\xc7P\\xf7=\\x0b\\x8e\\xa1Mqtyx\\xa5\\x1c!\\x8b\\x0e\\x96\\x8a?\\x97\\x83\\xa65\\xd9\\r\\x9a4\\xc9\\xe2\\xea\\xad\\xaeP\\x89\\x90\\xbc\\x8e+D\\xcc\\xa2\\xce\\x89\\xb8\\xaa\\x9d\\x0b\\x94 \\xa7\\xbf\\\\B\\xa4;\\xd8\\xf7\\x83\\x83\\x19Z,\\x1a\\xd8\\xda\\xfe\"F&\\x9b\\xad\\xba\\xd4\\xb1\\xfaC\\xbc\\x8f\\xb2\\xbf\\xd3\\x85\\x88y\\xd0\\xc9\\x17\\xabJ\\x90\\xb8<u\\xb0C\\x9e9XS\\x8f6\\xe2\\xb9\\xfc\\xa2\\x81\\xcd\\x15\\x8cf\\x99d\\xb2\\xef\\x9a\\xf2~\\x89\\x13s\\x99\\xf9\\xb1\\xf0\\x82\\xe4H+<Lc\\x02N0K\\x84\\x98:\\x9f\\x7f\\x9bz\\x0b\\x159\\xf3\\xb0Yt\\xae\\xd4\\x02\\xba\\x1c6\\xea\\\\\\xc3\\xc2\\xd3\\xb3\\x889L\\xcar\\xa7\\x9fU\\x80\\x1c\\xab\\x05\\x89\\xab\\xbaaT\\x98\\xb8<\\xb2E\\xfd\\xb3e\\xcc4\\xed\\x16\\xcaF\\'\"k\\xc5\\x8c\\x98\\xb3R5\\xa3I\\x80\\xcc\\xca\\x19\\xa9u\\xb5zF\\xdbSO\\xebA2d-\\xba\\x1b\\xd5\\xa9!\\x19\\x9dU\\x86J\\x97oG\\x1f\\xe3\\xa7\\xc5\\xa2{\\xad\\xed\\xcf3Io\\x12\\xd3\\xabl\\xd1\\xd7?\\xdc|Z(\\x1cQofAb\\xce\\xf6\\xa5\\xce\\x960\\x19r\\x8a\\x03bdh\\x93\\x97w\\\\\\xbe\\x87\\'\\xedr\\x98,\\x1aW\\xaa\\x04]\\r\\x9c\\xded\\x07d\\xa4v\\x1b8V\\x8bh\\x9b\\xfc\\xe8\\xc2\\xa4;\\xd3\\xe7\\x7fc\\x03\\xacv-@\\xcc\\xb5\\xbet\\x97\\xbf0qy\\xce\\xa4\\xc9\\x87%\\n\\xb8\\x00\\xff\\xfa\\x8aq\\xad\\xed/\\x82\\xa4\\\\r\\xff\\xe8\\xd8d\\xc3\\xbe\\x17\\x1ez\\xdb\\xa8\\x0f\\xa7\\xc9d\\xa8\\xb2\\x9bR\\xa0\\x981}M\\x8e\\xf8\\xa2,\\x97.\\x03\\xa7u~\\x0f\\x13\\x7f\\x8e\\x93E\\xe7J\\xe1\\xa0\\xcb8Q\\xe7*/-\\xf0\\xaf\\x99\\xbf\\xd4\\xc2\\xba%LL\\xa5\\xb2n\"V\\x98\\x98\\xaa\\xc9\\xb9\\xc4\\x89\\xa9\\xda\\xb7 i\\xea#<\\x87\\x93\\x91,:W\\x8a\\x08]\"Q\\xe7*o.\\xf0\\xaf\\x9dx\\xcc\\xc2\\xc4\\xe5i\\x86uU\\xb7\\xad\\x0b\\x14\\x97uN*T\\x9a\\xfcq?^\\xf6Q#hm\\xf4\\\\;\\xd8z\\xc94z\\xd2\\xdd\\xc6\\x99X\\xdd\\xa2\\x8d\\x02\\xcd\\x13\\xbf6d]\\x02\\x95X1\\x8f:)\\xfe\\\\\\xb8\\x98\\xfc\\x92\\x1d\\x97\\x82\\xa5\\xa9<81\\x12]\\x8e\\x96E\\x0fK\\xa1\\xa1\\xcbhQ\\x0f\\x1b\\x12\\xbd\\'Z7\\xa2i\\xae.\\xa124AV\\x98\\xb8<\\x99y\\x86&\\xeb\\x85B\\xa4\\xc9\\xb7\\xc7\\xd1\\xcb\\xf64Y\\xb4\\xb0\\xb5\\xfdE\\x9aU\\x0b\\x1b\\xc6\\xaf\\x131\\xb3\\xf9LAT\\x88\\xb8\\xa6\\x0e\\xa3\\x10qy\\xea\\xea\\x87\\xac\\xbd\\x0b\\x94\\xeeco\\xefcR\\xcba\\xb2hdk\\xa1\\xa5\\x0b(jd\\xf3\\x1bme\\xf4\\x98\\xdb|\\xa5\\xa5r\\x81\\xe2\\x9aL\\x1e\\x85\\x89\\xab\\xa9g\\x196\\xae\\xe9\\xb3\\xf1\\x05H\\x93o\\xf7\\xff\\xc6\\xda+\\x01\\xa9\\xe5\\x8e\\x16v`{y\\xa4\\xb3\\x1d\\xd8\\xdedgP\\xd2\\xd8\\x00\\x88U:zN*\\x0fFu\\xea\\xd9N:Ce\\xa8\\xda\\x19*]\\xbe\\xbf?\\x0e\\xb3\\t\\xb5\\x85\\x96\\x92lm\\x7f\\x1e&\\xbdI\\xa42\\xd9\\xa9\\xefE\\x8d\\xde\\x9e\\x94\\x9c\\x0bn\\xa1\\x0e-\"e\\xc83\\x8f2T9\\xc9*T\\xba\\r~\\xe6\\xef!\\x17$M{\\xbe\\x1d\\x9f\\x87Rbh\\rIv\\xb2i\\x1b\\xe8\\x1f\\x7f\\xb55\\x89H&qbN\\xf5\\xa6c\\xbe\\x109\\x91\\x19<CV\\x9e\\x85\\xc9I\\xef\\x82\\xa5\\xc9\\x9cd\\xf8\\xf6D\\x1e>\\xc5x\\xae\\x0c\\x9f\\xd2>\\x06\\xca\\x84Jk\\x12\\xa9L\\xb6\\xeb\\xbd\\x00\\xd2\\xa4\\x16\\x1b\\xff\\xf8\\xff\\x94\\x9dY\\x96+\\xbb\\xadD\\xa7T\\x92\\xaa\\x91~\\xaf\\xed\\xe7\\xf9\\xcf\\xe8E\\xb0\\x01\\x90\\x010i~\\x9d\\xb3V\\x90Y\\xd2\\x16\\x08F\"\\x1b\\x0c\\xb7\\xfa\\xd6\\x18\"\\x12\\xd3\\xf2\\xc5R\"19\\xdd\\xb6B\"]}~\\x965X4\\x1d:#\\xa2N\\xb6 \\x92\\x9dl\\xf0Gs\\xdb\\xb1FH\\x8fT\\x01a\\x9c\\x0c7\\xfa\\xd6\\x93G\\x12\\x99Z\\x9eI S\\xd5\\x99\\xc4\\xd1\\xb5\\xd5[\\x051\\xe0\\xd0\\xc4\\xb6\\xf1\\x9b\\xf8\\xc8&\\xb6(\\xd2[7\\xa4G\\xca\\x05\\xa41l\\xe8;\\xab\\xe4aj2c\\xe4\\x11T\\xf5\\x81D2\\xe4/_\\xca\\xbaf\\x0e\\x1d,\\xba\\x19m\\xd7L\\x1frY3\\x12G\\xdcr\\x86\\xc9|\\x87\\x1b\\xa7,\\xb3\\xae4\\xf20-\\xdfLB &\\xfb.\\xdb\\x0eK\\x1a][>\\xb4\\x8f\\x11\\x87\\xc6\\xb5\\x8d\\xdfDH6\\xae\\xe1\\x12\\xac\\xad\\x97\\xe10\\xdfE\\x93\\xd7\\xf6\\xb1ZA\\x85\\xaa\\xfe\\xcaD\\xb2\\x9eL\"k\\x95L\\xba\\xba\\xae\\xad\\xb5>J\\'I\\xb5\\xdbR\\xf7$\\xf2\\xd3s\\xab\\xc9\\xce5<\\xdegH\\x86\\xfd|\\xe3\\x11\\xfe\\xec]\\xad\\x85RVI\\xc4\\xe7\\xdaf\\xd1\\x8eK\\x1e\\xae\\xa5]\\x9d@\\xba|\\x93E\\x0e]+\\x1a\\x18mWLv\\xad\\xea\\x0b\\xb8b\\x86\\xbf|?\\xcas>\\x97\\xf3\\r\\xe0Dr3\\x9bTL\\xce\\xb3Ie\\x9aW\\xb7\\xbd\\x92HZ\\xdb\\xa4\\x838i\\xe3\\xef\\x97\\xce\\x18rI$\\xb9Ho-\\x93\\xbe\\xe4\\xc4\\r\\xa95h\\xe9\\xb7\\x06\\x13\\x97s\\x01\\x00L\\xa2,\\x11\\x08$C}\\xfc\\xf8\\x9fU$\\x87\\xc6\\x15-\\x8dv\\x912\\x86\\\\\\x90\\xf8\\xdf\\x9fK\\xc7\\xfa*aqh\\xbe \\x153\\x9fn\\xa5\\xdaT\"\\x99Z>\\x13 \\x11S}Ci3\\xc9\\xa3k\\x8fP\\xf4U\\x1e\\x87\\xae\\x15\\xbd\\x8d\\xb6<\\xb2kM\\xf7\\xcf\\xe3\\xa3Mg\\xf9\\xccu \\xf209\\xc7>\\x91\\x98\\x9cg\\x93\\x89\\xc9\\x92\\xe9\\xc8\\xa4k\\x8f\\xb7oF\\xca\\x04?\\xe5\\x89gE\\x8f\\xa3-\\x93>$\\xc6\\x88\\xba%d\\x13\\xeb\\xb2\\x04+_\\xc5\\xc8t\\x9e\\xba=\\x13\\x88i\\xfe\\xb5fv\\rZ:,\\x81\\x0c\\xcb\\x1a\\xaa\\x11\\n\\xe4\\xd0\\xb2\\xa2\\xd7\\xd1\\x16H\\xb6\\xac\\xc5\\xfd\\xf4\\xb3i\\xd2;\\xdf\\xcc\\xc9\\x18\\x99\\xc6\\xf3\\x95\\x83\\x80H\\xa6\\x8c\\xfbD\\x95&cd\\xcaz\\x96I$C[\\x97\\xd3\\xd0\\xc5\\xe8,F\\xba)\\xed\\xeb\\x11/\\x81\\xd0\\x8b\\xfe\\xd8\\x82\\xdb!\\xa5\\xca\\xe8g\\x11\\x96G\\xa6\\xbb\\xc4y\\x8d~+21\\xb9*\\x95\\xb8\\x9a\\xce]H$\\xcc\\xd5\\xf3\"B\\x19\\xf2\\xefz\\xbf94\\xae\\xe8~\\xb4\\x8d\\x93l\\\\\\x8b\"\\xbd5Y\\xc2\\xdb dW \\x93\\xe9?\\x8b\\x97\\x883N\\\\N\\xc6$hi\\xb3\"\\x92>\\xf5\\x19\\xaeE\\xeb\\xd29t\\xaf\\xe8\\x82\\xb4E\\x92\\xddkQ\\xa4\\xb7fK\\x88\\x13\\xfd1\\xc9d:P\\xadO\\x12\\x88iy]1Lnd2\\xe9\\xf2\\xcf\\xcf\\xfa\\x1e>\\xf46:[<{\\xff\\xda\\x0e)\\x8bG\"\\x81\\tv\\xfa\\xcc\\xf0\\xb4e[X$b\\x9a\\xf8\\x19\\x121-/:\\x1219U\\x9d\\x08\\xa4\\xab\\xcf\\xf8\\xc8\\x9cF\\xc9\\xa1\\x7fES\\xa4m\\x94d\\xffZ\\x14\\xe7\\xad\\xf1R\\x88`\\x032\\xedg\\xee\\xe3B$\\xa6\\xe6\\xfb\\x1d\\x89\\xc4\\xe4t\\x17\\x1b\\x91\\x0c\\xeb\\xfa\\xb5\\xce%g}\\x9d\\xd0\\x11I\\xef\\x1f\\x90\\x9d\\x1f\\tv\\x0c\\xb9l\\xc2\\xf2[#F\\xacyS\\xf1\\xcaB\\x84I\\x945\\xff\\x02\\x8b\\xcb\\xe9\\x82 \\xa8DU\\'\\x03\\xcb\\x90\\x97o\\x1e\\xc2\\x88C\\xfb\\xda\\xc6\\xdf;\\xfa1\\xe4B%\\xdb\\xd7\\xd1p\\xe9\\xf5\\xae\\xed\\x9a\\xcbic!\\x94iQ\\x9fe\\xac\\xb8\\x9c\\xbd\\x1e\\xa9\\x8c\\xd9\\x08\\x1b\\xcb\\xcf\\xb2~\\xd0\\t\\xe9(\\xa1\\xb4\\xf1\\x1b,\\xd9\\xc5j\\x97\\t\\x06\\x8b\\x19\\xcdT\\tb\\xac\\x98\\xea\\x9f\\xbc\\xad.21--\\x10\\x06\\x8a\\xa9\\xe2\\x00\\xc8\\xa3k\\xb8\\xa9\\xc2\\r\\xbf\\xf2\\xa0\\xdd<8\\xf1C\\xef\\xa4]>\\x19Cb\\x98\\xa8q\"\\x8fiC_)\\x0e\\xc8\\xc3\\xd4\\xeco\\x89\\xc4dY\\xbb\\x04bZ\\xaeS\\x93I\\x97\\x7f\\xbfC[:erhb\\xd1C\\xe9\\xcaD~C&\\x94lb\\xfd\\'\\x99\\x86\\xcd;5\\xe5B\\x11\\x99L\\x1b\\x1an\\xee\\xb6\\x181\\xad\\xbc\\xad\\xd1\\xa7f\\x99L\\xfa\\xec\\xf5E\\x9c\\xb3\\x1eP8\\xa0z\\xd8\\x82HQ{\\x95\\x13ZF\\xc94\\x9a/\\xf9\\xa1\\xc9\\xc349:\\x03\\xc44\\x99\\xc7\\x00qM- Yt\\xf5\\x11l\\xb7\\x86\\xc7\\xa1wE\\x1f\\xa5mxd\\xefZ\\x94\\xe5\\xad]\\x13\\xde\\x93Z\\x18\\xb5(\\xeb\\x96A$\\xd3\\xbcV\\xaf\\xb9\\x8br>\\x07\"\\x96>{]\\x1eh\\xcd\\x9dN\\x12\\x89\\xdaW\\xf9\\x11\\xb9h\\xb2}-\\xca\\xf3\\xd6\\xb8\\t/\\xe3\\xd0\\xaf\\xcd(\\x99\\x1e\\xb4\\xf8\\xda\\xa4br2d\\x0c\\x15S\\xd3=\\x93d\\xd2\\xd5\\xe5K(0\\xe2\\xd0\\xbe\\xb6\\xf1q\\xb7)\\xa0\\x14\\xe5W\\x89q\\xae\\x9b\\xe93_\\xe5n\\xb3V\\x89\\xc4TY\\x8f\\x04\\xb2\\xd2\\x88\\xa3k\\xdf\\xe1\\xa5\\x0e\\xbar\\x0e\\xcd+\\xba/mWN6\\xafE\\x81\\xde\\xda8\\x85^M\\xd3\\xbc\\x9a\\x16\\xde\\x1baiuzS\\x9dG\\x14S\\xd3yD\\xd15\\xbc/t\\xe5CZ+\\xa7\\x83\\xe5\\xd2\\xc6\\xdfG\\xc6\\x18\\x12\\xf7\\xdd\\xa20?Z5\\xbd\\xde\\x88\\x8c\"\\x89\\xdc\\xc9\\x88\\r\\x97\\xfd\\x82\\x7f\\x83\\x05 K\\r@\\x86\\xf6x\\xb9\\x8b\\x96\\xd8h\\xfd\\x9cN\\x80h\\xb95/\\x95v\\xc8\\xeb\\x99^Q\\x98\\x9f\\xbd\\x9c\\xdex\\xc9U\\x05\\xc4\\x1ci\\xae2\\x13\\x88\\xc9\\xa9\\x8aB$\\xa6\\xe6c\\x93J\\x97o\\x8a\\xd0h\\xa1td\\xcf\\xda\\xf8M\\x98d\\xbb\\xaaUB$\\x90\\xd9\\xd9\\xe9\\r{VdU\\x97\\xb3\\xc9\"\\x95iJ\\x8b\\xf7\\xe0\\x10\\x8b\\xc9\\xb9\\xe2@,\\xc3\\xb6\\xae\\xde<\\x8c\\x11\\x87\\xae\\xb5\\x8d\\xdf`\\xe9\\xc6\\xf6\\xb2z\\xf2\\xc9\\xcd\\xec\\xf1\\xb4\\xc2b\\xde3\\xff\\xde\\xc4br\\x86J,&Ke\\x96L\\xbav\\xf3\\xa2\\x8a\\xd6\\xee\\xe9d\\x01\\xed]k;\\xa4,\\xa0l[g+(\\xdchc\\xd9n&W\\xd7d\\x1eiL\\xcf\\xaa\\xf3\\x88\\xc2\\xb4|\\xe34iL\\xd9\\xff\\xa2\\xa6\\x93\\xc3\\xaa+:1\\xed\\xb6\\x9a1$FHQ\\x99\\x9f\\xfd\\x9e\\xde\\xd5\\xebf\\xf1\\xc9\\xa7\\xf9\\xcc\\xf5G\"15{\\x19R1\\xd9\\xd3h#M$\\xc3\\xb7\\xaeo\\xb0A{\\xa5\\xb3\\\\\\xb2\\xf7\\xad\\xed\\x90\\xd7\\x00)j\\xf3\\xb3\\xe9\\xd3[O\\x8ba\\xcfL\\xd3SD\\xd2\\x98\\x8e\\x15\\xaf`\\xd0\\x1cD\\x1a&\\x97\\x8eu\\xc87\\xee\\x0c]\\x96\\xce\\x80\\xec-k;\\xa4\\x00q\\x0f\\xd0~+&W\\xb3\\x95\\xa2\\x11\\x88kzvB$\\xae^\\xd7\\x1ay\\xb8\\xa63\\x19\\x1f]]\\xbdv\\x15\\x03\\x0e\\xbdj\\x1b\\xbf\\xc9\\xa9\\xd9\\xab\\x16%\\xf9\\xd9\\xfe\\xe9\\xad\\xc6\\x8d4\\xa6\\xdf|\\xe4\\x8cI\\x1c&\\x977`\\xb9\\\\\\xef3s\\xb6\\xe7&\\xcd\"\\x87\\x86\\x15-\\x9a\\xb6Y$\\x1b\\xd6\\xa2&?\\xdb@\\xbd\\xc3su\\x96S\\xa7\\xf1\\xfcJ\\xf7#\\x11\\x89\\xa9UY\\xd1\\xd5\\\\\\xb0g\\x90\\xf4\\xc9\\xdf\\xaf\\xf5]\\xaeg]\\xa6\\x1e_\\xdaf\\xea/\\xfb\\xb4\\xa2\\xcf\\x94\\x1a1,\\x1ak4\\x15\\xba3O$\\xae\\xe5L\\x01&.\\xcb\\xc6\\x8aU\\x13\\xb4d\\xff@d\\xc8\\xcfw(\\xbaH\\x90\\xa0\\x0b\\xd3Q\\x1ai\\xe3\\xef\\x17\\xce\\x18r\\xd9j\\xe4\\xa3\\x93\\xc8t\\x97_9\\xbc\\xb1v\\\\\\xce\\xf7Z\\x11\\x8a\\xcdNaD,\\xa6\\xfa\\x16;\\xb7\\x9a\\xa1\\xa1\\x7f\\xa3\\xff\\x96\\xca\\xe4\\xd0\\xb7\\xa2y\\xd3n\\xe1\\x8c!\\x17&\\xb2\\r\\x92\\xc9\\xb0\\x96\\x7fx\\xe2J\\x83\\x88LLN\\xb7%\\x11\\x89\\xa9\\xb9\\xbf\\x1d\\x99\\x98\\x9c&3R\\xba\\xfa\\xb8\\xb9A\\r]\\x99\\xce\"\\x85\\xe37\\x91\\xd2\\x87\\\\\\xa8d\\xdb:\\xdbA\\xe1\\x91\\xe9\\xeb\\xb6A$\\xc3u\\xb2\\x93\\x9d\\xee\\xb2dbr\\xbeo\\x89LLN\\xe7?d2\\xd4\\xdfU\\x87\\x04\\x0c9,\\xb6\\xb6\\xf1\\x1b&\\xb9\\xd8\\xaa\\xce\\x83\\x912<\\xe4_\\xbehE*\\xa6Jq\\x85HL\\xabR\\xac\\xab\\xf9\\x04\\x9bH\\xfa\\xe4G|\\\\P\\x17\\xcf\\xa1wE[\\xa7m\\x98\\xf4!1L\\xd4p\\x11\\xc9\\xf0\\x97\\x7f\\xe5[\\x90\\\\\\x95\\x00#\\x12\\x9b\\xe9)\\xa1\\xa5\\x0b\\x86\\x88ie\\x88t\\xf5\\x83Gb-4\\x95\\xc7\\xa1qE{\\xa7+\\x0fIa\\xff\\xe03\\xf5!\\x91\\x87\\x9b\\x80\\xf6\\xc1\\x89c\\x18L\\xe2\\xd0\\x95\\xc1\\x1019\\xa7\\x1a\"19\\xcf&\\x15\\x93\\xd3\\x8d\\x08\\x8c\\x92\\xae\\xde\\xbcl\\x0e\\xad\\x9b\\xcer\\x89\\x9a\\xd7\\x02J\\x1f\\x12\\xa1\\x14\\xb7\\xcb[\\xb3\\xa9z\\xdd\\x0c\\x13\\xfa\\x97_<H&\\xa6f\\xfbA&&\\xd7K\\xa7\\xcb\\xe8\\xb7\\xb2\\x8c\\x94C\\x0f\\x8b\\x96O\\xdbH\\xc9\\x1e\\xb6(\\xcd[c\\xa9\\xdf\\xb4\\x992R\\x86\\xd1\\xfc\\x0b\\x17\\xb1[\\x90\\x11\\x89i\\xf9\\xa2\\x0f\\x91\\x98,y\\x88A\\xd2\\xb5\\xe7\\xaa\\xb9\\x1dF\\x1c\\xfa\\xd76>&\\xd7\"H\\xb2\\x7f-\\x8a\\xf2\\xb3{\\x14\\x9blWKg\\x98\\xd4J&\\x93 \\xeb&N&A\\xd6\\x83\\x13K\\x97W\\xaf\\xbe}|\\xb5>S\\x07\\x95\\x92\\xd1\\x97\\xaa;\"\\xde\\x91\\x95\\xa9\\x8c!\\x97\\xa5#?\\x18\\x12\\x8a\\xb5\\xa7\\xc2\\xd2\\xd1\\x83 L\\xeedP\\t\\xb2\\xc5\\xff\\xcc\\xb1AK\\xb6\\x07HL\\xb6\\x89\\x92b\\xd1\\xd4\\xe9(\\x9b\\xb4\\xf1\\xf7\\x812\\x86\\\\\\x90\\xc8\\xe6@$\\xc3gbi\\xe8I+\\x89\\xacU\\x021\\xb5<\\xfbs9\\xdbc2\\xe9\\xb3\\x1f\\xa1\\xf8\\xa9P\\x0eM,\\xfaA\\xed\\xb2\\xc9\\x18r\\x81\"\\xd1D(\\xd3h\\xa2\\xd9\\xb8\\xc6?\\xa9\\xdc\\xc8\\xc4br\\xfe\\xdeX=w2\\xb1L\\x1b\\xbb\\xdc\\x8e\\xd1\\xe8\\xe9,V8~\\x13+}\\xc8\\x05K>\\xdf\\xb1\\xfeSH\\xb2\\x15\\x96iE\\x8b,{7\\x95Llj\\x8e$2\\xe9r\\xe8k\\xad\\x91rhb\\xd1 j\\x8b$\\x9b\\xd8\\x10\\xa9\\xd3\\xa2X\\x1b\\xaa\\xfc\\xae\\x1a\\x06\\xca4\\xaa\\xc5\\xab\\xe4\\x18(.[^\\xb0\\x84\\xe2ZbM\"]^\\xbf,\\x0bm\\xa1\\xce\\x82D=\\xac\\xac\\x8a\\x7f\\xf07\\xb3\\x87-^sc\\xfd\\xa8\\xea\\x842\\xbdhxdf\\xee\\xc4>\\xb3\\xdc\\x89\\xefd\\x12\\x19G\\x0e\\x9b\\xa1\\x06\\xc9\\xa1\\x8d\\x1d\\xad\\xacz\\x9aZl;\\xd9\\xc6\\x167\\xd0[{*\\xa4\\x13\\xc1\\xca \\x99F\\x14\\xaanJ\\x0c\\x12\\x93s\\x05\\x8e+\\xc7\\xe4<\\x9bT\\xba\\xfc\\\\WO\\xd0\\x0e\\xea,P\\xf6>\\xb6\\x1dR\\x8a\\xb0\\x9e\\xcdl\\xe9\\x98\\xd9\\xac7c\\x93\\xe5\\xc4\\x80LL\\xab\\xee\\xc8r5\\x17\\xa3\\x88\\xa4O\\xc6\\r&~.\\xae\\x91rhc\\xd1Qj\\x9bN\\xb2\\x8d-*\\xf5\\xd6\\xb5\\xeaW\\xb2/\\xe3\\xc4\\x9ch\\xbaS\\x82HL\\xcdq\\xc0019_\\x18#\\x93.\\xe3\\xe9zKD\\x8a\\xe4\\xd0\\xc9\\xa2\\xb1\\xd4\\x16Iv\\xb2\\xc5\\x9bnf\\x87*\\x1a\\x14]\\x1e\\xa4b^4\\x9f\\xe5\\x11\\x8b\\xc9y6\\xb1\\x98\\x9c\\xa9\\x11K\\x97\\x7f>\\xfek\\x08\\x16\\xf4\\x8d:Z=m\\xfc\\xfd^<\\x86\\xc4\\xbd\\xb8(\\xda\\x8f\\x86U\\xaf\\xf7_.\\x95\\x01\\x8b\\xcb\\xa9T\\x06*\\xae\\xa6P\\x02\\x14W\\xa5\\xce\\x00\"C{\\xc43)Erhe\\xb5W\\x96\\xfe\\xc8\\xd8y\\xc6\\x90\\x0b\\x92leg\\xd7\\xabO~\\xf8\\x8aD\\x86Y\\xfd\\xe09a5/D2eLV\\x99L\\xa6\\\\<CJ,]~\\xdf\\xbc\\x87\\xa1\\xb5\\xba:8\\xe9i\\xe37\\x91\\xd2\\xfd\\xee\\x05\\x8b\\xec/0\\xb3\\xb3\\xcf\\xd5G\\xf3\\r\\xa1\\x0c\\xab\\nMw&2\\x99*\\x1e&\\xaf\\x98\\x04Y\\xfe,\\x91\\x0c\\xf5+\\\\.\\xd0H\\xc1\\'?\\xb9\\xf7\\x15\\xcd\\xa8v9e\\x0c\\xb9 \\xf1\\xc5;\\xb7\\x9e\\xd9\\xf3\\xeaS\\xde\\xfbz\\xa3\\x12\\xca\\xb0\\xaa\\x9f|g\\x17\\xe3\\xc4\\xd4\\xd2\\xc8\\x0e\\x19\\xc5G?9U(\\x87V\\x16]\\xa9\\xb6P\\xb2\\x95\\xd5gI\\x18\\'\\xc3q~\\xbe\\xf2\\x8d6\\x0c\\x95\\x1b\\x99XL.\\x13\\xad\\xcbe\\xa2\\x1d2\\x9e\\xf4\\xf3\\x94\\xa3\\\\\\x0e\\rmk\\xc6\\xb5Y?\\xd9\\xd0\\x16\\xaf\\xbb\\x99\\x8d\\xb0>\\xc53I\\xe42|\\xe7\\'\\xf7) \\x16S\\xbdf6-\\xbek\\xfe\\xa5\\x9b\\xc6\\xd5\\xd3\\xe7\\xbd\\xc3+v\\x94\\xc7\\xa1\\x9bE\\x97\\xaam\\x9cd7[\\xd4\\xedg3\\xac\\xcf\\xab\\x8e\\x93aH?\\xf5\\xfd\\x9e>\\xbb\\xdczlrU\\x94\\x1ds\\x9fx\\xa5\\xcc\\xca\\xa6\\xa0\\x07\\xd5YJ\\xd9\\xbb\\xd9v\\xc8\\xab\\x9b-J\\xf7\\xb33\\xd6\\xa7\\xac\\xca\\xba\\x9a\\xce\\x00\\x18$\\xc3\\xce~\\xf2I$S\\xcaTqd\\xcd\\xc2\\x8c\\x94ag_??n\\x945V\\x0e\\xfd,\\xbaW]cER(\\xb7\\xe4\\xecg\\xfd\\xcf[\\x9e\\x1d\\xae\\xf3\\x83\\xbeA\\xfa\\xd1\\xb9tndb19\\x9f \\x90\\xcb\\x8dL.S^g\\xdaCK\\x8bnV[*\\xd9\\xd2\\x16\\x15\\xfc\\xd9\\x16\\xeb\\x837\\xb1\\xcb\\xc6I*\\xc3\\x93~B.l@\\x89\\xc4\\xb4\\xbc\\xf6\\x88$\\xc8j\\xa3\\x88\\xa4\\xcb\\xcbn\\xd0\\x0f\\xbc\\x1d\\xe8h\\xf9\\xf4\\xf11\\xc9\\xa6@\\x99C\\xe2\\x8e\\x9c\\xeb\\xf7\\x1c\\xd5\\xde\\xd1\\x81\\xe5cK\\xbb}\\xe9\\x7f\\xb7\\x0fUk\\xff\\tZ\\x08\\xfe6\\xef\\xff.\\x9ab\\xfe\\xaf\\xab!.\\xaf\\xab\\x06\\xaf\\xce=\\x84\\xc1\\xf1\\x1b\\x18}\\xc8\\x05\\x86\\x9f\\x85\\x8ee\\xc3?<\\xbe\\xb0\\xc7\\xae\\xc1p-\\x9d\\x0e\\x91\\x87\\xcbW\\x8e\\xe4\\xe1Z\\xc5\\xa3\\xab!\\xe8\\x14\\xc7Y5\\x16\\xafl\\xdb\\xe3\\xc8\\x06\\xf6!_\\xf9_\\xf8\\xdc\\xd3g\\x96\\xd72\\x82,$\\x89\\xe3f*\\x89\\x98\\x9c\\xec/#\\xa4\\xab\\x8feE\\t/\\xf68\\x8c\\x10\\x8e\\xdfDH\\x1fr\\x89\\x90t\\xaa\\xc3?<\"$\\x978\\xb8bL\\xcew\\xe6\\x91\\x8a\\xc9y6\\xa9\\x98\\x9cm?\\xb1\\x0cy\\xd9\\xbb\\x00O\\xff\\x1dbQ\\x0b[d\\x91la\\xf5\\xaeUF\\xca4\\xa1\\xef\\xe2b\\xc6\\x9dJ(67;wB19\\x1d\\x9aL\\xba\\xfa\\xfc\\xf2t\\xae\\xab\\xe7\\xcc\\xbe\\xe2\\x11\\x86}\\xa8d\\xfb\\x9ao\\xaf\\xe7\\x81z\\xa8\\xbc\\x8b\\xcd&\\xa89\\x14\\x08\\xc5\\'\\xe7tbZ>c&\\x92.\\xaf\\x1f\\xc1\\xc0\\xddn\\x87a\\xa2\\x0e\\xb6\\x08\\x93\\xec`s\\xd1\\x9e\\x7f\\xb8#\\xc1\\x1bZu\\x9b\\xe4\\xea19\\xbb\\x16219=\\xda\\xc3815O&\\x95!\\x87\\xc2\\xb9\\x06\\xca\\x99\\x83\\xc5\\xe5\\xd6}\\xa0\\xf4!\\x97\\x9c\"\\xa7\\x1c\\\\<\\xd3g~r\\x89\\x90TL\\xce\\xd6\\x83TLN\\x0e\\x97T\\xd6*\\xa1\\x0cu\\xd9\\xd6\\x01\\x95\\xb8\\xc3P\\xd9\\x1a\\xd8~\\xc8\\xab\\xad\\xcf\\xa5{\\x8e\\x1a\\xab\\'\\xff\\x9c\\x84\\x12d\\x8d$B19\\xdd\\x95@(\\xa6J\\x82\\'\\x92\\xae=\\xc3\\xdb\\x0f4N\\xce\\xdc+\\xdc\\xdf>N\\xb2{\\r\\x05as\\'\\xd3d\\xa2\\xf2\\x18\\xcc\\x93\\x19\\x94 {6l*\\x89\\x98Z\\x9c\\xfe\\x05U\\xce\\x96I\\xa4\\xcf\\xc4k\\x82-\\x13\\t\\x91\\xd6.\\xeb\\x7f\\xaf\\xb0\\xe1\\x90[\"cH\\\\9ZE\\xc3\\xca\\x19\\x9d\\xb0^\\x9f\\xb7\\x7f\\xb6\\x89#h)\\xd7\\x80\\x87\\xc9\\x7fy\\xa7F\\x88\\x98\\x8cFm\\x02\\x13H\\x86\\xban(\\x8b!g\\xeb\\xa6\\x8d\\xbf7(c\\xc8\\x05\\x89\\x18/\"\\x99^\\xb3\\xe80\\x87u\\xe3r>\\xa7%\\x95\\x9b\\xd9\\xa4b\\xb2\\x9c,\\x90I\\xd7\\xd6\\r\\xb8`\\xe7\\x0e\\x99\\xec}l;\\xe45\\x97\\xe4\\x92=\\xff\\xf0\\xc8%i\\xe3 \\x12S\\xb3\\xff \\x12\\x93\\xd3d\\x1215\\x17\\xb7\\t\\xa5\\xcb\\xbf\\xcb\\x17i=\\xd0\\x90\\xea\\xa4n\\xd2\\xc7o\\x02\\x85\\x87\\x14(\\x92\\xe8\\x18(f6\\xcbl\\xe2r\\xe9O\\\\\\xceeEb\\xb1\\x83\\xe7-\\x8dX\\xba\\xfcx-_W\\xf1@S\\xaa3.{+\\xdb\\x0e)\\\\dm\\x93\\xcb\\xf4\\x9bEb`\\xb4L\\xb9X_\\x8c\\x96)\\xff\\xa5\\xe7\\xa6\\x89%\\xa8\\xbak\\x11K\\x97\\x1fxE\\xc32\\xd5\\x1e\\xbaY\\xf4\\xba\\xda\\x9d\\xf8\\x8c!\\x97\\xbc\"\\x06\\x8fX\\xa6\\xe9D\\xa3j\\xfd\\xe8\\xc42\\xe5\\xbf\\x94/Ie\\xaa\\xbf\\xfe\\xc5Z\\x9e&\\x13\\xd7\\xd2\\xaeF&]~\\xfc\\x06\\x87\\xad\\xdb\\xcf\\xa1\\x9dE3\\xab-\\x93lgs\\xe1\\xfe1{f}\\x10*\\x12HD2\\riV\\x89\\xc4\\xd4|\\xf9\\x94TL\\xce\\xab\\x93T\\xba\\xfc|,\\xcb\\xd4\\xb8\\xbb\\xebp\\x01\\xed\\xedl;\\xa4,\\xa0lggc\\xac\\xcf\\xa7\\xba@\\xca\\xcf5\\xce\\x01\\xf2\\xd9\\x0b\\xb9\\x98\\\\s19\\x1f\\x9c\\\\\\xba\\xfc\\xf9\\xf2\\xfdI\\x83\\xe5\\xd0\\xd0\\xa2\\xeb\\xd56X\\xfa\\x90\\xcb\\x02J%\\xd9\\xc7h\\x9f\\xf5\\x8d\\x8e\\xa6U\\xb0t\\xdbY\\xa9\\x84bj:\\x95d\\xac\\x98\\x9a\\x89\\x92I\\x97\\x1f\\xdf\\xcb\\xe2=\\x9e\\xdc8\\x8c\\x95\\xbd\\xa5m\\x87\\xbc\\xc6J.\\xde\\xf3\\x0f/\\x83\\x81K\\xa8\\xcb\\xa0\\x92o\\x8b&\\x16\\x9b]b\\xb1\\xc9\\xf9N\\\\b\\xe9\\xf2\\xfb\\x19n}\\x90XA\\xaf\\xaa\\xa3=\\xa8\\x8d\\x8f{\\xb3D\\xc1?\\xf0\\x03\\xdd\\xfa\\xc6X\\x91A\\xc8\\xb5\\xa3G\\xd6\\xebSvI\\trr$\\x80\\x12\\'\\xebY\\x02\\x82\\xc5e\\xf1\\x8e@2\\xb4p\\x17\\xa1\\x029t\\xb5\\xa3\\xefVw\\x86\\xbc\\x91K\\xbe+\\x81\\x14\\x85Y1\\xf3$b\\xc6S6\\x10\\x04\\x89ki\\xcb%\\x8e\\xd5L\\xb20M\\xb2\\x18Ytm\\xfd\\xda\\xc2\\x07zX\\x9dE\\x87\\xda\\xd9\\x02F\\x1f\\x12\\xa3\\xa3(\\xd9\\xcf\\xe6Y\\x9f\\xb7|l\\xc20?\\x9a\\xb7i\\xd20\\xb9Z1\\xae\\xe6\\xc9D\\xd2\\'?\\x96\\xf7\\x97?\\xd0\\xa3\\xea\\x0c\\t\\xc7o\\x16L\\x1frA\"\\x91\\xcb\\xf8\\x98~3\\xb4\\x1f\\x9c\\'\\x82K\\x8d<\\xe6\\xbc\\xb2\\xa3\\x90\\xcbU\\xfb\\xa9\\xa9>^\\xee\\x96t\\xbd\\x1c\\x9aX4\\xb4\\xda\\xf2\\xe8C.<r\\xe5~\\xf6\\xcdB\\x061\\'i<\\xa6\\t\\r\\xfd\\x17\\x9aF\\x1e\\xa6\\xc9<\\xae\\x16\\xd7\\x92\\x03dt\\x0c\\xf3\\x1aN\\xc5\\x95\\xc6\\xa1wE#\\xab-\\x8d>\\xe4B#\\x9f\\xea\\xcc\\x86Y\\x1f\\xfc\\xca\\x9a\\x12\\xb9f\\xa6\\x03-d219\\xaf\\nb19\\x1f\\x9cX\\xba\\xbc\\xde{\\xd1\\x97\\xeal\\xcd\\xa8{-\\xd2Hv\\xafE\\xcd~\\xb6\\xcb\\xfa\\xbc\\xd36B(\\xd3\\x80\\xbe%\\xbaH\\xc4\\xb4\\xbc-\\x93\\xc8\\x8dL\"]~,o*\\x7f\\xb4\\xbeZ\\x07\\xf5\\xa46~\\x93F\\x8aJ\\xac/\\xdb\\x16\\xfeL#\\xd3]\\xe6ftDbjrp\\x84bj\\xda\\x86\\xc8\\xc4\\xd44\\x97H\\xbaz\\xe3\\xd0\\xd0\\x96\\xea,J\\xd4\\xb6\\x16Q\\x92mkQ\\xb2\\x9f\\xed\\xb2\\xb0vr&\\xe9\\xce\\x12\\xe5\\xb7\\xf4\\xa5\\x08\\xc4\\xd4z\\xdd\\x98\\x9c&\\x93HWC\\xfa\\xd2drhY\\xd1\\xc6j\\x9bL\\xfa\\x90K2\\x91\\x1d\\x961b\\xa63W|\\x18$72\\xa1\\x98\\\\/\\x9d \\xcb\\x19%\\xa1t\\xf5\\x19\\xee\\x95\\x12*hKu\\x14&m\\xfc\\xfd\\xca\\x19C.T$\\x14@e\\xf4\\xc3*+\\xb1AK\\xe9\\x17HL\\xc6y\\xb2fg\\xac\\x1c\\x93\\xc3\\xc6\\xd2\\xd6+\\x80Lm\\xf9r\\xad\\x07\\x9aR\\x9d\\x01\\xe9v\\xb4\\x9b\\xbf\\xda\\xb1\\xb6C^\\xcfl\\x8ab\\xfd\\xec\\x94\\xf5y\\xcb~\\x84\\x18q-?\\xe5D fKs\\x84\\x11\\x88\\xc99B\\x86\\xf6\\\\\\x9f\\xff\\xa2\\x1d\\xd5\\x19\\x90\\xbdkm\\x87\\x14 b\\x1f\\x18!f=\\x0b \\xa6\\xc9W\"\\r\\xd3\\xaaK9\\xaeVW\\x87\\x87\\x8a2\\x89\\xe5.]0\\x88\\xeb\\x83;a\\x1f\\xe8]\\xb5K#cH\\\\0\\xe1\\x14sn5\\xb3E\\xd6\\'\\xbc\\xeb\\xabi\\x8c\\x8f\\xe9Jq\\xfeW\\x001U\\xce\\x93\\x18\\x1b\\xa6\\xc9\\x0f\\xc0\\xc5\\xd2\\xb5\\xe7\\xba\\x16\\x8dNTg0\\xf6v\\xb5\\x1dRbC\\x0c\\x05ccZK\\xf4\\xa3\\x96/L\\x1cA\\xd5\\xd2#\\x03\\xc4\\xe4\\xbc\\x9a\\x88\\xc4d\\xd9\\xef\\x89\\xa4k\\xcfe[\\x87\\x07:Q\\x9d!\\xd9{\\xd6vHA\"K\\x82H\\xccV\\xe6\\x02;\\x99\\x98\\x9cN\\xe4\\x88\\xc4\\xd4\\xb4*H\\xc4\\xd4D\\x9bL\\x86\\xfa\\x1d\\xde\\x98\\xa1\\x8b\\xe6\\xd0\\xb2\\xa2\\x81\\xd5v\\xd1d\\xcb\\xaa{\\x01\\xa1t\\xeb\\xd8\\xeaAE\\x9c\\x04\\xb5\\x8a\\x93iK\\xcb\\x96\\xd4\\xe1\\xd8\\xb2\\xac\\xc8\\xa4O}>\\x7f<v\\x95\\xc9a\\xb95\\xb5\\xe0\\xf2\\x14\\xd5\\xd2\\x00J#c\\xc8%\\x91H\\x0c\\x93\\xc9t\\x96h*\\xad\\xdf\\x9a\\x81br\\xba=\\x80\\x81bj\\xbd\\xd5\\x98,\\x01J&]\\xc3\\xbf~:\\xaeL\\x0eM+zXm\\xe3$\\x9b\\xd6\\xa20?\\x9aa!N\\xfc\\xf7\\xb2\\xe4\\xda\\x9de\\xd6\\x88\\xc3\\xb4|u\\x94\\x0b\\'\\xc8\\x8a\\x9aD\\xba\\x0c\"\\x1eAJ\\xe4\\xd0\\xb5\\xa2\\x7f\\xd5\\x96Hv\\xad\\xc1\\x1f\\xdav\\xd3\\xad\\xe3\\xf7W\\xb8\\x8cbDL\\xcb\\xd7\\x1a\\x08\\xc5\\xe4\\x9c\\x89\\x08\\xc5d)\\xcd\\x91H\\xd7pC\\xdf2F\\xd0\\x8e\\xea(\\xc1\\xb6\\xf1\\xf7\\x8eu\\x0c\\xb9\\xac\\x1bY]X7\\xa3\\x0f\\x16\\xe3 \\xd9N\\xac\\x1b\\x97%\\xf4A\\xc4\\xb5|\\x1b\\x13\\x88\\xb8,\\xd1\\x07\"C[\\xbf\\x16\\xe8\\x81~Tg@\\xf6\\x8e\\xb5\\x1d\\xf2\\xba\\xe3\\x14\\xb5\\xf8\\xd9$\\xeb\\xf3\\x9bN\\xc8\\xc8c\\xbaN\\xa8\\x1a\\xfbDbr\\xbe]\\x87HLN\\xdb\\x15\\xa1t\\x15\\xa5x\\x0f!Y8\\xe8HuFEl\\xab\\x9e< \\xbd\\xb6C^\\xa9\\x14Q2\\xdd\\xa7~g\"Yi\\xe4a\\x9a\\x84\\x0fa\\xac4\\xa2\\xe8ZxW\\x9c\\x82\\xa0\\x01=\\xa8\\x8d\\xa0s\\xd5%\\x83T \\xfa\\x90\\xb8^\\xf2\\xbd\\xf3\\xb8\\xafc\\\\\\xaa\\xf9\\xcbg\\xae\\x84\\x11deE\\x1e&W\\x8f\\x14\\x049\\xd5\\xa2\\x08\\xa5O^\\xbf_\\xec\\x81fTgT\\xc4\\xb9VT\\xfa\\x90\\x0b\\x151\\xd5\\xcc\"\\xd3]\\xe2z\\xbf\\x1a\\x16R\\t\\xb2\\x18\\x16B15\\xad\\n\\x86\\x89\\xa9R\\x84 \\x91\\xae\\xe1\\xaa\\xf8\\xea\\xc4\\x06\\x9d\\xa8\\xce\\x88\\x88q\\xad\\x88\\xf4!\\x17\"\\x9e\\xd7\\xe7N3[`\\xb1\\xacX\\x111\\xf3)\\xc9\\x91<L\\xcbS\\t$\\xc8\\x1abd\\xd2\\xe5\\xc7\\xb2\\xe5\\xc7\\x03\\xad\\xa8\\xce\\x98\\x88o\\xad\\x98d\\xdfZ\\xdcH?[dU\\xc5\\x80\\xa0%^d2]\\xab\\xd6\\x11\\x08d\\xa5\\x91F\\xd7\\x96\\xaf\\x1fx\\xa0\\x07\\xd5\\x19\\x0c\\xb9?\\xa0\\x82Q\\x14Y%\\xfdq\\xc9LS\\xb9\\x08\\x90 \\x17K&\\xa8\\x1a]$\\x12d\\x99L&]]v\\xfb\\xc0%\\xf2C&bX+&\\xd9\\xb0\\x16\\xb5\\xf8\\xd9\\x1d\\x0b\\x01R\\x9c\\x00GU\\x03\\x9f!\\xd2}\\'joi2\\x91\\xacU\"\\x19\\x96\\xd6\\xd7\\xb1\\xee7\\x87\\x8e\\x15m\\xab\\xb6\\xfbMv\\xac\\xeaJ\\x19&\\xdd;\\xe2[\\xe5;=\\x98YM\\x96\\xecH \\xa6\\x95y5\\xa8J\\x93D\\xba\\x1c\\xca2B\\x04\\x1d\\xa8\\x8e\\x16N\\x1b\\x1f\\x1ck\\x11$c\\xc8%\\xb3\\xba\\x15\\x9a\\x99u\\xb4\\xbej\\xb7\\x05h\\xec\\x83H\\x94\\xf5{\\x01\\x8a\\xcb\\xf9v\\x08\\x84\\xc9\\x9d\\x0c*C\\x0e\\x17\\x01\\x94\\xca\\xa1mE\\xc7\\xaa]\\x9c\\x8c!\\x17*\\xf2c#Nf\\xeb\\xab\\xcf\\xa7\\xf4\\xf1w2\\xa9Lc\\x9aKm\\x84\\x12TEJ(]\\xbey\\xf8\\x04}\\xa8\\xcebeo[\\xdb!\\xaf\\xb65\\x947-V\\xa6\\xc7\\xc4\\x93\\x16U\\xac\\x04Y\\xf2$\\xa1\\xb8j\\xf6\\xa2\\x1d\\x98HV\\x1ayt-<\\x11\\xa8A\\x82\\xdf\\xf2\\xc4\\xbc\\xa2e\\xd56H\\xfa\\x90\\x18$E5~\\xb6\\xc6\\xfa\\xa0HR\\xe1\\x98\\xee\\xb4\\xa8\\xa1\\x90\\x87\\xcb\\x99\\xc7J#\\x8f\\xe1[\\x97\\xef\\x80}\\xa0\\xff\\xd4\\x19\\x90\\xbdom\\x87\\xbc\\xc6Gq\\xe7\\xfc\\xec\\x8bE \\x1a\\xd9\\xcc%\\xd3{~\\xf29?\\x81\\x98\\\\\\xed8\\xae\\xe6\\xc9\\xa42\\xbckhl\\xa5ar\\xe8]\\xd1\\xb9j\\x1b&\\xd9\\xbb\\x86\\x9a\\x84\\xad\\x9an!Q\\x13\\x90EA$\\xae%bDbr\\x06\\xcaecr*\\xc3\\x11IWo.\\x89\\xa3\\x0b\\xd5Y\\xa0\\xec\\xadk;\\xa4\\x04\\x8axr\\xa6\\xd7\\xe1#\\xbf\\xf0\\xd2\\x81*P\\xa6\\xfc\\xfd\\x95\\x16\\x16\\xa9L\\xb9\\x98M*&\\xe7\\xa2\\x02\\xb1t\\x19\\xf7Px\\xd9SC\\xe5\\xd0\\xc5\\xa2s\\xd56T\\xb2\\x8b\\r\\xaf\\xfb\\xb6P\\x19^\\xf2\\x0bm\\x97+.&\\xbb\\xb3jS\\t\\xc5\\xb4<\\x95PL\\x96\\xa9$\\xd2\\xb5\\xd7\\xcd}\\xbfhFu\\x16){\\x0f\\xdb\\x0e)\\x91\"\\x0b\\x84\\x912\\xacd,\\xf6\\xb5\\xaf\\xcc\\xc5\\xb3\\xd2\\x88cj\\x8f|\\nM\\x1c72\\x89\\x0c\\xf9yc\\xd8\\x0e-,zXmc$[\\xd8\\xdc9\\xf61\\x9aa}\\x7f\\xa1\\xc1R\\x15#\\xddiB\\xce_\\x9c\\\\LN\\x97i\\x88\\xc5\\xd4\\xe4qI\\xa5\\xab\\xcf\\xdf\\xf5\\x85`4\\xa6:\\x8a\\x936\\xfe\\xde\\xc6\\x8e!\\x97\\xbd8\\xdb\\xd8\\xd1\\x11\\x0b\\xa5\\xe8\\xd2\\x9a\\xb8\\x9c/\\xe7\\x81\\x8a\\xcbe!\\xc9\\xe5<\\x1b\\\\\\x86\\xfc\\xf8]{\\x14\\xb4\\xa6:\\xe3\\xb27\\xb2\\xed\\x90\\xb2~\\xb2\\x91\\x9d-\\xb3>\\xef|\\xf1\\x01K\\xc8\\xe5\\x8c\\x8d\\\\\\xa6U\\xd5{l\\x11+AKI\\x9aP\\x86\\x8d}\\x07g$i\\x16\\x8d\\xa9\\xce\\xa0\\xec}l;\\xa4@\\xc9\\xf5\\xd7\\xd1\\x11\\x0b;\\xb2\\x14\\x12H\\xa4\\xdb\\xcd\\xac\\x11\\x87i\\xe9y\\x14\\x0215\\xa7\\xd8\\xa1=o^\\xd6\\x81\\x96Tg4\\xbaG\\xed\\x98qSIq\\x06\\xd8\\x0ey\\xa5Q\\x94\\xe8g\\x9f\\xacO\\xfd\\xa4\\xf0\\x90\\x01\\xc4\\xcb\\x82s\\xd3\\xb9\\x9bJ\"\\xdd\\xaabj\\xde\\x93\\x18\"]\\xfe\\xf9\\xfe]^\\xdaBg\\xaa3(je\\xe53\\xa3B\\xdf\\x0ey\\x85RD\\x88y\\xd1\\xec6\\x19$&\\xbb\\x870&\\xa6\\xe5\\xb3\\x0221Y\\xa6\\x12H\\xd7\\x1e\\xeb\\xfb:\\xd1\\x96\\xea\\x8c\\x87\\x9a\\xd8\\x82G6\\xb1E\\xa1~\\xf6\\xcaB\\x01\\xf6z\\xb6B\\x1a\\xddh\\xa2\\xa8R\\'\\x11\\x93\\xe5\\x8f\\x93\\x86kZ\\xa2\"\\x8f\\xa1\\xaekk\\xe8Ju\\xc6C\\x1d\\xac|$\\xc6G\\x1f\\x12\\xf7\\x9b\\xe2v\\xf9\\xd9-\\x8b\\x85$q-$\\xd2=&\\x88\\xe4\\xbb\\xcf\\x98GLN\\x93\\xc9\\xc4\\xd4<\\x99P\\xba\\xfc\\x13\\xda;i^=\\xb4\\xaf\\xe8eu\\xb5&\\x05\\x94l_\\xc3{TZ\\xe8\\xc3\\xac\\xcd\\x96Y\\xcc$\\x05\\x94a3\\xf1\\x08\\xd75\\x84H\\xc4\\xb4t&C\"AU\\xcbC\"]F\\xa5\\xc0\\x8e\\xabD\\x0e\\xed+:]m\\x89\\xf4!\\x970\\xc9\\':\\xb3e\\xd6\\x07\\xa7\\xbc\\x05\\x91n3Q{\\xcbY\\x86P\\\\\\xb6/\\xd6P\\x13\\x89k\\xe5\\xee\\xdbe<\\xbaf3\\x15\\xc9\\xa1\\x7fE/\\xab-\\x92\\xec_C\\x90Z\\x90t\\x17\\x89\\xb5\\x91\\xef\\xe0\\xe5\\xd219]0&\\x12S\\xf3dR19Mf\\x9ct\\xf5\\xc77}a\\x82\\xeeTG\\xd9\\xa4\\x8d\\x8f\\xee5/\\x9c1\\xe4\\x12&\\x12\\x08X8\\xa3-\\x166\\xca*L\\\\M\\xcb\\nH\\\\-k\\x04w2\\x98Ly\\xbd\\xe5\\xa0=\\xd5\\x19\\x14\\xb5\\xae\\x05\\x94>\\xe4\\x02EvCB\\x19\\xd6\\xe6\\xeb+?\\xee\\x8d@q\\xb9\\xbc\\xc1\\xc4\\xe5<\\x1b\\x91\\xe2\\xb2\\xaf\\x90\\x16\\xa1d\\xd2\\xff0\\x1e>Y-\\x1e4\\xa7:c\\xa2\\xce\\xb5`\\xd2\\x87\\\\\\x98\\xc8G#\\x93\\xe91\\xf5r\\x0f\\x81\\xac4\\x06\\x89i\\xe9R8a\\xacU\\xe2\\xe8\\xea\\xeb\\xe5q\\xab\\xeb\\x06\\x9f\\xfa\\xa4\\x02\\x8b>V\\xbb\\\\2\\x86\\\\p\\xe4\\xb3\\x9b\\xd1\\x10\\x0b\\xeb&m\\xa4\\x04b\\xf6Sf\\x12\\x88i\\x02\\x998\\\\\\xd3\\xa4M\\x1c]\\xc5mH\\xcb\\xe884\\xad\\xe8a\\xb5\\xc5\\xd1\\x87\\\\p\\xf8\\xdf\\x9f\\xa9u4\\xc3Z\\xe1\\xe8\\xee\\x12jY\\x19\\xf0\\xc9\\xb9\\xae@(6;\\x97\\xecH\\xa5\\xcb\\xcf\\xe5[\\xd8\\x1f\\xe8[u\\x16${\\xeb\\xda\\x0ey\\xb5\\xf2E\\x99~4\\xccj\\xc95\\x9c\\x8c6h\\x8c\\x92n2!K\\nb\\x94\\x98\\x96O\\xfc\\xc9$\\xc8\\xbe8,\\x8dt\\x15oX[\\x06\\xca\\xa1{E\\x1b\\xabm\\xa0d\\xf7Z\\x14\\xeag\\xb7\\xac\\xcfGV\\x06yL\\xfbY\\xdc\\xd1J$&\\xe7\\xb4K$&\\xe7\\r\\x9aa\\xd2e\\x98\\xd8%\\x93C\\xf3\\xda\\x1awm\\xf6\\xe0l^\\x8b2\\xfd\\xe8\\x96\\x858\\x90\\xe4L&\\xddaR\\xd3\\x8c@$\\xa6Ve\\x01W\\xe5\\xb8\\xc4\\xd1g\\xde\\xdc*\\x8e\\xa6Tg\\xabf\\xef\\\\\\xdb!e\\xd5x\\x88Z.\\x99\\x06\\xf3\\x9dC\\x9fDL\\xf6_\\xb2M%\\x0f\\xd3|\\x03m\\x1a\\xe3\\xc3\\xb4b\\xc1t->\\x14\\xa6\\x1b\\xcd\\xa1iE\\xef\\xaa\\xed\\x82\\xc9\\xa65\\xec\\xfbFc\\x1a\\xcb\\xf0|a\\xd3\\x88\\xc2\\xb5T\\x90%\\r\\x93\\xeb\\x05c\\xb2,E\\x86G\\xd7p\\xdb\\x8d\\xc3\\x12\"hEu\\x14\\x1fm\\xfc\\xfdr\\x19C\\xe2^\\xa3i\\x13Nd\\xf6\\xc0\\xc2{m\\xd3\\xb7\\x06\\x14\\x93\\xcbW\\xb7\\x98\\x1a\\xdeO:#\\xc4\\xb5\\xf2\\xf2\\xcd\\x90q\\xb2\\xb7<\\xdbC+\\xaa3&{\\xc7\\xda\\x0e)kF\\x02\\x9fL\\xbaq\\xc4\\xa9\\x8d,u\\x02q-\\xf1B\\x94\\x98\\x9c\\xdf\\xeb\\x82U\\x13\\xd5\\xe2\\x04x\\xc8x\\x83\\x98{\\x02\\x8d\\x93C\\xc7\\x8a\\xbeU\\xbb\\x953\\x86\\\\\\xe2D\\xcc\\x14\\x99\\x0c\\xf7X\\x15\\x87\\x88%\\xc8\\xfa\\xcd\\x88\\xc5\\xe4\\\\A$\\x17\\x93s\\xdd\\x1e\\xebg\\xc8\\x88\\x15\\xff\\\\\\xca\\x05\\x1f\\xff\\xc4\\xba\\xa2w\\xd5\\x96K\\x1fr\\xe1\"k\\x9b\\\\\\xba\\x8d|\\xe1\\xad\\xd1\\xb6\\x15\\xce\\x8c\\xe2Z\\xe9\\xd4\\\\.Om\\\\\\x96#\\x93\\xc80\\xaf\\xdf\\xe1\\xee\\x0e%r\\xe8^\\xd1\\xbbjK$\\xbb\\xd7\\xfc&\\xfa\\xc7\\xec\\x9f\\xc5\\xd7\\x8b{\\xbe3&\\xdd`\\xbe>\\xa1]e\\xd3\\x18%\\xa6\\xe5\\x97\\xad1JL\\x96%K \\xc3\\xb7\\xa2W\\x81\\xfd\\x0c\\n\\xe4\\xd0\\xb8\\xa2u\\xd5\\x16H\\x1f\\x12C\\xa4(\\xcc\\xcf\\x1eX\\xf5\\xbd\\xf3\\xa6\\x86\\x1bA\\x0cH\\xb7\\x9e\\x08\\xae\\xd2\\xcb\\xdb\\xd4|S>\\x91L\\xdf\\xfa\\x1d\\xde\\xe5\\xa0L\\x0e\\x9d+\\x1aW]\\x99x\\xf2n\\x9f\\x19u\\xd71$2\\xf1l\\xd6\\x06q\\xd5L{\\xf9\\x97\\xbf\\x18\\xb3\\xc9\\x8d\\xcc8\\t\\xb2ni\\x8c\\x93 k.\"\\x97.\\x873\\x0c\\x85rh]Gc\\xadQ\\xe6\\xc0\\x15\\x9c\\x02J\\xb6\\xaeEq~\\xb6\\xc8\\xc2\\xdaH\\xc5@R\\xe9.\\x13K\\'\\xbdD\\x80PL\\xcd\\x93\\t%\\xc8\\x15\\x94!\\xaf\\x0b\\x8dhFu\\x96a\\xd5\\xc1\\x16T\\xfa\\x90\\x18*E\\x89~6\\xc9\\xfa\\xe0\\xd9\\x02\\xfd\\xe4\\xa42\\x9d\\xe8\\x9f\\x98_21\\xad*\\x97\\xb8*3\\x19$}\\xe6\\xfa\\xd9O4\\xa1:\\xc3\\xa1\\x16\\xb6\\xc0\\x91-lQ\\x9c\\x9f\\xcd\\xb1\\x88C\\x83\\x9f8\\xcc\\x87f\\x99DLNg@\\x0c\\x92\\xa0*jB\\xe9\\xf2\\xdb\\xf7#Y9\\xe8Cu\\x04\\xa5\\x8d\\x8f.6C\\x19C.1\"?\\x17\\xf2\\xc9h\\x80\\x85\\xa5Q\\xc6\\xc8\\x9d\\x0c(QV\\xa4\\xa0\\x12e\\xd9\\xd0\\x00e\\xa8xxk\\xb5\\xf1\\xa0\\r\\xd5\\x19\\x15\\xf5\\xb1\\x05\\x95>\\xe4BEN\\xd2HezU\\x98w\\xfd9\\x11*w2\\xa9\\xcc\\xd9\\xc5C]\\xa42\\xe5\\xf0@cK\\xefd\\xd2\\xb5\\x9b\\xca+\\xfaP\\x9d1Q\\x1f[0\\xe9C.L\\xe4\\xe7\"\\x93i5\\xff\\xb2\\xc7 \\x13\\x93\\x93y!\\x12S\\xab\\xd7\\r\\xdc\\xa8d\\xd2\\xe7\\xe2!\\xaee\\x9c\\xe0\\xa3\\x9fxX\\xb4\\xad\\xdam\\xc6c\\xc8\\x85\\x89\\x1b\\xa4\\xb9\\x1b[{\\xacwy\\x97\\xb4\\xcb\\x82\\x93D\\xa6\\xfd-\\xa62HLN8\\x89\\xa4\\xab\\xe8\\x1c\\xb4Drhb\\xd1\\xb1j\\x8b$\\x9b\\xd8\\xb0\\xe9\\x19\\x92\\xe95\\x8b\\xef\\xc5019\\xdf\\x1c@*&g\\xa0\\xa4\\x12d]\\x97\\xc4\\xd2e\\xd4b\\x97X\\x0e\\xad,\\xfaVm\\xb1d+\\x1b\\xde\\x86oX\\xa6!\\xad\\x1d\\x8a\\xf5\\xce*db\\xb1\\xd9\\x12\\x83d\\xb2\\xd2\\x08d8\\xd9\\xf0\\xf0\\x94n<\\x87>V\\xdbn\\x15\\x96m\\x0c\\xb9,\\x9dld\\xadq\\x16\\xba\\xa0\\xc8\\xea`\\x98L\\'Zt6\\'\\x0f\\x93\\xd3d\\x121U\\xaa\\x10$\\xd25\\xdcD\\xbe\\x0c\\x91C\\x13\\x8b\\x86U\\xdb\\x10\\xc9&6\\x98h\\x0b\\x91i4\\xbfKko}\\xb3\\n\\x99Hlv\\xba\\x82J$k\\x95P\\x86\\x1a\\xce,5L\\x0e=,\\xbaUm\\xa1d\\x0f[\\x14\\xea\\xad\\xed\\xd5w\\xbeC\\x80q2}\\xea\\x02\\x8a\\xc9y6\\xa9\\x98\\x9c\\x89\\x13\\xcb\\x90\\xbf=z\\x15\\xcb\\xa1\\x97E\\xc7\\xaa-\\x96\\xeceC\\xa1\\xcfbe\\xfa\\xcdpM\\xb2id\\xb2\\xd2\\x18%\\xa6\\xd5\\xf9\\xf5F&\\x90!\\x87\\xdf\\xe9\\n\\xe4y\\xd8p\\xab\\x8f\\xbf\\xf5\\xb1sHL\\'\\xf9e\\xf4\\x1c\\xd5_y\\xab\\xcf\\xbc\\xfd\\x1b\\xef_u-\\xb9\\xb9\\xffD\\xb9X9ar\\x0e\\xa1\\xff\\xda\\xe4\\xdfp\\xfa\\xa5H\\xceL,^2\\xb5\\x8b\\x919\\xe4\\x82\\xc4\\xb7\\xbc\\x11#\\x1c5\\x90\\xf8i\\xc7\\x88\\x91\\xa8i\\xf6%\\x11\\x9b\\x99/}\\xfc_\\x94e7\"\\x8f9\\xf5\\xe5\\xb9W\\x81\\x9c9\\xd8\\'\\xfaVm\\x16\\xcd\\x1cr\\x01\"\\x9b\\xca\\xbf\\xf0\\xd9\\xa6\\t\\xc5-\\xf1\\xea\\x1e\\x18&&\\xe7\\xdb\\xce\\x08\\xc5\\xe4|\\xfd\\x97PLvO\\xd6h\\x13J\\xd7\\xf0vd\\xff%\\x14\\n>\\xfb\\x81\\x85}\\xa2k\\xd5\\x16J\\x1fr\\x81\"?\\x18\\xa1L\\xa3\\xf9]\\xdd\\x1f\\x1d\\xe4|s\\r\\xa1\\xdc\\xcc&\\x14\\x93%<\\teh\\xf1\\xa9 \\x85rfb\\x9fh[\\xb5\\x85\\x92Ml\\xa8\\x8d\\xdb\\xd2\\x99>\\xf3\\'\\xbbTF\\x8a\\xc9Uy:\\xc8y6\\xa1\\xd8\\xec\\x94o\\x88\\xa5\\xab?\\xafpeH\\xb1\\x9c\\x99X<H\\xb9\\xc7\\x92Ml~\\xdd\\r\\x0f\\xd43\\xcaO\\xce\\x0b\\xc4br.\\xcb3VL\\xce\\xa1D,72\\xb9t\\xf9\\xfd\\xf2HR,gV\\xf6\\x89\\xdeU\\xdbh\\xe9C.K\\xc8\\xcd\\x80E\\xcb\\xf4\\x9b\\xf0(\\x92uHe\\xad\\x12\\x8a\\xa9\\xfe\\xbd\\xdaqI\\xc4\\xb5T\\xb0\"\\x91.\\xff\\xfe\\xae\\xac\\xec\\x13\\x8d\\xa8\\xce\\x92\\xca\\xd6\\xca\\xf6C^\\xaf\\x03\\xe6\\xc2=G\\x8d@\\xa9\\x93\\x8a\\xc9\\xd9w\\x91\\x89\\xc9\\x85\\xbb\\x0fj\\xbd!\\xf7\\xc9\\x9f\\xd7\\xf2\\x9c\\xe7\\x89fTgX\\xd4\\xcc:\\xf0\\xf6S\\xfd\\x83\\x8f\\x9c\\xcdl\\x11\\'\\xd3n\\xfeT\\x15\\x14\\x1ec@\\xcbi\\x83TL\\x96?\\xcfHqM#\\x90\\x81\\xd2U<\\x0f\\xb98\\xe7y\\xb6fZ\\xff\\xfb\\xebo\\xfa\\xf8h\\xdb\\xe4#\\x91H\\xf6\\xb1\\xb9p\\xcfQ\\xe3;\\xe7L\\xca\\xb5cr\\xba\\x9d\\x95DL\\xcd\\x93\\t\\xc5\\xe4\\xbc\\x9f\\x93J\\x97\\xd7w\\xe2<\\xd1\\x8f\\xea(N\\xda\\xf8{*cHL(\\xc19\\xce\\x842\\x1aa\\xbd>?\\xc5]}\\xfcX\\x83YR\\x01%\\xa8\\xf6k\\xcf\\x84\\x12\\xb4\"L\\x86\\xfa\\xe7\\x1eA\\x12,zQ\\x9d\\xf1P\\'\\x9b\\xa3\\xa4\\x1d\\xf2\\x9aNr\\xe5\\xfei\\r\\xb2~\\xd2\\xfd\\xbf\\x08\\x92\\x1b\\x95<\\xa6!\\rO\\xbb\\x1a\\x8f\\x95\\x86\\xf0\\x18\\xf3\\x96O^<\\xd1\\x84\\xea\\x8c\\x86\\xda\\xd8\\x82F\\x1fr\\x89\\x0e\\x19\\x05\\xc7f\\xcd\\xb1~J\\x1b\\xeb\\xb2d \\xc2\\x98&\\x15S=\\x19\\x18\\x8e\\xb5J \\xc3\\xc4.\\xcb\\xf5O\\xf4\\x9f:#\\xc2\\xf1\\x9b\\xf5\\xd2\\x87\\\\\\x88\\xc8FI\"\\xd3f\\xc2\\xae\\x15\\xc6\\xde\\xe5l[\\x08\\xe5f6\\xd2\\x88\\xcbB\\x8cL\\xc6T\\xffH\\xbad\\x0e\\x1d,zUm\\x91d\\x07\\xab\\xf7B\\x13\\x89\\x99\\xcct\\x01\\x8fK\\xc6T\\t/\\xe20-\\xcd$\\x8d\\xb5J\\x1e]\\xc5;\\x1b-\\xf7(\\x90C\\xef\\x8aFU[ \\xd9\\xbbj\\x11\\x80@\\xcc^\\xfa\\x89i\\x0b|\\xe2p-\\x19-\\x121\\xd9\\xafT\\xd9\\x9a1-;\\x1d\\x02\\xe9\\xf2\\xfa^\\xe9\\'zN\\x9d-\\x1au\\xad\\xf2\\x0b\\xfe\\x83?\\x9a]k8\\xf1l\\x9f\\x9c@\\xa6\\xbb\\xfcI\\xbf3\\x91\\x98*\\xc7\\'\\x0f\\xd3\\x8aK\\xa1w*\\x81\\xf4\\xb9\\xb8$\\xba\\x8c\\x90C\\xd3\\x8a\\xe6T\\xdb\\x08\\xe9C.Y\\xc4\\xff\\xbe\\x011\\xdbY\\xd9x\\xeb\\xa0\\x85\\xd4\\xa9\\x97:\\xc9d=\\x99\\xab\\xc6T\\xf9\\xb3$\\xd2\\xb5\\xf7\\xef\\xea\\xf2\\xd6\\x13\\xad\\xa6\\xceBd\\xefW\\xdb!e\\xdf\\x95\\xed\\x82!2m\\xe5or\\x1a\\x0c\\x91\\xb5J \\xa6\\xba\\x9f\\xb0E\\xe3ZbI\"]\\x0e\\xf7\\x10j\\x129+\\xbb\\xe2E\\xe5\\xfb\\x10\\xc9v5\\x97\\xe8y\\xa0n\\xbd\\xd0\\xa6\\xb0\\xdahL\\x96\\x1cC\\x1e\\xa6\\x15I\\xc4\\xb5tX\\xf2\\xe82\\x1e\\x17^\\xad\\x19\\xb4\\x98:\\x8a\\x906\\xfe~\\xe7\\x1dC\\xe2\\x9a\\te\\xdf\\xb9fFo+\\xdc\\xf0)\\xdf\\n\\xf1\\x11\\xb4\\xf4+\\x03\\x88\\xc9\\xb8)GYb\\xc9\\xb8\\\\\\xba\\xf7!\\xe3J\\xe8\\x92\\xc9\\xa1[Ek\\xaa]\\x1e\\x19C.L|\\xd5\\x1a\\x93\\xe9*\\x8b\\xa7\\x81\\x89\\xc5d\\xff\\xe8m*\\x99\\x98VeVWe&bdj\\xe1lB\\x16\\r\\xfaL\\x9d\\xc5\\xc8\\xde\\xaf\\xb6C^\\xb3HQ\\x9a\\xb7\\xfeW\\xa1\\xedH\\xfb\\xc2\\x841-g\\xd1\\x93\\x8d<L\\xce\\xef\\xc1a\\x8c\\x98\\x9cp\\x11IW\\xffB!K\\x91\\xe0\\x97<)\\xba\\xb6F\\\\\\x9be\\xc3C\\n\\x12w\\x87\\x16\"\\xd3r\\x96w\\xdd<\\xad\\x7f\\x16n\\xb5(\\xf6\\x1a\\x93\\xc3;9\\xdb\\x91\\x89\\xc4\\x8e\\x9c\\x89\\x91\\xc9\\x90\\xf1\\xbf\\xe5\\xba9\\xb4\\xac\\xe8P\\xb5]7\\xd9\\xb2\\xea\\xd7\\xc2nc\\x9d\\xb0\\xca\\xb3<W\\xcb\\xfd\\xd7\\xe5\\xbc\\xdd\\xb8\\x96\\xa7\\x92\\xc9\\xb0\\xb4\\x8f\\xf0\\xdc\\x8b\\x06\\xca\\xa1kE{\\xaa-\\x93\\xecZ\\xf3\\xbbn\\xf0j\\xfc\\xb1\\xe1\\xfcV\\xb7g\\x05\\xb9,\\x19\\xc5\\xd9\\n\\x9c\\xb1b\\x07\\x97\\x08%\\x94a\\\\\\xff\\x96\\x17\\xca\\x9f\\xe88u\\xb6z\\xf6\\xce\\xb5\\x1dRV\\x8f_2\\xb1\\xd5c\\xfe3\\xc78s\\x8a\\xc9\\xf9\\x9ex\\xe6\\x94)\\x7f\\xe7\\x8d\\x85P\\xa6\\xfc\\x93\\x8a\\x8f\\xc4\\xd2UT\\xa3\\xdd-i\\xac\\x1c\\xfaWt\\xa9\\xda\\xc6J\\xf6\\xaf!\\xa9\\x19\\x163\\x99\\xc5^lZ\\xca\\x94D2U \\xa9\\xb6\\xe2)\\xff\\x94\\xe78c6\\xca\\x8b\\x1eF\\xca\\xe4\\xd0\\xc1\\xb6\\xbe\\\\\\x9bD\\x9b+\\xae\\xf9\\x96z\\xf4t\\x9a\\xb521\\xde\\x8c\\x93\\xa9\\xe1\\x0e\\x14\\xfd\\xd6\\x842e\\x14\\xe1Tf\\x9c\\x98\\xec\\x91\\xd0~\\tFI\\xd7p\\x87\\xa3kJ\\xe4\\xd0\\xc2\\xa2I\\xd56J\\xb2\\x85-J\\xf3\\xd6*\\xeb/\\xff\\x98\\x842\\xad\\xe8_Y+1\\xb9\\xdazlj\\xde\\xb5\\x08e\\xb8\\xd8\\xef\\xe7\\xb7\\xa7h\\xa1\\x82\\xceSG)\\xa5\\x8d\\x8fq\\xe2Gn\\xbf\\x05N\\x86\\xc7\\x90\\xe8\\xd9\\xfcG\\x99Kgv\\xbc\\xe2\\x83\\x06\\x9a(\\x01%\\xcaR\\x04B\\xa0\\xb8Z\\x1aY\\x97S\\r\\x1bT\\xa6\\xea\\x8eN\\x91\\x1c\\xdaX\\xf4\\xaa\\xba\\x06J\\x81\\xa4\\x0f\\x89H\\x8a\\xd2\\xbc5\\xc4\\xc2\\xd6#_\\x9aH\\xa6S\\xfd\\xcd\\xd72\\xc8\\xc4\\xe44\\x19k\\xc7\\xd5t7(\\x91\\xf4\\xb97\\x97+\\xd0\\x80\\xea,L\\xd4\\xca\\x16L\\xfa\\x90\\x0b\\x139\\x89\\x83E\\xb1\\xbeXu\\xe9\\xd5\\xe4\\xf0>\\xa7\\x16b$2\\xbdjQ? \\x12\\x93s\\n&\\x93!/\\x9b\\xa2>\\xd1\\x87\\xea\\x8c\\t\\xc7o\\x96N\\x1fra\\xe2\\xb6\\xd1\\xd6\\xcet\\x9cE\\x1ae\\xa0\\x98,8\\xc9\\xc44\\xd9\\xb1\\x08\\xc4\\xb5\\xb4$\\t\\xa4\\xcbx\\x19\\xc1\\xca\\xc7\\xa2\\x0b\\xd5\\x19\\x10\\xf5\\xb1E\\x90d\\x1f\\x1b\\xae2\\x1a\\x90Y\"\\r\\x15\\x9d\\xa6\\x91\\x86k\\xba\\xa8\\xc8\\xc3U\\xfbVm&y\\xb8V\\xf2\\xe8rx\\x96N\\xf3\\xc8\\xa1\\x85E\\xc3\\xaam|d\\x0b\\x9b_w\\xf3\\x9c\\x9d\\xaf>\\xc8\\x14Un5\\x13\\x9ae\"1\\xb9L$k\\x951\\xd2\\xd5\\xe5\\xa3(\\xcf\\xd6A\\xeb\\xe0\\xb2\\xa7v\\xdc\\n\\x8f\\xcc\\xb5\\x9f\\x89\\xdbMQ{\\x95\\xec\\xc9<2Mfm\\xeb]N\\xf9\\x91H\\xc2d94\\xe3\\xc4\\xd44\\x97H\\x86\\x7f]>\\xd8\\xf6D\\x03\\xaa\\xb3e\\xa3\\xf6\\xb5X6\\xd9\\xbe\\x16\\x05zk\\x9a\\xf5\\x93\\xad\\x9ak\\xb2w\\x13\\x87\\xb9\\xd3\\xea\\xf1\\xad \\xa7K^\\xe4\\xd1\\'?CiB\\xd7\\xcd\\xa1uE\\xbb\\xaa\\xed\\xba\\xc9\\xd6\\xb5\\xa8\\xcf\\x8f\\xbeW\\xb8\\x08\\x9c\\x9d\\x183\\x89\\xf9\\xcfT\\xad&\\x14S\\xf3\\x89!\\x83$\\xc8\\x12B\\x84\\xd2\\xd5\\xf0\\xcaKerh^\\xb5\\xdfV\\xb5n\\xb2y\\r\\x97\\x08,\\xb5N\\x8bY\\xdfA1\\x1ac5d\\xf2\\xb5\\xc8$L\\x16\\x95HL\\xcd\\xb8\\xc9\\xa4\\xcb\\xcf`\\x94\\x04\\nzP\\x1d-\\x9c6\\xfe~\\x03\\x1eC.\\x1b\\xb0,\\x00$\\x93\\xd1\\xfc\\n\\xdf:[1\\x04\\xca\\x9d\\x0c*.\\xe7\\n\\x03\\xb0\\xdc\\xc9\\xc02\\xe4\\xf5\\xb6\\x83&TgT\\xf6\\xf6\\xb5\\x1dR\\x8a\\x04\\xe2\\x1fHe:\\xd0P\\xc0\\x98\\xbbp\\xd0\\xd2\\x96D$6\\xb5Fr#\\x13I\\x97\\xd7\\xc5z4\\xa3:C\\xb2w\\xaf\\xed\\x90\\x82D\\xec\\x16\\x91\\x98\\xc7,\\xeb&.\\xe73CR\\xf1\\xd9\\xc9\\x9c\\xb8&\\x7f\\x95<\\xfa\\xbc\\xf5\\x8e\\x83>Tg<\\xba-\\xed\\x98\\xf9\\xde\\xd7\\xbc\\xe3\\xb4C\\n\\x8f\\xec\\\\\\xad{\\xd6b\\xe1L\\x07Z\\xdc\\x04J\\x1e&\\xa7\\x8d\\x96\\xeb\\xc6T/\\x8a\\xb4\\xf0#\\x91\\xae\\xadKH\\xe8CuFdo]\\xdb!\\x85\\x88[\\xe7\\x99_\\xad9\\x16\\x1e\\xbb)\\xbcZ\\x94%\\x83\\x12\\x889\\xd4\\x1c^$br>6\\xa1t\\xf9f\\'F\\'\\xaa3*{\\x07\\xdb\\x0e)T\\xe4\\xf7\\xe2\\xba1\\x97)\\x1a\\xb3\\xabk\\xa9JD&&\\x0bl\\x021-\\xef\\xd1\\x04\\xd2e\\x9c\\x0e\\xfbT\\xddr\\x0e+\\xb0\\xe8^\\xb5\\xf3&cH\\xdcr4\\x10Hd\\x9a\\xcc\\xa2`H(SF\\xc1\\xb0\\x88\\x93\\xa9b\\xb2\\xa8\\xa42\\xd5\\x9f\"\\x95t\\r\\x17\\x88\\xdd\"*\\x92C\\xfb\\xda\\xfaumv\\xe1l_\\x8bJ\\xbd\\xf5\\xc8\\xfa\\xce\\x8f\\x8f\\x13\\xc9t\\xa9\\xb8GX\\x812NL\\xce\\xb3\\t\\xc5d\\x89@\\xc6\\xc9\\xd0^\\xcb\\xa7\\xb7\\x9ehGu\\xb6r\\xf6\\x1e\\xb6\\x1dRVN\\xae\\xd4[\\x97\\xacE\\x9c\\x98\\r-\\xe3d\\xaa\\xc5d2\\x99r\\x0e2R\\xe9\\xea#\\xf6\\xaa\\xd5P9t\\xb1ha\\xb5]=\\xd9\\xc5\\x16\\x85zk\\xa4\\xb5\\xc8\\xb2\\xd3\\x89B\\x96\\xf5\\xc1H\\x99\\xeaO.U\\x92J\\x90\\xb5jM,]\\xe6\\xab`m\\x13\\x17,\\xe8Iu\\x14,m\\xfc\\xfd\\n\\x1aC.I\\xc5\\xff\\xfe\\xdc|F3,\\xf8\\xd8t\\xa6\\x86\\x05\\x14U\\xfdb\\xc0\\xe2r\\xbe\\xa5\\x1cX\\\\\\x96 \\x05\\x93\\xa1\\xc5wV)\\x92C\\x13\\x8b\\x0eV\\xbbH\\x19C\"\\x92\\xa2Xo\\x9d\\xb2p\\rB\\xb3\\x06\\x99L\\'\\x8a\\xd2\\x9b\\xcad2\\xe5\\x1f\\xf9\\xd2\\x04bZyMt\\xc8\\xbf\\xef\\x8fG\\xa0B9\\xb4\\xb1\\xa3\\xc3\\x96\\xdb6\\xf9P(\\x9e\\x8c!\\x11J\\x11&\\xe6CE#\\x10\\xd7\\x8a\\xa5\\xe3jY\\xa8w9\\xedK\\x8c\\x92q\\xe8\\xe5\\xce\\xd3\\xbaj\\x1d\\x14\\x93\\xda\\xf8\\xb8n\\n\\x1e !7\\x13\\x84\\xf3O[7\\xd3j\\x16\\xa5x2\\xb9\\x91\\x19$A\\xd6\\x18b\\x9c\\x04Y\\x97\\x1d\\xa9ty]bC[\\xaa\\xb3l\\xa2V\\xb6\\xa0\\xd2\\x87\\xc4(\\tw\\xbd\\x18\\x15\\xb3\\x9bn\\x9f\\x9aF$\\xaeUabjy\\xfa\\x17\\'+0\\x12\\xe9\\xb3?\\x1e\\x9c\\xban\\x0em,\\xbaX]\\x93IA\\xa4\\x0f\\xb9\\x10\\xc9\\xa7;\\xa3\\x1d\\x16\\xde\\x89\\x95\\xbf\\x17\\xa1\\x98\\x1d\\x15`\\x0c\\x12\\xd3\\xaa*\\xac\\xab2\\x938\\xfa\\xccp{\\x98\\xe28\\xf4\\xb0\\xe8^\\xb5\\xc5\\xd1\\x87\\\\p\\xc8\\'\\x83\\x87\\x1dm\\xb0\\x80C<\\x15YL\\x13\\xaa\\x1aY\\x98\\x96\\xcb-\\\\072y\\x0c\\x0b\\xbb\\x0e\\x8fC\\x03\\x9bZo\\x15\\xe1\\x91\\rlQ\\xa7\\x9fM\\xb0\\x18\\x1e\\x9e\\xf4m\\xc9L\\x07\\x9aU2q\\xd5lE\\x9bI \\xae\\xa5M\\x8a@\\xba\\x1c\\xde\\x85\\xa3\\x01rh^\\xd1\\xbaj\\x1b }\\xc8%@\\xe4+3@\\xcc`z\\xce7\\x1c+\\x8d0L\\xcb\\x9b6y\\x04Y\\xfe(qt\\xf5\\xe6\\x0ez4\\xa1:\\xcb\\xa8j[\\x8b\\x00\\xc9\\xb6\\xb5(\\xd0\\x8f\\xeeW\\xf0g\\xe5S\\x16.K=\\x86H\\xcc\\x95\\xe6\\xa9Db\\xb2L%\\x90\\xe9X\\xfdcK\\x80\\xa0\\xfb\\xd4\\x11\\x906\\xfe~\\xe3\\x1dC.\\x01\\xe2\\x7f\\xbf\\x05\\x01\\x02d\\xb4\\xbd\\x02\\x90\\xfcC#\\x89DY~h qU\\xbe3x\\x04\\xadZ2CF\\x03w[l\\x8a\\xe4\\xd0\\xb0\\xa2W\\xd5n\\xcd\\x8c!\\x17$\\xb2.\\x88\\xc4le\\xbe\\xa7\\x86HL.o\\xcdr9\\xcf&\\x16\\x9fm_\\xbc\\xfd\\x16\\x08\\x93\\xa1=\\x96\\xaf_\\x7f\\xa2\\x03\\xd5Y\\x98h\\xd9U\\x02\\x00~\\xb5\\x1d\\xf2z\\x12\\x1c^+ja2Mi8\\xe7\\x9ayd\\xb4\\xc5\\xc2&\\xe4\\x1bB\\xd3\\x18!6\\xaf\\xbc\\x01\\xc9e\\xf9\\x19H\\xa3O\\xc5\\x0b\\x91\\x0c\\x94F\\x08~\\xc8\\x93[_\\xd1\\xaaj\\x1b!}H\\x8c\\x90\\xe2\\x16z\\xeb\\x98\\x15^\\xe9l4\\xccl\\x16\\xeb\\xc5\\xb4\\xf4B,\\x86\\x86\\xa92\\x930\\x86\\xb6^-\\x87\\x1eu4\\xd0\\xba;\\x93\\x19C.,\\xa4\\x9e\\xc5\\xd5bN3\\x9f\\xbfq\\xb5\\x98\\x9cvd\\x86\\x87\\xa9y2\\x89\\x98\\x9c+J\\x84\\xd2\\xe5\\xe7\\xfa\\xca\\rzO\\x9dE\\xc8\\xde\\xa7\\xb6C^\\xd7K\\xb8\\x0f\\xd9\\xd6\\x8b\\x99\\xcd\\xaa\\x0e0[b\\xf1\\xb5\\xdb\\xf2[\\x13\\x8a\\xcdMO\\xac\\x90\\x89\\xa9\\xe5I\\xef\\x90\\xd7m\\x94\\x9eh=u\\xc6doV\\xdb!\\x85\\x89G\\xaa1\\x99\\xae\\xb2x?\\x18#\\xc5d\\xc9\\x05Db\\x9a$0\\x021M\\xe61B\\x86\\xb6|i%b\\xe7\\x90F\\xf7\\xa1\\xb7\\xeb&[\\xd5\\xfc2z\\xfe\\xe1\\xfe\\x18\\x8efM\\xa2\\x98Z~+\\xb0k9v\\x08\\xc3fVw\\xfe\\x0e\\x15\\xaf\\x18_\\xe7\\xd4C\\xa7\\x9a\\x9al\\xc9\\x0f\\xc4\\x1d&;U=\\xe7d\\x1e\\x99\\x96\\x12\\xbd\\xd8\\xf4$\\x9dHL.\\x97\\x8c\\xa9\\xe5\\x921\\xb5^2]\\xc6;<\\xfd\\n\\xac\\xee4\\x87~\\x15M\\xaa\\xb6;M\\xf6\\xabEE\\xde{a\\xe5\\x17E\\x90\\xca4\\x9d\\xef\\xf2m%.K\\x96a\\xa4\\xf8T\\xdb_\\xdbJ\\xe5\\xb2\\xe9\\xda_\\xe8\\x93 @\\xd0q\\xea(\\x89\\xb4\\xf1\\xf7~u\\x0c\\xb9l7\\x12L\\x08\\x93\\xd1\\xea\\n\\x0fk\\xa5[F\\xc0\\xc3\\xd5\\x92\\x87\\xcbi2\\x88\\xb8\\x9a\\'\\x03\\xca\\x90\\xbf\\x97\\x9d`\\x9eh9u\\x06e\\xefX\\xdb!%\\xb3J\\x9a#\\x94i*\\xb5)\\x1f\\x91\\xac4\\xa4U\\xd7\\xd2;\\t\\xc8\\xc3f\\xe6r4y\\x8c\\x1c\\xb8v\\xab\\xe89u\\xc6c\\xefV\\xdb!\\x85\\x87\\xb8N\\xf2\\xe8\\xd6\\xb1uz\\xd1TC$A\\xd6TC*&\\xa7\\x1cJ*A\\xd5\\xc9\\xa4\\xd2e<\\xf0\\xe8VI\\xd7\\x0e=\\xe6A\\x91\\x15\\xbd\\xaav\\xc9d\\x0c\\x89k\\xa7\\xa8\\xc4[K,-\\xc0\\x92I7\\x98l\\xbd|M\\x07\\x042\\xb5\\xaf\\xf2r\\x8d\\xc9\\x8fl\\xe2H\\xa4\\xcf\\xfe\\xfd\\xac\\xef\\xfbE\\xdf\\xa93\"Z`\\x95%\\x81M\\xa7\\x1d\\xf2\\x1a(E\\x9ct\\x03\\x89/\\x9d\\xcf\\xd5\\xc8\\xc4d\\xff-[\\x8a$\\x13\\xd3\\xf2TF\\x89\\xc92\\x95@\\x86\\xe6\\xe7\\xcc\\x1a \\x87\\xae\\x15\\x1d\\xac\\xae\\x01R\\xe0\\xe8Cb\\x80h\\x10p\\xddto\\x89u\\x93\\xae\\x1e\\x10\\xc7Tu&qL-\\xcf$\\x8d\\xa0Vk\\xa6\\xcb\\x8fP\\xd0S\"\\x87\\x9e\\x15\\x1d\\xaa\\xb6D\\xfa\\x90\\x0b\\x11\\xf9\\xadH\\xa4\\x1bH\\x12\\xb9.\\x0b\\xf2p-U8\\x88\\xc4\\xe4\\xe4X\\x88d\\xad2D\\xba\\x1a\\xec\\x9f\\x029\\xb4\\xad\\xe8Q\\xb5\\x05\\x92m\\xab\\xe6\\x02\\x02\\xe9\\x06\\xb3\\x85H\\x95Z\\x83\\xac\\xbf4\\x99\\x04Yg\\x13J\\x90\\xc5\\xb1\\x10JW?K\\x97\\xd6zb\\x9d$V\\xad\\xb2\\x16\\xeb&{\\xd7p+\\xcb<\\xb3\\x19\\xfd\\xb0\\x00E\\x8e\\xc0(\\xe9\\xee\\x92Z\\x19%&g\\xdbK\"&\\xe7\\xd9D2d\\x0f\\\\\\x8d\\x93C\\xe3\\x9azm\\xc9\\x17bf\\xcd\\xc65,\\\\C\\xd2-$\\xbevr\\xe4\\x84\\x12\\xd4*L\\x82,q@&k\\x95H\\xba\\x1a\\x9e\\xf3\\x17$\\xe8=u\\xb4\\xd9\\xb4\\xf1\\xd1\\xbaf$c\\xc8%\\x97\\xc8\\xe7\\xc6\\xd2\\x19M\\xafV\\xbb\\x8d\\xcb\\xfek\\xce\\xdd\\xc6\\xb5\\xca\\x92DUi\\x82\\xc8\\x90\\x7f\\x96\\xeb\\x06\\x9d\\xa7\\xce\\x88\\xa8o-\\x88\\xf4!\\x17\"\\xbe\\xdf\\xcd \\x19-\\xafZ2\\xd1\\x0f\\x8e(1\\xb90\\x16H&&c\\xcf\\xd1\\xd9\\x08\\x13\\x93\\x8b\\xd9\\xa4\\xd2\\xed+\\xda?Zb\\xd7@9\\xb4\\xafhT\\xb5\\xcb\\xb1c\\xc8\\x05K>\\xc7\\x19\\x1d\\xaf\\x10(\\xf9>+b\\x99\\x0e\\x14r\\xf8\\xf4\\x16+&\\x97\\xd7)|v\\x96\\x89\\xa5\\xcf~\\xae\\xefNC\\xf7\\xa9\\xb3h\\xe1\\xf8\\xcd\\xfa\\xe9C.X$\\xa6\\xb8~\\xa6\\r}\\xa4{\\x8aH%\\xa8\\x15\\x15\\x93K\\xbf\\x16f[84\\xa0D\\xd2\\xa7\\xbe\\xd6\\xe5\\x01\\xf4\\x9f:C\\xb2\\xf7\\xaf\\xed\\x90W\\xffZ\\x94\\xe5G\\xe3+DJv\\xe6db.4\\xcb\\\\@&W\\x0e%\\xaa\\n\\x94T\\xfa\\xe4\\xc7\\xfa\\x81i\\xb4\\xa0:\\xa3\\xb2\\xb7\\xb1\\xed\\x90W*Ey~\\xf4\\xbe\\x02\\x95Tf\\'\\x94iF\\xa1\\xea\\xf7\"\\x14\\x93\\xcbK\\xe3.{\\t\\xcd\\x02e\\xf8\\xd8\\x97/iM)\\x87>\\x16\\xdd\\xaa\\xb6k\\'\\xfb\\xd8\\xb0\\xf7Y\\xa6\\x9dvS\\xaf\\x89\\x12\\x88kE5\\xda\\xd5\\x9cm\\x98e\\xd7\\x93\\x19$]\\xc5\\xfbNmU)\\x91C#\\x8bNV[\"\\xd9\\xc8\\x16\\x15\\xfa\\xd1\\x12\\x0bA\\x92\\xab=\\x842\\xad(d\\xdf!,\\xc7\\xbaj_\\xaci$\\xe2Z2|D\\xd2\\xe5\\xf5\\x8d\\xaeh>u\\xb6l\\xf6.\\xb6\\x1dR\\x96M\\xae\\xcf\\x8f\\xaeW\\xd8\\x8d\\xd3W&\\x10s\\xa2\\xc9\\xd0q\\xd5\\x98\\x9ai\\x92\\x89\\xc9\\x1e\\x08\\xb6j\\xba\\xf6\\x1b^\\x00\\xa81rhb\\xd1\\xa9j\\x1b#\\xd9\\xc4\\x165\\xfa\\xd1\\xf2\\xea\\xfb\\xeb\\x99\\x9f\\xeb$\\x92iD\\xf5T\\x86@L\\xcb7*\\x11\\x88\\xc99\\t1H\\xba\\x8c3b\\xcf2\\x02\\x05\\x9d\\xa7\\x8e\\xc2\\xa4\\x8d\\xbf\\xdf\\x86\\xc7\\x90\\xb8\\r\\xeb7\\xc36<Z^\\xa1\\x0e*>\\x15D\\x82V\\xac\\x1aW+\\x17\\xebj\\xda\\xdeAd\\xa8\\x9f\\xb0\\t*\\x90C\\x17\\x8b6U\\xbb(\\x19C.@\\xb2\\x8b\\x1d\\xfd\\xae\\x90I\\xf2UJ2\\x19uR\\xeeF\\x8a\\x13\\x81\\xe2r\\xbe\\x9d\\x00\\x81\\xe2\\xb2G\\xc2\\\\9C\\xc3\\xed%^\\x9cP(\\x87\\x1e\\x16}\\xaa\\xb6P\\xfa\\x90\\x0b\\x14Y\\xd5\\x8c\\x92\\xe9B\\x91L\\xf4[\\x13\\x8a\\xc9\\xc9z\\x90\\x89\\xa9U\\x9d\\xde\\xd54\\x97\\x812\\x0c\\xecw\\xb8i]\\xa1\\xe0\\xb3\\x9f\\x14`\\xd1\\xa9j\\x0b\\xa5\\x0f\\xb9@\\xc9\\x0ev\\xb4\\xbcB\\xa4\\xe4\\xb3yB\\x99\\x1e\\xf5\\x99C\\x81T\\xa6\\xac\\x0f\\x952LL\\xcb\\xe7B\\x84\\xd2\\xe5\\xc7\\xcd-Y\\xe8;u\\x06e\\xefa\\xdb!e\\xdb\\xf1HmQ\\xccH\\x99.\\xf4U/\\x1f\\x93s\\x0e&\\x14\\x9333r19\\xdd~@,]\\xfd\\x84\\x97\\xeeh\\xa8\\x1czX4\\xab\\xda\\x86J\\x1f\\x12C\\xa5\\xa8\\xd5\\x8f\\xaeW\\xc8\\xb2\\xb2Q3N\\xa6E}\\xe5\\xcd\\x83HL\\x96\\x04M\\x1e\\xa6\\xe5dD ]\\xfe\\xf9\\xac/\\xea\\xa0\\xf9\\xd4Y\\x9c\\xa8\\x85\\x95\\x08@E\\xa9\\x1d\\xf2\\x1a\\'2\\x88a2\\x8dfx\\x9bu\\x0b!\\x02q-%\\x1b\\x021\\xb9<\\xf7\\xbb\\x93\\xc9\\xa4\\xcf\\xfe\\xf3\\xeb\"\\x1a#\\x87\\x16\\x16\\x9d\\xaa\\xae1\"_\\x96D\\xb2\\x85\\xd5\\xa2;\\x91L\\xa7\\x89\\xb6\\'\\xe2Q\\t%\\xa8\\xc5yN\\x94e2\\xe3$L\\x16\\x95H\\xba\\x1a\\x0c\\x80\"9\\xf4\\xb0\\xe8R\\xb5E\\xd2\\x87\\xc4e\\x13.\\xb1Y2\\x99F\\xb3~\\x82mt\\xc3\\xfa\\xfe\\x82,_\\x8bq\\xe2\\x93\\x93\\xab\\x0fZ\\n1\\x12\\xe9S\\xc3\\xc9\\xa8\\x129\\xf4\\xb0\\xa9\\xcbV\\x11$\\xd9\\xc3\\x16\\x05\\xfb\\xd1\\xef\\xaa}e\\r\\x03F\\xc94\\xa2 \\xa22\\x91\\x04Y\\x801J\\x82\\xaa\\x93\\t\\xa5\\xcb\\xcb\\xc2#**G\\xb9\\xa4\\x8f\\x8f\\x1e6A\\x99C.a\"\\x19\\xf4_\\x0f\\x8e\\xe2\\xcd7\\x80R\\xac\\x9c\\x8b\\xaa_\\xeb?\\xb7\\x93\\xff\\xefV\\xfd\\xaf\\xab\\xfe\\xc1\\xafq\\xf2j\\x9d\\xb3\\xfe\\xf7k\\x18}\\xfc\\x06IQ\\x8b\\x153I$\\xd3\\xa6\\x86\\x16\\xa5#\\xbf\\xae5\\xd2\\xb0y\\xd5\\x06\\x1cd\\xcf\\x9f\\xed\\xb0\\x841J\\xb0k\\x18g\\xee\\xf5\\x85\\x1eU\\x9b42\\x87\\\\\\xe2C\\x02\\x9b0\\xa6\\x01\\xfd\\xce\\x97\\xb4\\xff}/\\x13\\x89\\xcf\\xd6<\\xb2\\xd6\\xc8\\xa3\\xcf{{\\xbcjp\\xe0c\\x1f\\x18\\xd7\\x17\\xdaSmy\\xf4!\\x17\\x1e\\xe9\\x14\\x87\\x07\\xea\\xeb\\xe5U\\\\\\x18\\xbe\\xa8\\xd5z\\xf1\\xc9\\x19\\x87k\\x9a\\x90\\t\\xa4\\xab\\xcb\\'\\xb3^\\xadY\\xd6\\xc9jQ\\xd3\\xea\\xa1\\xd7\\x82\\xf2\\x1f\\xfc\\xcd>\\xe4\\x02$\\x9d\\xdep\\xd4\\x1d\\x90\\xa9\\x86>\\x13\\xed\\xf8\\x0c\\x8e\\xa9\\x01\\xa5\\x9e\\x181}\\xdc\\xc8$\\xd2\\xe5\\xe5\\x85\\xe1\\x17ZL\\x9d\\x85\\x88\\x1a\\xd6\\x82H6\\xacz\\x06\\xc2%3\\x9de(YX\\xfeXi\\xe4aZ\\xf1\\n\\x8a\\x8b\\xaa\\xa1E\\x1c}\\xf2\\xf2\\x05\\xda/\\xf4\\x97:\\xc3\\xb1u\\xab\\xfd\\x90W\\xb7\\x1a\\x8a\\x12\\xed+\\x13\\x87y\\xce\\xa2\\x06}\\xa7\\x12\\x89\\xcf\\xcd\\x0b\\xc6\\xb5j\\xc1t5\\xbcMD3\\xc8\\x99W}\\xb5\\xee[\\x9b\\xed%{\\xd5`\\x83\\x8c\\x87\\x19\\xca\\xea\\xd4\\x97\\x7fgl\\xc8\\xf9\\xb1V\\x12q9\\x13q-9\\x18\\x86H\\x97\\xf1&m\\x9b\\xa9L\\xce\\xcc\\xea\\x0b\\xad\\xa8\\xb6Y5\\x9b\\xd5\\\\\\x94\\xe7\\x81\\x96_\\x9a\\xbb\\xcc\\x8dL&A\\xae\\x12I\\x90e\\x83#\\x95\\xa1z\\x8dB\\xa1\\x9c\\xf9\\xd5\\x17:Qm\\xa1d\\xbf\\x1a~\\x14\\x0b\\x94\\xe0)\\xf5k\\x11J\\x90\\xe5k\\x91\\x89\\xab\\xf6k\\xb7\\x033\\xb3\\xae4\\xe2\\xe8\\xda\\xf2\\x1c\\xef\\x85\\xbeRGy\\xa4\\x8d\\xbf_7cH\\xdch\\xf2\\x8b\\xe7\\xf9\\x87G\\x8c\\x88e\\x03\\x8b\\xa5\\x06\\x12\\xaeUi5\\xaaEZ\\x1d\\xf2\\xf2uG/4\\x96:\\xc3\\xa1\\xb5\\xd6\\xbc\\xcb\\xb4C^\\xd3j\\xae\\xc8\\xf3\\x0f\\x0f\\x1c\\xf9\\xea\\x1c\\x89\\x98\\x9c\\xcb\\x1b\\x84br\\t\\xc5TA\\x8d\\x00\\x193\\xf1\\x0e5\\x8b+Y0h-u\\x86d\\xefU\\xdb!\\x05\\x89\\xc4<v\\x9a\\xd1\\xd3\\n\\xe72\\xe2\\xdb\\xc8\\xc3\\x9ch\\xba\\xa4C\\x1c\\xa6V\\x97\\xf6\\x82\\x9c&\\x93H\\x9f\\x1c\\xee8V t\\x96\\x07\\xde\\x0c}\\xa8v\\x19d\\x0c\\xb9,\\x19\\xf9\\xd2\\x042=e\\xf1\\x9a\\x1a2\\t\\xb2\\xd0$\\x13W\\xed\\x97\\x9e\\x19$h\\xc9\\xba\\x91H\\x9f\\x1a^T\\xa1D\\xceJ\\xac/t\\xa2\\xda\\x12\\xc9n5\\xb7\\x82\\xe5\\x81f\\x12I\\x1f\\x9cD\\x82\\\\\\x1015\\xd7g\\x91V}\\xb2/\\x8d\\x06\\x8cD\\xfaT\\xbc\\x88\\xdfX*\\x92C\\xbb\\x8a^T\\x17$\\xe1f\\xc0\\xf6Ga\\xe0\\xc7\\x90\\x18$\\x92m\\xfe\\xd5\\x06\\xdd\\x121SZ\\xe7\\x11\\x93s\\x16\"\\x12\\x93\\x8bD2\\xb5%\\x91C\\xc7\\x8afT[\"}H$\\x92\\xab\\x89\\xaf\\xd1\\xd5\\x8a\\x85\"\\xfbl\\x8d)#\\xc4\\\\gQ7\\x8b\\xeau&Y\\xacg2@\\xba\\x1anJ\\xd0\\xf88\\xf4\\xabhD\\xb5\\xa5\\x91\\xfdj.$\\xbeFG\\xabV6\\xf3\\xe85\\x1e\\xe69K\\x1e\\xaef\\x1e\\xae\\xa5\\xa5H ]^\\xde*\\xffB_\\xa9\\xb3\\xac*f\\xb5Z0\\xd9\\xac\\xe6:\"\\xff\\xf0X1\\xf9\\xd5w\\x8c\\x90 \\x0b/f\\xd5\\xa0\\x86d\\xd0p2H\\x82,\\x93\\xc9\\xa4\\xab\\xe1$K\\x83\\xe4\\xd0\\xabj+\\xad\\x8aI\\xf6\\xaa\\xf9\\xbe\\xdf\\xd7hj\\xd5\\x82D\\xbf\\x16\\x99\\xb8\\xe3L\\xbf5\\xa1\\xb8\\x9c\\xc3d\\xa5\\x91G\\xd7\\x96\\xfd\\t_\\xe8+u\\x14#m|0\\xab\\x05\\x8f1\\xe4\\x92B$\\xb9!\\xab\\x8e\\x86V\\xe0!{\\x01`,5\\x90p-\\x17\\xa1\\x11\\x1ew2x\\x0c9\\xc4\\xac\\xc4\\x07\\xfaJ\\x9d\\xf1\\x10\\xb7Z\\xf1\\xe8C.<$r\\xc9\\xc3\\x1ce\\xae\\x8d\\x12\\x89\\xc9\\x92q\\x89\\xc4\\xb4<\\x95Hnd\"\\xe9\\xf2z\\xc9\\xa0\\xaf\\xd4\\x19\\x12q\\xab\\x15\\x92>\\xe4\\x82$\\x9b\\xb3\\xd1\\xd0\\xaa\\x0e\\x11\\xf3\\xa3y[%\\x12\\x93\\xeb(19\\xcf&\\x92.\\xe3\\xc1,[l\\x1a&\\xf8\\xe8\\'\\x86\\x15}\\xa8v{\\xcd\\x18ra\\x92\\x8b\\x89\\xa3\\xa1\\x15\\x99\\xa4<\\xc101K\\x9aeb19\\'fFJ\\x90%BI\\xa5\\xab\\xe8\\xc3\\xbe\\xa4rhZ\\xd1\\x89jK%\\x9b\\xd6\\xa2\\xa08ZZ\\xe1\\nx\\xbe\\xa5\\x81T\\xcc\\x96\\xe6\\x12=\\xa9L\\xb9\\x98M*S.\\n\\xfc\\xc42\\x8c\\xab\\x1bG\\x8d\\x95C\\xdf\\x8aVT[*}\\xc8%V\\xfc\\xef\\xb7\\xad\\x92)e\\xfaG\\\\\\xfb\\x97\\x9f\\x93PL\\x15\\x8dDL\\xcb\\x9e\\x96D\\x82\\\\\\x94\\x04\\x86\\xbc|\\x90\\xfe\\x85\\xaeRg\\xabg\\xef[\\xdb!\\xe5\\xfc\\xd7\\x1fb0\"\\xd3a\\x96\\xd7&F\\xb3\\xab\\x16E\\x05\\x13\\x9b\\x9b\\xcb\\x8edr#3J\\x86{\\xbdY<\\x87\\xf6U\\xfbhUi6\\xdb\\xd7\\x90\\xd2\\x0c\\xca\\xb4\\x99\\xaft\\xb7&\\xc3$\\xa8\\xfa[3RLN\\'\\xfe\\x84\\x12T\\x9dL(]\\x0e\\x9d\\xcau\\xe9\\x1c:X4\\xa2\\xda.\\x9d\\xec`\\x8b\\xca\\xe2\\xe8h\\x85P(\\x99L\\x0f\\xfa\\xca\\x05j219\\xbf\\'\\x89PL\\xce\\xb3\\teX\\xd8\\xe0!\\x95\\xca\\xa1\\x87E\\'\\xaa-\\x95\\xecaC\\xf9\\xca\"e:\\xcdp7G\\xd3\\x18\\'\\xae\\xa5\\x8d\\x89LL\\xce)\\x98LL\\xf6-\\xb7\\x1d\\x99@\\xba\\x86\\xa7\\x08V\\xfb\\x0e\\x9aJ\\x1d\\xe5\\x936\\xfe\\xde\\xc4\\x8e!1\\xc3\\x16%\\xc6\\xd1\\xcd\\na\\x92\\xef\\xae\\x02\\x13\\x97s:q\\xad\\xaa/\\xba\\x9a\\x0f\\x0c$C\\xc6\\xbb9\\xfc\\xc0\\x12$\\xe8*u\\xc6dod\\xdb!%\\xc7\\xfa\\xdf\\x9fA2\\xdaY\\x81Iu7\\xe7\\xcbe17\\x08\\x12\\xd7\\xca\"\\xa3\\xcb\\xf9\\xc8\\x84\\xd2\\x8d\\xec\\xcf\\xf2%P/t\\x95:c\\xb2w\\xb2\\xed\\x90\\xc2\\xc4\\xfd\\x911\\x99~\\xf3\\x95\\xbf\\x18\\xe3\\xc4d\\x99J&\\xa6\\xe5H\\xc0\\xc2qY~\\t\\x02\\xe9S\\xff\\x96OT\\xbc\\xd0U\\xea\\x0c\\x08\\xc7o\\x16N\\x1frY8\\xf2K\\xc3\\x9a\\x8cvV\\x08\\x92\\xea\\xa6\\x1aW\\xd3\\xda \\x91\\xe9R_\\xc5\\xad\\xe1A\\xcd\\xce\\x9fL\\xfa\\xe4\\xc7\\xcf\\xfa\\xce\\x89\\xc3FZ\\xaf6>B\\x91\\x13Z\\xd4\\x19\\xc7\\x90\\x08%\\xdb\\xb5\\xd1\\xf1\\xaa=e\"?&cd\\xbaP<d\\xa2[)\\xa1\\x98\\x9c#\\x8cabr\\xbdt\\xba\\xfcX\\xbe\\xc4\\xe5\\xd5\\xdac\\x1dT\\xe8\\xdb\\xf8\\r\\x94\\xc2\\xc4f\\xcb6\\x9aZ\\x81J\\x8a\\x05R\\x99N4\\xab\\x84\\xe2\\xaam\\x1dmI\\x92\\x88ki\\xbfb\\x9ct\\x19\\xef\\xb7\\xb1\\x99\\x9a`\\x0fM,ZQ]\\xd7N\\x11&}H\\x0c\\x93\\xa2\\xdc8zZ\\xe1\\xd9\\x9b\\x9c\\x11\\x88d\\x1a\\xd1\\xaftC<\\x91\\x98\\x9a\\'\\x93\\x8a\\xc9\\x12\\x81D2,l\\xe8W\\xa5H\\x0e-,\\xbaQm\\x91d\\x0b\\x1b\\x8a7\\x96_\\xa7\\xcf\\xcc\\x0f\\xd5\\xbfF\\xcb+\\xe0\\xf2\\x0b\\xd8m\\x1ei\\xd8\\xbc\\xea\\x89\\xfa[\\x99@\\xfa\\xecpG\\xb6\\xf28\\xb4\\xafhD\\xb5\\xe5\\x91\\xedk0\\x8a\\xc6cZ\\xcc\\xea\\xf1\\xac\\xd7\\xe8wU=\\xbcE&a\\xae\\x16*\\x19!72\\x99\\x0c\\xd9m\\x9c294\\xafhD\\xb5e\\x92\\xcdk~\\xcb\\xc0kt\\xb4\\xc2\\xb7\\x96\\xed\\x88kf\\xdaO\\xd5\\xc8\\xc3\\xb4\\xea\\x0c\\xe7F%\\x8d>w][C?\\xa9\\xa3\\r\\xb8\\x8d\\xbfO\\xabc\\xc8%\\x89\\xc8b\\xc6\\x06<\\x1aY\\x81\\x86\\xd4\\x13A#h\\xd5V\\xe3rYnt9]\\xef\\x00\\x91\\xa1\\xaeo\\xd3C;\\xa93\"\\xea[sZm\\x87\\xbcz\\xb4p\\x15i\\xae\\x99\\xd1\\xc7\\x8ay\\xa2\\xa8\\x96\\xdc\\xa8\\x88\\x91\\xa8\\x16k\\xe6N&\\x93n\\\\\\xd7\\xf5\\x12\\xb4\\x94:c\\xa2\\xbe\\xb5`\\xd2\\x87\\\\\\xa2D\\xd6\\x05\\xa3d\\x9a\\xcf\\x9a\\x89\\xa9\\xf9\\xf6DB1Y\\x12/\\xb2H\\xd0\\xaa\\xddw\\xc8\\xebG\\x1a_\\xe8)u\\x86\\x84\\xe37\\x0b\\xa7\\x0f\\xb9 \\x91ON$\\xd3}\\xe2\\xcd\\x02\\xea\\xc3\\xb8vnd21\\xb9<\\r\\x8e\\xb2\\xacY\\xc6I\\x9f\\x8c\\'oV\\x9e\\x04M\\xa5\\xce\\xa8h\\x01\\xb6\\x08\\x94\\xa2\\x00\\x9b\\xbd\\xab5\\xbb\\n\\x9f\\xad-,\"\\xe9\\xe6\\xf2\\xf5\\xf9\\xe4WT\\x10\\x89\\xc9\\xb9\\x16\\xcfH19\\x1b\\x162\\x19\\xf2\\xf2-\\x95/\\xf4\\x95:c\\xa2\\xe5\\xd7\\x82Iv\\xae\\xc5m\\x8c\\xd6\\xef*<riL\\xa6\\xfb\\x0c/\\x8ah\\x1a\\x81t\\r\\xbc\\xcaB\\xe3\\x90\\x91\\xa7\\xc4,\\x93\\xc6\\x98\\x1a\\xb61\\xd9~[\\xbf\\xab\\x03\\x1f\\xdf\\xc6o\\xd6Mv\\xadE\\x95q\\xf4\\xb9\\xaa7\\x1cs\\x9d\\xf9\\x9c\\x8d@LN\\'\\x8b\\x0c\\x10S\\xf3d\"\\xe9\\xf2\\xef\\xcd\\x1e|\\xe8Z\\xd1\\x80j\\x9bJ\\xb2k-\\x8a\\x8c\\xa3\\x93\\x15\\x90xe\\xcb\\x02\\xc4\\x9ci\\xaa\\xdd\\x93\\x88\\xa9\\x12\\x9c\\xe4\\xe1Z\\x99Z\\xbb\\xfc\\x08wnh\\x88\\x1c\\xba\\xd6\\xd1\\x1ak\\\\e\\xfc~\\x87;\\xac\\xdb\\xb7\\xc1\\xf9\\xef\\x18\\x12SkQ^\\x1c=\\xac\\xea\\x101\\xdb\\x99\\\\\\x05y\\xb8j\\xa9\\xb1\\xfdm\\xf2p\\xad\\xe4\\xd1e\\xdcMa3\\x95\\xc7\\xa1cE\\xcf\\xa9m|d\\xc7ZT\\x17G\\xf3*\\xf0\\xc8g\\'\\xcc\\xabfL\\x93a!\\x12Ss\\xbd\\x80TL.\\x8b\\xd0CF\\xe39\\x0f0\\xc1\\x826RGy\\xb5\\x8d\\xbf\\xcf$c\\xc8%L|\\xafk?(v\\xe0\\xd1\\xbf\\n\\xf91_\\x9c\\x02\\x16\\x97\\xcb\\xed\\xc6\\xe5r\\xbbq9\\xad;$\\x93\\xa1>~\\xff|\\xc5*\\x96C\\xff\\x8a\\xceS\\xbbh\\x19C.X\\xbc,aX\\xfa\\x02,\\xb7\\rb1Yvo\\xc4\\x8ak\\xe2w\\x10(A\\xab\\x96\\xcf\\x90\\xff\\xd6O\\x99\\xa0\\x91\\xd4Y\\x9c\\xec\\xcdk;\\xe4\\xd5\\xd0\\x17w2\\xce\\x0eV\\x1f\\xbc\\xf0X\\xa2\\x88<\\xba;\\xc5\\xcb\\x81}\\xe17\\x94\\xe4aZ\\x0e!\"\\t\\xb2Z@\\x06I\\x97\\x91a\\x97\\'\\xc1h#u\\xc6\\x84\\xe37k\\xa7\\x0f\\xb9\\x04\\x89\\xfc\\x9a\\\\;\\xddB\\xbe>\\x7f)\\xbc\\xc9\\xc4\\xd4\\xfc\\xbd\\x89\\xc5\\xe44\\x99TL\\x15\\xd8D\\xd2\\xb5\\xc7w8/\\xd7ush][\\xa3\\xad\\r\\x92l]\\xc3\\xd3\\xfb\\xb6n\\xa6\\xc1\\xfc\\xad\\x9eW\\xf3\\xeeWI%\\x11\\x9b\\x9b34\\x91\\x98\\x9cO\\x90H\\xa5\\xcb7\\xed=_h\\'u\\x16({\\xf3\\xda\\x0ey]<\\xa1\\x82eT\\xa6\\t\\xfd\\xcb\\'*\\x8c\\x14\\x93\\xa5|@(S\\xc3[\\xe7\\x8b\\x93\\xe1(W\\xab\\xa7\\xcf~<\\x9e\\xc1!h\\xac\\x1c\\x96^\\xd1\\x84\\xea\\xba|<{\\xb7\\xef\\x0b\\x872\\x86\\xc4\\xe5#y\\x92\\xab\\xa7{I\\xac\\x1e\\xf9\\xd6$\\xb2\\xd2H\\xc44\\xcf\\x08\\xed\\x0f3F\\\\\\xd3,\\xc5\\x10\\xe9\\xea\\xb2\\x9d\\xd8\\x0b\\xed\\xa4\\xce\\x02D\\xcdk\\x81\"\\x9b\\xd7\\xe2\\x16`ks\\xf5W\\xd5\\xe5\\xa3\\xaa?2\\x81t\\x13\\n\\x90\\xf96%2\\t\\xb2\\xce&\\x94aa?\\x9e\\xdf4@\\x0e-,\\xbaPm\\x03\\xa4(\\xbc\\xca\\xaf\\xc9\\x08\\x19n\\xf2\\xf3\\'\\x1b4#d\\xa5\\x11\\x88i\\xe5\\xe5\\x1b\\x97\\xe5\\xb0\\xa4\\xd1\\xa7\\xe2}-+\\x03\\x8b\\x96Rg1\\xa2\\x06\\xb6\\x88\\x91l`\\x8b\\xb2\\xbc\\xf5\\xb9\\xaaw\\x9bnA\\x11\\x04\\xb2a\\x90\\x87i\\xe5V\\x13T\\x9dL\"\\xc3\\xdb.\\x81\\xa0\\xa1\\xd4\\x11\\x906>\\xee5\\x19\\xc8\\x18\\x12\\xf3G\\xf8AfV\\x1d\\x9d\\xac`:$t\\x10\\x1eA\\xd3D\\x00 A\\xb5\\x9fy\\xa6\\x90\\xa0\\xa5\\x84\\x0b\\x1cC^;y\\xf4\\x92:\\xc3\\xa1\\x96\\xb5\\xc0\\xd1\\x87\\\\p\\xc8(\\xac\\x16kp\\x15>[\\xfbR\\xc41\\xfd\\xaaj\\x84aZ>\\xe5G\\xfa\\xb8\\x93\\xc9\\xa3\\xcf^\\xdf&\\x80nRg<\\xd4\\xb1\\xca7\\xc5\\xf6\\xd2\\x0ey\\xddt\\xc3;\\xec,<\\xccX\\xe6\\xb4H$72\\xa9\\x98\\\\S\\xb9\\x91I\\xa5\\xcbk\\x1f\\xdf:b\\x1dT\\x8e\\xda\\xf8\\xcd\\xa2A|\\xc0\\xd6^\\xa2D\\x12\\x1c\\xa3d\\x1a\\xcbw\\xbei\\x95T\\x82\\xac\\xc9\\x80TL\\xae^\\xe8\\x13\\xe4\\\\\\xce%\\x95a\\\\_n\\x06d\\xabAc\\xa9\\xb3`\\xe9\\xa6\\xb4\\xc7\\xe07\\xaa%E\\xb0d\\xdf\\x1a\\xaa\\x13\\x16,\\xd3\\\\\\xbe\\xcb\\xd3`\\xeb\\x87\\x05\\xb9\\xc2r3\\x9bK(\\xc8\\x92\\x9dI\\xa5\\xab\\x1f\\xff\\xad\\x14\\xca\\xa1mE\\'\\xaa\\xdd\\xfe;\\x86\\\\b\\xc5\\xf7\\x7f\\x832\\xbd\\xa7\\x9e\\xd51P\\\\\\xab\\x12\\xac\\xab9\\xc1\\xae4\\xb2\\xe8\\xdac\\xfd(\\x1f\\x1aK\\x9dE\\xc8\\xde\\xad\\xb6C\\xca\\xc2\\xf1\\x085\\x18f-s\\t\\x88<L\\xce\\xb7)r\\xe1\\x98\\x9cN\\x9f\\x19 \\xa6\\xca\\xe93\\x91t\\xed\\x19\\xca\\x9a\\x1a\\x1f\\x87\\xae\\x15\\xcd\\xa8\\xb6\\xf1\\x91]kQ\\x93\\xf7\\x9eW\\xf9\\x8c\\x8cH\\xccxVg{A\\xcd!\\xe23\\xaf\\x1ayt\\xed\\xc7\\x7f!\\xc5qhW\\xb5\\x91V\\x95C\\xb2]\\r\\xe5\\x08\\x8b\\x90i;\\xdf\\xf9\\x84\\xc6\\xbbh\\xe5B\\x19\\xc3c5\\x95\\xc1aZ:7 \\x8e\\xa1\\x86\\xb7\\xd5)\\x8fC\\xc3\\x8a\\x1eT\\xdb\\xf0\\xc8\\x86\\xb5\\xa8\\xc8{\\xa3\\xab\\xbc\\x1b0<\\xa6\\xef|\\xe7\\xc7[\\x89\\xc4\\xe4<\\x9bTL\\x16\\xd8d2\\xb4\\xefe\\x8c\\xa0\\xa5\\xd4Q\\x16i\\xe3\\xef\\xb7\\xdf1$\\xa6\\xd4p\\xce=cd\\xf4\\xb2\\x82M\\xcf\\x9e\\xd5\\xb5\\xaa*\\xefju\\xa3\\x9e\\xab\\x19\\xc7\\xd0p\\x05\\xcc\\x16\\x93\\x84\\x08:J\\x9d\\xe1\\xd8{\\xd6v\\xc8kR-\\x8a\\xf2\\xd6\\xe9\\xea7\\xdd^\\x85\\x08q5%M\\x04\\x88\\xabyOF\\x80\\xb8\\x9c\\xcbo\\x88\\x91!?\\xbeC\\x93n\\xa5r\\xe8\\\\\\xd1\\x81j\\xb7p\\xc6\\x90K\\x90\\x88#\\x80G\\x1b\\xad\\xac\\x10$\\xa5\\x19\\xb9\\x93\\xc9eZ\\xd3\\xbf\\xea\\x02_T\\xd5\\xc9\\x10\\xcb\\x98\\xfc\\x0c\\x1eI\\xb1\\xe0\\xd3\\x9f<\\xad\\x856T[,}\\xc8\\x05\\x8b\\xdb![;\\xd3|\\xa2\\x85\\xb4\\x96\\xc2\\x18-&\\xe7\\x1f\\x9cXL\\xce\\x19\\x98\\xe1b\\xb2\\xfc\\x1e\\x84\\xd25\\xb4\\x93vM\\xa1\\x1c\\x1aW\\xb4\\xa2\\xdaB\\xc9\\xc6\\xb5\\xa8\\xcb\\x8f\\x9eVh#\\x9d\\xeb\\x83\\x842\\xad\\'d\\xff\\xf0\\x8d(\\x99\\x98\\x9aM\\x0b\\x99\\x98\\xec\\x99\\xa3M%\\x93\\xae=\\xbeB\\'^er\\xe8[\\xd1\\xacj\\xcb\\xa4\\x0f\\xb9\\x04\\x8a|6\\xae\\x9f\\xe90\\xd1Z[c\\x9cLL\\xae|\\x89\\xab\\xe9a\\x15\"\\xf1\\xb9\\x96L\\r\\xc90\\xaf\\x9f\\xf5s\\x04h/u\\xb6v\\xf6\\xee\\xb5\\x1dR\\x12\\xad\\xef{\\xb6v\\xa6\\xc3\\xfc\\xc9\\x8b\\x83HL\\xcew43NL\\xae\\nH\\xae\\xca\\x9ae\\x98\\xf4\\x99\\x8f\\xdf\\xb5}Ew\\xa93&{\\xfb\\xda\\x0eyeRT\\xe5G[+\\xb4\\xcf\\xce\\xa7\\xf8d2Mh\\xd8!l\\xe1\\x98&\\xdb8C\\xc4\\xb5\\x94\\xa6H\\xa4\\xcb\\xbf\\xf8\\xb3\\x16A\\xbap\\x0e\\x1d,\\x9aQ]\\x17\\x8e\\xact\\x94L\\xc6\\x90\\xb8p\\x8a \\x99N3\\xdc\\x94\\xdc\\xbe1i\\xb8V%\\x12W\\xedK\\xb5\\x99\\xe4\\xe1\\x9a\\xce$\\x8e\\xae\\xfe\\xf9\\xed7\\n\\xe3\\xd0\\xbe\\x8e.Y^\\x12(`d\\xfbZ\\xd4\\xe4G?+\\xfcN\\xc9w\\x93\\xc7\\xf4\\x9fUt\\x98\\x96+O\\x04\\x12dMO$\\xd2e\\xdc\\xefj(\\x05\\t\\xfaJ\\x1d\\xad\\x986>\\xba\\xd7\\x8cd\\x0c\\x89\\xf1Q\\xdc,?\\x1aZ\\x01I\\x99E\\xa2,\\x7f\\x02I$\\xa8\\xf6\\xc5f\\x8c,5\\xf0\\x18Zx\\xa3\\xa3\\xe28t\\xafh@\\xb5[.c\\xc8\\x05\\x87\\x18k\\xec3\\xa3\\x93U\\xc3!\\xdf\\x17\\x11r\\xa3\\x92\\xc6\\xac\\xba\\x16(\\x11#w2\\x99\\xf4\\xd9\\xeb\\x17\\xfc\\xa2\\x9b\\xd4Y\\x88\\xa8w\\x95\\xef\\x83\\x14\\xd2\\x0eyM\\xaaEQ~\\xb4\\xb1\\x02\\x93\\xbc\\x93\\x10\\xca4\\xa7\\x90\\xe5O\\x10\\x8a\\xab9D\\\\\\xd3\\x99\\x04\\xd2\\xd5`\\x0b5H\\xf0[\\x9e\\xb8V\\xf4\\x9e\\xda\\x06I\\x1fr\\t\\x12\\xa9?2H\\xa6\\xb1\\xfcM~\\x82<\\xd6*y\\x045|5[5A\\x16\\x98D2\\xd4efE#\\xa93$\\xeaY\\xe5o2F\\xb2g-*\\xf3\\xa3\\x83\\x15c\\xe4\\xfa3\\x13\\xc8\\xf4\\x9cE\\xfc\\x90\\x88\\xc99\\x03q\\xd9\\xdc\\xc8D\\xd2et\\xc6\\xb5\\xbf\\xabar\\xe8Y\\xd1\\x95j\\x1b&\\xd9\\xb3\\x167\\xcc\\x8f\\xf6V\\xcbu3}\\xe7\\xafT\\x08\\xc9\\xc4\\xb4\\xbc\\xe4\\xc8\\xc4d\\x99J \\xc3\\xb2\\xae_i\\x83FRgA\\xa2\\x8e\\xb5\\x08\\x92>\\xe4\\xb2n\\xe4\\xa3q\\xddL\\xcf\\x89;I4\\xf6\\x19\\'A\\x96?A$\\xa6\\x96w\\xfd\\xba,&\\x88H\\x86c]\\xbf[\\x00\\x8d\\xa4\\xce\\x90\\xa8a\\x95\\xcf\\xcbu\\xd3\\x87\\\\\\x90\\xe4\\xf3\\x9a\\xd1\\xc1\\n1\\x92N\\\\Hd\\xfaN\\xdcd\"\\x7f\\x81D\\xa6\\x9a\\xe72F\\x82ZX\\x92)\\x87|\\xaf\\xeb\\xe6\\xd0\\xb2\\xa2/\\xd5v\\xdd\\xf4!\\x17&\\xf2s1L\\xa6\\xbb\\x0c\\x0erz\\xd6\\xa5F\\x1es^\\xcdc\\xaazT\\x06H\\xd7\\xc2Egeq\\xe8X\\xd1sj\\xcb\";\\xd6\\xa2\\x1e?\\x9aW!>\\xd2\\xc9>\\xe3\\xc3lg^\\x13\\x04br\\xda\\xa7\\x18 A\\xad\\x02dx\\xd6\\xf5\\xa2A\\x1b\\xa9\\xa3E\\xd3\\xc6\\xdf{\\xd61$\\x06HQ\\x95\\x1f\\xfd\\xabXq\\xad\\x8a\\x01.\\x97Uh\\x97\\xd3\\xa2\\x02\\x95\\xa8\\x16T\\x86|\\xf3 0\\x1aI\\x9dQ\\xd9[\\xd7v\\xc8\\xabM+j\\xf3\\xa3\\x83\\x15S\\x89m\\x85s\\xd9,5D\\x89k\\xb9\\xdcD \\xe6j\\xb3\\x8c\\xa53\\xe4\\xf5\\xebm\\xd1C\\xea\\x8c\\xc7\\xde\\xb6\\xb6C\\n\\x0f\\xdf\\xfe\\xdbwF\\x1a\\x19\\xcd\\xabPF+x\\x98\\xf3t+\\xd5\\xe6\\x91\\xc7\\xd4\\xf4\\x94\\x990\\\\K\\x91G\\x18]\\xc6{\\xb1\\xbc\\x86 \\x99\\x04\\xdd\\xa3\\xcepp\\xfcf\\xd1\\xf4!\\x97E\\x93M\\xebh[\\x85\\xf0H5dd\\x12W\\xe5\\x9c\\x88@\\xa6\\'\\xfd\\xc9\\xdb6\\x99L\\xf97\\xdf\\tI&]~|\\x85Kh\\xca\\xe4\\xd0\\xb5\\xa2\\xd5\\xd4\\x96Iv\\xad\\xea8\\x18\"\\xd3[\\xfe\\xa4T@&\\xa6\\xe6\\xfb*\\x88e\\xca\\xdf5\\x96)\\x873\\xba\\x16bd\\xd25\\xbc~\\xd0\\xc3V\\x99\\x1c\\xbaVt\\x9b\\xda2\\xc9\\xae5<\\xbdo\\xcb\\xc6\\xbc\\xa5,\\r\\x121\\xed\\xff);\\xbb\\xe5\\xb8\\x89 \\n\\xbf\\x8a\\xcb/`\\xcbQ\\xbck*I\\x15!\\x81+\\xae\\xe0\\x05\\x9c\\xca\\xc6IA\\xb2a\\xbd\\x14<>\\xe7\\xccOw\\xab\\xbb\\xb5b\\xee\\x08gF\\xd6~\\xea\\xe99\\x1aI\\xd39\\x91.#P\\x9c]a\\x9c\\x185\\xcb\\xacU\\x9e\\xa6\\xf5gZ\\xa8\\x1e56v\\xb6\\x8dk9\\xa4K%\\xd1\\xb8\\xb6\\xb2U\\xb8nI*\\xe9\\xbe4\\xc6\\x10\\x83\\xa4\\xabs\\x9c\\xa1\\xc9\\xa4\\xcb\\xe8\\xec\\xe3\\x93qR\\xe5\\xbd)\\xd3\\xe5\\xc3d\\xd0\\xb8\\xa2\\xda\\xd4f\\x98D\\xe3j\\xca\\xffI\\x98T{\\x89oo\\xe2\\x0b\\x99\\x8c\\x14\\x91\\x83o!\\x15Q\\xd3[>+\\xbb8\"\\x94\\xda\\xf9%\\xf6=\\x92y\\xceS\\x19\\xb4\\xae\\xa88\\xb5I%ZW\\xf3\\xf7\\x85J5\\x92\\xd8\\xb6%\\xddgO\\x0b_\\x85\\x1cL*\\xdaY~X90\\x03\\xa5k\\xb1\\xc8\\x12\\x91Tu\\x9a\\xd7\\xf7\\'A\\xfd\\xa8\\xb1\\xb1\\xb3\\xed`\\xcb!\\x97c\\'Y\\x92\\x97\\xbaVx\\xf2\\xe9\\x87=\\x03\\xa5\\xda\\xcc\\xf9v\\x1f\\x96d\\x89\\xa4\\xab\\xc9cSR\\xe9\\xb2\\x99[\\n12\\xa9\\x1av\\xc52\\x0b\\xc1\\xcb8A\\xf0\\x0eA\\xa9\\xed\\xedd\\xec\\x16;\\xdeN\\xbd\\x89\\x9d\\x8c5L[\\x98\\xb0Q\\xdd\\xff\\xf7!\\xe6\\xd1w\\xe5\\x18\"\\xbb\\xf8\\x7fo\\xd5\\xec\\x85=s\\xec(\\xff\"\\xbd\\xa7U\\x87\\x82\\x8dd\\x06\\xa1x\\x03\\x9b@\\xa9M,\\x14sQ\\x84J[\\xe0\\xbf\\xddG\\xa7I*FN\\xa8\\xa8\\xea\\x07\\x8f\\xed\\xb9\\xd4\\xc8\\xa3\\xf6\\x9b\\xcc\\x9a\\xbf\\x0f\\x921\\x03\\x8b\\x02\\xc7.\\x99$<j\\x93\\x05\\x0fu\\x8c\\xc2\\xa3\\xbaI\\x0c\\r\\xf7s\\tC\\xb50\\xaa\\x18#\"\\xc7A\\xf7\\xb3\\x95c\\xfe%\\x93nc\\xd5\\x01x&8\\xf5\\x81\\xa5W\\xe4\\xc3m&\\xb5\\xc9\\x82\\x89\\xf3\\xa2?\\xe1\\xd4\\xaa\\x9bd\\xbaX^J2Q\\xcd\\xdb\\x0f\"\\x115>\\x1a$\\x12\\x91\\xe3\\x03\\x1e\"\\xa9\\xb2\\xb9\\xb5\\xf2D\\xc6<,\\xf6\\xa7\\xdd&\\x12=\\xac\\xf1\\x8b\\x12%\\xd5K\\x82\\x88\\xf3-$\\xb2\\xa6\\x91\\x87ha\\xd9\\x9e8\\x8c\\xea\\xb36qTy\\xba\\xd5\\xc8\\xf4<\\xc6\\xfc\\xeb\\\\jmm\\xa4\\xd6\\xe8_\\xcd\\xe7r\\xc2\\xa3\\xfaH\\xf0\\x08\\xce\\x83D\\x8c\\xea\\x7f\\x17\\xa1\\x18\\xd9\\xfb1R1\\xb2\\xefM*U~\\xa9C\\xd9C\\x193\\xb0s\\xa9\\xb8\\xb5\\x01%Yy\\xd5\\x8b\"P\\xaa\\x91\\x9co\\xcd}z\\xd1\\x88D\\xb5\\xe0A\\x89D\\xe4\\xe0YHd]%\\x90\\xaa\\xa2z\\xa5\\x0cVOd\\xcc\\xbf\\xce\\xbe\\x86\\x96y\\xe2^~\\x0fg\\xe0\\xe8_\\xe3\\xe2<[\\xd596\\x0f\\x13Q\\xf5\\xcc\\xcb\\xf1\\tD\\xb4\\x10`\\x04\"\\xaa\\xebI\\x1cU3\\x1f\\xc7y\\x1ac\\xbe\\x151\\xbe\\x9dD\\xa2o5\\xef\\x81I|t{\\x99M5\\xa2\\xb9\\x89\\x8c,D\\x8b\\xefo\\x11\\x86\\xc8\\xf1&\\x81<\\xaa<=\\xac\\x0f\\x981\\xd7\\x8a\\xf8\\xde\\x06R\\x9b,\\xe6\\x99\\xb0.\\xcf\\x03\\xb5\\xf0\\x88.\\x8acF\\xe40(HE\\xd4xWG*\"\\xeb\\xef.\\x17\\x82H\\xaav\\xb7\\xfa\\xa6\\x00\\xdc,~\\xe2\\xff\\xff\\xcc\\xa4\\xb6\\xbf\\x9cC\\xca!\\x97F\\xde\\xec\\x06\\xd2cD\\xea\\\\\\xed\\xe2Dc\\xb4\\xcc\\x8e\\xa8\\x1c_\\xb4\\x07\\x10\\x95\\xc3:5\\x904\\x15[2\\xac%\\x11\\x14\\x94\\x1aC\\xb2\\xedX\\xcb!\\x97H\\xe2\\xea\\xfc,5\\xb0v\\xf1w!J.\\xc9\\x08\\x13\\x95\\xe3\\xe8 \\x95\\xeeh\\xfd\\xa7\\x92d\\xd2\\\\\\xeb\\xad\\xba \\x97JPRj\\x8c\\xc9\\xb6k-\\x87tL\\\\\\x04\\xc3\\xa1I!\\xac]X\\x04\"\\x92nL\\xa1\\xfa\\x19\\x94HD\\xce\\x96K\\x8c\\x1c{\\x93J\\xedmn\\x06=\\x14z\\xcc\\x91\\xb1S=i\\xbb\\x10\\xf8\\x16\\xc9e@\\xcc6(T\\xc5\\xa5\\x03\\x9bN\\xe2\\xda<[\\xb5t\\x12/5\\xa9\\x88\\x1c\\xe3\\x88TD\\x8e\\xbd\\x19(\"\\x07\\'G(U\\x9dV\\x8b\\x8b\\xcd\\xa8,5Fe\\xdb\\xba\\x96C:*\\x1a\\xaa\\x92Q\\xba\\xc9|\\x08\\'N(\\xeb*\\x99\\x88\\xea\\x8eK \\xa29\\'D\\x1cU\\x9bv;\\x9d\\x9f}\\x94\\x0cZ\\xd7PG+\\x89\\x92h]\\xe3\\xab\\xf3s\\xafu5\\xdd\\xbaa\\xf5\\x0e\\xe7\\xdd\\xacg\\xd0\\xc8\\xa2\\xdb\\xd2\\x87\\x90?ICz\\xea\\xed\\\\\\x9fn\\x9av\\xb7\\xbe=\\xc9\\x8c\\xb2Rc\\xd1\\xe1\\x17]\\x13\\x1a\\xd1\\xb3z\\xb3\\xcdD\\xd2\\xad\\xa5\\xf9\\xb8\\xbf\\x9c7i\\x88\\x16}\\x07\\x81t9\\xc92$\\xd2e\\xac9\\xf9?\\xcc\\x10\\xa9\\xf2=\\xde\\x1bX\\x9dq\\x06mk(\\xa5\\xa5G.?\\x89\\x89$\\xda\\xd6\\xb8:\\xcfV5\\x91`\\xc6\\xf1\\xa7N.Fv\\xb1O,\\xa2\\xa6\\xab\\x02*\\xc74C,\\xb5\\xf7\\xb43\\xcf\\xd3\\xfc\\xc8\\x19\\xf4\\xaf\\xa8F\\xb5\\\\wM\\xb0D\\xff\\x1a_\\x99\\x9f\\xa5\\xe8U>\\xe9\\x88\\r\\x8df\\x8eX\\xba\\xbc\\xcb\\x0c\\xbd\\xa8\\xfb\\xf0\\x8c\\x88Pj\\xdf\\x87Y=\\x91g2haQ\\x91j\\x93I\\xb4\\xb0q\\x85~\\x96\\x92X\\xf8YY\\xa8t\\x17j\\x12a\\x89E\\x12\\x11\\xcd9c\\x0e\\x1e\\xd5\\xfc*\\x0by4\\xd5\\xd4\\xcft<Paj(\\x9f\\x94\\xf6\\x97\\xfdkk\\xb2\\x98\\x835\\xbb\\x97\\x1f\\x85|\\xd2J[\\xe1\\xae#.za\\xe8\\xa8\\xac\\x97\\xb2\\xf3P-\\x1d8*\\xbb\\xae\\x00\\xd2\\xb4i2\\xfb\\xc8z\"\\x83\\xf6\\x15\\x05\\xa9\\xb6\"\\xa45\\xb1D\\xe2\\xd2<\\xf6_\\xea\\xae\\xc4\\xcd\\xa1\\xc4\\xa1\\x9a\\xbf\\xcc\\x08\\x10U\\xc3\\xa0@\\x88\\xa8\\xea\\xe61\\xf2\\xa8\\xc7\\xbd\\x9f\\xd6\\x93\\xeb`=\\xad\\xb9\\xb4\\xb7\\x11\\xe2\\xae\\x02\\x92kkby$\\x01\"\\xe63\\xfb\\xc6\\x84\\xc7h\\xa97\\x8e\\'\"\\x119\\xfb\\xf0\\xc6\\xc8nH\\x91I\\xed:\\x99\\xd5,\\x1f\"8\\xf3\\x11\\xe3\\x8aRT\\xcb\\x10I\\x90\\xd4&\\x16I\\xb2&\\xdfjZa%\\xc7\\xf1b\\x88t\\xdf\\xe95\\xd2\\x10-\\xcb\\xa9\\x17T\\xe2\\xa8}W\\xb7\\x14\\x98QQj\\x8c\\x867\\xac\\t\\x8d\\xdadA\\xc3\\x05/SH7\\x96\\xd9\\x8b\\xbf\\x97T\\x12\\x91\\xbe\\xd1\\xe3s\\xcc\\x88\\xecN\\x8e@\\xaa\\xb6\\xd7K\\xe0\\xc3c\\xd0\\xb1\\xa2\\x00\\xd5fxD\\xc7\\x1a7\\xb0\\x99\\xa5\\xd0U\\xfa&\\xd6E\\x99H\\xbaoEo?C\\x11\\xc9\\x05\\x99T\\xaal6\\xd4\\xf5T\\x06\\x9dk+\\x91\\xa5w{\\xeeJ0\\x8fD\\xe7\\x9a,\\xc9K\\xa9+\\xf3Rr\\x99J8h\\xba\\xf7\\xf4\\x1ay\\x88\\x96>\\xa2P\\xd9\\xa5k\\xc2h]\\xf5\\x89\\x89\\x871\\xe8XQzj3D\\xa2c5\\x19L\\xa6]1\\x9d\\xe1\\x01/q\\x185Y\\x0f\\xb0\\xb2\\xf3\\xb3\\x0c\\x90\\x0b\\x9d\\xc9\\xa4\\xca/W\\xd7\\x8dPIj,\\x8fx\\xbb\\x9a\\x04H\\xb4\\xab\\xf1m\\xf9Y*\\\\\\xf9\\x9fL\"\\xe2F\\xa3\\x0bg\\x8c\\xa8,7\\'\\x055y\\xa8\\x16\\xc6\\x13yTyZ\\xdd\\xfcxF%\\xa91 \\xde\\xab&@\\xa2WMV\\xe3\\xa5\\xbc\\xd5.\\xf9h\\x9c\\xa7\\xd5f\\xde\\x1c\\x89\\x91\\x93 1\\xaa\\xc7M(U~\\xa1g\\xee\\x06\\x0eJI\\r1)\\xed/\\xbb\\x91\\xd6d1\\xd9\\xe8\\xdf\\xef\\x03\\xa7\\xd5\\xb0\\xc2S\\x83\\xf4V\\xef\\x92\\x8c8Q9\\xba]\\x84\\xca%\\x19T\\x9a|g\\x16)<\\x96A\\xd3\\x8a\\xe2S[\\xf9\\xa45Y`qf\\ts\\xb0\\x14\\xb9\\xcaokT\\xd6\\xd9\\xb2\\x10%\\x93\\xeei\\xcdk2}\\xec\\xa8\\xe6\\xfa\\x91F\\xed\\x87\\x1d\\x17e\\xc8y\\x1a\\x83\\xab\\xad\\xa8<\\xb5I\\xa36Y\\xd0p\\xa7F\\x1a\\xddub\\xef\\'\\x17\\xfb\\xc8%\\xaa\\xc6\\t\\x85<\\xb4\\xb3\\xfc0\\xe1!Z|\\x89\\x9aH\\xaa\\x8c\\xfd\\x17\\xa5\\xa7G\\x823\\x1f\\xb1\\xac(<\\xb5\\x89\\xa46\\xb1H\\x92Ey)\\x7f\\x05$~\\xc0\\x93Iw\\xa6\\x89L&FN<\\x89\\x95\\xfd\\xc1\\x89\\xa5\\xf66;|{*\\x83\\xd6\\x15u\\xa96\\xa9D\\xeb\\x1a\\xdf\\x99\\x9f\\xa5\\xc0\\xd5.\\xde\\x9e\\x90J\\xb7\\x9f\\x90\\xfd\\xef\"\\x15\\x95\\xe5zK\\xa4\\xa8\\x96\\xcd:\\xad\\xebd\\xa6A\\xcfd\\xd0\\xbd\\xa2\\xf4\\xd4&\\x93\\xe8^\\xcd\\xe0-g\\xce\\xc1\\xd3\\rf\\\\\\xda!\\x12Q\\xdd\\x8d\\x00y\\x88\\x96\\xdd\\xffZ\\xd5\\xc3d\\x90\\xd4\\xce\\xd8\\xd4FXz\"\\x83\\xce\\x15\\x95\\xa76\\x89D\\xe7\\x1a\\xf7\\xb2\\x99\\xa5\\xbc\\x95\\x0f}\\xf2\\xe8\\xee\\xf4.\\xbd\\xffU9\\xd9P\\xc0t\\x8e\\x93\\x19\\x91\\xd4c\\xe3\\xbdy\\x9d\\x07=\\x93A\\x03\\x1bjg\\xe9\\x91\\xcb\\xf5\\x87\\x9boM\\x16\\xf9D\\xcd\\xa2DIw\\x99i\\xbdF\\x1e\\xa4\\x9a\\x13s\\xbfZ\\xba2LD\\xd3K]4\\xce\\xc0\\xa2\\x85E{\\x02\\xa9*\\xca\\xf1\\xe9\\x0c\\xe8\\x81\\x0c\\xbaWT\\x9e\\xda\\x0c\\x92\\xe8^} p\\xd8t\\x9b\\x19\\xdf\\x86^\\xd7HC\\xfa\\xb9KA\\x1a\\xaa\\xa5I\\xa4YW\\x14\\xf0X\\x1d3\\x83\\xde\\x15\\xa5\\xa76qD\\xef\\x9a,\\xc9K\\x85+|X\\xe1G;\\x87M\\xf7\\x9f\\xd8\\x92BO^\"D\\xd4\\xb84M,\\x17dFI\\x95\\xa7\\xfb\\xf5\\xb7\\x17QOjh\\x1a.\\xed/\\xdb\\xd7\\xd6d1l\\xdc\\x15E\\x94\\xb4BVx)\\xca\\r)0Q-\\x12Q->\\x9c\\x01\\x11\\x95C\\x9a\\x01\\x90\\xa6N\\xf7\\xebo\\x1c\\xa1\\x98\\xd4\\x18\\x90m\\xe3Z\\x0e\\xe9\\x9ev\\xea\\xb0\\xedyD\\x8a\\\\\\x99\\xe7\\'E#\\x90\\xeeL\\x93Ol0rT\\x8e\\xa9\\x97L\\xb4\\xb7\\x8c\\x8erd\\x12\\xa9\\xda\\xde\\x8cU\\x97GPKj\\x0c\\xc8\\xb6w-\\x87t@\\xa2w\\x95\\x1aW\\xf8\\xba5\\x198*g\\x03GT|\\xec\\xe9;\\x13I\\xb7\\xaf\\xbb\\xd4\\xbe6\\xf9\\xc54\\xebu\\xf2Xh6\\x07\\xde\\x15@\\xf1\\xa9\\xad|\\xd2\\x9a\\xd8\\x81\\x93\\xac\\xcaK\\x8d\\xab\\xe4=\\x1b\\xa3%\\xc9D\\xd5\\xf41\\x85\\xca\\xe1&\\x9b\\x81R\\xad\\xeb\\x1e\\xe8$\\x88*\\x92\\x9b\\xe7\\xcf\\x87\\xc3\\xf9\\xdd\\xe3\\xf9\\xf1\\xcd\\xab\\xef\\x8fO\\x87_\\x1fOO_\\xbe=_\\xfdy\\xf8t~}\\x8dkw}u\\xfa\\xf2\\xf4\\xb9\\xff\\xf7\\xf9\\xf8\\xbd\\xfc_X\\xb0\\x0f\\xc7\\xf3\\xf9\\xf8\\xb5\\xff\\xeb\\xf3\\xe1\\xf1\\xe3\\xe1\\xc4\\x7f\\x81\\xc0\\xa7\\xe3\\xf1\\xdc\\xffq\\xf3\\xe6\\xd5\\x97\\xa7o\\xc7\\xd3\\xe1\\xe3\\xfb\\xd3\\xe9xz^\\xfe\\xf3\\xea\\xf9\\xaf\\xd3\\xe1\\xd3\\xeb\\xeb\\xb7\\xd3\\x0f\\x98\\xb3q\\x9aW\\xdf\\xfe\\xfe\\xfa\\xe1p\\xfa\\xed\\xcc\\x1e?>\\xff~\\xf8\\x17\\x7fz\\xba\\xc6Qn\\xdcan\\xfe9\\x9e\\xfe(g\\xff\\xe6?\\x00\\x00\\x00\\xff\\xff\\x03\\x00PK\\x03\\x04\\x14\\x00\\x06\\x00\\x08\\x00\\x00\\x00!\\x00\\x0c\\xc3Z\\xa8Q\\x01\\x00\\x00j\\x02\\x00\\x00\\x11\\x00\\x08\\x01docProps/core.xml \\xa2\\x04\\x01(\\xa0\\x00\\x01\\x00\\x00\\x00\\x00\\x00\\x00\\x00\\x00\\x00\\x00\\x00\\x00\\x00\\x00\\x00\\x00\\x00\\x00\\x00\\x00\\x00\\x00\\x00\\x00\\x00\\x00\\x00\\x00\\x00\\x00\\x00\\x00\\x00\\x00\\x00\\x00\\x00\\x00\\x00\\x00\\x00\\x00\\x00\\x00\\x00\\x00\\x00\\x00\\x00\\x00\\x00\\x00\\x00\\x00\\x00\\x00\\x00\\x00\\x00\\x00\\x00\\x00\\x00\\x00\\x00\\x00\\x00\\x00\\x00\\x00\\x00\\x00\\x00\\x00\\x00\\x00\\x00\\x00\\x00\\x00\\x00\\x00\\x00\\x00\\x00\\x00\\x00\\x00\\x00\\x00\\x00\\x00\\x00\\x00\\x00\\x00\\x00\\x00\\x00\\x00\\x00\\x00\\x00\\x00\\x00\\x00\\x00\\x00\\x00\\x00\\x00\\x00\\x00\\x00\\x00\\x00\\x00\\x00\\x00\\x00\\x00\\x00\\x00\\x00\\x00\\x00\\x00\\x00\\x00\\x00\\x00\\x00\\x00\\x00\\x00\\x00\\x00\\x00\\x00\\x00\\x00\\x00\\x00\\x00\\x00\\x00\\x00\\x00\\x00\\x00\\x00\\x00\\x00\\x00\\x00\\x00\\x00\\x00\\x00\\x00\\x00\\x00\\x00\\x00\\x00\\x00\\x00\\x00\\x00\\x00\\x00\\x00\\x00\\x00\\x00\\x00\\x00\\x00\\x00\\x00\\x00\\x00\\x00\\x00\\x00\\x00\\x00\\x00\\x00\\x00\\x00\\x00\\x00\\x00\\x00\\x00\\x00\\x00\\x00\\x00\\x00\\x00\\x00\\x00\\x00\\x00\\x00\\x00\\x00\\x00\\x00\\x00\\x00\\x00\\x00\\x00\\x00\\x00\\x00\\x00\\x00\\x00\\x00\\x00\\x00\\x00\\x00\\x00\\x00\\x00\\x00\\x00\\x00\\x00\\x00\\x00\\x00\\x00\\x00\\x00\\x00\\x00\\x00\\x00\\x00\\x00\\x00\\x00\\x00\\x00\\x00\\x00\\x00\\x00\\x00\\x00\\x8c\\x92QO\\x830\\x14\\x85\\xdfM\\xfc\\x0f\\xa4\\xefP`S\\xb7\\x06X\\xa2\\x86\\'MLd\\x99\\xf1\\xadi\\xef\\xb6Fh\\x9b\\xb6\\xca\\xf6\\xef-\\xb0!\\x8b>\\xf8\\xd8\\x9es\\xbf\\x9es\\xd3luh\\xea\\xe0\\x0b\\x8c\\x15J\\xe6(\\x89b\\x14\\x80d\\x8a\\x0b\\xb9\\xcb\\xd1\\xba*\\xc3\\x05\\n\\xac\\xa3\\x92\\xd3ZI\\xc8\\xd1\\x11,Z\\x15\\xd7W\\x19\\xd3\\x84)\\x03/Fi0N\\x80\\r<IZ\\xc2t\\x8e\\xf6\\xcei\\x82\\xb1e{h\\xa8\\x8d\\xbcCzq\\xabLC\\x9d?\\x9a\\x1d\\xd6\\x94}\\xd0\\x1d\\xe04\\x8eoq\\x03\\x8er\\xea(\\xee\\x80\\xa1\\x1e\\x89\\xe8\\x84\\xe4lD\\xeaOS\\xf7\\x00\\xce0\\xd4\\xd0\\x80t\\x16\\'Q\\x82\\x7f\\xbc\\x0eLc\\xff\\x1c\\xe8\\x95\\x89\\xb3\\x11\\xee\\xa8}\\xa7S\\xdc)\\x9b\\xb3A\\x1c\\xdd\\x07+Fc\\xdb\\xb6Q;\\xebc\\xf8\\xfc\\t~{~z\\xed\\xab\\x86Bv\\xbbb\\x80\\x8a\\x8c3\\xc2\\x0cP\\xa7LQ\\x8aZh\\xad\\x82\\x12\\x8c\\x11\\x19\\x9e(\\xdd\\x16kj\\xdd\\xb3_\\xf8V\\x00\\xbf?\\x16\\x1b!\\xb9jm\\xb0\\xb6`2\\xfc[\\xf7\\xe0\\xbe\\xc7@\\x07\\x1e\\xf8dd\\xe8qV6\\xb3\\x87\\xc7\\xaaDE\\x1a\\xa7i\\x98\\xa4a<\\xaf\\x92%\\x89\\x97d\\x1e\\xbfw\\xcf_\\xccwI\\x87\\x8b\\xe6\\x14\\xe2?\\xc4\\x9b*IH\\xbc \\xf3\\xbb\\t\\xf1\\x0c(\\xfa\\xdc\\x97\\xbf\\xa3\\xf8\\x06\\x00\\x00\\xff\\xff\\x03\\x00PK\\x03\\x04\\x14\\x00\\x06\\x00\\x08\\x00\\x00\\x00!\\x00\\x9bJw\\x10\\x8b\\x01\\x00\\x00\\x13\\x03\\x00\\x00\\x10\\x00\\x08\\x01docProps/app.xml \\xa2\\x04\\x01(\\xa0\\x00\\x01\\x00\\x00\\x00\\x00\\x00\\x00\\x00\\x00\\x00\\x00\\x00\\x00\\x00\\x00\\x00\\x00\\x00\\x00\\x00\\x00\\x00\\x00\\x00\\x00\\x00\\x00\\x00\\x00\\x00\\x00\\x00\\x00\\x00\\x00\\x00\\x00\\x00\\x00\\x00\\x00\\x00\\x00\\x00\\x00\\x00\\x00\\x00\\x00\\x00\\x00\\x00\\x00\\x00\\x00\\x00\\x00\\x00\\x00\\x00\\x00\\x00\\x00\\x00\\x00\\x00\\x00\\x00\\x00\\x00\\x00\\x00\\x00\\x00\\x00\\x00\\x00\\x00\\x00\\x00\\x00\\x00\\x00\\x00\\x00\\x00\\x00\\x00\\x00\\x00\\x00\\x00\\x00\\x00\\x00\\x00\\x00\\x00\\x00\\x00\\x00\\x00\\x00\\x00\\x00\\x00\\x00\\x00\\x00\\x00\\x00\\x00\\x00\\x00\\x00\\x00\\x00\\x00\\x00\\x00\\x00\\x00\\x00\\x00\\x00\\x00\\x00\\x00\\x00\\x00\\x00\\x00\\x00\\x00\\x00\\x00\\x00\\x00\\x00\\x00\\x00\\x00\\x00\\x00\\x00\\x00\\x00\\x00\\x00\\x00\\x00\\x00\\x00\\x00\\x00\\x00\\x00\\x00\\x00\\x00\\x00\\x00\\x00\\x00\\x00\\x00\\x00\\x00\\x00\\x00\\x00\\x00\\x00\\x00\\x00\\x00\\x00\\x00\\x00\\x00\\x00\\x00\\x00\\x00\\x00\\x00\\x00\\x00\\x00\\x00\\x00\\x00\\x00\\x00\\x00\\x00\\x00\\x00\\x00\\x00\\x00\\x00\\x00\\x00\\x00\\x00\\x00\\x00\\x00\\x00\\x00\\x00\\x00\\x00\\x00\\x00\\x00\\x00\\x00\\x00\\x00\\x00\\x00\\x00\\x00\\x00\\x00\\x00\\x00\\x00\\x00\\x00\\x00\\x00\\x00\\x00\\x00\\x00\\x00\\x00\\x00\\x00\\x00\\x00\\x00\\x00\\x00\\x00\\x00\\x00\\x00\\x00\\x00\\x00\\x00\\x00\\x00\\x9c\\x92\\xc1n\\xdb0\\x0c\\x86\\xef\\x03\\xf6\\x0e\\x82\\xee\\x8d\\x9c\\xae\\x18\\x86@VQ\\xa4+zh\\xb1\\x00I{ge:\\x11&K\\x86\\xc4\\x1a\\xc9\\x9e~\\xb4\\x8d4N\\xdbSo$\\x7f\\xea\\xd7\\'R\\xfaz\\xdfx\\xd1a\\xca.\\x86R\\xceg\\x85\\x14\\x18l\\xac\\\\\\xd8\\x96\\xf2isw\\xf1K\\x8aL\\x10*\\xf01`)\\x0f\\x98\\xe5\\xb5\\xf9\\xfeM\\xafRl1\\x91\\xc3,\\xd8\"\\xe4R\\xee\\x88\\xda\\x85R\\xd9\\xee\\xb0\\x81<c9\\xb0R\\xc7\\xd4\\x00q\\x9a\\xb6*\\xd6\\xb5\\xb3x\\x1b\\xedk\\x83\\x81\\xd4eQ\\xfcT\\xb8\\'\\x0c\\x15V\\x17\\xed\\x9b\\xa1\\x1c\\x1d\\x17\\x1d}\\xd5\\xb4\\x8a\\xb6\\xe7\\xcb\\xcf\\x9bC\\xcb\\xc0F\\xdf\\xb4\\xadw\\x16\\x88_i\\x1e\\x9dM1\\xc7\\x9a\\xc4\\xef\\xbdE\\xaf\\xd5T\\xd4L\\xb7F\\xfb\\x9a\\x1c\\x1dL\\xa1\\xd54\\xd5k\\x0b\\x1e\\x97llj\\xf0\\x19\\xb5:\\x15\\xf4=B?\\xb4\\x15\\xb8\\x94\\x8d\\xeeh\\xd1\\xa1\\xa5\\x98Dv\\xffxl\\x97R\\xbc@\\xc6\\x1e\\xa7\\x94\\x1d$\\x07\\x81\\x18\\xabo\\x1b\\x93!\\xf6m\\xa6d\\xee\\xe2\\xd6;Q9\\xe1\\xa1\\x8b)j\\xc5]\\xa32\\x84\\xd3\\x03\\xd3\\xd8]\\x99\\xf9\\xd0\\xc0\\xc1yco0\\xd2\\xb0p\\xce\\xb9q\\xe41\\xff\\xa9W\\x90\\xe8\\x13\\xec\\xf9\\x14{`\\x18\\xa1G\\x9c\\x98x\\x04\\xef\\xe0\\x86G\\xf35\\xef\\x8c\\x97\\xb1i!\\x1cXx\\x8b\\x1e\\\\\\xf8\\x9b\\x9f\\xdaM\\xbc\\x05\\xc2\\xe3@\\xcf\\x8bz\\xbd\\x83\\x84\\x15\\xef\\xe0\\xa8\\x9f\\n\\xfa\\x9eg\\x99|o\\xb2\\xdcA\\xd8bu\\xec\\xf9(\\xf4\\xeb\\x7f\\x1e\\xff\\xb8\\x99_\\xcd\\x8a\\x1f\\x05ovR\\xd3\\xea\\xf4\\x9b\\xcd\\x7f\\x00\\x00\\x00\\xff\\xff\\x03\\x00PK\\x01\\x02-\\x00\\x14\\x00\\x06\\x00\\x08\\x00\\x00\\x00!\\x00b\\xee\\x9dha\\x01\\x00\\x00\\x90\\x04\\x00\\x00\\x13\\x00\\x00\\x00\\x00\\x00\\x00\\x00\\x00\\x00\\x00\\x00\\x00\\x00\\x00\\x00\\x00\\x00[Content_Types].xmlPK\\x01\\x02-\\x00\\x14\\x00\\x06\\x00\\x08\\x00\\x00\\x00!\\x00\\xb5U0#\\xf5\\x00\\x00\\x00L\\x02\\x00\\x00\\x0b\\x00\\x00\\x00\\x00\\x00\\x00\\x00\\x00\\x00\\x00\\x00\\x00\\x00\\x9a\\x03\\x00\\x00_rels/.relsPK\\x01\\x02-\\x00\\x14\\x00\\x06\\x00\\x08\\x00\\x00\\x00!\\x00\\x81>\\x94\\x97\\xf4\\x00\\x00\\x00\\xba\\x02\\x00\\x00\\x1a\\x00\\x00\\x00\\x00\\x00\\x00\\x00\\x00\\x00\\x00\\x00\\x00\\x00\\xc0\\x06\\x00\\x00xl/_rels/workbook.xml.relsPK\\x01\\x02-\\x00\\x14\\x00\\x06\\x00\\x08\\x00\\x00\\x00!\\x00SE\\xe9z!\\x02\\x00\\x00\\xa7\\x04\\x00\\x00\\x0f\\x00\\x00\\x00\\x00\\x00\\x00\\x00\\x00\\x00\\x00\\x00\\x00\\x00\\xf4\\x08\\x00\\x00xl/workbook.xmlPK\\x01\\x02-\\x00\\x14\\x00\\x06\\x00\\x08\\x00\\x00\\x00!\\x00\\x8a\\x07\\xc4 \\r\\x01\\x00\\x00B\\x03\\x00\\x00\\x14\\x00\\x00\\x00\\x00\\x00\\x00\\x00\\x00\\x00\\x00\\x00\\x00\\x00B\\x0b\\x00\\x00xl/sharedStrings.xmlPK\\x01\\x02-\\x00\\x14\\x00\\x06\\x00\\x08\\x00\\x00\\x00!\\x00w\\')\\xc9\\x88\\x07\\x00\\x00\\xcf \\x00\\x00\\x13\\x00\\x00\\x00\\x00\\x00\\x00\\x00\\x00\\x00\\x00\\x00\\x00\\x00\\x81\\x0c\\x00\\x00xl/theme/theme1.xmlPK\\x01\\x02-\\x00\\x14\\x00\\x06\\x00\\x08\\x00\\x00\\x00!\\x00\\x91\\xb8v\\xf1\\xc9\\x02\\x00\\x00\\x14\\x07\\x00\\x00\\r\\x00\\x00\\x00\\x00\\x00\\x00\\x00\\x00\\x00\\x00\\x00\\x00\\x00:\\x14\\x00\\x00xl/styles.xmlPK\\x01\\x02-\\x00\\x14\\x00\\x06\\x00\\x08\\x00\\x00\\x00!\\x00(DKG\\xcb\\xff\\x00\\x00\\xf0\\xef\\x05\\x00\\x18\\x00\\x00\\x00\\x00\\x00\\x00\\x00\\x00\\x00\\x00\\x00\\x00\\x00.\\x17\\x00\\x00xl/worksheets/sheet1.xmlPK\\x01\\x02-\\x00\\x14\\x00\\x06\\x00\\x08\\x00\\x00\\x00!\\x00\\x0c\\xc3Z\\xa8Q\\x01\\x00\\x00j\\x02\\x00\\x00\\x11\\x00\\x00\\x00\\x00\\x00\\x00\\x00\\x00\\x00\\x00\\x00\\x00\\x00/\\x17\\x01\\x00docProps/core.xmlPK\\x01\\x02-\\x00\\x14\\x00\\x06\\x00\\x08\\x00\\x00\\x00!\\x00\\x9bJw\\x10\\x8b\\x01\\x00\\x00\\x13\\x03\\x00\\x00\\x10\\x00\\x00\\x00\\x00\\x00\\x00\\x00\\x00\\x00\\x00\\x00\\x00\\x00\\xb7\\x19\\x01\\x00docProps/app.xmlPK\\x05\\x06\\x00\\x00\\x00\\x00\\n\\x00\\n\\x00\\x80\\x02\\x00\\x00x\\x1c\\x01\\x00\\x00\\x00'}"
            ]
          },
          "metadata": {},
          "execution_count": 1
        }
      ],
      "source": [
        "from google.colab import files\n",
        "files.upload()"
      ]
    },
    {
      "cell_type": "code",
      "source": [
        "!pip install transformers"
      ],
      "metadata": {
        "colab": {
          "base_uri": "https://localhost:8080/"
        },
        "id": "batcfY6hKVj7",
        "outputId": "5a36e86e-cd8e-4f65-e17d-0acd21d90dde"
      },
      "execution_count": null,
      "outputs": [
        {
          "output_type": "stream",
          "name": "stdout",
          "text": [
            "Looking in indexes: https://pypi.org/simple, https://us-python.pkg.dev/colab-wheels/public/simple/\n",
            "Collecting transformers\n",
            "  Downloading transformers-4.25.1-py3-none-any.whl (5.8 MB)\n",
            "\u001b[K     |████████████████████████████████| 5.8 MB 32.2 MB/s \n",
            "\u001b[?25hRequirement already satisfied: pyyaml>=5.1 in /usr/local/lib/python3.8/dist-packages (from transformers) (6.0)\n",
            "Collecting tokenizers!=0.11.3,<0.14,>=0.11.1\n",
            "  Downloading tokenizers-0.13.2-cp38-cp38-manylinux_2_17_x86_64.manylinux2014_x86_64.whl (7.6 MB)\n",
            "\u001b[K     |████████████████████████████████| 7.6 MB 67.0 MB/s \n",
            "\u001b[?25hRequirement already satisfied: regex!=2019.12.17 in /usr/local/lib/python3.8/dist-packages (from transformers) (2022.6.2)\n",
            "Requirement already satisfied: packaging>=20.0 in /usr/local/lib/python3.8/dist-packages (from transformers) (21.3)\n",
            "Requirement already satisfied: filelock in /usr/local/lib/python3.8/dist-packages (from transformers) (3.8.0)\n",
            "Requirement already satisfied: requests in /usr/local/lib/python3.8/dist-packages (from transformers) (2.23.0)\n",
            "Collecting huggingface-hub<1.0,>=0.10.0\n",
            "  Downloading huggingface_hub-0.11.1-py3-none-any.whl (182 kB)\n",
            "\u001b[K     |████████████████████████████████| 182 kB 75.4 MB/s \n",
            "\u001b[?25hRequirement already satisfied: numpy>=1.17 in /usr/local/lib/python3.8/dist-packages (from transformers) (1.21.6)\n",
            "Requirement already satisfied: tqdm>=4.27 in /usr/local/lib/python3.8/dist-packages (from transformers) (4.64.1)\n",
            "Requirement already satisfied: typing-extensions>=3.7.4.3 in /usr/local/lib/python3.8/dist-packages (from huggingface-hub<1.0,>=0.10.0->transformers) (4.1.1)\n",
            "Requirement already satisfied: pyparsing!=3.0.5,>=2.0.2 in /usr/local/lib/python3.8/dist-packages (from packaging>=20.0->transformers) (3.0.9)\n",
            "Requirement already satisfied: chardet<4,>=3.0.2 in /usr/local/lib/python3.8/dist-packages (from requests->transformers) (3.0.4)\n",
            "Requirement already satisfied: urllib3!=1.25.0,!=1.25.1,<1.26,>=1.21.1 in /usr/local/lib/python3.8/dist-packages (from requests->transformers) (1.24.3)\n",
            "Requirement already satisfied: idna<3,>=2.5 in /usr/local/lib/python3.8/dist-packages (from requests->transformers) (2.10)\n",
            "Requirement already satisfied: certifi>=2017.4.17 in /usr/local/lib/python3.8/dist-packages (from requests->transformers) (2022.9.24)\n",
            "Installing collected packages: tokenizers, huggingface-hub, transformers\n",
            "Successfully installed huggingface-hub-0.11.1 tokenizers-0.13.2 transformers-4.25.1\n"
          ]
        }
      ]
    },
    {
      "cell_type": "code",
      "source": [
        "import numpy as np\n",
        "import pandas as pd\n",
        "import matplotlib.pyplot as plt\n",
        "from sklearn.preprocessing import MinMaxScaler, StandardScaler\n",
        "import tensorflow as tf\n",
        "from tensorflow.keras.utils import timeseries_dataset_from_array\n",
        "from tensorflow.keras import Input, Model\n",
        "from tensorflow.keras.layers import LSTM, Bidirectional, Dropout, Dense, MultiHeadAttention, GlobalAveragePooling1D, Conv1D, GlobalMaxPool1D, MaxPool1D"
      ],
      "metadata": {
        "id": "suInlvinWPg2"
      },
      "execution_count": null,
      "outputs": []
    },
    {
      "cell_type": "code",
      "source": [
        "df = pd.read_excel('Prezzi orari mes.xlsx', parse_dates = True, index_col = 'Date')\n",
        "df.head()"
      ],
      "metadata": {
        "colab": {
          "base_uri": "https://localhost:8080/",
          "height": 238
        },
        "id": "N8XytbWHWnGS",
        "outputId": "da8b39d6-63be-4f4f-ddbb-c35744e28c91"
      },
      "execution_count": null,
      "outputs": [
        {
          "output_type": "execute_result",
          "data": {
            "text/plain": [
              "              Hour     open     high      low    close  volume\n",
              "Date                                                          \n",
              "2022-09-07  220100  3993.75  4000.75  3993.75  3999.50      26\n",
              "2022-09-07  230000  3997.75  3997.75  3997.75  3997.75       3\n",
              "2022-09-08       0  3993.75  3994.00  3993.25  3993.75      28\n",
              "2022-09-08   10000  3999.00  3999.00  3999.00  3999.00       3\n",
              "2022-09-08   20000  3998.50  3998.75  3998.50  3998.75      12"
            ],
            "text/html": [
              "\n",
              "  <div id=\"df-5739e24b-c3bb-4e67-b597-5bf425707b90\">\n",
              "    <div class=\"colab-df-container\">\n",
              "      <div>\n",
              "<style scoped>\n",
              "    .dataframe tbody tr th:only-of-type {\n",
              "        vertical-align: middle;\n",
              "    }\n",
              "\n",
              "    .dataframe tbody tr th {\n",
              "        vertical-align: top;\n",
              "    }\n",
              "\n",
              "    .dataframe thead th {\n",
              "        text-align: right;\n",
              "    }\n",
              "</style>\n",
              "<table border=\"1\" class=\"dataframe\">\n",
              "  <thead>\n",
              "    <tr style=\"text-align: right;\">\n",
              "      <th></th>\n",
              "      <th>Hour</th>\n",
              "      <th>open</th>\n",
              "      <th>high</th>\n",
              "      <th>low</th>\n",
              "      <th>close</th>\n",
              "      <th>volume</th>\n",
              "    </tr>\n",
              "    <tr>\n",
              "      <th>Date</th>\n",
              "      <th></th>\n",
              "      <th></th>\n",
              "      <th></th>\n",
              "      <th></th>\n",
              "      <th></th>\n",
              "      <th></th>\n",
              "    </tr>\n",
              "  </thead>\n",
              "  <tbody>\n",
              "    <tr>\n",
              "      <th>2022-09-07</th>\n",
              "      <td>220100</td>\n",
              "      <td>3993.75</td>\n",
              "      <td>4000.75</td>\n",
              "      <td>3993.75</td>\n",
              "      <td>3999.50</td>\n",
              "      <td>26</td>\n",
              "    </tr>\n",
              "    <tr>\n",
              "      <th>2022-09-07</th>\n",
              "      <td>230000</td>\n",
              "      <td>3997.75</td>\n",
              "      <td>3997.75</td>\n",
              "      <td>3997.75</td>\n",
              "      <td>3997.75</td>\n",
              "      <td>3</td>\n",
              "    </tr>\n",
              "    <tr>\n",
              "      <th>2022-09-08</th>\n",
              "      <td>0</td>\n",
              "      <td>3993.75</td>\n",
              "      <td>3994.00</td>\n",
              "      <td>3993.25</td>\n",
              "      <td>3993.75</td>\n",
              "      <td>28</td>\n",
              "    </tr>\n",
              "    <tr>\n",
              "      <th>2022-09-08</th>\n",
              "      <td>10000</td>\n",
              "      <td>3999.00</td>\n",
              "      <td>3999.00</td>\n",
              "      <td>3999.00</td>\n",
              "      <td>3999.00</td>\n",
              "      <td>3</td>\n",
              "    </tr>\n",
              "    <tr>\n",
              "      <th>2022-09-08</th>\n",
              "      <td>20000</td>\n",
              "      <td>3998.50</td>\n",
              "      <td>3998.75</td>\n",
              "      <td>3998.50</td>\n",
              "      <td>3998.75</td>\n",
              "      <td>12</td>\n",
              "    </tr>\n",
              "  </tbody>\n",
              "</table>\n",
              "</div>\n",
              "      <button class=\"colab-df-convert\" onclick=\"convertToInteractive('df-5739e24b-c3bb-4e67-b597-5bf425707b90')\"\n",
              "              title=\"Convert this dataframe to an interactive table.\"\n",
              "              style=\"display:none;\">\n",
              "        \n",
              "  <svg xmlns=\"http://www.w3.org/2000/svg\" height=\"24px\"viewBox=\"0 0 24 24\"\n",
              "       width=\"24px\">\n",
              "    <path d=\"M0 0h24v24H0V0z\" fill=\"none\"/>\n",
              "    <path d=\"M18.56 5.44l.94 2.06.94-2.06 2.06-.94-2.06-.94-.94-2.06-.94 2.06-2.06.94zm-11 1L8.5 8.5l.94-2.06 2.06-.94-2.06-.94L8.5 2.5l-.94 2.06-2.06.94zm10 10l.94 2.06.94-2.06 2.06-.94-2.06-.94-.94-2.06-.94 2.06-2.06.94z\"/><path d=\"M17.41 7.96l-1.37-1.37c-.4-.4-.92-.59-1.43-.59-.52 0-1.04.2-1.43.59L10.3 9.45l-7.72 7.72c-.78.78-.78 2.05 0 2.83L4 21.41c.39.39.9.59 1.41.59.51 0 1.02-.2 1.41-.59l7.78-7.78 2.81-2.81c.8-.78.8-2.07 0-2.86zM5.41 20L4 18.59l7.72-7.72 1.47 1.35L5.41 20z\"/>\n",
              "  </svg>\n",
              "      </button>\n",
              "      \n",
              "  <style>\n",
              "    .colab-df-container {\n",
              "      display:flex;\n",
              "      flex-wrap:wrap;\n",
              "      gap: 12px;\n",
              "    }\n",
              "\n",
              "    .colab-df-convert {\n",
              "      background-color: #E8F0FE;\n",
              "      border: none;\n",
              "      border-radius: 50%;\n",
              "      cursor: pointer;\n",
              "      display: none;\n",
              "      fill: #1967D2;\n",
              "      height: 32px;\n",
              "      padding: 0 0 0 0;\n",
              "      width: 32px;\n",
              "    }\n",
              "\n",
              "    .colab-df-convert:hover {\n",
              "      background-color: #E2EBFA;\n",
              "      box-shadow: 0px 1px 2px rgba(60, 64, 67, 0.3), 0px 1px 3px 1px rgba(60, 64, 67, 0.15);\n",
              "      fill: #174EA6;\n",
              "    }\n",
              "\n",
              "    [theme=dark] .colab-df-convert {\n",
              "      background-color: #3B4455;\n",
              "      fill: #D2E3FC;\n",
              "    }\n",
              "\n",
              "    [theme=dark] .colab-df-convert:hover {\n",
              "      background-color: #434B5C;\n",
              "      box-shadow: 0px 1px 3px 1px rgba(0, 0, 0, 0.15);\n",
              "      filter: drop-shadow(0px 1px 2px rgba(0, 0, 0, 0.3));\n",
              "      fill: #FFFFFF;\n",
              "    }\n",
              "  </style>\n",
              "\n",
              "      <script>\n",
              "        const buttonEl =\n",
              "          document.querySelector('#df-5739e24b-c3bb-4e67-b597-5bf425707b90 button.colab-df-convert');\n",
              "        buttonEl.style.display =\n",
              "          google.colab.kernel.accessAllowed ? 'block' : 'none';\n",
              "\n",
              "        async function convertToInteractive(key) {\n",
              "          const element = document.querySelector('#df-5739e24b-c3bb-4e67-b597-5bf425707b90');\n",
              "          const dataTable =\n",
              "            await google.colab.kernel.invokeFunction('convertToInteractive',\n",
              "                                                     [key], {});\n",
              "          if (!dataTable) return;\n",
              "\n",
              "          const docLinkHtml = 'Like what you see? Visit the ' +\n",
              "            '<a target=\"_blank\" href=https://colab.research.google.com/notebooks/data_table.ipynb>data table notebook</a>'\n",
              "            + ' to learn more about interactive tables.';\n",
              "          element.innerHTML = '';\n",
              "          dataTable['output_type'] = 'display_data';\n",
              "          await google.colab.output.renderOutput(dataTable, element);\n",
              "          const docLink = document.createElement('div');\n",
              "          docLink.innerHTML = docLinkHtml;\n",
              "          element.appendChild(docLink);\n",
              "        }\n",
              "      </script>\n",
              "    </div>\n",
              "  </div>\n",
              "  "
            ]
          },
          "metadata": {},
          "execution_count": 4
        }
      ]
    },
    {
      "cell_type": "code",
      "source": [
        "train_size = 1300\n",
        "val_size = round((df.shape[0]-train_size)/2) + train_size\n",
        "seq_len = 48"
      ],
      "metadata": {
        "id": "ShbVPHS2Wn4b"
      },
      "execution_count": null,
      "outputs": []
    },
    {
      "cell_type": "code",
      "source": [
        "X = df[['Hour', 'open']]\n",
        "X = np.array(X, dtype = np.float32)\n",
        "y = np.expand_dims(np.array(df.close, dtype = np.float32), axis = 1)\n",
        "X_scaler = MinMaxScaler()\n",
        "X_train = X[:train_size]\n",
        "X_scaler.fit(X_train)\n",
        "X_train = X_scaler.transform(X_train)\n",
        "#X_train = np.expand_dims(X_train, axis = 2)\n",
        "X_val = X[train_size:val_size]\n",
        "X_val = X_scaler.transform(X_val)\n",
        "#X_val = np.expand_dims(X_val, axis = 2)\n",
        "X_test = X[val_size:]\n",
        "X_test = X_scaler.transform(X_test)\n",
        "#X_test = np.expand_dims(X_test, axis = 2)\n",
        "y_train = y[seq_len:train_size]\n",
        "Y_scaler = MinMaxScaler()\n",
        "Y_scaler.fit(y_train)\n",
        "y_train = Y_scaler.transform(y_train)\n",
        "y_val = y[train_size+seq_len:val_size]\n",
        "y_val = Y_scaler.transform(y_val)\n",
        "y_test = y[val_size+seq_len:]\n",
        "y_test = Y_scaler.transform(y_test)"
      ],
      "metadata": {
        "id": "RIYho8jeWqKD"
      },
      "execution_count": null,
      "outputs": []
    },
    {
      "cell_type": "code",
      "source": [
        "arr_train_X = np.zeros((len(X_train)-seq_len,seq_len,2),dtype=np.float32)\n",
        "for i in range (len(X_train)-seq_len):\n",
        "  arr_train_X[i] = X_train[i:i+seq_len]\n",
        "\n",
        "arr_val_X = np.zeros((len(X_val)-seq_len,seq_len,2),dtype=np.float32)\n",
        "for i in range (len(X_val)-seq_len):\n",
        "  arr_val_X[i] = X_val[i:i+seq_len]\n",
        "\n",
        "arr_test_X = np.zeros((len(X_test)-seq_len,seq_len,2),dtype=np.float32)\n",
        "for i in range (len(X_test)-seq_len):\n",
        "  arr_test_X[i] = X_test[i:i+seq_len]"
      ],
      "metadata": {
        "id": "KdvQvgzWWtxZ"
      },
      "execution_count": null,
      "outputs": []
    },
    {
      "cell_type": "code",
      "source": [
        "# model\n",
        "input_ = Input(shape=(seq_len,2))\n",
        "'''\n",
        "x = Bidirectional(LSTM(64, return_sequences=True))(input_)\n",
        "x = Bidirectional(LSTM(128, return_sequences=True))(x)\n",
        "x = Bidirectional(LSTM(128, return_sequences=True))(x)\n",
        "x = Bidirectional(LSTM(256, return_sequences=False))(x)\n",
        "x = Dense(256, activation = tf.nn.relu)(x)\n",
        "x = Dense(256, activation = tf.nn.relu)(x)\n",
        "x = Dense(1)(x)\n",
        "'''\n",
        "\n",
        "x = MultiHeadAttention()\n",
        "\n",
        "model = Model(inputs = input_, outputs = x)\n",
        "model.compile(optimizer = tf.keras.optimizers.Adam(),\n",
        "              loss = tf.keras.losses.MeanSquaredError(),\n",
        "              metrics = ['mae', 'mse'])\n",
        "\n",
        "training = model.fit(arr_train_X, y_train,\n",
        "                     validation_data = [arr_val_X, y_val],\n",
        "                     epochs = 200)"
      ],
      "metadata": {
        "colab": {
          "base_uri": "https://localhost:8080/",
          "height": 381
        },
        "id": "CFs-etWwWvsR",
        "outputId": "b5458819-b883-44b6-f2c4-4ea5436cc645"
      },
      "execution_count": null,
      "outputs": [
        {
          "output_type": "error",
          "ename": "KeyboardInterrupt",
          "evalue": "ignored",
          "traceback": [
            "\u001b[0;31m---------------------------------------------------------------------------\u001b[0m",
            "\u001b[0;31mKeyboardInterrupt\u001b[0m                         Traceback (most recent call last)",
            "\u001b[0;32m<ipython-input-8-84f7a64f7828>\u001b[0m in \u001b[0;36m<module>\u001b[0;34m\u001b[0m\n\u001b[1;32m      1\u001b[0m \u001b[0;31m# model\u001b[0m\u001b[0;34m\u001b[0m\u001b[0;34m\u001b[0m\u001b[0;34m\u001b[0m\u001b[0m\n\u001b[1;32m      2\u001b[0m \u001b[0minput_\u001b[0m \u001b[0;34m=\u001b[0m \u001b[0mInput\u001b[0m\u001b[0;34m(\u001b[0m\u001b[0mshape\u001b[0m\u001b[0;34m=\u001b[0m\u001b[0;34m(\u001b[0m\u001b[0mseq_len\u001b[0m\u001b[0;34m,\u001b[0m\u001b[0;36m2\u001b[0m\u001b[0;34m)\u001b[0m\u001b[0;34m)\u001b[0m\u001b[0;34m\u001b[0m\u001b[0;34m\u001b[0m\u001b[0m\n\u001b[0;32m----> 3\u001b[0;31m \u001b[0mx\u001b[0m \u001b[0;34m=\u001b[0m \u001b[0mBidirectional\u001b[0m\u001b[0;34m(\u001b[0m\u001b[0mLSTM\u001b[0m\u001b[0;34m(\u001b[0m\u001b[0;36m64\u001b[0m\u001b[0;34m,\u001b[0m \u001b[0mreturn_sequences\u001b[0m\u001b[0;34m=\u001b[0m\u001b[0;32mTrue\u001b[0m\u001b[0;34m)\u001b[0m\u001b[0;34m)\u001b[0m\u001b[0;34m(\u001b[0m\u001b[0minput_\u001b[0m\u001b[0;34m)\u001b[0m\u001b[0;34m\u001b[0m\u001b[0;34m\u001b[0m\u001b[0m\n\u001b[0m\u001b[1;32m      4\u001b[0m \u001b[0mx\u001b[0m \u001b[0;34m=\u001b[0m \u001b[0mBidirectional\u001b[0m\u001b[0;34m(\u001b[0m\u001b[0mLSTM\u001b[0m\u001b[0;34m(\u001b[0m\u001b[0;36m128\u001b[0m\u001b[0;34m,\u001b[0m \u001b[0mreturn_sequences\u001b[0m\u001b[0;34m=\u001b[0m\u001b[0;32mTrue\u001b[0m\u001b[0;34m)\u001b[0m\u001b[0;34m)\u001b[0m\u001b[0;34m(\u001b[0m\u001b[0mx\u001b[0m\u001b[0;34m)\u001b[0m\u001b[0;34m\u001b[0m\u001b[0;34m\u001b[0m\u001b[0m\n\u001b[1;32m      5\u001b[0m \u001b[0mx\u001b[0m \u001b[0;34m=\u001b[0m \u001b[0mBidirectional\u001b[0m\u001b[0;34m(\u001b[0m\u001b[0mLSTM\u001b[0m\u001b[0;34m(\u001b[0m\u001b[0;36m128\u001b[0m\u001b[0;34m,\u001b[0m \u001b[0mreturn_sequences\u001b[0m\u001b[0;34m=\u001b[0m\u001b[0;32mTrue\u001b[0m\u001b[0;34m)\u001b[0m\u001b[0;34m)\u001b[0m\u001b[0;34m(\u001b[0m\u001b[0mx\u001b[0m\u001b[0;34m)\u001b[0m\u001b[0;34m\u001b[0m\u001b[0;34m\u001b[0m\u001b[0m\n",
            "\u001b[0;32m/usr/local/lib/python3.8/dist-packages/keras/layers/rnn/bidirectional.py\u001b[0m in \u001b[0;36m__call__\u001b[0;34m(self, inputs, initial_state, constants, **kwargs)\u001b[0m\n\u001b[1;32m    247\u001b[0m \u001b[0;34m\u001b[0m\u001b[0m\n\u001b[1;32m    248\u001b[0m     \u001b[0;32mif\u001b[0m \u001b[0minitial_state\u001b[0m \u001b[0;32mis\u001b[0m \u001b[0;32mNone\u001b[0m \u001b[0;32mand\u001b[0m \u001b[0mconstants\u001b[0m \u001b[0;32mis\u001b[0m \u001b[0;32mNone\u001b[0m\u001b[0;34m:\u001b[0m\u001b[0;34m\u001b[0m\u001b[0;34m\u001b[0m\u001b[0m\n\u001b[0;32m--> 249\u001b[0;31m       \u001b[0;32mreturn\u001b[0m \u001b[0msuper\u001b[0m\u001b[0;34m(\u001b[0m\u001b[0mBidirectional\u001b[0m\u001b[0;34m,\u001b[0m \u001b[0mself\u001b[0m\u001b[0;34m)\u001b[0m\u001b[0;34m.\u001b[0m\u001b[0m__call__\u001b[0m\u001b[0;34m(\u001b[0m\u001b[0minputs\u001b[0m\u001b[0;34m,\u001b[0m \u001b[0;34m**\u001b[0m\u001b[0mkwargs\u001b[0m\u001b[0;34m)\u001b[0m\u001b[0;34m\u001b[0m\u001b[0;34m\u001b[0m\u001b[0m\n\u001b[0m\u001b[1;32m    250\u001b[0m \u001b[0;34m\u001b[0m\u001b[0m\n\u001b[1;32m    251\u001b[0m     \u001b[0;31m# Applies the same workaround as in `RNN.__call__`\u001b[0m\u001b[0;34m\u001b[0m\u001b[0;34m\u001b[0m\u001b[0;34m\u001b[0m\u001b[0m\n",
            "\u001b[0;32m/usr/local/lib/python3.8/dist-packages/keras/utils/traceback_utils.py\u001b[0m in \u001b[0;36merror_handler\u001b[0;34m(*args, **kwargs)\u001b[0m\n\u001b[1;32m     62\u001b[0m     \u001b[0mfiltered_tb\u001b[0m \u001b[0;34m=\u001b[0m \u001b[0;32mNone\u001b[0m\u001b[0;34m\u001b[0m\u001b[0;34m\u001b[0m\u001b[0m\n\u001b[1;32m     63\u001b[0m     \u001b[0;32mtry\u001b[0m\u001b[0;34m:\u001b[0m\u001b[0;34m\u001b[0m\u001b[0;34m\u001b[0m\u001b[0m\n\u001b[0;32m---> 64\u001b[0;31m       \u001b[0;32mreturn\u001b[0m \u001b[0mfn\u001b[0m\u001b[0;34m(\u001b[0m\u001b[0;34m*\u001b[0m\u001b[0margs\u001b[0m\u001b[0;34m,\u001b[0m \u001b[0;34m**\u001b[0m\u001b[0mkwargs\u001b[0m\u001b[0;34m)\u001b[0m\u001b[0;34m\u001b[0m\u001b[0;34m\u001b[0m\u001b[0m\n\u001b[0m\u001b[1;32m     65\u001b[0m     \u001b[0;32mexcept\u001b[0m \u001b[0mException\u001b[0m \u001b[0;32mas\u001b[0m \u001b[0me\u001b[0m\u001b[0;34m:\u001b[0m  \u001b[0;31m# pylint: disable=broad-except\u001b[0m\u001b[0;34m\u001b[0m\u001b[0;34m\u001b[0m\u001b[0m\n\u001b[1;32m     66\u001b[0m       \u001b[0mfiltered_tb\u001b[0m \u001b[0;34m=\u001b[0m \u001b[0m_process_traceback_frames\u001b[0m\u001b[0;34m(\u001b[0m\u001b[0me\u001b[0m\u001b[0;34m.\u001b[0m\u001b[0m__traceback__\u001b[0m\u001b[0;34m)\u001b[0m\u001b[0;34m\u001b[0m\u001b[0;34m\u001b[0m\u001b[0m\n",
            "\u001b[0;32m/usr/local/lib/python3.8/dist-packages/keras/engine/base_layer.py\u001b[0m in \u001b[0;36m__call__\u001b[0;34m(self, *args, **kwargs)\u001b[0m\n\u001b[1;32m    942\u001b[0m     \u001b[0;31m# >> model = tf.keras.Model(inputs, outputs)\u001b[0m\u001b[0;34m\u001b[0m\u001b[0;34m\u001b[0m\u001b[0;34m\u001b[0m\u001b[0m\n\u001b[1;32m    943\u001b[0m     \u001b[0;32mif\u001b[0m \u001b[0m_in_functional_construction_mode\u001b[0m\u001b[0;34m(\u001b[0m\u001b[0mself\u001b[0m\u001b[0;34m,\u001b[0m \u001b[0minputs\u001b[0m\u001b[0;34m,\u001b[0m \u001b[0margs\u001b[0m\u001b[0;34m,\u001b[0m \u001b[0mkwargs\u001b[0m\u001b[0;34m,\u001b[0m \u001b[0minput_list\u001b[0m\u001b[0;34m)\u001b[0m\u001b[0;34m:\u001b[0m\u001b[0;34m\u001b[0m\u001b[0;34m\u001b[0m\u001b[0m\n\u001b[0;32m--> 944\u001b[0;31m       return self._functional_construction_call(inputs, args, kwargs,\n\u001b[0m\u001b[1;32m    945\u001b[0m                                                 input_list)\n\u001b[1;32m    946\u001b[0m \u001b[0;34m\u001b[0m\u001b[0m\n",
            "\u001b[0;32m/usr/local/lib/python3.8/dist-packages/keras/engine/base_layer.py\u001b[0m in \u001b[0;36m_functional_construction_call\u001b[0;34m(self, inputs, args, kwargs, input_list)\u001b[0m\n\u001b[1;32m   2313\u001b[0m         layer=self, inputs=inputs, build_graph=True, training=training_value):\n\u001b[1;32m   2314\u001b[0m       \u001b[0;31m# Check input assumptions set after layer building, e.g. input shape.\u001b[0m\u001b[0;34m\u001b[0m\u001b[0;34m\u001b[0m\u001b[0;34m\u001b[0m\u001b[0m\n\u001b[0;32m-> 2315\u001b[0;31m       outputs = self._keras_tensor_symbolic_call(\n\u001b[0m\u001b[1;32m   2316\u001b[0m           inputs, input_masks, args, kwargs)\n\u001b[1;32m   2317\u001b[0m \u001b[0;34m\u001b[0m\u001b[0m\n",
            "\u001b[0;32m/usr/local/lib/python3.8/dist-packages/keras/engine/base_layer.py\u001b[0m in \u001b[0;36m_keras_tensor_symbolic_call\u001b[0;34m(self, inputs, input_masks, args, kwargs)\u001b[0m\n\u001b[1;32m   2184\u001b[0m       \u001b[0;32mreturn\u001b[0m \u001b[0mtf\u001b[0m\u001b[0;34m.\u001b[0m\u001b[0mnest\u001b[0m\u001b[0;34m.\u001b[0m\u001b[0mmap_structure\u001b[0m\u001b[0;34m(\u001b[0m\u001b[0mkeras_tensor\u001b[0m\u001b[0;34m.\u001b[0m\u001b[0mKerasTensor\u001b[0m\u001b[0;34m,\u001b[0m \u001b[0moutput_signature\u001b[0m\u001b[0;34m)\u001b[0m\u001b[0;34m\u001b[0m\u001b[0;34m\u001b[0m\u001b[0m\n\u001b[1;32m   2185\u001b[0m     \u001b[0;32melse\u001b[0m\u001b[0;34m:\u001b[0m\u001b[0;34m\u001b[0m\u001b[0;34m\u001b[0m\u001b[0m\n\u001b[0;32m-> 2186\u001b[0;31m       \u001b[0;32mreturn\u001b[0m \u001b[0mself\u001b[0m\u001b[0;34m.\u001b[0m\u001b[0m_infer_output_signature\u001b[0m\u001b[0;34m(\u001b[0m\u001b[0minputs\u001b[0m\u001b[0;34m,\u001b[0m \u001b[0margs\u001b[0m\u001b[0;34m,\u001b[0m \u001b[0mkwargs\u001b[0m\u001b[0;34m,\u001b[0m \u001b[0minput_masks\u001b[0m\u001b[0;34m)\u001b[0m\u001b[0;34m\u001b[0m\u001b[0;34m\u001b[0m\u001b[0m\n\u001b[0m\u001b[1;32m   2187\u001b[0m \u001b[0;34m\u001b[0m\u001b[0m\n\u001b[1;32m   2188\u001b[0m   \u001b[0;32mdef\u001b[0m \u001b[0m_infer_output_signature\u001b[0m\u001b[0;34m(\u001b[0m\u001b[0mself\u001b[0m\u001b[0;34m,\u001b[0m \u001b[0minputs\u001b[0m\u001b[0;34m,\u001b[0m \u001b[0margs\u001b[0m\u001b[0;34m,\u001b[0m \u001b[0mkwargs\u001b[0m\u001b[0;34m,\u001b[0m \u001b[0minput_masks\u001b[0m\u001b[0;34m)\u001b[0m\u001b[0;34m:\u001b[0m\u001b[0;34m\u001b[0m\u001b[0;34m\u001b[0m\u001b[0m\n",
            "\u001b[0;32m/usr/local/lib/python3.8/dist-packages/keras/engine/base_layer.py\u001b[0m in \u001b[0;36m_infer_output_signature\u001b[0;34m(self, inputs, args, kwargs, input_masks)\u001b[0m\n\u001b[1;32m   2230\u001b[0m           \u001b[0mself\u001b[0m\u001b[0;34m.\u001b[0m\u001b[0m_maybe_build\u001b[0m\u001b[0;34m(\u001b[0m\u001b[0minputs\u001b[0m\u001b[0;34m)\u001b[0m\u001b[0;34m\u001b[0m\u001b[0;34m\u001b[0m\u001b[0m\n\u001b[1;32m   2231\u001b[0m           \u001b[0minputs\u001b[0m \u001b[0;34m=\u001b[0m \u001b[0mself\u001b[0m\u001b[0;34m.\u001b[0m\u001b[0m_maybe_cast_inputs\u001b[0m\u001b[0;34m(\u001b[0m\u001b[0minputs\u001b[0m\u001b[0;34m)\u001b[0m\u001b[0;34m\u001b[0m\u001b[0;34m\u001b[0m\u001b[0m\n\u001b[0;32m-> 2232\u001b[0;31m           \u001b[0moutputs\u001b[0m \u001b[0;34m=\u001b[0m \u001b[0mcall_fn\u001b[0m\u001b[0;34m(\u001b[0m\u001b[0minputs\u001b[0m\u001b[0;34m,\u001b[0m \u001b[0;34m*\u001b[0m\u001b[0margs\u001b[0m\u001b[0;34m,\u001b[0m \u001b[0;34m**\u001b[0m\u001b[0mkwargs\u001b[0m\u001b[0;34m)\u001b[0m\u001b[0;34m\u001b[0m\u001b[0;34m\u001b[0m\u001b[0m\n\u001b[0m\u001b[1;32m   2233\u001b[0m \u001b[0;34m\u001b[0m\u001b[0m\n\u001b[1;32m   2234\u001b[0m         \u001b[0mself\u001b[0m\u001b[0;34m.\u001b[0m\u001b[0m_handle_activity_regularization\u001b[0m\u001b[0;34m(\u001b[0m\u001b[0minputs\u001b[0m\u001b[0;34m,\u001b[0m \u001b[0moutputs\u001b[0m\u001b[0;34m)\u001b[0m\u001b[0;34m\u001b[0m\u001b[0;34m\u001b[0m\u001b[0m\n",
            "\u001b[0;32m/usr/local/lib/python3.8/dist-packages/keras/utils/traceback_utils.py\u001b[0m in \u001b[0;36merror_handler\u001b[0;34m(*args, **kwargs)\u001b[0m\n\u001b[1;32m     90\u001b[0m     \u001b[0mbound_signature\u001b[0m \u001b[0;34m=\u001b[0m \u001b[0;32mNone\u001b[0m\u001b[0;34m\u001b[0m\u001b[0;34m\u001b[0m\u001b[0m\n\u001b[1;32m     91\u001b[0m     \u001b[0;32mtry\u001b[0m\u001b[0;34m:\u001b[0m\u001b[0;34m\u001b[0m\u001b[0;34m\u001b[0m\u001b[0m\n\u001b[0;32m---> 92\u001b[0;31m       \u001b[0;32mreturn\u001b[0m \u001b[0mfn\u001b[0m\u001b[0;34m(\u001b[0m\u001b[0;34m*\u001b[0m\u001b[0margs\u001b[0m\u001b[0;34m,\u001b[0m \u001b[0;34m**\u001b[0m\u001b[0mkwargs\u001b[0m\u001b[0;34m)\u001b[0m\u001b[0;34m\u001b[0m\u001b[0;34m\u001b[0m\u001b[0m\n\u001b[0m\u001b[1;32m     93\u001b[0m     \u001b[0;32mexcept\u001b[0m \u001b[0mException\u001b[0m \u001b[0;32mas\u001b[0m \u001b[0me\u001b[0m\u001b[0;34m:\u001b[0m  \u001b[0;31m# pylint: disable=broad-except\u001b[0m\u001b[0;34m\u001b[0m\u001b[0;34m\u001b[0m\u001b[0m\n\u001b[1;32m     94\u001b[0m       \u001b[0;32mif\u001b[0m \u001b[0mhasattr\u001b[0m\u001b[0;34m(\u001b[0m\u001b[0me\u001b[0m\u001b[0;34m,\u001b[0m \u001b[0;34m'_keras_call_info_injected'\u001b[0m\u001b[0;34m)\u001b[0m\u001b[0;34m:\u001b[0m\u001b[0;34m\u001b[0m\u001b[0;34m\u001b[0m\u001b[0m\n",
            "\u001b[0;32m/usr/local/lib/python3.8/dist-packages/keras/layers/rnn/bidirectional.py\u001b[0m in \u001b[0;36mcall\u001b[0;34m(self, inputs, training, mask, initial_state, constants)\u001b[0m\n\u001b[1;32m    364\u001b[0m       y = self.forward_layer(forward_inputs,\n\u001b[1;32m    365\u001b[0m                              initial_state=forward_state, **kwargs)\n\u001b[0;32m--> 366\u001b[0;31m       y_rev = self.backward_layer(backward_inputs,\n\u001b[0m\u001b[1;32m    367\u001b[0m                                   initial_state=backward_state, **kwargs)\n\u001b[1;32m    368\u001b[0m     \u001b[0;32melse\u001b[0m\u001b[0;34m:\u001b[0m\u001b[0;34m\u001b[0m\u001b[0;34m\u001b[0m\u001b[0m\n",
            "\u001b[0;32m/usr/local/lib/python3.8/dist-packages/keras/layers/rnn/base_rnn.py\u001b[0m in \u001b[0;36m__call__\u001b[0;34m(self, inputs, initial_state, constants, **kwargs)\u001b[0m\n\u001b[1;32m    513\u001b[0m \u001b[0;34m\u001b[0m\u001b[0m\n\u001b[1;32m    514\u001b[0m     \u001b[0;32mif\u001b[0m \u001b[0minitial_state\u001b[0m \u001b[0;32mis\u001b[0m \u001b[0;32mNone\u001b[0m \u001b[0;32mand\u001b[0m \u001b[0mconstants\u001b[0m \u001b[0;32mis\u001b[0m \u001b[0;32mNone\u001b[0m\u001b[0;34m:\u001b[0m\u001b[0;34m\u001b[0m\u001b[0;34m\u001b[0m\u001b[0m\n\u001b[0;32m--> 515\u001b[0;31m       \u001b[0;32mreturn\u001b[0m \u001b[0msuper\u001b[0m\u001b[0;34m(\u001b[0m\u001b[0mRNN\u001b[0m\u001b[0;34m,\u001b[0m \u001b[0mself\u001b[0m\u001b[0;34m)\u001b[0m\u001b[0;34m.\u001b[0m\u001b[0m__call__\u001b[0m\u001b[0;34m(\u001b[0m\u001b[0minputs\u001b[0m\u001b[0;34m,\u001b[0m \u001b[0;34m**\u001b[0m\u001b[0mkwargs\u001b[0m\u001b[0;34m)\u001b[0m\u001b[0;34m\u001b[0m\u001b[0;34m\u001b[0m\u001b[0m\n\u001b[0m\u001b[1;32m    516\u001b[0m \u001b[0;34m\u001b[0m\u001b[0m\n\u001b[1;32m    517\u001b[0m     \u001b[0;31m# If any of `initial_state` or `constants` are specified and are Keras\u001b[0m\u001b[0;34m\u001b[0m\u001b[0;34m\u001b[0m\u001b[0;34m\u001b[0m\u001b[0m\n",
            "\u001b[0;32m/usr/local/lib/python3.8/dist-packages/keras/utils/traceback_utils.py\u001b[0m in \u001b[0;36merror_handler\u001b[0;34m(*args, **kwargs)\u001b[0m\n\u001b[1;32m     62\u001b[0m     \u001b[0mfiltered_tb\u001b[0m \u001b[0;34m=\u001b[0m \u001b[0;32mNone\u001b[0m\u001b[0;34m\u001b[0m\u001b[0;34m\u001b[0m\u001b[0m\n\u001b[1;32m     63\u001b[0m     \u001b[0;32mtry\u001b[0m\u001b[0;34m:\u001b[0m\u001b[0;34m\u001b[0m\u001b[0;34m\u001b[0m\u001b[0m\n\u001b[0;32m---> 64\u001b[0;31m       \u001b[0;32mreturn\u001b[0m \u001b[0mfn\u001b[0m\u001b[0;34m(\u001b[0m\u001b[0;34m*\u001b[0m\u001b[0margs\u001b[0m\u001b[0;34m,\u001b[0m \u001b[0;34m**\u001b[0m\u001b[0mkwargs\u001b[0m\u001b[0;34m)\u001b[0m\u001b[0;34m\u001b[0m\u001b[0;34m\u001b[0m\u001b[0m\n\u001b[0m\u001b[1;32m     65\u001b[0m     \u001b[0;32mexcept\u001b[0m \u001b[0mException\u001b[0m \u001b[0;32mas\u001b[0m \u001b[0me\u001b[0m\u001b[0;34m:\u001b[0m  \u001b[0;31m# pylint: disable=broad-except\u001b[0m\u001b[0;34m\u001b[0m\u001b[0;34m\u001b[0m\u001b[0m\n\u001b[1;32m     66\u001b[0m       \u001b[0mfiltered_tb\u001b[0m \u001b[0;34m=\u001b[0m \u001b[0m_process_traceback_frames\u001b[0m\u001b[0;34m(\u001b[0m\u001b[0me\u001b[0m\u001b[0;34m.\u001b[0m\u001b[0m__traceback__\u001b[0m\u001b[0;34m)\u001b[0m\u001b[0;34m\u001b[0m\u001b[0;34m\u001b[0m\u001b[0m\n",
            "\u001b[0;32m/usr/local/lib/python3.8/dist-packages/keras/engine/base_layer.py\u001b[0m in \u001b[0;36m__call__\u001b[0;34m(self, *args, **kwargs)\u001b[0m\n\u001b[1;32m   1012\u001b[0m         with autocast_variable.enable_auto_cast_variables(\n\u001b[1;32m   1013\u001b[0m             self._compute_dtype_object):\n\u001b[0;32m-> 1014\u001b[0;31m           \u001b[0moutputs\u001b[0m \u001b[0;34m=\u001b[0m \u001b[0mcall_fn\u001b[0m\u001b[0;34m(\u001b[0m\u001b[0minputs\u001b[0m\u001b[0;34m,\u001b[0m \u001b[0;34m*\u001b[0m\u001b[0margs\u001b[0m\u001b[0;34m,\u001b[0m \u001b[0;34m**\u001b[0m\u001b[0mkwargs\u001b[0m\u001b[0;34m)\u001b[0m\u001b[0;34m\u001b[0m\u001b[0;34m\u001b[0m\u001b[0m\n\u001b[0m\u001b[1;32m   1015\u001b[0m \u001b[0;34m\u001b[0m\u001b[0m\n\u001b[1;32m   1016\u001b[0m         \u001b[0;32mif\u001b[0m \u001b[0mself\u001b[0m\u001b[0;34m.\u001b[0m\u001b[0m_activity_regularizer\u001b[0m\u001b[0;34m:\u001b[0m\u001b[0;34m\u001b[0m\u001b[0;34m\u001b[0m\u001b[0m\n",
            "\u001b[0;32m/usr/local/lib/python3.8/dist-packages/keras/utils/traceback_utils.py\u001b[0m in \u001b[0;36merror_handler\u001b[0;34m(*args, **kwargs)\u001b[0m\n\u001b[1;32m     90\u001b[0m     \u001b[0mbound_signature\u001b[0m \u001b[0;34m=\u001b[0m \u001b[0;32mNone\u001b[0m\u001b[0;34m\u001b[0m\u001b[0;34m\u001b[0m\u001b[0m\n\u001b[1;32m     91\u001b[0m     \u001b[0;32mtry\u001b[0m\u001b[0;34m:\u001b[0m\u001b[0;34m\u001b[0m\u001b[0;34m\u001b[0m\u001b[0m\n\u001b[0;32m---> 92\u001b[0;31m       \u001b[0;32mreturn\u001b[0m \u001b[0mfn\u001b[0m\u001b[0;34m(\u001b[0m\u001b[0;34m*\u001b[0m\u001b[0margs\u001b[0m\u001b[0;34m,\u001b[0m \u001b[0;34m**\u001b[0m\u001b[0mkwargs\u001b[0m\u001b[0;34m)\u001b[0m\u001b[0;34m\u001b[0m\u001b[0;34m\u001b[0m\u001b[0m\n\u001b[0m\u001b[1;32m     93\u001b[0m     \u001b[0;32mexcept\u001b[0m \u001b[0mException\u001b[0m \u001b[0;32mas\u001b[0m \u001b[0me\u001b[0m\u001b[0;34m:\u001b[0m  \u001b[0;31m# pylint: disable=broad-except\u001b[0m\u001b[0;34m\u001b[0m\u001b[0;34m\u001b[0m\u001b[0m\n\u001b[1;32m     94\u001b[0m       \u001b[0;32mif\u001b[0m \u001b[0mhasattr\u001b[0m\u001b[0;34m(\u001b[0m\u001b[0me\u001b[0m\u001b[0;34m,\u001b[0m \u001b[0;34m'_keras_call_info_injected'\u001b[0m\u001b[0;34m)\u001b[0m\u001b[0;34m:\u001b[0m\u001b[0;34m\u001b[0m\u001b[0;34m\u001b[0m\u001b[0m\n",
            "\u001b[0;32m/usr/local/lib/python3.8/dist-packages/keras/layers/rnn/lstm.py\u001b[0m in \u001b[0;36mcall\u001b[0;34m(self, inputs, mask, training, initial_state)\u001b[0m\n\u001b[1;32m    671\u001b[0m         \u001b[0;32melse\u001b[0m\u001b[0;34m:\u001b[0m\u001b[0;34m\u001b[0m\u001b[0;34m\u001b[0m\u001b[0m\n\u001b[1;32m    672\u001b[0m           (last_output, outputs, new_h, new_c,\n\u001b[0;32m--> 673\u001b[0;31m            runtime) = lstm_with_backend_selection(**normal_lstm_kwargs)\n\u001b[0m\u001b[1;32m    674\u001b[0m \u001b[0;34m\u001b[0m\u001b[0m\n\u001b[1;32m    675\u001b[0m       \u001b[0mstates\u001b[0m \u001b[0;34m=\u001b[0m \u001b[0;34m[\u001b[0m\u001b[0mnew_h\u001b[0m\u001b[0;34m,\u001b[0m \u001b[0mnew_c\u001b[0m\u001b[0;34m]\u001b[0m\u001b[0;34m\u001b[0m\u001b[0;34m\u001b[0m\u001b[0m\n",
            "\u001b[0;32m/usr/local/lib/python3.8/dist-packages/keras/layers/rnn/lstm.py\u001b[0m in \u001b[0;36mlstm_with_backend_selection\u001b[0;34m(inputs, init_h, init_c, kernel, recurrent_kernel, bias, mask, time_major, go_backwards, sequence_lengths, zero_output_for_mask, return_sequences)\u001b[0m\n\u001b[1;32m   1181\u001b[0m     \u001b[0;31m# Call the normal LSTM impl and register the cuDNN impl function. The\u001b[0m\u001b[0;34m\u001b[0m\u001b[0;34m\u001b[0m\u001b[0;34m\u001b[0m\u001b[0m\n\u001b[1;32m   1182\u001b[0m     \u001b[0;31m# grappler will kick in during session execution to optimize the graph.\u001b[0m\u001b[0;34m\u001b[0m\u001b[0;34m\u001b[0m\u001b[0;34m\u001b[0m\u001b[0m\n\u001b[0;32m-> 1183\u001b[0;31m     \u001b[0mlast_output\u001b[0m\u001b[0;34m,\u001b[0m \u001b[0moutputs\u001b[0m\u001b[0;34m,\u001b[0m \u001b[0mnew_h\u001b[0m\u001b[0;34m,\u001b[0m \u001b[0mnew_c\u001b[0m\u001b[0;34m,\u001b[0m \u001b[0mruntime\u001b[0m \u001b[0;34m=\u001b[0m \u001b[0mdefun_standard_lstm\u001b[0m\u001b[0;34m(\u001b[0m\u001b[0;34m**\u001b[0m\u001b[0mparams\u001b[0m\u001b[0;34m)\u001b[0m\u001b[0;34m\u001b[0m\u001b[0;34m\u001b[0m\u001b[0m\n\u001b[0m\u001b[1;32m   1184\u001b[0m     \u001b[0mgru_lstm_utils\u001b[0m\u001b[0;34m.\u001b[0m\u001b[0mfunction_register\u001b[0m\u001b[0;34m(\u001b[0m\u001b[0mdefun_gpu_lstm\u001b[0m\u001b[0;34m,\u001b[0m \u001b[0;34m**\u001b[0m\u001b[0mparams\u001b[0m\u001b[0;34m)\u001b[0m\u001b[0;34m\u001b[0m\u001b[0;34m\u001b[0m\u001b[0m\n\u001b[1;32m   1185\u001b[0m \u001b[0;34m\u001b[0m\u001b[0m\n",
            "\u001b[0;32m/usr/local/lib/python3.8/dist-packages/tensorflow/python/eager/function.py\u001b[0m in \u001b[0;36m__call__\u001b[0;34m(self, *args, **kwargs)\u001b[0m\n\u001b[1;32m   2450\u001b[0m     \u001b[0;32mwith\u001b[0m \u001b[0mself\u001b[0m\u001b[0;34m.\u001b[0m\u001b[0m_lock\u001b[0m\u001b[0;34m:\u001b[0m\u001b[0;34m\u001b[0m\u001b[0;34m\u001b[0m\u001b[0m\n\u001b[1;32m   2451\u001b[0m       (graph_function,\n\u001b[0;32m-> 2452\u001b[0;31m        filtered_flat_args) = self._maybe_define_function(args, kwargs)\n\u001b[0m\u001b[1;32m   2453\u001b[0m     return graph_function._call_flat(\n\u001b[1;32m   2454\u001b[0m         filtered_flat_args, captured_inputs=graph_function.captured_inputs)  # pylint: disable=protected-access\n",
            "\u001b[0;32m/usr/local/lib/python3.8/dist-packages/tensorflow/python/eager/function.py\u001b[0m in \u001b[0;36m_maybe_define_function\u001b[0;34m(self, args, kwargs)\u001b[0m\n\u001b[1;32m   2709\u001b[0m             \u001b[0;34m(\u001b[0m\u001b[0margs\u001b[0m\u001b[0;34m,\u001b[0m \u001b[0mkwargs\u001b[0m\u001b[0;34m)\u001b[0m \u001b[0;34m=\u001b[0m \u001b[0mcache_key\u001b[0m\u001b[0;34m.\u001b[0m\u001b[0m_placeholder_value\u001b[0m\u001b[0;34m(\u001b[0m\u001b[0;34m)\u001b[0m  \u001b[0;31m# pylint: disable=protected-access\u001b[0m\u001b[0;34m\u001b[0m\u001b[0;34m\u001b[0m\u001b[0m\n\u001b[1;32m   2710\u001b[0m \u001b[0;34m\u001b[0m\u001b[0m\n\u001b[0;32m-> 2711\u001b[0;31m           \u001b[0mgraph_function\u001b[0m \u001b[0;34m=\u001b[0m \u001b[0mself\u001b[0m\u001b[0;34m.\u001b[0m\u001b[0m_create_graph_function\u001b[0m\u001b[0;34m(\u001b[0m\u001b[0margs\u001b[0m\u001b[0;34m,\u001b[0m \u001b[0mkwargs\u001b[0m\u001b[0;34m)\u001b[0m\u001b[0;34m\u001b[0m\u001b[0;34m\u001b[0m\u001b[0m\n\u001b[0m\u001b[1;32m   2712\u001b[0m           self._function_cache.add(cache_key, cache_key_deletion_observer,\n\u001b[1;32m   2713\u001b[0m                                    graph_function)\n",
            "\u001b[0;32m/usr/local/lib/python3.8/dist-packages/tensorflow/python/eager/function.py\u001b[0m in \u001b[0;36m_create_graph_function\u001b[0;34m(self, args, kwargs)\u001b[0m\n\u001b[1;32m   2625\u001b[0m     \u001b[0marg_names\u001b[0m \u001b[0;34m=\u001b[0m \u001b[0mbase_arg_names\u001b[0m \u001b[0;34m+\u001b[0m \u001b[0mmissing_arg_names\u001b[0m\u001b[0;34m\u001b[0m\u001b[0;34m\u001b[0m\u001b[0m\n\u001b[1;32m   2626\u001b[0m     graph_function = ConcreteFunction(\n\u001b[0;32m-> 2627\u001b[0;31m         func_graph_module.func_graph_from_py_func(\n\u001b[0m\u001b[1;32m   2628\u001b[0m             \u001b[0mself\u001b[0m\u001b[0;34m.\u001b[0m\u001b[0m_name\u001b[0m\u001b[0;34m,\u001b[0m\u001b[0;34m\u001b[0m\u001b[0;34m\u001b[0m\u001b[0m\n\u001b[1;32m   2629\u001b[0m             \u001b[0mself\u001b[0m\u001b[0;34m.\u001b[0m\u001b[0m_python_function\u001b[0m\u001b[0;34m,\u001b[0m\u001b[0;34m\u001b[0m\u001b[0;34m\u001b[0m\u001b[0m\n",
            "\u001b[0;32m/usr/local/lib/python3.8/dist-packages/tensorflow/python/framework/func_graph.py\u001b[0m in \u001b[0;36mfunc_graph_from_py_func\u001b[0;34m(name, python_func, args, kwargs, signature, func_graph, autograph, autograph_options, add_control_dependencies, arg_names, op_return_value, collections, capture_by_value, acd_record_initial_resource_uses)\u001b[0m\n\u001b[1;32m   1139\u001b[0m         \u001b[0m_\u001b[0m\u001b[0;34m,\u001b[0m \u001b[0moriginal_func\u001b[0m \u001b[0;34m=\u001b[0m \u001b[0mtf_decorator\u001b[0m\u001b[0;34m.\u001b[0m\u001b[0munwrap\u001b[0m\u001b[0;34m(\u001b[0m\u001b[0mpython_func\u001b[0m\u001b[0;34m)\u001b[0m\u001b[0;34m\u001b[0m\u001b[0;34m\u001b[0m\u001b[0m\n\u001b[1;32m   1140\u001b[0m \u001b[0;34m\u001b[0m\u001b[0m\n\u001b[0;32m-> 1141\u001b[0;31m       \u001b[0mfunc_outputs\u001b[0m \u001b[0;34m=\u001b[0m \u001b[0mpython_func\u001b[0m\u001b[0;34m(\u001b[0m\u001b[0;34m*\u001b[0m\u001b[0mfunc_args\u001b[0m\u001b[0;34m,\u001b[0m \u001b[0;34m**\u001b[0m\u001b[0mfunc_kwargs\u001b[0m\u001b[0;34m)\u001b[0m\u001b[0;34m\u001b[0m\u001b[0;34m\u001b[0m\u001b[0m\n\u001b[0m\u001b[1;32m   1142\u001b[0m \u001b[0;34m\u001b[0m\u001b[0m\n\u001b[1;32m   1143\u001b[0m       \u001b[0;31m# invariant: `func_outputs` contains only Tensors, CompositeTensors,\u001b[0m\u001b[0;34m\u001b[0m\u001b[0;34m\u001b[0m\u001b[0;34m\u001b[0m\u001b[0m\n",
            "\u001b[0;32m/usr/local/lib/python3.8/dist-packages/keras/layers/rnn/lstm.py\u001b[0m in \u001b[0;36mstandard_lstm\u001b[0;34m(inputs, init_h, init_c, kernel, recurrent_kernel, bias, mask, time_major, go_backwards, sequence_lengths, zero_output_for_mask, return_sequences)\u001b[0m\n\u001b[1;32m    889\u001b[0m     \u001b[0;32mreturn\u001b[0m \u001b[0mh\u001b[0m\u001b[0;34m,\u001b[0m \u001b[0;34m[\u001b[0m\u001b[0mh\u001b[0m\u001b[0;34m,\u001b[0m \u001b[0mc\u001b[0m\u001b[0;34m]\u001b[0m\u001b[0;34m\u001b[0m\u001b[0;34m\u001b[0m\u001b[0m\n\u001b[1;32m    890\u001b[0m \u001b[0;34m\u001b[0m\u001b[0m\n\u001b[0;32m--> 891\u001b[0;31m   last_output, outputs, new_states = backend.rnn(\n\u001b[0m\u001b[1;32m    892\u001b[0m       \u001b[0mstep\u001b[0m\u001b[0;34m,\u001b[0m\u001b[0;34m\u001b[0m\u001b[0;34m\u001b[0m\u001b[0m\n\u001b[1;32m    893\u001b[0m       \u001b[0minputs\u001b[0m\u001b[0;34m,\u001b[0m \u001b[0;34m[\u001b[0m\u001b[0minit_h\u001b[0m\u001b[0;34m,\u001b[0m \u001b[0minit_c\u001b[0m\u001b[0;34m]\u001b[0m\u001b[0;34m,\u001b[0m\u001b[0;34m\u001b[0m\u001b[0;34m\u001b[0m\u001b[0m\n",
            "\u001b[0;32m/usr/local/lib/python3.8/dist-packages/tensorflow/python/util/traceback_utils.py\u001b[0m in \u001b[0;36merror_handler\u001b[0;34m(*args, **kwargs)\u001b[0m\n\u001b[1;32m    148\u001b[0m     \u001b[0mfiltered_tb\u001b[0m \u001b[0;34m=\u001b[0m \u001b[0;32mNone\u001b[0m\u001b[0;34m\u001b[0m\u001b[0;34m\u001b[0m\u001b[0m\n\u001b[1;32m    149\u001b[0m     \u001b[0;32mtry\u001b[0m\u001b[0;34m:\u001b[0m\u001b[0;34m\u001b[0m\u001b[0;34m\u001b[0m\u001b[0m\n\u001b[0;32m--> 150\u001b[0;31m       \u001b[0;32mreturn\u001b[0m \u001b[0mfn\u001b[0m\u001b[0;34m(\u001b[0m\u001b[0;34m*\u001b[0m\u001b[0margs\u001b[0m\u001b[0;34m,\u001b[0m \u001b[0;34m**\u001b[0m\u001b[0mkwargs\u001b[0m\u001b[0;34m)\u001b[0m\u001b[0;34m\u001b[0m\u001b[0;34m\u001b[0m\u001b[0m\n\u001b[0m\u001b[1;32m    151\u001b[0m     \u001b[0;32mexcept\u001b[0m \u001b[0mException\u001b[0m \u001b[0;32mas\u001b[0m \u001b[0me\u001b[0m\u001b[0;34m:\u001b[0m\u001b[0;34m\u001b[0m\u001b[0;34m\u001b[0m\u001b[0m\n\u001b[1;32m    152\u001b[0m       \u001b[0mfiltered_tb\u001b[0m \u001b[0;34m=\u001b[0m \u001b[0m_process_traceback_frames\u001b[0m\u001b[0;34m(\u001b[0m\u001b[0me\u001b[0m\u001b[0;34m.\u001b[0m\u001b[0m__traceback__\u001b[0m\u001b[0;34m)\u001b[0m\u001b[0;34m\u001b[0m\u001b[0;34m\u001b[0m\u001b[0m\n",
            "\u001b[0;32m/usr/local/lib/python3.8/dist-packages/tensorflow/python/util/dispatch.py\u001b[0m in \u001b[0;36mop_dispatch_handler\u001b[0;34m(*args, **kwargs)\u001b[0m\n\u001b[1;32m   1080\u001b[0m       \u001b[0;31m# Fallback dispatch system (dispatch v1):\u001b[0m\u001b[0;34m\u001b[0m\u001b[0;34m\u001b[0m\u001b[0;34m\u001b[0m\u001b[0m\n\u001b[1;32m   1081\u001b[0m       \u001b[0;32mtry\u001b[0m\u001b[0;34m:\u001b[0m\u001b[0;34m\u001b[0m\u001b[0;34m\u001b[0m\u001b[0m\n\u001b[0;32m-> 1082\u001b[0;31m         \u001b[0;32mreturn\u001b[0m \u001b[0mdispatch_target\u001b[0m\u001b[0;34m(\u001b[0m\u001b[0;34m*\u001b[0m\u001b[0margs\u001b[0m\u001b[0;34m,\u001b[0m \u001b[0;34m**\u001b[0m\u001b[0mkwargs\u001b[0m\u001b[0;34m)\u001b[0m\u001b[0;34m\u001b[0m\u001b[0;34m\u001b[0m\u001b[0m\n\u001b[0m\u001b[1;32m   1083\u001b[0m       \u001b[0;32mexcept\u001b[0m \u001b[0;34m(\u001b[0m\u001b[0mTypeError\u001b[0m\u001b[0;34m,\u001b[0m \u001b[0mValueError\u001b[0m\u001b[0;34m)\u001b[0m\u001b[0;34m:\u001b[0m\u001b[0;34m\u001b[0m\u001b[0;34m\u001b[0m\u001b[0m\n\u001b[1;32m   1084\u001b[0m         \u001b[0;31m# Note: convert_to_eager_tensor currently raises a ValueError, not a\u001b[0m\u001b[0;34m\u001b[0m\u001b[0;34m\u001b[0m\u001b[0;34m\u001b[0m\u001b[0m\n",
            "\u001b[0;32m/usr/local/lib/python3.8/dist-packages/keras/backend.py\u001b[0m in \u001b[0;36mrnn\u001b[0;34m(step_function, inputs, initial_states, go_backwards, mask, constants, unroll, input_length, time_major, zero_output_for_mask, return_all_outputs)\u001b[0m\n\u001b[1;32m   4774\u001b[0m         \u001b[0;32mreturn\u001b[0m \u001b[0;34m(\u001b[0m\u001b[0mtime\u001b[0m \u001b[0;34m+\u001b[0m \u001b[0;36m1\u001b[0m\u001b[0;34m,\u001b[0m \u001b[0moutput_ta_t\u001b[0m\u001b[0;34m)\u001b[0m \u001b[0;34m+\u001b[0m \u001b[0mtuple\u001b[0m\u001b[0;34m(\u001b[0m\u001b[0mnew_states\u001b[0m\u001b[0;34m)\u001b[0m\u001b[0;34m\u001b[0m\u001b[0;34m\u001b[0m\u001b[0m\n\u001b[1;32m   4775\u001b[0m \u001b[0;34m\u001b[0m\u001b[0m\n\u001b[0;32m-> 4776\u001b[0;31m       final_outputs = tf.compat.v1.while_loop(\n\u001b[0m\u001b[1;32m   4777\u001b[0m           \u001b[0mbody\u001b[0m\u001b[0;34m=\u001b[0m\u001b[0m_step\u001b[0m\u001b[0;34m,\u001b[0m\u001b[0;34m\u001b[0m\u001b[0;34m\u001b[0m\u001b[0m\n\u001b[1;32m   4778\u001b[0m           \u001b[0mloop_vars\u001b[0m\u001b[0;34m=\u001b[0m\u001b[0;34m(\u001b[0m\u001b[0mtime\u001b[0m\u001b[0;34m,\u001b[0m \u001b[0moutput_ta\u001b[0m\u001b[0;34m)\u001b[0m \u001b[0;34m+\u001b[0m \u001b[0mstates\u001b[0m\u001b[0;34m,\u001b[0m\u001b[0;34m\u001b[0m\u001b[0;34m\u001b[0m\u001b[0m\n",
            "\u001b[0;32m/usr/local/lib/python3.8/dist-packages/tensorflow/python/ops/control_flow_ops.py\u001b[0m in \u001b[0;36mwhile_loop\u001b[0;34m(cond, body, loop_vars, shape_invariants, parallel_iterations, back_prop, swap_memory, name, maximum_iterations, return_same_structure)\u001b[0m\n\u001b[1;32m   2703\u001b[0m   if (util.EnableControlFlowV2(ops.get_default_graph()) and\n\u001b[1;32m   2704\u001b[0m       not executing_eagerly):\n\u001b[0;32m-> 2705\u001b[0;31m     return while_v2.while_loop(\n\u001b[0m\u001b[1;32m   2706\u001b[0m         \u001b[0mcond\u001b[0m\u001b[0;34m,\u001b[0m\u001b[0;34m\u001b[0m\u001b[0;34m\u001b[0m\u001b[0m\n\u001b[1;32m   2707\u001b[0m         \u001b[0mbody\u001b[0m\u001b[0;34m,\u001b[0m\u001b[0;34m\u001b[0m\u001b[0;34m\u001b[0m\u001b[0m\n",
            "\u001b[0;32m/usr/local/lib/python3.8/dist-packages/tensorflow/python/ops/while_v2.py\u001b[0m in \u001b[0;36mwhile_loop\u001b[0;34m(cond, body, loop_vars, shape_invariants, parallel_iterations, maximum_iterations, name, return_same_structure, back_prop)\u001b[0m\n\u001b[1;32m    211\u001b[0m       \u001b[0;32mreturn\u001b[0m \u001b[0;34m[\u001b[0m\u001b[0mloop_counter\u001b[0m \u001b[0;34m+\u001b[0m \u001b[0;36m1\u001b[0m\u001b[0;34m,\u001b[0m \u001b[0mmaximum_iterations_arg\u001b[0m\u001b[0;34m]\u001b[0m \u001b[0;34m+\u001b[0m \u001b[0mlist\u001b[0m\u001b[0;34m(\u001b[0m\u001b[0moutputs\u001b[0m\u001b[0;34m)\u001b[0m\u001b[0;34m\u001b[0m\u001b[0;34m\u001b[0m\u001b[0m\n\u001b[1;32m    212\u001b[0m \u001b[0;34m\u001b[0m\u001b[0m\n\u001b[0;32m--> 213\u001b[0;31m     body_graph = func_graph_module.func_graph_from_py_func(\n\u001b[0m\u001b[1;32m    214\u001b[0m         \u001b[0mbody_name\u001b[0m\u001b[0;34m,\u001b[0m\u001b[0;34m\u001b[0m\u001b[0;34m\u001b[0m\u001b[0m\n\u001b[1;32m    215\u001b[0m         \u001b[0mwrapped_body\u001b[0m\u001b[0;34m,\u001b[0m\u001b[0;34m\u001b[0m\u001b[0;34m\u001b[0m\u001b[0m\n",
            "\u001b[0;32m/usr/local/lib/python3.8/dist-packages/tensorflow/python/framework/func_graph.py\u001b[0m in \u001b[0;36mfunc_graph_from_py_func\u001b[0;34m(name, python_func, args, kwargs, signature, func_graph, autograph, autograph_options, add_control_dependencies, arg_names, op_return_value, collections, capture_by_value, acd_record_initial_resource_uses)\u001b[0m\n\u001b[1;32m   1143\u001b[0m       \u001b[0;31m# invariant: `func_outputs` contains only Tensors, CompositeTensors,\u001b[0m\u001b[0;34m\u001b[0m\u001b[0;34m\u001b[0m\u001b[0;34m\u001b[0m\u001b[0m\n\u001b[1;32m   1144\u001b[0m       \u001b[0;31m# TensorArrays and `None`s.\u001b[0m\u001b[0;34m\u001b[0m\u001b[0;34m\u001b[0m\u001b[0;34m\u001b[0m\u001b[0m\n\u001b[0;32m-> 1145\u001b[0;31m       func_outputs = nest.map_structure(\n\u001b[0m\u001b[1;32m   1146\u001b[0m           convert, func_outputs, expand_composites=True)\n\u001b[1;32m   1147\u001b[0m \u001b[0;34m\u001b[0m\u001b[0m\n",
            "\u001b[0;32m/usr/local/lib/python3.8/dist-packages/tensorflow/python/util/nest.py\u001b[0m in \u001b[0;36mmap_structure\u001b[0;34m(func, *structure, **kwargs)\u001b[0m\n\u001b[1;32m    914\u001b[0m \u001b[0;34m\u001b[0m\u001b[0m\n\u001b[1;32m    915\u001b[0m   return pack_sequence_as(\n\u001b[0;32m--> 916\u001b[0;31m       \u001b[0mstructure\u001b[0m\u001b[0;34m[\u001b[0m\u001b[0;36m0\u001b[0m\u001b[0;34m]\u001b[0m\u001b[0;34m,\u001b[0m \u001b[0;34m[\u001b[0m\u001b[0mfunc\u001b[0m\u001b[0;34m(\u001b[0m\u001b[0;34m*\u001b[0m\u001b[0mx\u001b[0m\u001b[0;34m)\u001b[0m \u001b[0;32mfor\u001b[0m \u001b[0mx\u001b[0m \u001b[0;32min\u001b[0m \u001b[0mentries\u001b[0m\u001b[0;34m]\u001b[0m\u001b[0;34m,\u001b[0m\u001b[0;34m\u001b[0m\u001b[0;34m\u001b[0m\u001b[0m\n\u001b[0m\u001b[1;32m    917\u001b[0m       expand_composites=expand_composites)\n\u001b[1;32m    918\u001b[0m \u001b[0;34m\u001b[0m\u001b[0m\n",
            "\u001b[0;32m/usr/local/lib/python3.8/dist-packages/tensorflow/python/util/nest.py\u001b[0m in \u001b[0;36m<listcomp>\u001b[0;34m(.0)\u001b[0m\n\u001b[1;32m    914\u001b[0m \u001b[0;34m\u001b[0m\u001b[0m\n\u001b[1;32m    915\u001b[0m   return pack_sequence_as(\n\u001b[0;32m--> 916\u001b[0;31m       \u001b[0mstructure\u001b[0m\u001b[0;34m[\u001b[0m\u001b[0;36m0\u001b[0m\u001b[0;34m]\u001b[0m\u001b[0;34m,\u001b[0m \u001b[0;34m[\u001b[0m\u001b[0mfunc\u001b[0m\u001b[0;34m(\u001b[0m\u001b[0;34m*\u001b[0m\u001b[0mx\u001b[0m\u001b[0;34m)\u001b[0m \u001b[0;32mfor\u001b[0m \u001b[0mx\u001b[0m \u001b[0;32min\u001b[0m \u001b[0mentries\u001b[0m\u001b[0;34m]\u001b[0m\u001b[0;34m,\u001b[0m\u001b[0;34m\u001b[0m\u001b[0;34m\u001b[0m\u001b[0m\n\u001b[0m\u001b[1;32m    917\u001b[0m       expand_composites=expand_composites)\n\u001b[1;32m    918\u001b[0m \u001b[0;34m\u001b[0m\u001b[0m\n",
            "\u001b[0;32m/usr/local/lib/python3.8/dist-packages/tensorflow/python/framework/func_graph.py\u001b[0m in \u001b[0;36mconvert\u001b[0;34m(x)\u001b[0m\n\u001b[1;32m   1102\u001b[0m               \"ExtensionType.\")\n\u001b[1;32m   1103\u001b[0m       \u001b[0;32mif\u001b[0m \u001b[0madd_control_dependencies\u001b[0m\u001b[0;34m:\u001b[0m\u001b[0;34m\u001b[0m\u001b[0;34m\u001b[0m\u001b[0m\n\u001b[0;32m-> 1104\u001b[0;31m         \u001b[0mx\u001b[0m \u001b[0;34m=\u001b[0m \u001b[0mdeps_ctx\u001b[0m\u001b[0;34m.\u001b[0m\u001b[0mmark_as_return\u001b[0m\u001b[0;34m(\u001b[0m\u001b[0mx\u001b[0m\u001b[0;34m)\u001b[0m\u001b[0;34m\u001b[0m\u001b[0;34m\u001b[0m\u001b[0m\n\u001b[0m\u001b[1;32m   1105\u001b[0m       \u001b[0;32mreturn\u001b[0m \u001b[0mx\u001b[0m\u001b[0;34m\u001b[0m\u001b[0;34m\u001b[0m\u001b[0m\n\u001b[1;32m   1106\u001b[0m \u001b[0;34m\u001b[0m\u001b[0m\n",
            "\u001b[0;32m/usr/local/lib/python3.8/dist-packages/tensorflow/python/framework/auto_control_deps.py\u001b[0m in \u001b[0;36mmark_as_return\u001b[0;34m(self, tensor)\u001b[0m\n\u001b[1;32m    247\u001b[0m     \u001b[0;31m# of a new identity operation that the stateful operations definitely don't\u001b[0m\u001b[0;34m\u001b[0m\u001b[0;34m\u001b[0m\u001b[0;34m\u001b[0m\u001b[0m\n\u001b[1;32m    248\u001b[0m     \u001b[0;31m# depend on.\u001b[0m\u001b[0;34m\u001b[0m\u001b[0;34m\u001b[0m\u001b[0;34m\u001b[0m\u001b[0m\n\u001b[0;32m--> 249\u001b[0;31m     \u001b[0mtensor\u001b[0m \u001b[0;34m=\u001b[0m \u001b[0marray_ops\u001b[0m\u001b[0;34m.\u001b[0m\u001b[0midentity\u001b[0m\u001b[0;34m(\u001b[0m\u001b[0mtensor\u001b[0m\u001b[0;34m)\u001b[0m\u001b[0;34m\u001b[0m\u001b[0;34m\u001b[0m\u001b[0m\n\u001b[0m\u001b[1;32m    250\u001b[0m     \u001b[0mself\u001b[0m\u001b[0;34m.\u001b[0m\u001b[0m_returned_tensors\u001b[0m\u001b[0;34m.\u001b[0m\u001b[0madd\u001b[0m\u001b[0;34m(\u001b[0m\u001b[0mtensor\u001b[0m\u001b[0;34m)\u001b[0m\u001b[0;34m\u001b[0m\u001b[0;34m\u001b[0m\u001b[0m\n\u001b[1;32m    251\u001b[0m     \u001b[0;32mreturn\u001b[0m \u001b[0mtensor\u001b[0m\u001b[0;34m\u001b[0m\u001b[0;34m\u001b[0m\u001b[0m\n",
            "\u001b[0;32m/usr/local/lib/python3.8/dist-packages/tensorflow/python/util/traceback_utils.py\u001b[0m in \u001b[0;36merror_handler\u001b[0;34m(*args, **kwargs)\u001b[0m\n\u001b[1;32m    148\u001b[0m     \u001b[0mfiltered_tb\u001b[0m \u001b[0;34m=\u001b[0m \u001b[0;32mNone\u001b[0m\u001b[0;34m\u001b[0m\u001b[0;34m\u001b[0m\u001b[0m\n\u001b[1;32m    149\u001b[0m     \u001b[0;32mtry\u001b[0m\u001b[0;34m:\u001b[0m\u001b[0;34m\u001b[0m\u001b[0;34m\u001b[0m\u001b[0m\n\u001b[0;32m--> 150\u001b[0;31m       \u001b[0;32mreturn\u001b[0m \u001b[0mfn\u001b[0m\u001b[0;34m(\u001b[0m\u001b[0;34m*\u001b[0m\u001b[0margs\u001b[0m\u001b[0;34m,\u001b[0m \u001b[0;34m**\u001b[0m\u001b[0mkwargs\u001b[0m\u001b[0;34m)\u001b[0m\u001b[0;34m\u001b[0m\u001b[0;34m\u001b[0m\u001b[0m\n\u001b[0m\u001b[1;32m    151\u001b[0m     \u001b[0;32mexcept\u001b[0m \u001b[0mException\u001b[0m \u001b[0;32mas\u001b[0m \u001b[0me\u001b[0m\u001b[0;34m:\u001b[0m\u001b[0;34m\u001b[0m\u001b[0;34m\u001b[0m\u001b[0m\n\u001b[1;32m    152\u001b[0m       \u001b[0mfiltered_tb\u001b[0m \u001b[0;34m=\u001b[0m \u001b[0m_process_traceback_frames\u001b[0m\u001b[0;34m(\u001b[0m\u001b[0me\u001b[0m\u001b[0;34m.\u001b[0m\u001b[0m__traceback__\u001b[0m\u001b[0;34m)\u001b[0m\u001b[0;34m\u001b[0m\u001b[0;34m\u001b[0m\u001b[0m\n",
            "\u001b[0;32m/usr/local/lib/python3.8/dist-packages/tensorflow/python/util/dispatch.py\u001b[0m in \u001b[0;36mop_dispatch_handler\u001b[0;34m(*args, **kwargs)\u001b[0m\n\u001b[1;32m   1080\u001b[0m       \u001b[0;31m# Fallback dispatch system (dispatch v1):\u001b[0m\u001b[0;34m\u001b[0m\u001b[0;34m\u001b[0m\u001b[0;34m\u001b[0m\u001b[0m\n\u001b[1;32m   1081\u001b[0m       \u001b[0;32mtry\u001b[0m\u001b[0;34m:\u001b[0m\u001b[0;34m\u001b[0m\u001b[0;34m\u001b[0m\u001b[0m\n\u001b[0;32m-> 1082\u001b[0;31m         \u001b[0;32mreturn\u001b[0m \u001b[0mdispatch_target\u001b[0m\u001b[0;34m(\u001b[0m\u001b[0;34m*\u001b[0m\u001b[0margs\u001b[0m\u001b[0;34m,\u001b[0m \u001b[0;34m**\u001b[0m\u001b[0mkwargs\u001b[0m\u001b[0;34m)\u001b[0m\u001b[0;34m\u001b[0m\u001b[0;34m\u001b[0m\u001b[0m\n\u001b[0m\u001b[1;32m   1083\u001b[0m       \u001b[0;32mexcept\u001b[0m \u001b[0;34m(\u001b[0m\u001b[0mTypeError\u001b[0m\u001b[0;34m,\u001b[0m \u001b[0mValueError\u001b[0m\u001b[0;34m)\u001b[0m\u001b[0;34m:\u001b[0m\u001b[0;34m\u001b[0m\u001b[0;34m\u001b[0m\u001b[0m\n\u001b[1;32m   1084\u001b[0m         \u001b[0;31m# Note: convert_to_eager_tensor currently raises a ValueError, not a\u001b[0m\u001b[0;34m\u001b[0m\u001b[0;34m\u001b[0m\u001b[0;34m\u001b[0m\u001b[0m\n",
            "\u001b[0;32m/usr/local/lib/python3.8/dist-packages/tensorflow/python/ops/array_ops.py\u001b[0m in \u001b[0;36midentity\u001b[0;34m(input, name)\u001b[0m\n\u001b[1;32m    293\u001b[0m     \u001b[0;31m# variables. Variables have correct handle data when graph building.\u001b[0m\u001b[0;34m\u001b[0m\u001b[0;34m\u001b[0m\u001b[0;34m\u001b[0m\u001b[0m\n\u001b[1;32m    294\u001b[0m     \u001b[0minput\u001b[0m \u001b[0;34m=\u001b[0m \u001b[0mops\u001b[0m\u001b[0;34m.\u001b[0m\u001b[0mconvert_to_tensor\u001b[0m\u001b[0;34m(\u001b[0m\u001b[0minput\u001b[0m\u001b[0;34m)\u001b[0m\u001b[0;34m\u001b[0m\u001b[0;34m\u001b[0m\u001b[0m\n\u001b[0;32m--> 295\u001b[0;31m   \u001b[0mret\u001b[0m \u001b[0;34m=\u001b[0m \u001b[0mgen_array_ops\u001b[0m\u001b[0;34m.\u001b[0m\u001b[0midentity\u001b[0m\u001b[0;34m(\u001b[0m\u001b[0minput\u001b[0m\u001b[0;34m,\u001b[0m \u001b[0mname\u001b[0m\u001b[0;34m=\u001b[0m\u001b[0mname\u001b[0m\u001b[0;34m)\u001b[0m\u001b[0;34m\u001b[0m\u001b[0;34m\u001b[0m\u001b[0m\n\u001b[0m\u001b[1;32m    296\u001b[0m   \u001b[0;31m# Propagate handle data for happier shape inference for resource variables.\u001b[0m\u001b[0;34m\u001b[0m\u001b[0;34m\u001b[0m\u001b[0;34m\u001b[0m\u001b[0m\n\u001b[1;32m    297\u001b[0m   \u001b[0;32mif\u001b[0m \u001b[0mhasattr\u001b[0m\u001b[0;34m(\u001b[0m\u001b[0minput\u001b[0m\u001b[0;34m,\u001b[0m \u001b[0;34m\"_handle_data\"\u001b[0m\u001b[0;34m)\u001b[0m\u001b[0;34m:\u001b[0m\u001b[0;34m\u001b[0m\u001b[0;34m\u001b[0m\u001b[0m\n",
            "\u001b[0;32m/usr/local/lib/python3.8/dist-packages/tensorflow/python/ops/gen_array_ops.py\u001b[0m in \u001b[0;36midentity\u001b[0;34m(input, name)\u001b[0m\n\u001b[1;32m   4075\u001b[0m       \u001b[0;32mpass\u001b[0m  \u001b[0;31m# Add nodes to the TensorFlow graph.\u001b[0m\u001b[0;34m\u001b[0m\u001b[0;34m\u001b[0m\u001b[0m\n\u001b[1;32m   4076\u001b[0m   \u001b[0;31m# Add nodes to the TensorFlow graph.\u001b[0m\u001b[0;34m\u001b[0m\u001b[0;34m\u001b[0m\u001b[0;34m\u001b[0m\u001b[0m\n\u001b[0;32m-> 4077\u001b[0;31m   _, _, _op, _outputs = _op_def_library._apply_op_helper(\n\u001b[0m\u001b[1;32m   4078\u001b[0m         \"Identity\", input=input, name=name)\n\u001b[1;32m   4079\u001b[0m   \u001b[0m_result\u001b[0m \u001b[0;34m=\u001b[0m \u001b[0m_outputs\u001b[0m\u001b[0;34m[\u001b[0m\u001b[0;34m:\u001b[0m\u001b[0;34m]\u001b[0m\u001b[0;34m\u001b[0m\u001b[0;34m\u001b[0m\u001b[0m\n",
            "\u001b[0;32m/usr/local/lib/python3.8/dist-packages/tensorflow/python/framework/op_def_library.py\u001b[0m in \u001b[0;36m_apply_op_helper\u001b[0;34m(op_type_name, name, **keywords)\u001b[0m\n\u001b[1;32m    754\u001b[0m   \u001b[0;34m\"\"\"Implementation of apply_op that returns output_structure, op.\"\"\"\u001b[0m\u001b[0;34m\u001b[0m\u001b[0;34m\u001b[0m\u001b[0m\n\u001b[1;32m    755\u001b[0m \u001b[0;34m\u001b[0m\u001b[0m\n\u001b[0;32m--> 756\u001b[0;31m   \u001b[0mop_def\u001b[0m\u001b[0;34m,\u001b[0m \u001b[0mg\u001b[0m\u001b[0;34m,\u001b[0m \u001b[0mproducer\u001b[0m \u001b[0;34m=\u001b[0m \u001b[0m_GetOpDef\u001b[0m\u001b[0;34m(\u001b[0m\u001b[0mop_type_name\u001b[0m\u001b[0;34m,\u001b[0m \u001b[0mkeywords\u001b[0m\u001b[0;34m)\u001b[0m\u001b[0;34m\u001b[0m\u001b[0;34m\u001b[0m\u001b[0m\n\u001b[0m\u001b[1;32m    757\u001b[0m   \u001b[0mname\u001b[0m \u001b[0;34m=\u001b[0m \u001b[0mname\u001b[0m \u001b[0;32mif\u001b[0m \u001b[0mname\u001b[0m \u001b[0;32melse\u001b[0m \u001b[0mop_type_name\u001b[0m\u001b[0;34m\u001b[0m\u001b[0;34m\u001b[0m\u001b[0m\n\u001b[1;32m    758\u001b[0m \u001b[0;34m\u001b[0m\u001b[0m\n",
            "\u001b[0;32m/usr/local/lib/python3.8/dist-packages/tensorflow/python/framework/op_def_library.py\u001b[0m in \u001b[0;36m_GetOpDef\u001b[0;34m(op_type_name, keywords)\u001b[0m\n\u001b[1;32m    734\u001b[0m     \u001b[0;31m# pylint: disable=protected-access\u001b[0m\u001b[0;34m\u001b[0m\u001b[0;34m\u001b[0m\u001b[0;34m\u001b[0m\u001b[0m\n\u001b[1;32m    735\u001b[0m     \u001b[0mg\u001b[0m \u001b[0;34m=\u001b[0m \u001b[0mops\u001b[0m\u001b[0;34m.\u001b[0m\u001b[0m_get_graph_from_inputs\u001b[0m\u001b[0;34m(\u001b[0m\u001b[0m_Flatten\u001b[0m\u001b[0;34m(\u001b[0m\u001b[0mkeywords\u001b[0m\u001b[0;34m.\u001b[0m\u001b[0mvalues\u001b[0m\u001b[0;34m(\u001b[0m\u001b[0;34m)\u001b[0m\u001b[0;34m)\u001b[0m\u001b[0;34m)\u001b[0m\u001b[0;34m\u001b[0m\u001b[0;34m\u001b[0m\u001b[0m\n\u001b[0;32m--> 736\u001b[0;31m     \u001b[0mproducer\u001b[0m \u001b[0;34m=\u001b[0m \u001b[0mg\u001b[0m\u001b[0;34m.\u001b[0m\u001b[0mgraph_def_versions\u001b[0m\u001b[0;34m.\u001b[0m\u001b[0mproducer\u001b[0m\u001b[0;34m\u001b[0m\u001b[0;34m\u001b[0m\u001b[0m\n\u001b[0m\u001b[1;32m    737\u001b[0m     \u001b[0;31m# pylint: enable=protected-access\u001b[0m\u001b[0;34m\u001b[0m\u001b[0;34m\u001b[0m\u001b[0;34m\u001b[0m\u001b[0m\n\u001b[1;32m    738\u001b[0m   \u001b[0;32mexcept\u001b[0m \u001b[0mAssertionError\u001b[0m \u001b[0;32mas\u001b[0m \u001b[0me\u001b[0m\u001b[0;34m:\u001b[0m\u001b[0;34m\u001b[0m\u001b[0;34m\u001b[0m\u001b[0m\n",
            "\u001b[0;32m/usr/local/lib/python3.8/dist-packages/tensorflow/python/framework/ops.py\u001b[0m in \u001b[0;36mgraph_def_versions\u001b[0;34m(self)\u001b[0m\n\u001b[1;32m   3378\u001b[0m       \u001b[0mdata\u001b[0m \u001b[0;34m=\u001b[0m \u001b[0mpywrap_tf_session\u001b[0m\u001b[0;34m.\u001b[0m\u001b[0mTF_GetBuffer\u001b[0m\u001b[0;34m(\u001b[0m\u001b[0mbuf\u001b[0m\u001b[0;34m)\u001b[0m\u001b[0;34m\u001b[0m\u001b[0;34m\u001b[0m\u001b[0m\n\u001b[1;32m   3379\u001b[0m     \u001b[0mversion_def\u001b[0m \u001b[0;34m=\u001b[0m \u001b[0mversions_pb2\u001b[0m\u001b[0;34m.\u001b[0m\u001b[0mVersionDef\u001b[0m\u001b[0;34m(\u001b[0m\u001b[0;34m)\u001b[0m\u001b[0;34m\u001b[0m\u001b[0;34m\u001b[0m\u001b[0m\n\u001b[0;32m-> 3380\u001b[0;31m     \u001b[0mversion_def\u001b[0m\u001b[0;34m.\u001b[0m\u001b[0mParseFromString\u001b[0m\u001b[0;34m(\u001b[0m\u001b[0mcompat\u001b[0m\u001b[0;34m.\u001b[0m\u001b[0mas_bytes\u001b[0m\u001b[0;34m(\u001b[0m\u001b[0mdata\u001b[0m\u001b[0;34m)\u001b[0m\u001b[0;34m)\u001b[0m\u001b[0;34m\u001b[0m\u001b[0;34m\u001b[0m\u001b[0m\n\u001b[0m\u001b[1;32m   3381\u001b[0m     \u001b[0;32mreturn\u001b[0m \u001b[0mversion_def\u001b[0m\u001b[0;34m\u001b[0m\u001b[0;34m\u001b[0m\u001b[0m\n\u001b[1;32m   3382\u001b[0m \u001b[0;34m\u001b[0m\u001b[0m\n",
            "\u001b[0;32m/usr/local/lib/python3.8/dist-packages/tensorflow/python/util/compat.py\u001b[0m in \u001b[0;36mas_bytes\u001b[0;34m(bytes_or_text, encoding)\u001b[0m\n\u001b[1;32m     75\u001b[0m   \"\"\"\n\u001b[1;32m     76\u001b[0m   \u001b[0;31m# Validate encoding, a LookupError will be raised if invalid.\u001b[0m\u001b[0;34m\u001b[0m\u001b[0;34m\u001b[0m\u001b[0;34m\u001b[0m\u001b[0m\n\u001b[0;32m---> 77\u001b[0;31m   \u001b[0mencoding\u001b[0m \u001b[0;34m=\u001b[0m \u001b[0mcodecs\u001b[0m\u001b[0;34m.\u001b[0m\u001b[0mlookup\u001b[0m\u001b[0;34m(\u001b[0m\u001b[0mencoding\u001b[0m\u001b[0;34m)\u001b[0m\u001b[0;34m.\u001b[0m\u001b[0mname\u001b[0m\u001b[0;34m\u001b[0m\u001b[0;34m\u001b[0m\u001b[0m\n\u001b[0m\u001b[1;32m     78\u001b[0m   \u001b[0;32mif\u001b[0m \u001b[0misinstance\u001b[0m\u001b[0;34m(\u001b[0m\u001b[0mbytes_or_text\u001b[0m\u001b[0;34m,\u001b[0m \u001b[0mbytearray\u001b[0m\u001b[0;34m)\u001b[0m\u001b[0;34m:\u001b[0m\u001b[0;34m\u001b[0m\u001b[0;34m\u001b[0m\u001b[0m\n\u001b[1;32m     79\u001b[0m     \u001b[0;32mreturn\u001b[0m \u001b[0mbytes\u001b[0m\u001b[0;34m(\u001b[0m\u001b[0mbytes_or_text\u001b[0m\u001b[0;34m)\u001b[0m\u001b[0;34m\u001b[0m\u001b[0;34m\u001b[0m\u001b[0m\n",
            "\u001b[0;31mKeyboardInterrupt\u001b[0m: "
          ]
        }
      ]
    },
    {
      "cell_type": "code",
      "source": [
        "history = pd.DataFrame(training.history)\n",
        "history.plot()\n",
        "plt.grid()"
      ],
      "metadata": {
        "colab": {
          "base_uri": "https://localhost:8080/",
          "height": 265
        },
        "id": "Odet1xwxWyNx",
        "outputId": "e192cbab-5b76-4948-d64d-c5fc7fc96f26"
      },
      "execution_count": null,
      "outputs": [
        {
          "output_type": "display_data",
          "data": {
            "text/plain": [
              "<Figure size 432x288 with 1 Axes>"
            ],
            "image/png": "[encoded data removed]"
          },
          "metadata": {
            "needs_background": "light"
          }
        }
      ]
    },
    {
      "cell_type": "code",
      "source": [
        "model.evaluate(arr_test_X, y_test)"
      ],
      "metadata": {
        "colab": {
          "base_uri": "https://localhost:8080/"
        },
        "id": "zx0xC2nwW_xx",
        "outputId": "33e70c3a-b886-414c-f373-ffcfbb110b2e"
      },
      "execution_count": null,
      "outputs": [
        {
          "output_type": "stream",
          "name": "stdout",
          "text": [
            "1/1 [==============================] - 0s 36ms/step - loss: 4.3916e-04 - mae: 0.0145 - mse: 4.3916e-04\n"
          ]
        },
        {
          "output_type": "execute_result",
          "data": {
            "text/plain": [
              "[0.0004391636757645756, 0.014483338221907616, 0.0004391636757645756]"
            ]
          },
          "metadata": {},
          "execution_count": 57
        }
      ]
    },
    {
      "cell_type": "code",
      "source": [
        "model.save('modello_mes_v1')"
      ],
      "metadata": {
        "colab": {
          "base_uri": "https://localhost:8080/"
        },
        "id": "_0tWRDXOYgmG",
        "outputId": "4ece00f9-5465-49c0-dc0b-dfa11df06d9d"
      },
      "execution_count": null,
      "outputs": [
        {
          "output_type": "stream",
          "name": "stderr",
          "text": [
            "WARNING:absl:Found untraced functions such as lstm_cell_13_layer_call_fn, lstm_cell_13_layer_call_and_return_conditional_losses, lstm_cell_14_layer_call_fn, lstm_cell_14_layer_call_and_return_conditional_losses, lstm_cell_16_layer_call_fn while saving (showing 5 of 16). These functions will not be directly callable after loading.\n"
          ]
        }
      ]
    },
    {
      "cell_type": "code",
      "source": [
        "n_previsioni = 100\n",
        "X_da_prevedere = np.array(df[['Hour','open']], dtype = np.float32)\n",
        "X_da_prevedere = X_da_prevedere[-(n_previsioni+seq_len):]\n",
        "y_reale = np.array(df['close'], dtype = np.float32)\n",
        "y_reale = y_reale[-n_previsioni:]\n",
        "X_scaled = X_scaler.transform(X_da_prevedere)\n",
        "\n",
        "arr_da_prevedere = np.zeros((X_scaled.shape[0]-seq_len,seq_len,2), dtype = np.float32)\n",
        "for i in range(X_scaled.shape[0]-seq_len):\n",
        "  arr_da_prevedere[i] = X_scaled[i:i+seq_len]\n",
        "\n",
        "previsioni = model.predict(arr_da_prevedere)\n",
        "previsioni = Y_scaler.inverse_transform(previsioni)"
      ],
      "metadata": {
        "colab": {
          "base_uri": "https://localhost:8080/"
        },
        "id": "yIvA1lv4YlJe",
        "outputId": "cdea1369-e87d-4bb5-da5d-624fa6ed44ee"
      },
      "execution_count": null,
      "outputs": [
        {
          "output_type": "stream",
          "name": "stdout",
          "text": [
            "4/4 [==============================] - 0s 15ms/step\n"
          ]
        }
      ]
    },
    {
      "cell_type": "code",
      "source": [
        "time = [i for i in range (previsioni.shape[0])]\n",
        "plt.plot(time, previsioni.ravel(), color = 'red', label = 'previsione', marker = '.', linestyle = '--')\n",
        "plt.plot(time, y_reale, color = 'blue', label = 'reale', marker = '.')\n",
        "plt.plot(time, df.open[-n_previsioni:], color = 'yellow', label = 'reale', marker = '.')\n",
        "plt.grid()"
      ],
      "metadata": {
        "colab": {
          "base_uri": "https://localhost:8080/",
          "height": 265
        },
        "id": "RVI2tx2sb5nU",
        "outputId": "9e169b6f-111b-4f80-f2e3-4c2db988ecb3"
      },
      "execution_count": null,
      "outputs": [
        {
          "output_type": "display_data",
          "data": {
            "text/plain": [
              "<Figure size 432x288 with 1 Axes>"
            ],
            "image/png": "[encoded data removed]"
          },
          "metadata": {
            "needs_background": "light"
          }
        }
      ]
    },
    {
      "cell_type": "code",
      "source": [
        "err_medio =  np.mean(abs(previsioni.ravel() - y_reale)) # se si aggiunge 5 alla previsione si arriva a mae 6.47\n",
        "err_medio"
      ],
      "metadata": {
        "colab": {
          "base_uri": "https://localhost:8080/"
        },
        "id": "wvAotM-vcdoh",
        "outputId": "e8e37adb-dbaa-4d90-9a88-816f8c7d45c5"
      },
      "execution_count": null,
      "outputs": [
        {
          "output_type": "execute_result",
          "data": {
            "text/plain": [
              "8.267678"
            ]
          },
          "metadata": {},
          "execution_count": 122
        }
      ]
    },
    {
      "cell_type": "code",
      "source": [
        "profit = []\n",
        "for i,el in enumerate(previsioni.ravel()):\n",
        "  buy = True\n",
        "  if previsioni.ravel()[i] > df.open[-n_previsioni + i]:\n",
        "    buy = True\n",
        "  else:\n",
        "    buy = False\n",
        "\n",
        "  if buy:\n",
        "    profit.append((y_reale[i]-df.open[-n_previsioni + i]))\n",
        "  else:\n",
        "    profit.append(-(y_reale[i]-df.open[-n_previsioni + i]))\n"
      ],
      "metadata": {
        "id": "uLdEAWR-dfnk"
      },
      "execution_count": null,
      "outputs": []
    },
    {
      "cell_type": "code",
      "source": [
        "profit_stupid = []\n",
        "for i in range (n_previsioni):\n",
        "  buy = True\n",
        "  if df.open[-n_previsioni + i - 1] > df.open[-n_previsioni + i]:\n",
        "    buy = True\n",
        "  else:\n",
        "    buy = False\n",
        "\n",
        "  if buy:\n",
        "    profit_stupid.append((y_reale[i]-df.open[-n_previsioni + i]))\n",
        "  else:\n",
        "    profit_stupid.append(-(y_reale[i]-df.open[-n_previsioni + i]))"
      ],
      "metadata": {
        "id": "LlM-dVV5l15H"
      },
      "execution_count": null,
      "outputs": []
    },
    {
      "cell_type": "code",
      "source": [
        "np.mean(profit)"
      ],
      "metadata": {
        "colab": {
          "base_uri": "https://localhost:8080/"
        },
        "id": "SvTMS5cFeqba",
        "outputId": "ab9b4929-a31a-45e2-b831-dd4d2369473d"
      },
      "execution_count": null,
      "outputs": [
        {
          "output_type": "execute_result",
          "data": {
            "text/plain": [
              "0.06"
            ]
          },
          "metadata": {},
          "execution_count": 132
        }
      ]
    },
    {
      "cell_type": "code",
      "source": [
        "min(profit)"
      ],
      "metadata": {
        "colab": {
          "base_uri": "https://localhost:8080/"
        },
        "id": "9q5u_hTPo6Ry",
        "outputId": "dcc5096f-be3c-4c0b-a467-6d5ff94b4f48"
      },
      "execution_count": null,
      "outputs": [
        {
          "output_type": "execute_result",
          "data": {
            "text/plain": [
              "-7.25"
            ]
          },
          "metadata": {},
          "execution_count": 135
        }
      ]
    },
    {
      "cell_type": "code",
      "source": [
        "s = sum(profit) +7.25"
      ],
      "metadata": {
        "colab": {
          "base_uri": "https://localhost:8080/"
        },
        "id": "Y8v2IaYvsFIx",
        "outputId": "819858dc-3858-4e47-eaff-d2477dd4dd29"
      },
      "execution_count": null,
      "outputs": [
        {
          "output_type": "execute_result",
          "data": {
            "text/plain": [
              "0.13383838383838384"
            ]
          },
          "metadata": {},
          "execution_count": 141
        }
      ]
    },
    {
      "cell_type": "code",
      "source": [
        "max(profit)"
      ],
      "metadata": {
        "colab": {
          "base_uri": "https://localhost:8080/"
        },
        "id": "gherOE6NpAQg",
        "outputId": "fd6b6e43-3a42-4127-ac6a-260d2f5f0110"
      },
      "execution_count": null,
      "outputs": [
        {
          "output_type": "execute_result",
          "data": {
            "text/plain": [
              "3.25"
            ]
          },
          "metadata": {},
          "execution_count": 136
        }
      ]
    },
    {
      "cell_type": "code",
      "source": [
        "np.std(profit)"
      ],
      "metadata": {
        "colab": {
          "base_uri": "https://localhost:8080/"
        },
        "id": "tEPwMi2wqAB_",
        "outputId": "b80fedec-5874-4e73-a634-115b92556a8c"
      },
      "execution_count": null,
      "outputs": [
        {
          "output_type": "execute_result",
          "data": {
            "text/plain": [
              "1.1175419455215094"
            ]
          },
          "metadata": {},
          "execution_count": 139
        }
      ]
    },
    {
      "cell_type": "code",
      "source": [
        "plt.plot(time, profit, marker = '.', color = 'blue', label = 'profit')\n",
        "plt.legend()\n",
        "plt.grid()"
      ],
      "metadata": {
        "colab": {
          "base_uri": "https://localhost:8080/",
          "height": 265
        },
        "id": "k9nxVRzAqT3l",
        "outputId": "852c7fce-708f-45d7-a66f-a945efbab910"
      },
      "execution_count": null,
      "outputs": [
        {
          "output_type": "display_data",
          "data": {
            "text/plain": [
              "<Figure size 432x288 with 1 Axes>"
            ],
            "image/png": "[encoded data removed]"
          },
          "metadata": {
            "needs_background": "light"
          }
        }
      ]
    },
    {
      "cell_type": "code",
      "source": [
        "np.mean(profit_stupid)"
      ],
      "metadata": {
        "colab": {
          "base_uri": "https://localhost:8080/"
        },
        "id": "-jmlKj2wnTZ1",
        "outputId": "c10c2556-f004-4acf-ca01-2b2dbbdf179f"
      },
      "execution_count": null,
      "outputs": [
        {
          "output_type": "execute_result",
          "data": {
            "text/plain": [
              "0.04"
            ]
          },
          "metadata": {},
          "execution_count": 134
        }
      ]
    },
    {
      "cell_type": "code",
      "source": [
        "np.mean(abs(y_reale - df.open[-n_previsioni:]))"
      ],
      "metadata": {
        "colab": {
          "base_uri": "https://localhost:8080/"
        },
        "id": "gyuVuVTdfKzm",
        "outputId": "73c95757-7238-4041-a1d7-399c4a12918b"
      },
      "execution_count": null,
      "outputs": [
        {
          "output_type": "execute_result",
          "data": {
            "text/plain": [
              "0.705"
            ]
          },
          "metadata": {},
          "execution_count": 48
        }
      ]
    },
    {
      "cell_type": "code",
      "source": [
        "profit_100 = profit[:-98]\n",
        "guadagno = 0\n",
        "for i in profit_100:\n",
        "  guadagno += 10*i\n",
        "\n",
        "guadagno"
      ],
      "metadata": {
        "colab": {
          "base_uri": "https://localhost:8080/"
        },
        "id": "cEBT7EnXsoTw",
        "outputId": "132eced2-0fbb-4e82-c761-004f02ca6da5"
      },
      "execution_count": null,
      "outputs": [
        {
          "output_type": "execute_result",
          "data": {
            "text/plain": [
              "-12.5"
            ]
          },
          "metadata": {},
          "execution_count": 156
        }
      ]
    },
    {
      "cell_type": "code",
      "source": [
        "a = 0\n",
        "giorni = 1\n",
        "for i in range(giorni):\n",
        "  for j in range (6):\n",
        "    a *= 5\n",
        "a"
      ],
      "metadata": {
        "colab": {
          "base_uri": "https://localhost:8080/"
        },
        "id": "blFYOelYh_1X",
        "outputId": "edefde0b-7ab2-45ab-a17f-9342b35ebc8d"
      },
      "execution_count": null,
      "outputs": [
        {
          "output_type": "execute_result",
          "data": {
            "text/plain": [
              "201.21964718355505"
            ]
          },
          "metadata": {},
          "execution_count": 138
        }
      ]
    },
    {
      "cell_type": "code",
      "source": [
        "import torch"
      ],
      "metadata": {
        "id": "tYRA19coLDDj"
      },
      "execution_count": null,
      "outputs": []
    },
    {
      "cell_type": "code",
      "source": [
        "from transformers.models.time_series_transformer.modeling_time_series_transformer import TimeSeriesTransformerConfig\n",
        "from transformers import TimeSeriesTransformerForPrediction\n",
        "\n",
        "config = TimeSeriesTransformerConfig(input_size = seq_len, prediction_length = 1)\n",
        "transformer = TimeSeriesTransformerForPrediction(config)"
      ],
      "metadata": {
        "id": "3HCEIDscKid-"
      },
      "execution_count": null,
      "outputs": []
    },
    {
      "cell_type": "code",
      "source": [
        "prova = df[:48]\n",
        "prova.head()"
      ],
      "metadata": {
        "colab": {
          "base_uri": "https://localhost:8080/",
          "height": 238
        },
        "id": "y8RZGFU-MJG6",
        "outputId": "bf40294e-73ab-42c3-d336-4d8d18c7d5de"
      },
      "execution_count": null,
      "outputs": [
        {
          "output_type": "execute_result",
          "data": {
            "text/plain": [
              "              Hour     open     high      low    close  volume\n",
              "Date                                                          \n",
              "2022-09-07  220100  3993.75  4000.75  3993.75  3999.50      26\n",
              "2022-09-07  230000  3997.75  3997.75  3997.75  3997.75       3\n",
              "2022-09-08       0  3993.75  3994.00  3993.25  3993.75      28\n",
              "2022-09-08   10000  3999.00  3999.00  3999.00  3999.00       3\n",
              "2022-09-08   20000  3998.50  3998.75  3998.50  3998.75      12"
            ],
            "text/html": [
              "\n",
              "  <div id=\"df-2d72bc73-bbe4-4208-8a9b-28c53187f1d3\">\n",
              "    <div class=\"colab-df-container\">\n",
              "      <div>\n",
              "<style scoped>\n",
              "    .dataframe tbody tr th:only-of-type {\n",
              "        vertical-align: middle;\n",
              "    }\n",
              "\n",
              "    .dataframe tbody tr th {\n",
              "        vertical-align: top;\n",
              "    }\n",
              "\n",
              "    .dataframe thead th {\n",
              "        text-align: right;\n",
              "    }\n",
              "</style>\n",
              "<table border=\"1\" class=\"dataframe\">\n",
              "  <thead>\n",
              "    <tr style=\"text-align: right;\">\n",
              "      <th></th>\n",
              "      <th>Hour</th>\n",
              "      <th>open</th>\n",
              "      <th>high</th>\n",
              "      <th>low</th>\n",
              "      <th>close</th>\n",
              "      <th>volume</th>\n",
              "    </tr>\n",
              "    <tr>\n",
              "      <th>Date</th>\n",
              "      <th></th>\n",
              "      <th></th>\n",
              "      <th></th>\n",
              "      <th></th>\n",
              "      <th></th>\n",
              "      <th></th>\n",
              "    </tr>\n",
              "  </thead>\n",
              "  <tbody>\n",
              "    <tr>\n",
              "      <th>2022-09-07</th>\n",
              "      <td>220100</td>\n",
              "      <td>3993.75</td>\n",
              "      <td>4000.75</td>\n",
              "      <td>3993.75</td>\n",
              "      <td>3999.50</td>\n",
              "      <td>26</td>\n",
              "    </tr>\n",
              "    <tr>\n",
              "      <th>2022-09-07</th>\n",
              "      <td>230000</td>\n",
              "      <td>3997.75</td>\n",
              "      <td>3997.75</td>\n",
              "      <td>3997.75</td>\n",
              "      <td>3997.75</td>\n",
              "      <td>3</td>\n",
              "    </tr>\n",
              "    <tr>\n",
              "      <th>2022-09-08</th>\n",
              "      <td>0</td>\n",
              "      <td>3993.75</td>\n",
              "      <td>3994.00</td>\n",
              "      <td>3993.25</td>\n",
              "      <td>3993.75</td>\n",
              "      <td>28</td>\n",
              "    </tr>\n",
              "    <tr>\n",
              "      <th>2022-09-08</th>\n",
              "      <td>10000</td>\n",
              "      <td>3999.00</td>\n",
              "      <td>3999.00</td>\n",
              "      <td>3999.00</td>\n",
              "      <td>3999.00</td>\n",
              "      <td>3</td>\n",
              "    </tr>\n",
              "    <tr>\n",
              "      <th>2022-09-08</th>\n",
              "      <td>20000</td>\n",
              "      <td>3998.50</td>\n",
              "      <td>3998.75</td>\n",
              "      <td>3998.50</td>\n",
              "      <td>3998.75</td>\n",
              "      <td>12</td>\n",
              "    </tr>\n",
              "  </tbody>\n",
              "</table>\n",
              "</div>\n",
              "      <button class=\"colab-df-convert\" onclick=\"convertToInteractive('df-2d72bc73-bbe4-4208-8a9b-28c53187f1d3')\"\n",
              "              title=\"Convert this dataframe to an interactive table.\"\n",
              "              style=\"display:none;\">\n",
              "        \n",
              "  <svg xmlns=\"http://www.w3.org/2000/svg\" height=\"24px\"viewBox=\"0 0 24 24\"\n",
              "       width=\"24px\">\n",
              "    <path d=\"M0 0h24v24H0V0z\" fill=\"none\"/>\n",
              "    <path d=\"M18.56 5.44l.94 2.06.94-2.06 2.06-.94-2.06-.94-.94-2.06-.94 2.06-2.06.94zm-11 1L8.5 8.5l.94-2.06 2.06-.94-2.06-.94L8.5 2.5l-.94 2.06-2.06.94zm10 10l.94 2.06.94-2.06 2.06-.94-2.06-.94-.94-2.06-.94 2.06-2.06.94z\"/><path d=\"M17.41 7.96l-1.37-1.37c-.4-.4-.92-.59-1.43-.59-.52 0-1.04.2-1.43.59L10.3 9.45l-7.72 7.72c-.78.78-.78 2.05 0 2.83L4 21.41c.39.39.9.59 1.41.59.51 0 1.02-.2 1.41-.59l7.78-7.78 2.81-2.81c.8-.78.8-2.07 0-2.86zM5.41 20L4 18.59l7.72-7.72 1.47 1.35L5.41 20z\"/>\n",
              "  </svg>\n",
              "      </button>\n",
              "      \n",
              "  <style>\n",
              "    .colab-df-container {\n",
              "      display:flex;\n",
              "      flex-wrap:wrap;\n",
              "      gap: 12px;\n",
              "    }\n",
              "\n",
              "    .colab-df-convert {\n",
              "      background-color: #E8F0FE;\n",
              "      border: none;\n",
              "      border-radius: 50%;\n",
              "      cursor: pointer;\n",
              "      display: none;\n",
              "      fill: #1967D2;\n",
              "      height: 32px;\n",
              "      padding: 0 0 0 0;\n",
              "      width: 32px;\n",
              "    }\n",
              "\n",
              "    .colab-df-convert:hover {\n",
              "      background-color: #E2EBFA;\n",
              "      box-shadow: 0px 1px 2px rgba(60, 64, 67, 0.3), 0px 1px 3px 1px rgba(60, 64, 67, 0.15);\n",
              "      fill: #174EA6;\n",
              "    }\n",
              "\n",
              "    [theme=dark] .colab-df-convert {\n",
              "      background-color: #3B4455;\n",
              "      fill: #D2E3FC;\n",
              "    }\n",
              "\n",
              "    [theme=dark] .colab-df-convert:hover {\n",
              "      background-color: #434B5C;\n",
              "      box-shadow: 0px 1px 3px 1px rgba(0, 0, 0, 0.15);\n",
              "      filter: drop-shadow(0px 1px 2px rgba(0, 0, 0, 0.3));\n",
              "      fill: #FFFFFF;\n",
              "    }\n",
              "  </style>\n",
              "\n",
              "      <script>\n",
              "        const buttonEl =\n",
              "          document.querySelector('#df-2d72bc73-bbe4-4208-8a9b-28c53187f1d3 button.colab-df-convert');\n",
              "        buttonEl.style.display =\n",
              "          google.colab.kernel.accessAllowed ? 'block' : 'none';\n",
              "\n",
              "        async function convertToInteractive(key) {\n",
              "          const element = document.querySelector('#df-2d72bc73-bbe4-4208-8a9b-28c53187f1d3');\n",
              "          const dataTable =\n",
              "            await google.colab.kernel.invokeFunction('convertToInteractive',\n",
              "                                                     [key], {});\n",
              "          if (!dataTable) return;\n",
              "\n",
              "          const docLinkHtml = 'Like what you see? Visit the ' +\n",
              "            '<a target=\"_blank\" href=https://colab.research.google.com/notebooks/data_table.ipynb>data table notebook</a>'\n",
              "            + ' to learn more about interactive tables.';\n",
              "          element.innerHTML = '';\n",
              "          dataTable['output_type'] = 'display_data';\n",
              "          await google.colab.output.renderOutput(dataTable, element);\n",
              "          const docLink = document.createElement('div');\n",
              "          docLink.innerHTML = docLinkHtml;\n",
              "          element.appendChild(docLink);\n",
              "        }\n",
              "      </script>\n",
              "    </div>\n",
              "  </div>\n",
              "  "
            ]
          },
          "metadata": {},
          "execution_count": 17
        }
      ]
    },
    {
      "cell_type": "code",
      "source": [
        "transformer(prova, past_time_features = prova['Date'], past_observed_mask = None, static_categorical_features = None, static_real_features = None)"
      ],
      "metadata": {
        "colab": {
          "base_uri": "https://localhost:8080/",
          "height": 329
        },
        "id": "DynXXbwcKstw",
        "outputId": "6d0ba80c-4a82-4fc6-b78a-348025fc19c7"
      },
      "execution_count": null,
      "outputs": [
        {
          "output_type": "error",
          "ename": "TypeError",
          "evalue": "ignored",
          "traceback": [
            "\u001b[0;31m---------------------------------------------------------------------------\u001b[0m",
            "\u001b[0;31mTypeError\u001b[0m                                 Traceback (most recent call last)",
            "\u001b[0;32m<ipython-input-15-fbf44777cfb3>\u001b[0m in \u001b[0;36m<module>\u001b[0;34m\u001b[0m\n\u001b[0;32m----> 1\u001b[0;31m \u001b[0mtransformer\u001b[0m\u001b[0;34m(\u001b[0m\u001b[0marr_train_X\u001b[0m\u001b[0;34m,\u001b[0m \u001b[0mpast_time_features\u001b[0m \u001b[0;34m=\u001b[0m \u001b[0;32mNone\u001b[0m\u001b[0;34m,\u001b[0m \u001b[0mpast_observed_mask\u001b[0m \u001b[0;34m=\u001b[0m \u001b[0;32mNone\u001b[0m\u001b[0;34m,\u001b[0m \u001b[0mstatic_categorical_features\u001b[0m \u001b[0;34m=\u001b[0m \u001b[0;32mNone\u001b[0m\u001b[0;34m,\u001b[0m \u001b[0mstatic_real_features\u001b[0m \u001b[0;34m=\u001b[0m \u001b[0;32mNone\u001b[0m\u001b[0;34m)\u001b[0m\u001b[0;34m\u001b[0m\u001b[0;34m\u001b[0m\u001b[0m\n\u001b[0m",
            "\u001b[0;32m/usr/local/lib/python3.8/dist-packages/torch/nn/modules/module.py\u001b[0m in \u001b[0;36m_call_impl\u001b[0;34m(self, *input, **kwargs)\u001b[0m\n\u001b[1;32m   1128\u001b[0m         if not (self._backward_hooks or self._forward_hooks or self._forward_pre_hooks or _global_backward_hooks\n\u001b[1;32m   1129\u001b[0m                 or _global_forward_hooks or _global_forward_pre_hooks):\n\u001b[0;32m-> 1130\u001b[0;31m             \u001b[0;32mreturn\u001b[0m \u001b[0mforward_call\u001b[0m\u001b[0;34m(\u001b[0m\u001b[0;34m*\u001b[0m\u001b[0minput\u001b[0m\u001b[0;34m,\u001b[0m \u001b[0;34m**\u001b[0m\u001b[0mkwargs\u001b[0m\u001b[0;34m)\u001b[0m\u001b[0;34m\u001b[0m\u001b[0;34m\u001b[0m\u001b[0m\n\u001b[0m\u001b[1;32m   1131\u001b[0m         \u001b[0;31m# Do not call functions when jit is used\u001b[0m\u001b[0;34m\u001b[0m\u001b[0;34m\u001b[0m\u001b[0;34m\u001b[0m\u001b[0m\n\u001b[1;32m   1132\u001b[0m         \u001b[0mfull_backward_hooks\u001b[0m\u001b[0;34m,\u001b[0m \u001b[0mnon_full_backward_hooks\u001b[0m \u001b[0;34m=\u001b[0m \u001b[0;34m[\u001b[0m\u001b[0;34m]\u001b[0m\u001b[0;34m,\u001b[0m \u001b[0;34m[\u001b[0m\u001b[0;34m]\u001b[0m\u001b[0;34m\u001b[0m\u001b[0;34m\u001b[0m\u001b[0m\n",
            "\u001b[0;32m/usr/local/lib/python3.8/dist-packages/transformers/models/time_series_transformer/modeling_time_series_transformer.py\u001b[0m in \u001b[0;36mforward\u001b[0;34m(self, past_values, past_time_features, past_observed_mask, static_categorical_features, static_real_features, future_values, future_time_features, future_observed_mask, decoder_attention_mask, head_mask, decoder_head_mask, cross_attn_head_mask, encoder_outputs, past_key_values, output_hidden_states, output_attentions, use_cache, return_dict)\u001b[0m\n\u001b[1;32m   1811\u001b[0m             \u001b[0muse_cache\u001b[0m \u001b[0;34m=\u001b[0m \u001b[0;32mFalse\u001b[0m\u001b[0;34m\u001b[0m\u001b[0;34m\u001b[0m\u001b[0m\n\u001b[1;32m   1812\u001b[0m \u001b[0;34m\u001b[0m\u001b[0m\n\u001b[0;32m-> 1813\u001b[0;31m         outputs = self.model(\n\u001b[0m\u001b[1;32m   1814\u001b[0m             \u001b[0mpast_values\u001b[0m\u001b[0;34m=\u001b[0m\u001b[0mpast_values\u001b[0m\u001b[0;34m,\u001b[0m\u001b[0;34m\u001b[0m\u001b[0;34m\u001b[0m\u001b[0m\n\u001b[1;32m   1815\u001b[0m             \u001b[0mpast_time_features\u001b[0m\u001b[0;34m=\u001b[0m\u001b[0mpast_time_features\u001b[0m\u001b[0;34m,\u001b[0m\u001b[0;34m\u001b[0m\u001b[0;34m\u001b[0m\u001b[0m\n",
            "\u001b[0;32m/usr/local/lib/python3.8/dist-packages/torch/nn/modules/module.py\u001b[0m in \u001b[0;36m_call_impl\u001b[0;34m(self, *input, **kwargs)\u001b[0m\n\u001b[1;32m   1128\u001b[0m         if not (self._backward_hooks or self._forward_hooks or self._forward_pre_hooks or _global_backward_hooks\n\u001b[1;32m   1129\u001b[0m                 or _global_forward_hooks or _global_forward_pre_hooks):\n\u001b[0;32m-> 1130\u001b[0;31m             \u001b[0;32mreturn\u001b[0m \u001b[0mforward_call\u001b[0m\u001b[0;34m(\u001b[0m\u001b[0;34m*\u001b[0m\u001b[0minput\u001b[0m\u001b[0;34m,\u001b[0m \u001b[0;34m**\u001b[0m\u001b[0mkwargs\u001b[0m\u001b[0;34m)\u001b[0m\u001b[0;34m\u001b[0m\u001b[0;34m\u001b[0m\u001b[0m\n\u001b[0m\u001b[1;32m   1131\u001b[0m         \u001b[0;31m# Do not call functions when jit is used\u001b[0m\u001b[0;34m\u001b[0m\u001b[0;34m\u001b[0m\u001b[0;34m\u001b[0m\u001b[0m\n\u001b[1;32m   1132\u001b[0m         \u001b[0mfull_backward_hooks\u001b[0m\u001b[0;34m,\u001b[0m \u001b[0mnon_full_backward_hooks\u001b[0m \u001b[0;34m=\u001b[0m \u001b[0;34m[\u001b[0m\u001b[0;34m]\u001b[0m\u001b[0;34m,\u001b[0m \u001b[0;34m[\u001b[0m\u001b[0;34m]\u001b[0m\u001b[0;34m\u001b[0m\u001b[0;34m\u001b[0m\u001b[0m\n",
            "\u001b[0;32m/usr/local/lib/python3.8/dist-packages/transformers/models/time_series_transformer/modeling_time_series_transformer.py\u001b[0m in \u001b[0;36mforward\u001b[0;34m(self, past_values, past_time_features, past_observed_mask, static_categorical_features, static_real_features, future_values, future_time_features, decoder_attention_mask, head_mask, decoder_head_mask, cross_attn_head_mask, encoder_outputs, past_key_values, output_hidden_states, output_attentions, use_cache, return_dict)\u001b[0m\n\u001b[1;32m   1624\u001b[0m         \u001b[0mreturn_dict\u001b[0m \u001b[0;34m=\u001b[0m \u001b[0mreturn_dict\u001b[0m \u001b[0;32mif\u001b[0m \u001b[0mreturn_dict\u001b[0m \u001b[0;32mis\u001b[0m \u001b[0;32mnot\u001b[0m \u001b[0;32mNone\u001b[0m \u001b[0;32melse\u001b[0m \u001b[0mself\u001b[0m\u001b[0;34m.\u001b[0m\u001b[0mconfig\u001b[0m\u001b[0;34m.\u001b[0m\u001b[0muse_return_dict\u001b[0m\u001b[0;34m\u001b[0m\u001b[0;34m\u001b[0m\u001b[0m\n\u001b[1;32m   1625\u001b[0m \u001b[0;34m\u001b[0m\u001b[0m\n\u001b[0;32m-> 1626\u001b[0;31m         transformer_inputs, scale, static_feat = self.create_network_inputs(\n\u001b[0m\u001b[1;32m   1627\u001b[0m             \u001b[0mpast_values\u001b[0m\u001b[0;34m=\u001b[0m\u001b[0mpast_values\u001b[0m\u001b[0;34m,\u001b[0m\u001b[0;34m\u001b[0m\u001b[0;34m\u001b[0m\u001b[0m\n\u001b[1;32m   1628\u001b[0m             \u001b[0mpast_time_features\u001b[0m\u001b[0;34m=\u001b[0m\u001b[0mpast_time_features\u001b[0m\u001b[0;34m,\u001b[0m\u001b[0;34m\u001b[0m\u001b[0;34m\u001b[0m\u001b[0m\n",
            "\u001b[0;32m/usr/local/lib/python3.8/dist-packages/transformers/models/time_series_transformer/modeling_time_series_transformer.py\u001b[0m in \u001b[0;36mcreate_network_inputs\u001b[0;34m(self, past_values, past_time_features, static_categorical_features, static_real_features, past_observed_mask, future_values, future_time_features)\u001b[0m\n\u001b[1;32m   1495\u001b[0m             )\n\u001b[1;32m   1496\u001b[0m             \u001b[0;32mif\u001b[0m \u001b[0mfuture_values\u001b[0m \u001b[0;32mis\u001b[0m \u001b[0;32mnot\u001b[0m \u001b[0;32mNone\u001b[0m\u001b[0;34m\u001b[0m\u001b[0;34m\u001b[0m\u001b[0m\n\u001b[0;32m-> 1497\u001b[0;31m             \u001b[0;32melse\u001b[0m \u001b[0mpast_time_features\u001b[0m\u001b[0;34m[\u001b[0m\u001b[0;34m:\u001b[0m\u001b[0;34m,\u001b[0m \u001b[0mself\u001b[0m\u001b[0;34m.\u001b[0m\u001b[0m_past_length\u001b[0m \u001b[0;34m-\u001b[0m \u001b[0mself\u001b[0m\u001b[0;34m.\u001b[0m\u001b[0mconfig\u001b[0m\u001b[0;34m.\u001b[0m\u001b[0mcontext_length\u001b[0m \u001b[0;34m:\u001b[0m\u001b[0;34m,\u001b[0m \u001b[0;34m...\u001b[0m\u001b[0;34m]\u001b[0m\u001b[0;34m\u001b[0m\u001b[0;34m\u001b[0m\u001b[0m\n\u001b[0m\u001b[1;32m   1498\u001b[0m         )\n\u001b[1;32m   1499\u001b[0m \u001b[0;34m\u001b[0m\u001b[0m\n",
            "\u001b[0;31mTypeError\u001b[0m: 'NoneType' object is not subscriptable"
          ]
        }
      ]
    },
    {
      "cell_type": "code",
      "source": [
        "from huggingface_hub import hf_hub_download\n",
        "import torch\n",
        "from transformers import TimeSeriesTransformerModel\n",
        "\n",
        "file = hf_hub_download(\n",
        "    repo_id=\"kashif/tourism-monthly-batch\", filename=\"train-batch.pt\", repo_type=\"dataset\"\n",
        ")\n",
        "batch = torch.load(file)\n",
        "\n",
        "model = TimeSeriesTransformerModel.from_pretrained(\"huggingface/time-series-transformer-tourism-monthly\")\n",
        "\n",
        "# during training, one provides both past and future values\n",
        "# as well as possible additional features\n",
        "outputs = model(\n",
        "    past_values=batch[\"past_values\"],\n",
        "    past_time_features=batch[\"past_time_features\"],\n",
        "    past_observed_mask=batch[\"past_observed_mask\"],\n",
        "    static_categorical_features=batch[\"static_categorical_features\"],\n",
        "    static_real_features=batch[\"static_real_features\"],\n",
        "    future_values=batch[\"future_values\"],\n",
        "    future_time_features=batch[\"future_time_features\"],\n",
        ")\n",
        "\n",
        "last_hidden_state = outputs.last_hidden_state"
      ],
      "metadata": {
        "colab": {
          "base_uri": "https://localhost:8080/",
          "height": 185,
          "referenced_widgets": [
            "42af2addba144df6ac960986b8f821d6",
            "063d5e43fd50441bb098054d7f8ba09d",
            "7d156730f59b4195a96560851396d398",
            "54040dbf74d148c8a75595574176ba0b",
            "3c14e389ef584a6d9591ce1b18084ed8",
            "cc6b16ecfb4d4a42b82344e6cf8aa194",
            "eaba521d421a4f928d746899af04270c",
            "d258f8a3327a4558918c81028de0d4a2",
            "e400b8f8100d42c5b26076f8a21dd103",
            "ce9f5346e16642cbb59c926c911efc27",
            "801ce93655b54e91936d5760bc8f2e27",
            "e78175ce7ef448ffb58bc8c0fda31d1e",
            "e5526abc8cef4e05b56ec2f2993eb507",
            "7bc174ef46a344059e8c0478d83a6f3c",
            "4da386abf7214f89a0a069bf2eb36af1",
            "b1edf3f4e7d44b7d8a36af390f2e7517",
            "9fe6dff6f992493390c63555dbbbf981",
            "7b94ae68939649c1ae65d6146eaa8c4a",
            "c634ae50ce604a19b124d1267e3490eb",
            "93c1c1831b2144488ede936896ca6cc3",
            "6ddb3e5715bc4bdb80bbf85bcdf2fc47",
            "e2f22e8049ef4952bc72ac0543a38174",
            "285228fbf60d4f1a8e6bdfebcc0a4003",
            "807f27d47bce4c649651cd37e2059311",
            "542ce03f523a4bd9886b988763d4b6ec",
            "f033180a1977423c820a8f24574aa4c0",
            "959551e943ff49e78f84db936ea36f95",
            "7b1fc7670e8b43a692787d7da23538ef",
            "fc58eb89c89a45a497eb84ca0dc80dee",
            "1782388c834148a7a231f95332c01ea2",
            "ace3eae10968468390e8da8157434c99",
            "e7112c1fcff64566bc19612983844a42",
            "9ee54e4b1c4e42698641e456d8e340c1"
          ]
        },
        "id": "tJibhxBELOcE",
        "outputId": "5bd13ac8-056b-4817-f5de-dc2af667b619"
      },
      "execution_count": null,
      "outputs": [
        {
          "output_type": "display_data",
          "data": {
            "text/plain": [
              "Downloading:   0%|          | 0.00/90.0k [00:00<?, ?B/s]"
            ],
            "application/vnd.jupyter.widget-view+json": {
              "version_major": 2,
              "version_minor": 0,
              "model_id": "42af2addba144df6ac960986b8f821d6"
            }
          },
          "metadata": {}
        },
        {
          "output_type": "display_data",
          "data": {
            "text/plain": [
              "Downloading:   0%|          | 0.00/1.12k [00:00<?, ?B/s]"
            ],
            "application/vnd.jupyter.widget-view+json": {
              "version_major": 2,
              "version_minor": 0,
              "model_id": "e78175ce7ef448ffb58bc8c0fda31d1e"
            }
          },
          "metadata": {}
        },
        {
          "output_type": "display_data",
          "data": {
            "text/plain": [
              "Downloading:   0%|          | 0.00/134k [00:00<?, ?B/s]"
            ],
            "application/vnd.jupyter.widget-view+json": {
              "version_major": 2,
              "version_minor": 0,
              "model_id": "285228fbf60d4f1a8e6bdfebcc0a4003"
            }
          },
          "metadata": {}
        },
        {
          "output_type": "stream",
          "name": "stderr",
          "text": [
            "Some weights of the model checkpoint at huggingface/time-series-transformer-tourism-monthly were not used when initializing TimeSeriesTransformerModel: ['parameter_projection.proj.0.weight', 'parameter_projection.proj.2.bias', 'parameter_projection.proj.1.weight', 'parameter_projection.proj.1.bias', 'parameter_projection.proj.0.bias', 'parameter_projection.proj.2.weight']\n",
            "- This IS expected if you are initializing TimeSeriesTransformerModel from the checkpoint of a model trained on another task or with another architecture (e.g. initializing a BertForSequenceClassification model from a BertForPreTraining model).\n",
            "- This IS NOT expected if you are initializing TimeSeriesTransformerModel from the checkpoint of a model that you expect to be exactly identical (initializing a BertForSequenceClassification model from a BertForSequenceClassification model).\n"
          ]
        }
      ]
    },
    {
      "cell_type": "code",
      "source": [
        "last_hidden_state"
      ],
      "metadata": {
        "colab": {
          "base_uri": "https://localhost:8080/"
        },
        "id": "lZotIOxPMpc_",
        "outputId": "38f3706b-7539-4ae2-ecac-4d77ce90a6ac"
      },
      "execution_count": null,
      "outputs": [
        {
          "output_type": "execute_result",
          "data": {
            "text/plain": [
              "tensor([[[-0.3125, -1.2884, -1.1118,  ...,  1.0451,  0.4203,  3.0375],\n",
              "         [-0.5801, -1.4907, -0.7782,  ...,  0.9608,  0.2682,  3.1201],\n",
              "         [ 0.0849, -1.6557, -0.9755,  ...,  0.9067,  0.3701,  2.9377],\n",
              "         ...,\n",
              "         [-0.3410, -1.1548, -0.4904,  ...,  0.8370, -0.0492,  2.8411],\n",
              "         [ 0.3200, -1.2751, -0.5913,  ...,  0.7770, -0.0708,  2.7629],\n",
              "         [ 0.4449, -0.9840, -0.8680,  ...,  0.8528,  0.2259,  2.8575]],\n",
              "\n",
              "        [[-0.4941, -1.6858, -1.1654,  ...,  1.0684,  0.3358,  3.3468],\n",
              "         [-0.3336, -1.6143, -0.9035,  ...,  0.9299,  0.2294,  3.1584],\n",
              "         [ 0.0308, -1.3468, -0.7522,  ...,  0.7283,  0.1293,  2.7877],\n",
              "         ...,\n",
              "         [-0.5414, -1.3957, -0.5848,  ...,  1.0298,  0.0777,  3.1478],\n",
              "         [-0.6140, -1.5577, -0.8326,  ...,  0.9553,  0.0702,  3.1255],\n",
              "         [ 0.0263, -1.6926, -1.0201,  ...,  1.0089,  0.1967,  3.3302]],\n",
              "\n",
              "        [[ 0.2211,  1.2782, -0.0139,  ...,  0.8711, -0.3198,  2.8554],\n",
              "         [ 1.0012,  1.6808,  0.0255,  ...,  0.6885, -0.4826,  2.8004],\n",
              "         [ 0.4908,  1.8977, -0.1352,  ...,  0.7193, -0.3474,  2.9097],\n",
              "         ...,\n",
              "         [ 1.1114,  0.9015,  0.4177,  ...,  0.3592, -0.4681,  2.3893],\n",
              "         [ 0.0285,  0.9537,  0.4307,  ...,  0.6016, -0.3640,  2.8707],\n",
              "         [-0.4377,  0.2894,  0.6557,  ...,  0.7053, -0.4398,  3.0194]],\n",
              "\n",
              "        ...,\n",
              "\n",
              "        [[-0.2184, -1.5305, -0.3604,  ...,  0.5359, -0.3061,  2.3390],\n",
              "         [-0.6693, -1.0065, -0.0832,  ...,  0.4329, -0.5015,  2.6000],\n",
              "         [-0.5242, -1.4835, -0.0874,  ...,  0.4372, -0.3626,  2.4671],\n",
              "         ...,\n",
              "         [-0.1771, -1.2138, -0.2989,  ...,  0.6989,  0.2438,  3.3070],\n",
              "         [-0.2696, -0.9778, -0.4091,  ...,  0.6561,  0.2235,  3.2698],\n",
              "         [-0.2625, -0.9861, -0.2493,  ...,  0.5917, -0.5180,  3.4321]],\n",
              "\n",
              "        [[ 2.7140,  2.0872, -0.0340,  ...,  0.0903, -0.8011,  3.1050],\n",
              "         [-0.1193,  2.7123,  0.5778,  ...,  0.2716, -0.7777,  4.0215],\n",
              "         [-0.0581,  0.4125,  1.1302,  ...,  0.4662, -0.6532,  4.0664],\n",
              "         ...,\n",
              "         [-1.2328, -0.3232,  0.5664,  ...,  0.3145, -0.3800,  2.8692],\n",
              "         [-0.1039, -0.5074,  0.4746,  ...,  0.4719, -1.3615,  0.9378],\n",
              "         [ 1.6533, -1.3861, -0.2852,  ...,  0.4085, -1.1073,  0.8099]],\n",
              "\n",
              "        [[ 0.3949,  0.1022,  1.0308,  ..., -0.0186, -0.9499,  2.6508],\n",
              "         [-0.0777,  0.5398,  1.0608,  ..., -0.1201, -1.1647,  2.7111],\n",
              "         [ 0.5332,  0.1520,  1.1702,  ..., -0.1149, -0.8037,  2.5906],\n",
              "         ...,\n",
              "         [-0.3776,  0.4173,  1.0498,  ...,  0.0821, -0.7560,  2.9939],\n",
              "         [-0.2896,  0.2251,  1.1251,  ...,  0.0691, -0.7098,  2.9101],\n",
              "         [-0.3096,  0.3822,  1.1293,  ...,  0.0298, -0.8270,  3.0223]]],\n",
              "       grad_fn=<NativeLayerNormBackward0>)"
            ]
          },
          "metadata": {},
          "execution_count": 19
        }
      ]
    },
    {
      "cell_type": "code",
      "source": [],
      "metadata": {
        "id": "5oAPAXncMvnO"
      },
      "execution_count": null,
      "outputs": []
    }
  ]
}